{
 "cells": [
  {
   "cell_type": "markdown",
   "metadata": {},
   "source": [
    "#### 문제점\n",
    "- 1. 0번이 nan 값으로 뽑혀가지고. 1000개를 추출했지만 999개이다. "
   ]
  },
  {
   "cell_type": "code",
   "execution_count": 34,
   "metadata": {},
   "outputs": [],
   "source": [
    "import pandas as pd "
   ]
  },
  {
   "cell_type": "code",
   "execution_count": 97,
   "metadata": {},
   "outputs": [
    {
     "data": {
      "text/html": [
       "<div>\n",
       "<style scoped>\n",
       "    .dataframe tbody tr th:only-of-type {\n",
       "        vertical-align: middle;\n",
       "    }\n",
       "\n",
       "    .dataframe tbody tr th {\n",
       "        vertical-align: top;\n",
       "    }\n",
       "\n",
       "    .dataframe thead th {\n",
       "        text-align: right;\n",
       "    }\n",
       "</style>\n",
       "<table border=\"1\" class=\"dataframe\">\n",
       "  <thead>\n",
       "    <tr style=\"text-align: right;\">\n",
       "      <th></th>\n",
       "      <th>아이디</th>\n",
       "      <th>리뷰어 등급</th>\n",
       "      <th>작성 날짜</th>\n",
       "      <th>옵션1</th>\n",
       "      <th>옵션2</th>\n",
       "      <th>상품 사이즈</th>\n",
       "      <th>퀄리티</th>\n",
       "      <th>색감</th>\n",
       "      <th>키</th>\n",
       "      <th>몸무게</th>\n",
       "      <th>사이즈</th>\n",
       "      <th>리뷰내용</th>\n",
       "    </tr>\n",
       "  </thead>\n",
       "  <tbody>\n",
       "    <tr>\n",
       "      <th>0</th>\n",
       "      <td>NaN</td>\n",
       "      <td>NaN</td>\n",
       "      <td>NaN</td>\n",
       "      <td>NaN</td>\n",
       "      <td>NaN</td>\n",
       "      <td>NaN</td>\n",
       "      <td>NaN</td>\n",
       "      <td>NaN</td>\n",
       "      <td>NaN</td>\n",
       "      <td>NaN</td>\n",
       "      <td>NaN</td>\n",
       "      <td>NaN</td>\n",
       "    </tr>\n",
       "    <tr>\n",
       "      <th>1</th>\n",
       "      <td>루또</td>\n",
       "      <td>탑리뷰어</td>\n",
       "      <td>24.07.30</td>\n",
       "      <td>2매입</td>\n",
       "      <td>그레이 FREE 1매</td>\n",
       "      <td>정사이즈예요</td>\n",
       "      <td>아주 만족해요</td>\n",
       "      <td>화면과 비슷해요</td>\n",
       "      <td>160cm</td>\n",
       "      <td>49kg</td>\n",
       "      <td>상의 55</td>\n",
       "      <td>죄송합니다 마른파이브. 당신을 오해했습니다.\\n\\n아 이게 무슨 소리냐고요? 제 후...</td>\n",
       "    </tr>\n",
       "    <tr>\n",
       "      <th>2</th>\n",
       "      <td>나아니면누구뽑을건데</td>\n",
       "      <td>상위 5%</td>\n",
       "      <td>24.08.21</td>\n",
       "      <td>2매입</td>\n",
       "      <td>아이보리 FREE 1매</td>\n",
       "      <td>정사이즈예요</td>\n",
       "      <td>아주 만족해요</td>\n",
       "      <td>화면과 비슷해요</td>\n",
       "      <td>158cm</td>\n",
       "      <td>47kg</td>\n",
       "      <td>상의 55</td>\n",
       "      <td>✔️프로필 키 158 55 사이즈 xs-s 상체에 비해 하체통통\\n셔츠 안에 입을만...</td>\n",
       "    </tr>\n",
       "    <tr>\n",
       "      <th>3</th>\n",
       "      <td>TInSBp4J</td>\n",
       "      <td>상위 15%</td>\n",
       "      <td>24.12.05</td>\n",
       "      <td>F/L</td>\n",
       "      <td>아이보리</td>\n",
       "      <td>정사이즈예요</td>\n",
       "      <td>아주 만족해요</td>\n",
       "      <td>화면과 비슷해요</td>\n",
       "      <td>160cm</td>\n",
       "      <td>43kg</td>\n",
       "      <td>상의 44</td>\n",
       "      <td>모달면이라 아주아주 부드럽습니다! 캡내장나시를 살 때 제일 중요한건 캡의 딱딱함? ...</td>\n",
       "    </tr>\n",
       "    <tr>\n",
       "      <th>4</th>\n",
       "      <td>TInSBp4J</td>\n",
       "      <td>상위 15%</td>\n",
       "      <td>24.12.05</td>\n",
       "      <td>F/L</td>\n",
       "      <td>블랙</td>\n",
       "      <td>정사이즈예요</td>\n",
       "      <td>아주 만족해요</td>\n",
       "      <td>화면과 비슷해요</td>\n",
       "      <td>160cm</td>\n",
       "      <td>43kg</td>\n",
       "      <td>상의 44</td>\n",
       "      <td>모달면이라 아주아주 부드럽습니다! 캡내장나시를 살 때 제일 중요한건 캡의 딱딱함? ...</td>\n",
       "    </tr>\n",
       "    <tr>\n",
       "      <th>...</th>\n",
       "      <td>...</td>\n",
       "      <td>...</td>\n",
       "      <td>...</td>\n",
       "      <td>...</td>\n",
       "      <td>...</td>\n",
       "      <td>...</td>\n",
       "      <td>...</td>\n",
       "      <td>...</td>\n",
       "      <td>...</td>\n",
       "      <td>...</td>\n",
       "      <td>...</td>\n",
       "      <td>...</td>\n",
       "    </tr>\n",
       "    <tr>\n",
       "      <th>995</th>\n",
       "      <td>NaN</td>\n",
       "      <td>NaN</td>\n",
       "      <td>NaN</td>\n",
       "      <td>NaN</td>\n",
       "      <td>NaN</td>\n",
       "      <td>NaN</td>\n",
       "      <td>NaN</td>\n",
       "      <td>NaN</td>\n",
       "      <td>NaN</td>\n",
       "      <td>NaN</td>\n",
       "      <td>NaN</td>\n",
       "      <td>NaN</td>\n",
       "    </tr>\n",
       "    <tr>\n",
       "      <th>996</th>\n",
       "      <td>NaN</td>\n",
       "      <td>NaN</td>\n",
       "      <td>NaN</td>\n",
       "      <td>NaN</td>\n",
       "      <td>NaN</td>\n",
       "      <td>NaN</td>\n",
       "      <td>NaN</td>\n",
       "      <td>NaN</td>\n",
       "      <td>NaN</td>\n",
       "      <td>NaN</td>\n",
       "      <td>NaN</td>\n",
       "      <td>NaN</td>\n",
       "    </tr>\n",
       "    <tr>\n",
       "      <th>997</th>\n",
       "      <td>NaN</td>\n",
       "      <td>NaN</td>\n",
       "      <td>NaN</td>\n",
       "      <td>NaN</td>\n",
       "      <td>NaN</td>\n",
       "      <td>NaN</td>\n",
       "      <td>NaN</td>\n",
       "      <td>NaN</td>\n",
       "      <td>NaN</td>\n",
       "      <td>NaN</td>\n",
       "      <td>NaN</td>\n",
       "      <td>NaN</td>\n",
       "    </tr>\n",
       "    <tr>\n",
       "      <th>998</th>\n",
       "      <td>NaN</td>\n",
       "      <td>NaN</td>\n",
       "      <td>NaN</td>\n",
       "      <td>NaN</td>\n",
       "      <td>NaN</td>\n",
       "      <td>NaN</td>\n",
       "      <td>NaN</td>\n",
       "      <td>NaN</td>\n",
       "      <td>NaN</td>\n",
       "      <td>NaN</td>\n",
       "      <td>NaN</td>\n",
       "      <td>NaN</td>\n",
       "    </tr>\n",
       "    <tr>\n",
       "      <th>999</th>\n",
       "      <td>NaN</td>\n",
       "      <td>NaN</td>\n",
       "      <td>NaN</td>\n",
       "      <td>NaN</td>\n",
       "      <td>NaN</td>\n",
       "      <td>NaN</td>\n",
       "      <td>NaN</td>\n",
       "      <td>NaN</td>\n",
       "      <td>NaN</td>\n",
       "      <td>NaN</td>\n",
       "      <td>NaN</td>\n",
       "      <td>NaN</td>\n",
       "    </tr>\n",
       "  </tbody>\n",
       "</table>\n",
       "<p>1000 rows × 12 columns</p>\n",
       "</div>"
      ],
      "text/plain": [
       "            아이디  리뷰어 등급     작성 날짜  옵션1           옵션2  상품 사이즈      퀄리티  \\\n",
       "0           NaN     NaN       NaN  NaN           NaN     NaN      NaN   \n",
       "1            루또    탑리뷰어  24.07.30  2매입   그레이 FREE 1매  정사이즈예요  아주 만족해요   \n",
       "2    나아니면누구뽑을건데   상위 5%  24.08.21  2매입  아이보리 FREE 1매  정사이즈예요  아주 만족해요   \n",
       "3      TInSBp4J  상위 15%  24.12.05  F/L          아이보리  정사이즈예요  아주 만족해요   \n",
       "4      TInSBp4J  상위 15%  24.12.05  F/L            블랙  정사이즈예요  아주 만족해요   \n",
       "..          ...     ...       ...  ...           ...     ...      ...   \n",
       "995         NaN     NaN       NaN  NaN           NaN     NaN      NaN   \n",
       "996         NaN     NaN       NaN  NaN           NaN     NaN      NaN   \n",
       "997         NaN     NaN       NaN  NaN           NaN     NaN      NaN   \n",
       "998         NaN     NaN       NaN  NaN           NaN     NaN      NaN   \n",
       "999         NaN     NaN       NaN  NaN           NaN     NaN      NaN   \n",
       "\n",
       "           색감      키   몸무게    사이즈  \\\n",
       "0         NaN    NaN   NaN    NaN   \n",
       "1    화면과 비슷해요  160cm  49kg  상의 55   \n",
       "2    화면과 비슷해요  158cm  47kg  상의 55   \n",
       "3    화면과 비슷해요  160cm  43kg  상의 44   \n",
       "4    화면과 비슷해요  160cm  43kg  상의 44   \n",
       "..        ...    ...   ...    ...   \n",
       "995       NaN    NaN   NaN    NaN   \n",
       "996       NaN    NaN   NaN    NaN   \n",
       "997       NaN    NaN   NaN    NaN   \n",
       "998       NaN    NaN   NaN    NaN   \n",
       "999       NaN    NaN   NaN    NaN   \n",
       "\n",
       "                                                  리뷰내용  \n",
       "0                                                  NaN  \n",
       "1    죄송합니다 마른파이브. 당신을 오해했습니다.\\n\\n아 이게 무슨 소리냐고요? 제 후...  \n",
       "2    ✔️프로필 키 158 55 사이즈 xs-s 상체에 비해 하체통통\\n셔츠 안에 입을만...  \n",
       "3    모달면이라 아주아주 부드럽습니다! 캡내장나시를 살 때 제일 중요한건 캡의 딱딱함? ...  \n",
       "4    모달면이라 아주아주 부드럽습니다! 캡내장나시를 살 때 제일 중요한건 캡의 딱딱함? ...  \n",
       "..                                                 ...  \n",
       "995                                                NaN  \n",
       "996                                                NaN  \n",
       "997                                                NaN  \n",
       "998                                                NaN  \n",
       "999                                                NaN  \n",
       "\n",
       "[1000 rows x 12 columns]"
      ]
     },
     "execution_count": 97,
     "metadata": {},
     "output_type": "execute_result"
    }
   ],
   "source": [
    "df = pd.read_csv(r\"C:\\Users\\asia\\Desktop\\ai_project\\슬리브리스\\슬리브리스_p14_147232850.csv\")\n",
    "df "
   ]
  },
  {
   "cell_type": "code",
   "execution_count": 98,
   "metadata": {},
   "outputs": [
    {
     "name": "stdout",
     "output_type": "stream",
     "text": [
      "<class 'pandas.core.frame.DataFrame'>\n",
      "RangeIndex: 1000 entries, 0 to 999\n",
      "Data columns (total 12 columns):\n",
      " #   Column  Non-Null Count  Dtype \n",
      "---  ------  --------------  ----- \n",
      " 0   아이디     747 non-null    object\n",
      " 1   리뷰어 등급  185 non-null    object\n",
      " 2   작성 날짜   747 non-null    object\n",
      " 3   옵션1     737 non-null    object\n",
      " 4   옵션2     737 non-null    object\n",
      " 5   상품 사이즈  747 non-null    object\n",
      " 6   퀄리티     747 non-null    object\n",
      " 7   색감      747 non-null    object\n",
      " 8   키       660 non-null    object\n",
      " 9   몸무게     655 non-null    object\n",
      " 10  사이즈     633 non-null    object\n",
      " 11  리뷰내용    747 non-null    object\n",
      "dtypes: object(12)\n",
      "memory usage: 93.9+ KB\n"
     ]
    }
   ],
   "source": [
    "df.info()"
   ]
  },
  {
   "cell_type": "code",
   "execution_count": 99,
   "metadata": {},
   "outputs": [
    {
     "data": {
      "text/plain": [
       "아이디\n",
       "4VqsFQun      7\n",
       "z0BKvIXo      7\n",
       "M2XclzUM      7\n",
       "rHwyA1qJ      7\n",
       "SOzI2ud4      7\n",
       "             ..\n",
       "oRk9l8dt      1\n",
       "카야토스트         1\n",
       "xPz9nJvO      1\n",
       "E1BJIs8y      1\n",
       "나아니면누구뽑을건데    1\n",
       "Name: count, Length: 622, dtype: int64"
      ]
     },
     "execution_count": 99,
     "metadata": {},
     "output_type": "execute_result"
    }
   ],
   "source": [
    "df[\"아이디\"].value_counts()"
   ]
  },
  {
   "cell_type": "code",
   "execution_count": 100,
   "metadata": {},
   "outputs": [
    {
     "data": {
      "text/plain": [
       "count          747\n",
       "unique         622\n",
       "top       4VqsFQun\n",
       "freq             7\n",
       "Name: 아이디, dtype: object"
      ]
     },
     "execution_count": 100,
     "metadata": {},
     "output_type": "execute_result"
    }
   ],
   "source": [
    "df[\"아이디\"].describe()"
   ]
  },
  {
   "cell_type": "code",
   "execution_count": null,
   "metadata": {},
   "outputs": [],
   "source": []
  },
  {
   "cell_type": "code",
   "execution_count": 101,
   "metadata": {},
   "outputs": [
    {
     "data": {
      "text/plain": [
       "리뷰어 등급\n",
       "상위 15%    43\n",
       "상위 10%    35\n",
       "상위 25%    34\n",
       "상위 20%    30\n",
       "상위 30%    23\n",
       "상위 5%     17\n",
       "탑리뷰어       2\n",
       "상위 1%      1\n",
       "Name: count, dtype: int64"
      ]
     },
     "execution_count": 101,
     "metadata": {},
     "output_type": "execute_result"
    }
   ],
   "source": [
    "df[\"리뷰어 등급\"].value_counts()"
   ]
  },
  {
   "cell_type": "code",
   "execution_count": 102,
   "metadata": {},
   "outputs": [
    {
     "data": {
      "text/plain": [
       "count        185\n",
       "unique         8\n",
       "top       상위 15%\n",
       "freq          43\n",
       "Name: 리뷰어 등급, dtype: object"
      ]
     },
     "execution_count": 102,
     "metadata": {},
     "output_type": "execute_result"
    }
   ],
   "source": [
    "df[\"리뷰어 등급\"].describe()"
   ]
  },
  {
   "cell_type": "code",
   "execution_count": 103,
   "metadata": {},
   "outputs": [
    {
     "data": {
      "text/plain": [
       "array([nan, '탑리뷰어', '상위 5%', '상위 15%', '상위 1%', '상위 10%', '상위 25%',\n",
       "       '상위 20%', '상위 30%'], dtype=object)"
      ]
     },
     "execution_count": 103,
     "metadata": {},
     "output_type": "execute_result"
    }
   ],
   "source": [
    "df[\"리뷰어 등급\"].unique()"
   ]
  },
  {
   "cell_type": "code",
   "execution_count": 104,
   "metadata": {},
   "outputs": [
    {
     "data": {
      "text/plain": [
       "count          747\n",
       "unique         151\n",
       "top       24.08.21\n",
       "freq            21\n",
       "Name: 작성 날짜, dtype: object"
      ]
     },
     "execution_count": 104,
     "metadata": {},
     "output_type": "execute_result"
    }
   ],
   "source": [
    "df[\"작성 날짜\"].describe()"
   ]
  },
  {
   "cell_type": "code",
   "execution_count": 105,
   "metadata": {},
   "outputs": [
    {
     "data": {
      "text/plain": [
       "array([nan, '24.07.30', '24.08.21', '24.12.05', '24.11.29', '24.11.21',\n",
       "       '24.10.19', '24.10.02', '24.09.25', '24.09.12', '24.09.08',\n",
       "       '24.08.29', '24.08.17', '24.08.11', '24.08.08', '24.12.31',\n",
       "       '24.12.19', '24.12.18', '24.12.06', '24.12.04', '24.11.16',\n",
       "       '24.11.11', '24.11.04', '24.10.31', '24.10.22', '24.08.23',\n",
       "       '24.08.13', '24.11.14', '24.09.21', '24.09.15', '24.09.14',\n",
       "       '24.09.03', '24.08.28', '24.08.24', '24.08.22', '24.08.20',\n",
       "       '24.08.16', '24.08.10', '24.08.07', '24.08.06', '24.08.05',\n",
       "       '24.08.04', '24.08.03', '24.08.01', '25.01.06', '24.12.25',\n",
       "       '24.12.03', '24.12.01', '24.11.20', '24.11.12', '24.11.25',\n",
       "       '24.11.19', '24.11.13', '24.10.14', '24.10.11', '24.10.08',\n",
       "       '24.10.06', '24.10.03', '24.09.23', '24.09.22', '24.09.19',\n",
       "       '24.09.18', '24.09.17', '24.09.13', '24.09.11', '24.09.10',\n",
       "       '24.09.09', '24.09.07', '24.09.06', '24.08.27', '24.08.19',\n",
       "       '24.07.31', '24.12.15', '24.12.13', '24.11.30', '24.10.01',\n",
       "       '24.08.09', '25.01.07', '24.12.11', '24.11.24', '24.10.27',\n",
       "       '24.10.12', '24.09.26', '24.09.16', '24.09.02', '24.08.25',\n",
       "       '24.08.15', '24.08.12', '25.01.13', '25.01.09', '25.01.03',\n",
       "       '24.12.14', '24.11.15', '24.10.23', '24.10.05', '24.09.27',\n",
       "       '24.08.30', '24.08.26', '24.08.18', '24.08.14', '24.12.23',\n",
       "       '24.11.27', '24.11.02', '24.09.28', '24.09.20', '24.09.05',\n",
       "       '24.08.02', '24.12.27', '24.12.21', '24.12.16', '24.10.25',\n",
       "       '24.10.17', '24.10.09', '24.11.28', '24.11.18', '24.11.17',\n",
       "       '24.10.30', '24.10.15', '24.08.31', '24.09.29', '24.11.01',\n",
       "       '24.10.26', '24.10.18', '24.09.01', '24.12.10', '24.11.26',\n",
       "       '24.10.10', '24.09.04', '24.12.20', '24.10.29', '24.10.04',\n",
       "       '24.09.24', '25.01.12', '24.11.07', '24.11.05', '24.09.30',\n",
       "       '24.12.09', '24.12.02', '25.01.04', '24.12.07', '25.01.10',\n",
       "       '25.01.02', '25.01.01', '24.12.22', '24.10.07', '24.12.24',\n",
       "       '25.01.15', '25.01.05', '24.12.29', '24.11.10', '24.11.08',\n",
       "       '24.10.13'], dtype=object)"
      ]
     },
     "execution_count": 105,
     "metadata": {},
     "output_type": "execute_result"
    }
   ],
   "source": [
    "df[\"작성 날짜\"].unique()"
   ]
  },
  {
   "cell_type": "code",
   "execution_count": 106,
   "metadata": {},
   "outputs": [
    {
     "data": {
      "text/plain": [
       "옵션1\n",
       "2매입            425\n",
       "F/L            165\n",
       "XL              83\n",
       "[10%] 4매입       51\n",
       "2XL             12\n",
       "Two Tickets      1\n",
       "Name: count, dtype: int64"
      ]
     },
     "execution_count": 106,
     "metadata": {},
     "output_type": "execute_result"
    }
   ],
   "source": [
    "df[\"옵션1\"].value_counts()"
   ]
  },
  {
   "cell_type": "code",
   "execution_count": 76,
   "metadata": {},
   "outputs": [
    {
     "data": {
      "text/plain": [
       "array(['화이트', '블랙', 'Black', '그레이', 'Gray'], dtype=object)"
      ]
     },
     "execution_count": 76,
     "metadata": {},
     "output_type": "execute_result"
    }
   ],
   "source": [
    "df[\"옵션1\"].unique()"
   ]
  },
  {
   "cell_type": "code",
   "execution_count": 77,
   "metadata": {},
   "outputs": [
    {
     "data": {
      "text/plain": [
       "옵션2\n",
       "FREE    467\n",
       "Name: count, dtype: int64"
      ]
     },
     "execution_count": 77,
     "metadata": {},
     "output_type": "execute_result"
    }
   ],
   "source": [
    "df[\"옵션2\"].value_counts()"
   ]
  },
  {
   "cell_type": "code",
   "execution_count": 78,
   "metadata": {},
   "outputs": [
    {
     "data": {
      "text/plain": [
       "array([nan, 'FREE'], dtype=object)"
      ]
     },
     "execution_count": 78,
     "metadata": {},
     "output_type": "execute_result"
    }
   ],
   "source": [
    "df[\"옵션2\"].unique()"
   ]
  },
  {
   "cell_type": "code",
   "execution_count": 79,
   "metadata": {},
   "outputs": [
    {
     "data": {
      "text/plain": [
       "상품 사이즈\n",
       "정사이즈예요     874\n",
       "작아요        103\n",
       "생각보다 커요     21\n",
       "Name: count, dtype: int64"
      ]
     },
     "execution_count": 79,
     "metadata": {},
     "output_type": "execute_result"
    }
   ],
   "source": [
    "df[\"상품 사이즈\"].value_counts()"
   ]
  },
  {
   "cell_type": "code",
   "execution_count": 80,
   "metadata": {},
   "outputs": [
    {
     "data": {
      "text/plain": [
       "count        998\n",
       "unique         3\n",
       "top       정사이즈예요\n",
       "freq         874\n",
       "Name: 상품 사이즈, dtype: object"
      ]
     },
     "execution_count": 80,
     "metadata": {},
     "output_type": "execute_result"
    }
   ],
   "source": [
    "df[\"상품 사이즈\"].describe()"
   ]
  },
  {
   "cell_type": "code",
   "execution_count": 81,
   "metadata": {},
   "outputs": [
    {
     "data": {
      "text/plain": [
       "array(['정사이즈예요', '작아요', '생각보다 커요', nan], dtype=object)"
      ]
     },
     "execution_count": 81,
     "metadata": {},
     "output_type": "execute_result"
    }
   ],
   "source": [
    "df[\"상품 사이즈\"].unique()"
   ]
  },
  {
   "cell_type": "code",
   "execution_count": 82,
   "metadata": {},
   "outputs": [
    {
     "data": {
      "text/plain": [
       "퀄리티\n",
       "보통이에요      552\n",
       "아주 만족해요    437\n",
       "별로예요         9\n",
       "Name: count, dtype: int64"
      ]
     },
     "execution_count": 82,
     "metadata": {},
     "output_type": "execute_result"
    }
   ],
   "source": [
    "df[\"퀄리티\"].value_counts()\n"
   ]
  },
  {
   "cell_type": "code",
   "execution_count": 83,
   "metadata": {},
   "outputs": [
    {
     "data": {
      "text/plain": [
       "count       998\n",
       "unique        3\n",
       "top       보통이에요\n",
       "freq        552\n",
       "Name: 퀄리티, dtype: object"
      ]
     },
     "execution_count": 83,
     "metadata": {},
     "output_type": "execute_result"
    }
   ],
   "source": [
    "df[\"퀄리티\"].describe()"
   ]
  },
  {
   "cell_type": "code",
   "execution_count": 84,
   "metadata": {},
   "outputs": [
    {
     "data": {
      "text/plain": [
       "array(['보통이에요', '아주 만족해요', '별로예요', nan], dtype=object)"
      ]
     },
     "execution_count": 84,
     "metadata": {},
     "output_type": "execute_result"
    }
   ],
   "source": [
    "df[\"퀄리티\"].unique()"
   ]
  },
  {
   "cell_type": "code",
   "execution_count": 85,
   "metadata": {},
   "outputs": [
    {
     "data": {
      "text/plain": [
       "색감\n",
       "화면과 비슷해요     989\n",
       "화면보다 밝아요       6\n",
       "화면보다 어두워요      3\n",
       "Name: count, dtype: int64"
      ]
     },
     "execution_count": 85,
     "metadata": {},
     "output_type": "execute_result"
    }
   ],
   "source": [
    "\n",
    "df[\"색감\"].value_counts()"
   ]
  },
  {
   "cell_type": "code",
   "execution_count": 86,
   "metadata": {},
   "outputs": [
    {
     "data": {
      "text/plain": [
       "count          998\n",
       "unique           3\n",
       "top       화면과 비슷해요\n",
       "freq           989\n",
       "Name: 색감, dtype: object"
      ]
     },
     "execution_count": 86,
     "metadata": {},
     "output_type": "execute_result"
    }
   ],
   "source": [
    "df[\"색감\"].describe()"
   ]
  },
  {
   "cell_type": "code",
   "execution_count": 87,
   "metadata": {},
   "outputs": [
    {
     "data": {
      "text/plain": [
       "array(['화면과 비슷해요', '화면보다 밝아요', '화면보다 어두워요', nan], dtype=object)"
      ]
     },
     "execution_count": 87,
     "metadata": {},
     "output_type": "execute_result"
    }
   ],
   "source": [
    "df[\"색감\"].unique()"
   ]
  },
  {
   "cell_type": "code",
   "execution_count": 88,
   "metadata": {},
   "outputs": [
    {
     "data": {
      "text/plain": [
       "키\n",
       "160cm       114\n",
       "158cm       106\n",
       "163cm        77\n",
       "168cm        62\n",
       "164cm        57\n",
       "162cm        53\n",
       "165cm        52\n",
       "159cm        42\n",
       "161cm        39\n",
       "166cm        38\n",
       "167cm        36\n",
       "170cm        35\n",
       "155cm        33\n",
       "153cm        29\n",
       "156cm        25\n",
       "169cm        22\n",
       "157cm        22\n",
       "154cm        16\n",
       "150cm        13\n",
       "173cm        12\n",
       "171cm        10\n",
       "172cm        10\n",
       "152cm         6\n",
       "175cm         4\n",
       "174cm         4\n",
       "151cm         4\n",
       "130cm 이하      2\n",
       "148cm         1\n",
       "147cm         1\n",
       "199cm         1\n",
       "149cm         1\n",
       "200cm 이상      1\n",
       "176cm         1\n",
       "Name: count, dtype: int64"
      ]
     },
     "execution_count": 88,
     "metadata": {},
     "output_type": "execute_result"
    }
   ],
   "source": [
    "df[\"키\"].value_counts()"
   ]
  },
  {
   "cell_type": "code",
   "execution_count": 89,
   "metadata": {},
   "outputs": [
    {
     "data": {
      "text/plain": [
       "count       929\n",
       "unique       33\n",
       "top       160cm\n",
       "freq        114\n",
       "Name: 키, dtype: object"
      ]
     },
     "execution_count": 89,
     "metadata": {},
     "output_type": "execute_result"
    }
   ],
   "source": [
    "df[\"키\"].describe()"
   ]
  },
  {
   "cell_type": "code",
   "execution_count": 90,
   "metadata": {},
   "outputs": [
    {
     "data": {
      "text/plain": [
       "array(['160cm', '167cm', '148cm', '168cm', '165cm', '171cm', '166cm',\n",
       "       '157cm', '161cm', '150cm', '162cm', '158cm', '163cm', '159cm', nan,\n",
       "       '170cm', '164cm', '169cm', '156cm', '174cm', '155cm', '152cm',\n",
       "       '154cm', '153cm', '172cm', '175cm', '173cm', '130cm 이하', '151cm',\n",
       "       '147cm', '199cm', '149cm', '200cm 이상', '176cm'], dtype=object)"
      ]
     },
     "execution_count": 90,
     "metadata": {},
     "output_type": "execute_result"
    }
   ],
   "source": [
    "df[\"키\"].unique()"
   ]
  },
  {
   "cell_type": "code",
   "execution_count": 91,
   "metadata": {},
   "outputs": [
    {
     "data": {
      "text/plain": [
       "몸무게\n",
       "50kg        117\n",
       "53kg         73\n",
       "55kg         66\n",
       "48kg         54\n",
       "52kg         53\n",
       "49kg         47\n",
       "54kg         47\n",
       "60kg         38\n",
       "57kg         38\n",
       "51kg         37\n",
       "47kg         36\n",
       "46kg         34\n",
       "58kg         32\n",
       "45kg         32\n",
       "56kg         32\n",
       "44kg         23\n",
       "62kg         18\n",
       "43kg         17\n",
       "42kg         16\n",
       "65kg         13\n",
       "59kg         12\n",
       "40kg         11\n",
       "64kg         10\n",
       "30kg 이하       9\n",
       "63kg          8\n",
       "70kg          8\n",
       "41kg          8\n",
       "61kg          6\n",
       "66kg          6\n",
       "67kg          5\n",
       "130kg 이상      3\n",
       "39kg          3\n",
       "37kg          2\n",
       "75kg          2\n",
       "71kg          2\n",
       "68kg          2\n",
       "90kg          1\n",
       "76kg          1\n",
       "73kg          1\n",
       "38kg          1\n",
       "86kg          1\n",
       "118kg         1\n",
       "34kg          1\n",
       "Name: count, dtype: int64"
      ]
     },
     "execution_count": 91,
     "metadata": {},
     "output_type": "execute_result"
    }
   ],
   "source": [
    "df[\"몸무게\"].value_counts()"
   ]
  },
  {
   "cell_type": "code",
   "execution_count": 92,
   "metadata": {},
   "outputs": [
    {
     "data": {
      "text/plain": [
       "count      927\n",
       "unique      43\n",
       "top       50kg\n",
       "freq       117\n",
       "Name: 몸무게, dtype: object"
      ]
     },
     "execution_count": 92,
     "metadata": {},
     "output_type": "execute_result"
    }
   ],
   "source": [
    "df[\"몸무게\"].describe()"
   ]
  },
  {
   "cell_type": "code",
   "execution_count": 93,
   "metadata": {},
   "outputs": [
    {
     "data": {
      "text/plain": [
       "array(['46kg', '49kg', '40kg', '53kg', '50kg', '65kg', '55kg', '66kg',\n",
       "       '57kg', '58kg', '37kg', '52kg', '48kg', nan, '42kg', '47kg',\n",
       "       '56kg', '54kg', '45kg', '64kg', '60kg', '51kg', '44kg', '62kg',\n",
       "       '41kg', '63kg', '90kg', '59kg', '61kg', '76kg', '67kg', '30kg 이하',\n",
       "       '43kg', '71kg', '68kg', '70kg', '39kg', '73kg', '38kg', '130kg 이상',\n",
       "       '75kg', '86kg', '118kg', '34kg'], dtype=object)"
      ]
     },
     "execution_count": 93,
     "metadata": {},
     "output_type": "execute_result"
    }
   ],
   "source": [
    "df[\"몸무게\"].unique()"
   ]
  },
  {
   "cell_type": "code",
   "execution_count": 94,
   "metadata": {},
   "outputs": [
    {
     "data": {
      "text/plain": [
       "사이즈\n",
       "상의 55       513\n",
       "상의 44       272\n",
       "상의 66       117\n",
       "상의 33 이하      7\n",
       "상의 77         5\n",
       "상의 99 이상      4\n",
       "상의 88         3\n",
       "Name: count, dtype: int64"
      ]
     },
     "execution_count": 94,
     "metadata": {},
     "output_type": "execute_result"
    }
   ],
   "source": [
    "df[\"사이즈\"].value_counts()"
   ]
  },
  {
   "cell_type": "code",
   "execution_count": 95,
   "metadata": {},
   "outputs": [
    {
     "data": {
      "text/plain": [
       "count       921\n",
       "unique        7\n",
       "top       상의 55\n",
       "freq        513\n",
       "Name: 사이즈, dtype: object"
      ]
     },
     "execution_count": 95,
     "metadata": {},
     "output_type": "execute_result"
    }
   ],
   "source": [
    "df[\"사이즈\"].describe()"
   ]
  },
  {
   "cell_type": "code",
   "execution_count": 96,
   "metadata": {},
   "outputs": [
    {
     "data": {
      "text/plain": [
       "array(['상의 44', '상의 55', '상의 66', nan, '상의 33 이하', '상의 88', '상의 99 이상',\n",
       "       '상의 77'], dtype=object)"
      ]
     },
     "execution_count": 96,
     "metadata": {},
     "output_type": "execute_result"
    }
   ],
   "source": [
    "df[\"사이즈\"].unique()"
   ]
  },
  {
   "cell_type": "code",
   "execution_count": null,
   "metadata": {},
   "outputs": [],
   "source": []
  },
  {
   "cell_type": "code",
   "execution_count": null,
   "metadata": {},
   "outputs": [],
   "source": []
  },
  {
   "cell_type": "code",
   "execution_count": null,
   "metadata": {},
   "outputs": [],
   "source": []
  }
 ],
 "metadata": {
  "kernelspec": {
   "display_name": "project",
   "language": "python",
   "name": "python3"
  },
  "language_info": {
   "codemirror_mode": {
    "name": "ipython",
    "version": 3
   },
   "file_extension": ".py",
   "mimetype": "text/x-python",
   "name": "python",
   "nbconvert_exporter": "python",
   "pygments_lexer": "ipython3",
   "version": "3.10.16"
  }
 },
 "nbformat": 4,
 "nbformat_minor": 2
}
