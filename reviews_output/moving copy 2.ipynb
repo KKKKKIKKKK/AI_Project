{
 "cells": [
  {
   "cell_type": "markdown",
   "metadata": {},
   "source": [
    "#### 문제점\n",
    "- 1. 0번이 nan 값으로 뽑혀가지고. 1000개를 추출했지만 999개이다. "
   ]
  },
  {
   "cell_type": "code",
   "execution_count": 66,
   "metadata": {},
   "outputs": [],
   "source": [
    "import pandas as pd "
   ]
  },
  {
   "cell_type": "code",
   "execution_count": 326,
   "metadata": {},
   "outputs": [
    {
     "data": {
      "text/html": [
       "<div>\n",
       "<style scoped>\n",
       "    .dataframe tbody tr th:only-of-type {\n",
       "        vertical-align: middle;\n",
       "    }\n",
       "\n",
       "    .dataframe tbody tr th {\n",
       "        vertical-align: top;\n",
       "    }\n",
       "\n",
       "    .dataframe thead th {\n",
       "        text-align: right;\n",
       "    }\n",
       "</style>\n",
       "<table border=\"1\" class=\"dataframe\">\n",
       "  <thead>\n",
       "    <tr style=\"text-align: right;\">\n",
       "      <th></th>\n",
       "      <th>아이디</th>\n",
       "      <th>리뷰어 등급</th>\n",
       "      <th>작성 날짜</th>\n",
       "      <th>옵션1</th>\n",
       "      <th>옵션2</th>\n",
       "      <th>상품 사이즈</th>\n",
       "      <th>퀄리티</th>\n",
       "      <th>색감</th>\n",
       "      <th>키</th>\n",
       "      <th>몸무게</th>\n",
       "      <th>사이즈</th>\n",
       "      <th>리뷰내용</th>\n",
       "    </tr>\n",
       "  </thead>\n",
       "  <tbody>\n",
       "    <tr>\n",
       "      <th>0</th>\n",
       "      <td>가을딥다크</td>\n",
       "      <td>NaN</td>\n",
       "      <td>24.06.27</td>\n",
       "      <td>[TT242] 슬론 골지 나시_연그레이</td>\n",
       "      <td>NaN</td>\n",
       "      <td>정사이즈예요</td>\n",
       "      <td>아주 만족해요</td>\n",
       "      <td>화면과 비슷해요</td>\n",
       "      <td>159cm</td>\n",
       "      <td>58kg</td>\n",
       "      <td>상의 55</td>\n",
       "      <td>159/60\\n전체적으로 만족합니당~~\\n항상 나시 사면 복부 기장이 짧아서 너무 ...</td>\n",
       "    </tr>\n",
       "    <tr>\n",
       "      <th>1</th>\n",
       "      <td>ihihfrNq</td>\n",
       "      <td>NaN</td>\n",
       "      <td>24.06.16</td>\n",
       "      <td>[TT242] 슬론 골지 나시_아이보리</td>\n",
       "      <td>NaN</td>\n",
       "      <td>정사이즈예요</td>\n",
       "      <td>보통이에요</td>\n",
       "      <td>화면과 비슷해요</td>\n",
       "      <td>158cm</td>\n",
       "      <td>46kg</td>\n",
       "      <td>상의 55</td>\n",
       "      <td>아직 세탁 전이긴 하지만 재질자체는 마음에 들어요 흰색이라 어쩔수 없이 비치긴 하네...</td>\n",
       "    </tr>\n",
       "    <tr>\n",
       "      <th>2</th>\n",
       "      <td>한공주</td>\n",
       "      <td>NaN</td>\n",
       "      <td>24.05.09</td>\n",
       "      <td>[TT242] 슬론 골지 나시_블랙</td>\n",
       "      <td>NaN</td>\n",
       "      <td>정사이즈예요</td>\n",
       "      <td>아주 만족해요</td>\n",
       "      <td>화면과 비슷해요</td>\n",
       "      <td>162cm</td>\n",
       "      <td>60kg</td>\n",
       "      <td>상의 55</td>\n",
       "      <td>부유방 커버 나시 찾으시는 분들 그냥 믿고 사시면 될듯 …:0 그냥 역대로 짱짱하게...</td>\n",
       "    </tr>\n",
       "    <tr>\n",
       "      <th>3</th>\n",
       "      <td>YNqDJPGN</td>\n",
       "      <td>상위 25%</td>\n",
       "      <td>24.04.25</td>\n",
       "      <td>[TT242] 슬론 골지 나시_아이보리</td>\n",
       "      <td>NaN</td>\n",
       "      <td>정사이즈예요</td>\n",
       "      <td>아주 만족해요</td>\n",
       "      <td>화면과 비슷해요</td>\n",
       "      <td>162cm</td>\n",
       "      <td>42kg</td>\n",
       "      <td>상의 44</td>\n",
       "      <td>단독으로 입었을 때랑 가디건과 코디했을 때 사진입니다! 다른 슬리브리스들보다 목이 ...</td>\n",
       "    </tr>\n",
       "    <tr>\n",
       "      <th>4</th>\n",
       "      <td>ubapJRzN</td>\n",
       "      <td>상위 10%</td>\n",
       "      <td>24.11.15</td>\n",
       "      <td>[TT242] 슬론 골지 나시_단가라</td>\n",
       "      <td>NaN</td>\n",
       "      <td>정사이즈예요</td>\n",
       "      <td>아주 만족해요</td>\n",
       "      <td>화면과 비슷해요</td>\n",
       "      <td>160cm</td>\n",
       "      <td>67kg</td>\n",
       "      <td>상의 77</td>\n",
       "      <td>1번사진: 제 부유방 보여드릴려고 일부러 접어입었어요\\n2번사진: 이거 니트가 다 ...</td>\n",
       "    </tr>\n",
       "    <tr>\n",
       "      <th>...</th>\n",
       "      <td>...</td>\n",
       "      <td>...</td>\n",
       "      <td>...</td>\n",
       "      <td>...</td>\n",
       "      <td>...</td>\n",
       "      <td>...</td>\n",
       "      <td>...</td>\n",
       "      <td>...</td>\n",
       "      <td>...</td>\n",
       "      <td>...</td>\n",
       "      <td>...</td>\n",
       "      <td>...</td>\n",
       "    </tr>\n",
       "    <tr>\n",
       "      <th>995</th>\n",
       "      <td>CZsfeTep</td>\n",
       "      <td>NaN</td>\n",
       "      <td>24.07.12</td>\n",
       "      <td>[TT242] 슬론 골지 나시_아이보리</td>\n",
       "      <td>NaN</td>\n",
       "      <td>정사이즈예요</td>\n",
       "      <td>보통이에요</td>\n",
       "      <td>화면과 비슷해요</td>\n",
       "      <td>172cm</td>\n",
       "      <td>50kg</td>\n",
       "      <td>상의 55</td>\n",
       "      <td>생각했던 재질과 사이즈 입니다 기본 티로 가지고 있기 좋습니다! 다른 색상도 구매하...</td>\n",
       "    </tr>\n",
       "    <tr>\n",
       "      <th>996</th>\n",
       "      <td>7Vs9qb44</td>\n",
       "      <td>NaN</td>\n",
       "      <td>24.07.11</td>\n",
       "      <td>[TT242] 슬론 골지 나시_아이보리</td>\n",
       "      <td>NaN</td>\n",
       "      <td>정사이즈예요</td>\n",
       "      <td>아주 만족해요</td>\n",
       "      <td>화면과 비슷해요</td>\n",
       "      <td>164cm</td>\n",
       "      <td>54kg</td>\n",
       "      <td>상의 55</td>\n",
       "      <td>핀터레스트 감성과 런닝 그 사이 어딘가에 존재함\\n흰색 속옷 비침\\n흰색도 땀 젖으...</td>\n",
       "    </tr>\n",
       "    <tr>\n",
       "      <th>997</th>\n",
       "      <td>rZCk2XHr</td>\n",
       "      <td>상위 30%</td>\n",
       "      <td>24.07.11</td>\n",
       "      <td>[TT242] 슬론 골지 나시_연그레이</td>\n",
       "      <td>NaN</td>\n",
       "      <td>정사이즈예요</td>\n",
       "      <td>아주 만족해요</td>\n",
       "      <td>화면과 비슷해요</td>\n",
       "      <td>155cm</td>\n",
       "      <td>54kg</td>\n",
       "      <td>상의 55</td>\n",
       "      <td>부유방 잘잡아줘요! 뱃살은 어쩔수없고 ㅎㅎ하이웨이스트 바지랑 입으면 될것같아용. 무...</td>\n",
       "    </tr>\n",
       "    <tr>\n",
       "      <th>998</th>\n",
       "      <td>BLt5lOiB</td>\n",
       "      <td>NaN</td>\n",
       "      <td>24.07.10</td>\n",
       "      <td>[TT242] 슬론 골지 나시_연베이지</td>\n",
       "      <td>NaN</td>\n",
       "      <td>정사이즈예요</td>\n",
       "      <td>보통이에요</td>\n",
       "      <td>화면과 비슷해요</td>\n",
       "      <td>163cm</td>\n",
       "      <td>55kg</td>\n",
       "      <td>상의 55</td>\n",
       "      <td>작을줄 알았는데 쫀쫀하니 잘 맞네요. 길이 적당하고 색상도 맘에 들어요. 부유방 커...</td>\n",
       "    </tr>\n",
       "    <tr>\n",
       "      <th>999</th>\n",
       "      <td>O0wwzyeV</td>\n",
       "      <td>상위 10%</td>\n",
       "      <td>24.07.10</td>\n",
       "      <td>[TT242] 슬론 골지 나시_단가라</td>\n",
       "      <td>NaN</td>\n",
       "      <td>정사이즈예요</td>\n",
       "      <td>아주 만족해요</td>\n",
       "      <td>화면과 비슷해요</td>\n",
       "      <td>157cm</td>\n",
       "      <td>47kg</td>\n",
       "      <td>상의 55</td>\n",
       "      <td>저는 늘 겨드랑이부분이 뜨거나 아니면 너무 끼거나 둘중 하나여서 나시입는거 포기했는...</td>\n",
       "    </tr>\n",
       "  </tbody>\n",
       "</table>\n",
       "<p>1000 rows × 12 columns</p>\n",
       "</div>"
      ],
      "text/plain": [
       "          아이디  리뷰어 등급     작성 날짜                    옵션1  옵션2  상품 사이즈      퀄리티  \\\n",
       "0       가을딥다크     NaN  24.06.27  [TT242] 슬론 골지 나시_연그레이  NaN  정사이즈예요  아주 만족해요   \n",
       "1    ihihfrNq     NaN  24.06.16  [TT242] 슬론 골지 나시_아이보리  NaN  정사이즈예요    보통이에요   \n",
       "2         한공주     NaN  24.05.09    [TT242] 슬론 골지 나시_블랙  NaN  정사이즈예요  아주 만족해요   \n",
       "3    YNqDJPGN  상위 25%  24.04.25  [TT242] 슬론 골지 나시_아이보리  NaN  정사이즈예요  아주 만족해요   \n",
       "4    ubapJRzN  상위 10%  24.11.15   [TT242] 슬론 골지 나시_단가라  NaN  정사이즈예요  아주 만족해요   \n",
       "..        ...     ...       ...                    ...  ...     ...      ...   \n",
       "995  CZsfeTep     NaN  24.07.12  [TT242] 슬론 골지 나시_아이보리  NaN  정사이즈예요    보통이에요   \n",
       "996  7Vs9qb44     NaN  24.07.11  [TT242] 슬론 골지 나시_아이보리  NaN  정사이즈예요  아주 만족해요   \n",
       "997  rZCk2XHr  상위 30%  24.07.11  [TT242] 슬론 골지 나시_연그레이  NaN  정사이즈예요  아주 만족해요   \n",
       "998  BLt5lOiB     NaN  24.07.10  [TT242] 슬론 골지 나시_연베이지  NaN  정사이즈예요    보통이에요   \n",
       "999  O0wwzyeV  상위 10%  24.07.10   [TT242] 슬론 골지 나시_단가라  NaN  정사이즈예요  아주 만족해요   \n",
       "\n",
       "           색감      키   몸무게    사이즈  \\\n",
       "0    화면과 비슷해요  159cm  58kg  상의 55   \n",
       "1    화면과 비슷해요  158cm  46kg  상의 55   \n",
       "2    화면과 비슷해요  162cm  60kg  상의 55   \n",
       "3    화면과 비슷해요  162cm  42kg  상의 44   \n",
       "4    화면과 비슷해요  160cm  67kg  상의 77   \n",
       "..        ...    ...   ...    ...   \n",
       "995  화면과 비슷해요  172cm  50kg  상의 55   \n",
       "996  화면과 비슷해요  164cm  54kg  상의 55   \n",
       "997  화면과 비슷해요  155cm  54kg  상의 55   \n",
       "998  화면과 비슷해요  163cm  55kg  상의 55   \n",
       "999  화면과 비슷해요  157cm  47kg  상의 55   \n",
       "\n",
       "                                                  리뷰내용  \n",
       "0    159/60\\n전체적으로 만족합니당~~\\n항상 나시 사면 복부 기장이 짧아서 너무 ...  \n",
       "1    아직 세탁 전이긴 하지만 재질자체는 마음에 들어요 흰색이라 어쩔수 없이 비치긴 하네...  \n",
       "2    부유방 커버 나시 찾으시는 분들 그냥 믿고 사시면 될듯 …:0 그냥 역대로 짱짱하게...  \n",
       "3    단독으로 입었을 때랑 가디건과 코디했을 때 사진입니다! 다른 슬리브리스들보다 목이 ...  \n",
       "4    1번사진: 제 부유방 보여드릴려고 일부러 접어입었어요\\n2번사진: 이거 니트가 다 ...  \n",
       "..                                                 ...  \n",
       "995  생각했던 재질과 사이즈 입니다 기본 티로 가지고 있기 좋습니다! 다른 색상도 구매하...  \n",
       "996  핀터레스트 감성과 런닝 그 사이 어딘가에 존재함\\n흰색 속옷 비침\\n흰색도 땀 젖으...  \n",
       "997  부유방 잘잡아줘요! 뱃살은 어쩔수없고 ㅎㅎ하이웨이스트 바지랑 입으면 될것같아용. 무...  \n",
       "998  작을줄 알았는데 쫀쫀하니 잘 맞네요. 길이 적당하고 색상도 맘에 들어요. 부유방 커...  \n",
       "999  저는 늘 겨드랑이부분이 뜨거나 아니면 너무 끼거나 둘중 하나여서 나시입는거 포기했는...  \n",
       "\n",
       "[1000 rows x 12 columns]"
      ]
     },
     "execution_count": 326,
     "metadata": {},
     "output_type": "execute_result"
    }
   ],
   "source": [
    "df = pd.read_csv(r\"C:\\Users\\asia\\Desktop\\ai_project\\슬리브리스\\슬리브리스_p11_124867668.csv\")\n",
    "df "
   ]
  },
  {
   "cell_type": "code",
   "execution_count": 327,
   "metadata": {},
   "outputs": [
    {
     "name": "stdout",
     "output_type": "stream",
     "text": [
      "<class 'pandas.core.frame.DataFrame'>\n",
      "RangeIndex: 1000 entries, 0 to 999\n",
      "Data columns (total 12 columns):\n",
      " #   Column  Non-Null Count  Dtype \n",
      "---  ------  --------------  ----- \n",
      " 0   아이디     1000 non-null   object\n",
      " 1   리뷰어 등급  405 non-null    object\n",
      " 2   작성 날짜   1000 non-null   object\n",
      " 3   옵션1     990 non-null    object\n",
      " 4   옵션2     158 non-null    object\n",
      " 5   상품 사이즈  999 non-null    object\n",
      " 6   퀄리티     999 non-null    object\n",
      " 7   색감      999 non-null    object\n",
      " 8   키       910 non-null    object\n",
      " 9   몸무게     907 non-null    object\n",
      " 10  사이즈     894 non-null    object\n",
      " 11  리뷰내용    1000 non-null   object\n",
      "dtypes: object(12)\n",
      "memory usage: 93.9+ KB\n"
     ]
    }
   ],
   "source": [
    "df.info()"
   ]
  },
  {
   "cell_type": "code",
   "execution_count": 298,
   "metadata": {},
   "outputs": [
    {
     "data": {
      "text/plain": [
       "아이디\n",
       "HBs99VQO     5\n",
       "cDZDX2eB     5\n",
       "jj08****     4\n",
       "3RP4sd2d     3\n",
       "whdt*****    3\n",
       "            ..\n",
       "MLS1UmaC     1\n",
       "UVr82s2c     1\n",
       "TI6pexHW     1\n",
       "Wy8PZbEp     1\n",
       "cTsW3azd     1\n",
       "Name: count, Length: 381, dtype: int64"
      ]
     },
     "execution_count": 298,
     "metadata": {},
     "output_type": "execute_result"
    }
   ],
   "source": [
    "df[\"아이디\"].value_counts()"
   ]
  },
  {
   "cell_type": "code",
   "execution_count": 299,
   "metadata": {},
   "outputs": [
    {
     "data": {
      "text/plain": [
       "count          510\n",
       "unique         381\n",
       "top       HBs99VQO\n",
       "freq             5\n",
       "Name: 아이디, dtype: object"
      ]
     },
     "execution_count": 299,
     "metadata": {},
     "output_type": "execute_result"
    }
   ],
   "source": [
    "df[\"아이디\"].describe()"
   ]
  },
  {
   "cell_type": "code",
   "execution_count": null,
   "metadata": {},
   "outputs": [],
   "source": []
  },
  {
   "cell_type": "code",
   "execution_count": 300,
   "metadata": {},
   "outputs": [
    {
     "data": {
      "text/plain": [
       "리뷰어 등급\n",
       "상위 15%    21\n",
       "상위 20%    18\n",
       "상위 5%     17\n",
       "상위 30%    17\n",
       "상위 10%    16\n",
       "상위 25%    15\n",
       "Name: count, dtype: int64"
      ]
     },
     "execution_count": 300,
     "metadata": {},
     "output_type": "execute_result"
    }
   ],
   "source": [
    "df[\"리뷰어 등급\"].value_counts()"
   ]
  },
  {
   "cell_type": "code",
   "execution_count": 301,
   "metadata": {},
   "outputs": [
    {
     "data": {
      "text/plain": [
       "count        104\n",
       "unique         6\n",
       "top       상위 15%\n",
       "freq          21\n",
       "Name: 리뷰어 등급, dtype: object"
      ]
     },
     "execution_count": 301,
     "metadata": {},
     "output_type": "execute_result"
    }
   ],
   "source": [
    "df[\"리뷰어 등급\"].describe()"
   ]
  },
  {
   "cell_type": "code",
   "execution_count": 303,
   "metadata": {},
   "outputs": [
    {
     "data": {
      "text/plain": [
       "array(['상위 5%', '상위 15%', '상위 30%', '상위 10%', nan, '상위 20%', '상위 25%'],\n",
       "      dtype=object)"
      ]
     },
     "execution_count": 303,
     "metadata": {},
     "output_type": "execute_result"
    }
   ],
   "source": [
    "df[\"리뷰어 등급\"].unique()"
   ]
  },
  {
   "cell_type": "code",
   "execution_count": 304,
   "metadata": {},
   "outputs": [
    {
     "data": {
      "text/plain": [
       "count          510\n",
       "unique         167\n",
       "top       24.06.22\n",
       "freq            10\n",
       "Name: 작성 날짜, dtype: object"
      ]
     },
     "execution_count": 304,
     "metadata": {},
     "output_type": "execute_result"
    }
   ],
   "source": [
    "df[\"작성 날짜\"].describe()"
   ]
  },
  {
   "cell_type": "code",
   "execution_count": 305,
   "metadata": {},
   "outputs": [
    {
     "data": {
      "text/plain": [
       "array(['24.05.19', '25.01.09', '24.07.12', '24.06.29', '24.06.24',\n",
       "       '24.06.01', '25.01.12', '24.09.22', '24.08.18', '24.06.08',\n",
       "       '24.08.31', '24.08.19', '24.07.17', '24.07.11', '24.07.06',\n",
       "       '24.07.02', '24.07.01', '24.06.27', '24.06.26', '24.06.25',\n",
       "       '24.06.15', '24.06.11', '24.06.02', '24.05.15', '24.05.12',\n",
       "       '24.05.08', '24.05.07', '24.05.02', '24.04.28', '24.04.27',\n",
       "       '24.04.24', '24.04.23', '24.10.03', '24.09.25', '24.09.23',\n",
       "       '24.09.20', '24.09.09', '24.08.28', '24.06.12', '24.08.24',\n",
       "       '24.07.21', '24.04.22', '24.04.17', '24.10.17', '24.09.11',\n",
       "       '24.08.15', '24.08.13', '24.07.30', '24.07.20', '24.07.09',\n",
       "       '24.07.05', '24.06.16', '24.06.09', '24.05.16', '24.05.05',\n",
       "       '24.05.03', '24.04.30', '24.04.21', '24.04.20', '24.09.08',\n",
       "       '24.09.07', '24.09.06', '24.07.23', '24.09.19', '24.07.28',\n",
       "       '24.07.03', '24.06.28', '24.06.19', '24.05.23', '24.04.29',\n",
       "       '24.11.02', '24.09.26', '24.09.12', '24.08.10', '24.07.22',\n",
       "       '24.07.16', '24.07.10', '24.05.17', '24.05.01', '24.08.29',\n",
       "       '24.08.17', '24.07.24', '24.05.31', '24.05.30', '24.11.12',\n",
       "       '24.09.04', '24.08.27', '24.08.08', '24.08.01', '24.06.04',\n",
       "       '24.05.29', '24.05.28', '24.05.20', '24.05.13', '24.04.25',\n",
       "       '24.12.29', '24.12.04', '24.10.29', '24.11.10', '24.07.07',\n",
       "       '24.07.04', '24.06.30', '24.06.13', '24.09.10', '24.08.20',\n",
       "       '24.06.22', '24.06.20', '24.06.07', '24.05.11', '24.05.09',\n",
       "       '24.12.01', '24.11.01', '24.09.21', '24.09.03', '24.12.14',\n",
       "       '24.09.17', '24.09.29', '24.07.18', '24.06.14', '24.06.05',\n",
       "       '25.01.06', '24.06.10', '24.10.16', '24.09.13', '24.08.23',\n",
       "       '24.07.08', '24.06.18', '24.08.12', '24.08.02', '24.07.14',\n",
       "       '24.09.15', '24.05.14', '24.10.23', '24.05.27', '24.12.23',\n",
       "       '24.09.18', '24.07.26', '24.11.23', '24.09.01', '24.05.24',\n",
       "       '24.04.18', '24.05.04', '24.11.19', '24.11.16', '24.10.06',\n",
       "       '24.05.10', '24.11.17', '24.08.30', '24.07.29', '24.06.06',\n",
       "       '24.05.22', '24.08.14', '24.08.07', '24.07.25', '24.12.15',\n",
       "       '24.07.27', '24.06.23', '24.05.06', '24.09.16', '25.01.05',\n",
       "       '25.01.02', '24.11.22', '24.10.04', '24.09.05', '24.08.22',\n",
       "       '24.07.13', '24.05.25', nan], dtype=object)"
      ]
     },
     "execution_count": 305,
     "metadata": {},
     "output_type": "execute_result"
    }
   ],
   "source": [
    "df[\"작성 날짜\"].unique()"
   ]
  },
  {
   "cell_type": "code",
   "execution_count": 306,
   "metadata": {},
   "outputs": [
    {
     "data": {
      "text/plain": [
       "옵션1\n",
       "+7cm롱기장         305\n",
       "크롭기장            172\n",
       "Ivory (오늘출발)     12\n",
       "Black (오늘출발)      7\n",
       "Ivory             6\n",
       "Black             2\n",
       "Pink              2\n",
       "Pink (오늘출발)       2\n",
       "Cream             1\n",
       "SkyBlue           1\n",
       "Name: count, dtype: int64"
      ]
     },
     "execution_count": 306,
     "metadata": {},
     "output_type": "execute_result"
    }
   ],
   "source": [
    "df[\"옵션1\"].value_counts()"
   ]
  },
  {
   "cell_type": "code",
   "execution_count": 307,
   "metadata": {},
   "outputs": [
    {
     "data": {
      "text/plain": [
       "array(['+7cm롱기장', 'Ivory (오늘출발)', 'Black (오늘출발)', '크롭기장', 'Cream',\n",
       "       'Ivory', 'Black', 'Pink (오늘출발)', 'SkyBlue', 'Pink', nan],\n",
       "      dtype=object)"
      ]
     },
     "execution_count": 307,
     "metadata": {},
     "output_type": "execute_result"
    }
   ],
   "source": [
    "df[\"옵션1\"].unique()"
   ]
  },
  {
   "cell_type": "code",
   "execution_count": 308,
   "metadata": {},
   "outputs": [
    {
     "data": {
      "text/plain": [
       "옵션2\n",
       "Ivory (오늘출발)      198\n",
       "Black (오늘출발)      101\n",
       "Ivory              81\n",
       "Free               30\n",
       "Cream (오늘출발)       24\n",
       "Gray (오늘출발)        20\n",
       "Black              19\n",
       "SkyBlue (오늘출발)     13\n",
       "Pink (오늘출발)        10\n",
       "Gray                7\n",
       "L                   3\n",
       "Cream               2\n",
       "Pink                1\n",
       "SkyBlue             1\n",
       "Name: count, dtype: int64"
      ]
     },
     "execution_count": 308,
     "metadata": {},
     "output_type": "execute_result"
    }
   ],
   "source": [
    "df[\"옵션2\"].value_counts()"
   ]
  },
  {
   "cell_type": "code",
   "execution_count": 309,
   "metadata": {},
   "outputs": [
    {
     "data": {
      "text/plain": [
       "array(['Black (오늘출발)', 'Free', 'Ivory', 'Ivory (오늘출발)', 'Cream (오늘출발)',\n",
       "       'Gray (오늘출발)', 'SkyBlue (오늘출발)', 'Black', 'Cream', 'Gray', 'L',\n",
       "       'Pink', 'SkyBlue', 'Pink (오늘출발)', nan], dtype=object)"
      ]
     },
     "execution_count": 309,
     "metadata": {},
     "output_type": "execute_result"
    }
   ],
   "source": [
    "df[\"옵션2\"].unique()"
   ]
  },
  {
   "cell_type": "code",
   "execution_count": 310,
   "metadata": {},
   "outputs": [
    {
     "data": {
      "text/plain": [
       "상품 사이즈\n",
       "정사이즈예요     459\n",
       "작아요         38\n",
       "생각보다 커요     13\n",
       "Name: count, dtype: int64"
      ]
     },
     "execution_count": 310,
     "metadata": {},
     "output_type": "execute_result"
    }
   ],
   "source": [
    "df[\"상품 사이즈\"].value_counts()"
   ]
  },
  {
   "cell_type": "code",
   "execution_count": 311,
   "metadata": {},
   "outputs": [
    {
     "data": {
      "text/plain": [
       "count        510\n",
       "unique         3\n",
       "top       정사이즈예요\n",
       "freq         459\n",
       "Name: 상품 사이즈, dtype: object"
      ]
     },
     "execution_count": 311,
     "metadata": {},
     "output_type": "execute_result"
    }
   ],
   "source": [
    "df[\"상품 사이즈\"].describe()"
   ]
  },
  {
   "cell_type": "code",
   "execution_count": 312,
   "metadata": {},
   "outputs": [
    {
     "data": {
      "text/plain": [
       "array(['작아요', '정사이즈예요', '생각보다 커요', nan], dtype=object)"
      ]
     },
     "execution_count": 312,
     "metadata": {},
     "output_type": "execute_result"
    }
   ],
   "source": [
    "df[\"상품 사이즈\"].unique()"
   ]
  },
  {
   "cell_type": "code",
   "execution_count": 313,
   "metadata": {},
   "outputs": [
    {
     "data": {
      "text/plain": [
       "퀄리티\n",
       "보통이에요      276\n",
       "아주 만족해요    221\n",
       "별로예요        13\n",
       "Name: count, dtype: int64"
      ]
     },
     "execution_count": 313,
     "metadata": {},
     "output_type": "execute_result"
    }
   ],
   "source": [
    "df[\"퀄리티\"].value_counts()\n"
   ]
  },
  {
   "cell_type": "code",
   "execution_count": 282,
   "metadata": {},
   "outputs": [
    {
     "data": {
      "text/plain": [
       "count       510\n",
       "unique        3\n",
       "top       보통이에요\n",
       "freq        276\n",
       "Name: 퀄리티, dtype: object"
      ]
     },
     "execution_count": 282,
     "metadata": {},
     "output_type": "execute_result"
    }
   ],
   "source": [
    "df[\"퀄리티\"].describe()"
   ]
  },
  {
   "cell_type": "code",
   "execution_count": 314,
   "metadata": {},
   "outputs": [
    {
     "data": {
      "text/plain": [
       "array(['보통이에요', '아주 만족해요', '별로예요', nan], dtype=object)"
      ]
     },
     "execution_count": 314,
     "metadata": {},
     "output_type": "execute_result"
    }
   ],
   "source": [
    "df[\"퀄리티\"].unique()"
   ]
  },
  {
   "cell_type": "code",
   "execution_count": 315,
   "metadata": {},
   "outputs": [
    {
     "data": {
      "text/plain": [
       "색감\n",
       "화면과 비슷해요     507\n",
       "화면보다 어두워요      3\n",
       "Name: count, dtype: int64"
      ]
     },
     "execution_count": 315,
     "metadata": {},
     "output_type": "execute_result"
    }
   ],
   "source": [
    "\n",
    "df[\"색감\"].value_counts()"
   ]
  },
  {
   "cell_type": "code",
   "execution_count": 316,
   "metadata": {},
   "outputs": [
    {
     "data": {
      "text/plain": [
       "count          510\n",
       "unique           2\n",
       "top       화면과 비슷해요\n",
       "freq           507\n",
       "Name: 색감, dtype: object"
      ]
     },
     "execution_count": 316,
     "metadata": {},
     "output_type": "execute_result"
    }
   ],
   "source": [
    "df[\"색감\"].describe()"
   ]
  },
  {
   "cell_type": "code",
   "execution_count": 317,
   "metadata": {},
   "outputs": [
    {
     "data": {
      "text/plain": [
       "array(['화면과 비슷해요', '화면보다 어두워요', nan], dtype=object)"
      ]
     },
     "execution_count": 317,
     "metadata": {},
     "output_type": "execute_result"
    }
   ],
   "source": [
    "df[\"색감\"].unique()"
   ]
  },
  {
   "cell_type": "code",
   "execution_count": 287,
   "metadata": {},
   "outputs": [
    {
     "data": {
      "text/plain": [
       "키\n",
       "160cm       72\n",
       "163cm       51\n",
       "158cm       44\n",
       "165cm       32\n",
       "155cm       31\n",
       "164cm       29\n",
       "162cm       25\n",
       "161cm       23\n",
       "168cm       20\n",
       "167cm       19\n",
       "170cm       18\n",
       "159cm       16\n",
       "166cm       15\n",
       "172cm       14\n",
       "156cm       11\n",
       "157cm       11\n",
       "171cm       10\n",
       "169cm        9\n",
       "153cm        6\n",
       "173cm        5\n",
       "154cm        4\n",
       "152cm        4\n",
       "175cm        2\n",
       "150cm        1\n",
       "151cm        1\n",
       "174cm        1\n",
       "130cm 이하     1\n",
       "147cm        1\n",
       "Name: count, dtype: int64"
      ]
     },
     "execution_count": 287,
     "metadata": {},
     "output_type": "execute_result"
    }
   ],
   "source": [
    "df[\"키\"].value_counts()"
   ]
  },
  {
   "cell_type": "code",
   "execution_count": 318,
   "metadata": {},
   "outputs": [
    {
     "data": {
      "text/plain": [
       "count       476\n",
       "unique       28\n",
       "top       160cm\n",
       "freq         72\n",
       "Name: 키, dtype: object"
      ]
     },
     "execution_count": 318,
     "metadata": {},
     "output_type": "execute_result"
    }
   ],
   "source": [
    "df[\"키\"].describe()"
   ]
  },
  {
   "cell_type": "code",
   "execution_count": 319,
   "metadata": {},
   "outputs": [
    {
     "data": {
      "text/plain": [
       "array(['160cm', nan, '157cm', '167cm', '161cm', '164cm', '172cm', '156cm',\n",
       "       '169cm', '155cm', '158cm', '153cm', '163cm', '165cm', '162cm',\n",
       "       '159cm', '168cm', '170cm', '166cm', '173cm', '150cm', '171cm',\n",
       "       '152cm', '154cm', '151cm', '175cm', '174cm', '130cm 이하', '147cm'],\n",
       "      dtype=object)"
      ]
     },
     "execution_count": 319,
     "metadata": {},
     "output_type": "execute_result"
    }
   ],
   "source": [
    "df[\"키\"].unique()"
   ]
  },
  {
   "cell_type": "code",
   "execution_count": 320,
   "metadata": {},
   "outputs": [
    {
     "data": {
      "text/plain": [
       "몸무게\n",
       "50kg       59\n",
       "48kg       37\n",
       "52kg       32\n",
       "55kg       27\n",
       "45kg       26\n",
       "58kg       25\n",
       "49kg       24\n",
       "53kg       23\n",
       "47kg       21\n",
       "54kg       19\n",
       "57kg       18\n",
       "44kg       16\n",
       "62kg       15\n",
       "51kg       15\n",
       "59kg       14\n",
       "56kg       14\n",
       "60kg       13\n",
       "46kg       13\n",
       "42kg        8\n",
       "65kg        8\n",
       "43kg        8\n",
       "63kg        5\n",
       "69kg        5\n",
       "64kg        4\n",
       "41kg        4\n",
       "68kg        3\n",
       "61kg        3\n",
       "70kg        3\n",
       "74kg        2\n",
       "40kg        2\n",
       "38kg        2\n",
       "71kg        2\n",
       "39kg        2\n",
       "66kg        1\n",
       "75kg        1\n",
       "30kg 이하     1\n",
       "Name: count, dtype: int64"
      ]
     },
     "execution_count": 320,
     "metadata": {},
     "output_type": "execute_result"
    }
   ],
   "source": [
    "df[\"몸무게\"].value_counts()"
   ]
  },
  {
   "cell_type": "code",
   "execution_count": 321,
   "metadata": {},
   "outputs": [
    {
     "data": {
      "text/plain": [
       "count      475\n",
       "unique      36\n",
       "top       50kg\n",
       "freq        59\n",
       "Name: 몸무게, dtype: object"
      ]
     },
     "execution_count": 321,
     "metadata": {},
     "output_type": "execute_result"
    }
   ],
   "source": [
    "df[\"몸무게\"].describe()"
   ]
  },
  {
   "cell_type": "code",
   "execution_count": 322,
   "metadata": {},
   "outputs": [
    {
     "data": {
      "text/plain": [
       "array(['42kg', nan, '55kg', '45kg', '51kg', '66kg', '53kg', '50kg',\n",
       "       '62kg', '60kg', '65kg', '49kg', '57kg', '58kg', '52kg', '54kg',\n",
       "       '64kg', '56kg', '61kg', '40kg', '46kg', '47kg', '59kg', '63kg',\n",
       "       '44kg', '48kg', '68kg', '41kg', '43kg', '71kg', '70kg', '75kg',\n",
       "       '38kg', '69kg', '30kg 이하', '39kg', '74kg'], dtype=object)"
      ]
     },
     "execution_count": 322,
     "metadata": {},
     "output_type": "execute_result"
    }
   ],
   "source": [
    "df[\"몸무게\"].unique()"
   ]
  },
  {
   "cell_type": "code",
   "execution_count": 323,
   "metadata": {},
   "outputs": [
    {
     "data": {
      "text/plain": [
       "사이즈\n",
       "상의 55       256\n",
       "상의 44       134\n",
       "상의 66        75\n",
       "상의 77         3\n",
       "상의 33 이하      2\n",
       "상의 99 이상      1\n",
       "Name: count, dtype: int64"
      ]
     },
     "execution_count": 323,
     "metadata": {},
     "output_type": "execute_result"
    }
   ],
   "source": [
    "df[\"사이즈\"].value_counts()"
   ]
  },
  {
   "cell_type": "code",
   "execution_count": 324,
   "metadata": {},
   "outputs": [
    {
     "data": {
      "text/plain": [
       "count       471\n",
       "unique        6\n",
       "top       상의 55\n",
       "freq        256\n",
       "Name: 사이즈, dtype: object"
      ]
     },
     "execution_count": 324,
     "metadata": {},
     "output_type": "execute_result"
    }
   ],
   "source": [
    "df[\"사이즈\"].describe()"
   ]
  },
  {
   "cell_type": "code",
   "execution_count": 325,
   "metadata": {},
   "outputs": [
    {
     "data": {
      "text/plain": [
       "array(['상의 44', nan, '상의 55', '상의 66', '상의 99 이상', '상의 77', '상의 33 이하'],\n",
       "      dtype=object)"
      ]
     },
     "execution_count": 325,
     "metadata": {},
     "output_type": "execute_result"
    }
   ],
   "source": [
    "df[\"사이즈\"].unique()"
   ]
  },
  {
   "cell_type": "code",
   "execution_count": null,
   "metadata": {},
   "outputs": [],
   "source": []
  }
 ],
 "metadata": {
  "kernelspec": {
   "display_name": "project",
   "language": "python",
   "name": "python3"
  },
  "language_info": {
   "codemirror_mode": {
    "name": "ipython",
    "version": 3
   },
   "file_extension": ".py",
   "mimetype": "text/x-python",
   "name": "python",
   "nbconvert_exporter": "python",
   "pygments_lexer": "ipython3",
   "version": "3.10.16"
  }
 },
 "nbformat": 4,
 "nbformat_minor": 2
}
