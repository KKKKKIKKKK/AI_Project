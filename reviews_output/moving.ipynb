{
 "cells": [
  {
   "cell_type": "markdown",
   "metadata": {},
   "source": [
    "#### 문제점\n",
    "- 1. 0번이 nan 값으로 뽑혀가지고. 1000개를 추출했지만 999개이다. "
   ]
  },
  {
   "cell_type": "code",
   "execution_count": 1,
   "metadata": {},
   "outputs": [],
   "source": [
    "import pandas as pd "
   ]
  },
  {
   "cell_type": "code",
   "execution_count": 8,
   "metadata": {},
   "outputs": [
    {
     "data": {
      "text/html": [
       "<div>\n",
       "<style scoped>\n",
       "    .dataframe tbody tr th:only-of-type {\n",
       "        vertical-align: middle;\n",
       "    }\n",
       "\n",
       "    .dataframe tbody tr th {\n",
       "        vertical-align: top;\n",
       "    }\n",
       "\n",
       "    .dataframe thead th {\n",
       "        text-align: right;\n",
       "    }\n",
       "</style>\n",
       "<table border=\"1\" class=\"dataframe\">\n",
       "  <thead>\n",
       "    <tr style=\"text-align: right;\">\n",
       "      <th></th>\n",
       "      <th>아이디</th>\n",
       "      <th>리뷰어 등급</th>\n",
       "      <th>작성 날짜</th>\n",
       "      <th>옵션1</th>\n",
       "      <th>옵션2</th>\n",
       "      <th>상품 사이즈</th>\n",
       "      <th>퀄리티</th>\n",
       "      <th>색감</th>\n",
       "      <th>키</th>\n",
       "      <th>몸무게</th>\n",
       "      <th>사이즈</th>\n",
       "      <th>리뷰내용</th>\n",
       "    </tr>\n",
       "  </thead>\n",
       "  <tbody>\n",
       "    <tr>\n",
       "      <th>0</th>\n",
       "      <td>NaN</td>\n",
       "      <td>NaN</td>\n",
       "      <td>NaN</td>\n",
       "      <td>NaN</td>\n",
       "      <td>NaN</td>\n",
       "      <td>NaN</td>\n",
       "      <td>NaN</td>\n",
       "      <td>NaN</td>\n",
       "      <td>NaN</td>\n",
       "      <td>NaN</td>\n",
       "      <td>NaN</td>\n",
       "      <td>NaN</td>\n",
       "    </tr>\n",
       "    <tr>\n",
       "      <th>1</th>\n",
       "      <td>nxxhee</td>\n",
       "      <td>탑리뷰어</td>\n",
       "      <td>24.11.27</td>\n",
       "      <td>(롱ver)아이보리</td>\n",
       "      <td>one size</td>\n",
       "      <td>정사이즈예요</td>\n",
       "      <td>보통이에요</td>\n",
       "      <td>화면과 비슷해요</td>\n",
       "      <td>164cm</td>\n",
       "      <td>56kg</td>\n",
       "      <td>상의 55</td>\n",
       "      <td>제 인생은 캡나시 알기 전과 후로 나뉩니다,,\\nZZIZZI가 작아서 그런지 모르겠...</td>\n",
       "    </tr>\n",
       "    <tr>\n",
       "      <th>2</th>\n",
       "      <td>u2QwGGfF</td>\n",
       "      <td>NaN</td>\n",
       "      <td>24.07.07</td>\n",
       "      <td>블랙</td>\n",
       "      <td>L</td>\n",
       "      <td>정사이즈예요</td>\n",
       "      <td>아주 만족해요</td>\n",
       "      <td>화면과 비슷해요</td>\n",
       "      <td>163cm</td>\n",
       "      <td>58kg</td>\n",
       "      <td>상의 66</td>\n",
       "      <td>L사이즈가 있길래 직잭배송으로 구매했더니 아침에 바로 입어볼 수 있었네요ㅎㅎ L사이...</td>\n",
       "    </tr>\n",
       "    <tr>\n",
       "      <th>3</th>\n",
       "      <td>WMKwL2mc</td>\n",
       "      <td>NaN</td>\n",
       "      <td>24.06.26</td>\n",
       "      <td>(롱롱ver)블랙</td>\n",
       "      <td>one size</td>\n",
       "      <td>정사이즈예요</td>\n",
       "      <td>아주 만족해요</td>\n",
       "      <td>화면과 비슷해요</td>\n",
       "      <td>156cm</td>\n",
       "      <td>50kg</td>\n",
       "      <td>상의 55</td>\n",
       "      <td>이가격에, 이 옵션 수에, 이런 총알배송??? 만족도 최상. 당장 사십시오. 저는 ...</td>\n",
       "    </tr>\n",
       "    <tr>\n",
       "      <th>4</th>\n",
       "      <td>HCi3CFRP</td>\n",
       "      <td>NaN</td>\n",
       "      <td>25.01.09</td>\n",
       "      <td>(기모롱ver)베이지</td>\n",
       "      <td>one size</td>\n",
       "      <td>정사이즈예요</td>\n",
       "      <td>아주 만족해요</td>\n",
       "      <td>화면과 비슷해요</td>\n",
       "      <td>167cm</td>\n",
       "      <td>52kg</td>\n",
       "      <td>상의 55</td>\n",
       "      <td>가격대비 품질이 너무 좋네요. \\n셔링들어간 건 처음입는데 몸라인이 정말 예뻐보여요...</td>\n",
       "    </tr>\n",
       "    <tr>\n",
       "      <th>...</th>\n",
       "      <td>...</td>\n",
       "      <td>...</td>\n",
       "      <td>...</td>\n",
       "      <td>...</td>\n",
       "      <td>...</td>\n",
       "      <td>...</td>\n",
       "      <td>...</td>\n",
       "      <td>...</td>\n",
       "      <td>...</td>\n",
       "      <td>...</td>\n",
       "      <td>...</td>\n",
       "      <td>...</td>\n",
       "    </tr>\n",
       "    <tr>\n",
       "      <th>995</th>\n",
       "      <td>XaE4oG2g</td>\n",
       "      <td>상위 30%</td>\n",
       "      <td>24.10.17</td>\n",
       "      <td>아이보리</td>\n",
       "      <td>one size</td>\n",
       "      <td>정사이즈예요</td>\n",
       "      <td>보통이에요</td>\n",
       "      <td>화면과 비슷해요</td>\n",
       "      <td>156cm</td>\n",
       "      <td>48kg</td>\n",
       "      <td>상의 55</td>\n",
       "      <td>75B 가슴이 조금 쳐진 스타일입니다🙈\\n단독으로 입는 게 맞겠죠?\\n절대 가슴 지...</td>\n",
       "    </tr>\n",
       "    <tr>\n",
       "      <th>996</th>\n",
       "      <td>jliPGve6</td>\n",
       "      <td>상위 15%</td>\n",
       "      <td>24.10.10</td>\n",
       "      <td>아이보리</td>\n",
       "      <td>one size</td>\n",
       "      <td>정사이즈예요</td>\n",
       "      <td>보통이에요</td>\n",
       "      <td>화면과 비슷해요</td>\n",
       "      <td>165cm</td>\n",
       "      <td>52kg</td>\n",
       "      <td>상의 55</td>\n",
       "      <td>받았을 때 좀 작아보였는데\\n막상 입으니까 속옷 안입고 요거만 입어도 핏도 괜찮고\\...</td>\n",
       "    </tr>\n",
       "    <tr>\n",
       "      <th>997</th>\n",
       "      <td>orDbsTqv</td>\n",
       "      <td>상위 30%</td>\n",
       "      <td>24.10.02</td>\n",
       "      <td>(롱ver)그레이</td>\n",
       "      <td>one size</td>\n",
       "      <td>정사이즈예요</td>\n",
       "      <td>아주 만족해요</td>\n",
       "      <td>화면과 비슷해요</td>\n",
       "      <td>164cm</td>\n",
       "      <td>51kg</td>\n",
       "      <td>상의 44</td>\n",
       "      <td>끈이 얇아서 몇번 입고 나면 뜯어진다는 타사 제품들도 많은데 여기꺼는 아무리 입고 ...</td>\n",
       "    </tr>\n",
       "    <tr>\n",
       "      <th>998</th>\n",
       "      <td>zjqdiPmt</td>\n",
       "      <td>NaN</td>\n",
       "      <td>24.09.14</td>\n",
       "      <td>(롱ver)크림</td>\n",
       "      <td>one size</td>\n",
       "      <td>정사이즈예요</td>\n",
       "      <td>아주 만족해요</td>\n",
       "      <td>화면과 비슷해요</td>\n",
       "      <td>159cm</td>\n",
       "      <td>55kg</td>\n",
       "      <td>상의 55</td>\n",
       "      <td>후기가 좋아서 구매하려보니 다 품절이더라고요ㅠㅠ\\n재고 있는거로 시켰는데 너무 예뻐...</td>\n",
       "    </tr>\n",
       "    <tr>\n",
       "      <th>999</th>\n",
       "      <td>0814***</td>\n",
       "      <td>NaN</td>\n",
       "      <td>24.09.09</td>\n",
       "      <td>(롱ver)블랙</td>\n",
       "      <td>one size</td>\n",
       "      <td>작아요</td>\n",
       "      <td>별로예요</td>\n",
       "      <td>화면과 비슷해요</td>\n",
       "      <td>NaN</td>\n",
       "      <td>NaN</td>\n",
       "      <td>NaN</td>\n",
       "      <td>냄새 심각합니다\\n지그재그 첫 이용해봤는데 많이 실망이네요\\n뭐 중국 사이트에서 구...</td>\n",
       "    </tr>\n",
       "  </tbody>\n",
       "</table>\n",
       "<p>1000 rows × 12 columns</p>\n",
       "</div>"
      ],
      "text/plain": [
       "          아이디  리뷰어 등급     작성 날짜          옵션1       옵션2  상품 사이즈      퀄리티  \\\n",
       "0         NaN     NaN       NaN          NaN       NaN     NaN      NaN   \n",
       "1      nxxhee    탑리뷰어  24.11.27   (롱ver)아이보리  one size  정사이즈예요    보통이에요   \n",
       "2    u2QwGGfF     NaN  24.07.07           블랙         L  정사이즈예요  아주 만족해요   \n",
       "3    WMKwL2mc     NaN  24.06.26    (롱롱ver)블랙  one size  정사이즈예요  아주 만족해요   \n",
       "4    HCi3CFRP     NaN  25.01.09  (기모롱ver)베이지  one size  정사이즈예요  아주 만족해요   \n",
       "..        ...     ...       ...          ...       ...     ...      ...   \n",
       "995  XaE4oG2g  상위 30%  24.10.17         아이보리  one size  정사이즈예요    보통이에요   \n",
       "996  jliPGve6  상위 15%  24.10.10         아이보리  one size  정사이즈예요    보통이에요   \n",
       "997  orDbsTqv  상위 30%  24.10.02    (롱ver)그레이  one size  정사이즈예요  아주 만족해요   \n",
       "998  zjqdiPmt     NaN  24.09.14     (롱ver)크림  one size  정사이즈예요  아주 만족해요   \n",
       "999   0814***     NaN  24.09.09     (롱ver)블랙  one size     작아요     별로예요   \n",
       "\n",
       "           색감      키   몸무게    사이즈  \\\n",
       "0         NaN    NaN   NaN    NaN   \n",
       "1    화면과 비슷해요  164cm  56kg  상의 55   \n",
       "2    화면과 비슷해요  163cm  58kg  상의 66   \n",
       "3    화면과 비슷해요  156cm  50kg  상의 55   \n",
       "4    화면과 비슷해요  167cm  52kg  상의 55   \n",
       "..        ...    ...   ...    ...   \n",
       "995  화면과 비슷해요  156cm  48kg  상의 55   \n",
       "996  화면과 비슷해요  165cm  52kg  상의 55   \n",
       "997  화면과 비슷해요  164cm  51kg  상의 44   \n",
       "998  화면과 비슷해요  159cm  55kg  상의 55   \n",
       "999  화면과 비슷해요    NaN   NaN    NaN   \n",
       "\n",
       "                                                  리뷰내용  \n",
       "0                                                  NaN  \n",
       "1    제 인생은 캡나시 알기 전과 후로 나뉩니다,,\\nZZIZZI가 작아서 그런지 모르겠...  \n",
       "2    L사이즈가 있길래 직잭배송으로 구매했더니 아침에 바로 입어볼 수 있었네요ㅎㅎ L사이...  \n",
       "3    이가격에, 이 옵션 수에, 이런 총알배송??? 만족도 최상. 당장 사십시오. 저는 ...  \n",
       "4    가격대비 품질이 너무 좋네요. \\n셔링들어간 건 처음입는데 몸라인이 정말 예뻐보여요...  \n",
       "..                                                 ...  \n",
       "995  75B 가슴이 조금 쳐진 스타일입니다🙈\\n단독으로 입는 게 맞겠죠?\\n절대 가슴 지...  \n",
       "996  받았을 때 좀 작아보였는데\\n막상 입으니까 속옷 안입고 요거만 입어도 핏도 괜찮고\\...  \n",
       "997  끈이 얇아서 몇번 입고 나면 뜯어진다는 타사 제품들도 많은데 여기꺼는 아무리 입고 ...  \n",
       "998  후기가 좋아서 구매하려보니 다 품절이더라고요ㅠㅠ\\n재고 있는거로 시켰는데 너무 예뻐...  \n",
       "999  냄새 심각합니다\\n지그재그 첫 이용해봤는데 많이 실망이네요\\n뭐 중국 사이트에서 구...  \n",
       "\n",
       "[1000 rows x 12 columns]"
      ]
     },
     "execution_count": 8,
     "metadata": {},
     "output_type": "execute_result"
    }
   ],
   "source": [
    "df = pd.read_csv(r\"C:\\Users\\asia\\Desktop\\ai_project\\슬리브리스\\슬리브리스_p1_112538672.csv\")\n",
    "df "
   ]
  },
  {
   "cell_type": "code",
   "execution_count": 9,
   "metadata": {},
   "outputs": [
    {
     "data": {
      "text/plain": [
       "리뷰어 등급\n",
       "상위 10%    92\n",
       "상위 15%    89\n",
       "상위 5%     88\n",
       "상위 25%    64\n",
       "상위 20%    57\n",
       "상위 30%    57\n",
       "상위 1%     21\n",
       "탑리뷰어      14\n",
       "Name: count, dtype: int64"
      ]
     },
     "execution_count": 9,
     "metadata": {},
     "output_type": "execute_result"
    }
   ],
   "source": [
    "df[\"리뷰어 등급\"].value_counts()"
   ]
  },
  {
   "cell_type": "code",
   "execution_count": 11,
   "metadata": {},
   "outputs": [
    {
     "data": {
      "text/plain": [
       "옵션1\n",
       "(롱ver)아이보리         315\n",
       "아이보리               209\n",
       "(롱ver)블랙           119\n",
       "블랙                  72\n",
       "(롱ver)크림            38\n",
       "(롱ver)그레이           34\n",
       "(롱롱ver)아이보리         31\n",
       "(롱롱ver)블랙           23\n",
       "그레이                 20\n",
       "(롱ver)코발트블루         18\n",
       "(롱ver)소라            15\n",
       "소라                  15\n",
       "(롱ver)핑크            14\n",
       "코발트블루               10\n",
       "(기모롱ver)아이보리        10\n",
       "핑크                   7\n",
       "(롱ver)백멜란지           7\n",
       "크림                   6\n",
       "(벨로아ver)블랙           4\n",
       "(기모롱ver)블랙           4\n",
       "(기모ver)아이보리          3\n",
       "(기모롱ver)베이지          3\n",
       "(앙고라기모ver)아이보리       3\n",
       "백멜란지                 3\n",
       "(기모ver)베이지           3\n",
       "(기모롱ver)브라운          3\n",
       "(앙고라기모ver)모카         2\n",
       "(앙고라기모ver)핑크         1\n",
       "(기모ver)블랙            1\n",
       "(앙고라기모ver)블랙         1\n",
       "(Longver) Black      1\n",
       "(기모ver)브라운           1\n",
       "(Long ver) Grey      1\n",
       "(벨로아ver)브라운          1\n",
       "(long ver) Sora      1\n",
       "Name: count, dtype: int64"
      ]
     },
     "execution_count": 11,
     "metadata": {},
     "output_type": "execute_result"
    }
   ],
   "source": [
    "df[\"옵션1\"].value_counts()"
   ]
  },
  {
   "cell_type": "code",
   "execution_count": 12,
   "metadata": {},
   "outputs": [
    {
     "data": {
      "text/plain": [
       "옵션2\n",
       "one size          965\n",
       "L                  31\n",
       "One Color size      3\n",
       "Name: count, dtype: int64"
      ]
     },
     "execution_count": 12,
     "metadata": {},
     "output_type": "execute_result"
    }
   ],
   "source": [
    "df[\"옵션2\"].value_counts()"
   ]
  },
  {
   "cell_type": "code",
   "execution_count": 14,
   "metadata": {},
   "outputs": [
    {
     "data": {
      "text/plain": [
       "상품 사이즈\n",
       "정사이즈예요     920\n",
       "작아요         56\n",
       "생각보다 커요     23\n",
       "Name: count, dtype: int64"
      ]
     },
     "execution_count": 14,
     "metadata": {},
     "output_type": "execute_result"
    }
   ],
   "source": [
    "df[\"상품 사이즈\"].value_counts()"
   ]
  },
  {
   "cell_type": "code",
   "execution_count": 15,
   "metadata": {},
   "outputs": [
    {
     "data": {
      "text/plain": [
       "count        999\n",
       "unique         3\n",
       "top       정사이즈예요\n",
       "freq         920\n",
       "Name: 상품 사이즈, dtype: object"
      ]
     },
     "execution_count": 15,
     "metadata": {},
     "output_type": "execute_result"
    }
   ],
   "source": [
    "df[\"상품 사이즈\"].describe()"
   ]
  },
  {
   "cell_type": "code",
   "execution_count": 20,
   "metadata": {},
   "outputs": [
    {
     "data": {
      "text/plain": [
       "퀄리티\n",
       "아주 만족해요    575\n",
       "보통이에요      409\n",
       "별로예요        15\n",
       "Name: count, dtype: int64"
      ]
     },
     "execution_count": 20,
     "metadata": {},
     "output_type": "execute_result"
    }
   ],
   "source": [
    "df[\"퀄리티\"].value_counts()\n"
   ]
  },
  {
   "cell_type": "code",
   "execution_count": 21,
   "metadata": {},
   "outputs": [
    {
     "data": {
      "text/plain": [
       "count         999\n",
       "unique          3\n",
       "top       아주 만족해요\n",
       "freq          575\n",
       "Name: 퀄리티, dtype: object"
      ]
     },
     "execution_count": 21,
     "metadata": {},
     "output_type": "execute_result"
    }
   ],
   "source": [
    "df[\"퀄리티\"].describe()"
   ]
  },
  {
   "cell_type": "code",
   "execution_count": 22,
   "metadata": {},
   "outputs": [
    {
     "data": {
      "text/plain": [
       "array([nan, '보통이에요', '아주 만족해요', '별로예요'], dtype=object)"
      ]
     },
     "execution_count": 22,
     "metadata": {},
     "output_type": "execute_result"
    }
   ],
   "source": [
    "df[\"퀄리티\"].unique()"
   ]
  },
  {
   "cell_type": "code",
   "execution_count": 23,
   "metadata": {},
   "outputs": [
    {
     "data": {
      "text/plain": [
       "색감\n",
       "화면과 비슷해요     985\n",
       "화면보다 어두워요     12\n",
       "화면보다 밝아요       2\n",
       "Name: count, dtype: int64"
      ]
     },
     "execution_count": 23,
     "metadata": {},
     "output_type": "execute_result"
    }
   ],
   "source": [
    "\n",
    "df[\"색감\"].value_counts()"
   ]
  },
  {
   "cell_type": "code",
   "execution_count": 24,
   "metadata": {},
   "outputs": [
    {
     "data": {
      "text/plain": [
       "count          999\n",
       "unique           3\n",
       "top       화면과 비슷해요\n",
       "freq           985\n",
       "Name: 색감, dtype: object"
      ]
     },
     "execution_count": 24,
     "metadata": {},
     "output_type": "execute_result"
    }
   ],
   "source": [
    "df[\"색감\"].describe()"
   ]
  },
  {
   "cell_type": "code",
   "execution_count": 25,
   "metadata": {},
   "outputs": [
    {
     "data": {
      "text/plain": [
       "array([nan, '화면과 비슷해요', '화면보다 어두워요', '화면보다 밝아요'], dtype=object)"
      ]
     },
     "execution_count": 25,
     "metadata": {},
     "output_type": "execute_result"
    }
   ],
   "source": [
    "df[\"색감\"].unique()"
   ]
  },
  {
   "cell_type": "code",
   "execution_count": 27,
   "metadata": {},
   "outputs": [
    {
     "data": {
      "text/plain": [
       "키\n",
       "160cm       111\n",
       "158cm        88\n",
       "163cm        83\n",
       "164cm        74\n",
       "159cm        65\n",
       "162cm        53\n",
       "168cm        51\n",
       "165cm        49\n",
       "161cm        48\n",
       "166cm        46\n",
       "156cm        40\n",
       "157cm        37\n",
       "167cm        33\n",
       "155cm        31\n",
       "153cm        26\n",
       "170cm        20\n",
       "169cm        20\n",
       "154cm        18\n",
       "172cm        10\n",
       "171cm         8\n",
       "173cm         6\n",
       "152cm         6\n",
       "150cm         6\n",
       "151cm         4\n",
       "175cm         3\n",
       "148cm         1\n",
       "130cm 이하      1\n",
       "174cm         1\n",
       "Name: count, dtype: int64"
      ]
     },
     "execution_count": 27,
     "metadata": {},
     "output_type": "execute_result"
    }
   ],
   "source": [
    "df[\"키\"].value_counts()"
   ]
  },
  {
   "cell_type": "code",
   "execution_count": 28,
   "metadata": {},
   "outputs": [
    {
     "data": {
      "text/plain": [
       "count       939\n",
       "unique       28\n",
       "top       160cm\n",
       "freq        111\n",
       "Name: 키, dtype: object"
      ]
     },
     "execution_count": 28,
     "metadata": {},
     "output_type": "execute_result"
    }
   ],
   "source": [
    "df[\"키\"].describe()"
   ]
  },
  {
   "cell_type": "code",
   "execution_count": 29,
   "metadata": {},
   "outputs": [
    {
     "data": {
      "text/plain": [
       "array([nan, '164cm', '163cm', '156cm', '167cm', '155cm', '161cm', '166cm',\n",
       "       '170cm', '159cm', '162cm', '160cm', '168cm', '153cm', '173cm',\n",
       "       '169cm', '157cm', '158cm', '165cm', '154cm', '172cm', '171cm',\n",
       "       '152cm', '175cm', '151cm', '150cm', '148cm', '130cm 이하', '174cm'],\n",
       "      dtype=object)"
      ]
     },
     "execution_count": 29,
     "metadata": {},
     "output_type": "execute_result"
    }
   ],
   "source": [
    "df[\"키\"].unique()"
   ]
  },
  {
   "cell_type": "code",
   "execution_count": 30,
   "metadata": {},
   "outputs": [
    {
     "data": {
      "text/plain": [
       "몸무게\n",
       "50kg        107\n",
       "48kg         89\n",
       "52kg         81\n",
       "55kg         72\n",
       "53kg         70\n",
       "47kg         51\n",
       "46kg         40\n",
       "60kg         38\n",
       "49kg         38\n",
       "54kg         38\n",
       "45kg         38\n",
       "51kg         35\n",
       "56kg         31\n",
       "43kg         31\n",
       "58kg         26\n",
       "57kg         26\n",
       "44kg         15\n",
       "42kg         14\n",
       "63kg         12\n",
       "59kg         11\n",
       "41kg          8\n",
       "65kg          8\n",
       "67kg          7\n",
       "64kg          6\n",
       "62kg          6\n",
       "61kg          6\n",
       "40kg          5\n",
       "38kg          4\n",
       "70kg          4\n",
       "39kg          4\n",
       "66kg          2\n",
       "30kg 이하       2\n",
       "68kg          2\n",
       "35kg          1\n",
       "130kg 이상      1\n",
       "37kg          1\n",
       "69kg          1\n",
       "72kg          1\n",
       "상의 55         1\n",
       "Name: count, dtype: int64"
      ]
     },
     "execution_count": 30,
     "metadata": {},
     "output_type": "execute_result"
    }
   ],
   "source": [
    "df[\"몸무게\"].value_counts()"
   ]
  },
  {
   "cell_type": "code",
   "execution_count": 31,
   "metadata": {},
   "outputs": [
    {
     "data": {
      "text/plain": [
       "count      933\n",
       "unique      39\n",
       "top       50kg\n",
       "freq       107\n",
       "Name: 몸무게, dtype: object"
      ]
     },
     "execution_count": 31,
     "metadata": {},
     "output_type": "execute_result"
    }
   ],
   "source": [
    "df[\"몸무게\"].describe()"
   ]
  },
  {
   "cell_type": "code",
   "execution_count": 32,
   "metadata": {},
   "outputs": [
    {
     "data": {
      "text/plain": [
       "array([nan, '56kg', '58kg', '50kg', '52kg', '48kg', '47kg', '54kg',\n",
       "       '53kg', '55kg', '45kg', '43kg', '51kg', '42kg', '46kg', '130kg 이상',\n",
       "       '61kg', '49kg', '65kg', '35kg', '57kg', '60kg', '64kg', '39kg',\n",
       "       '70kg', '30kg 이하', '68kg', '44kg', '37kg', '41kg', '38kg', '40kg',\n",
       "       '67kg', '59kg', '66kg', '69kg', '63kg', '62kg', '72kg', '상의 55'],\n",
       "      dtype=object)"
      ]
     },
     "execution_count": 32,
     "metadata": {},
     "output_type": "execute_result"
    }
   ],
   "source": [
    "df[\"몸무게\"].unique()"
   ]
  },
  {
   "cell_type": "code",
   "execution_count": 33,
   "metadata": {},
   "outputs": [
    {
     "data": {
      "text/plain": [
       "사이즈\n",
       "상의 55       512\n",
       "상의 44       273\n",
       "상의 66       117\n",
       "상의 77         7\n",
       "상의 33 이하      7\n",
       "상의 88         1\n",
       "Name: count, dtype: int64"
      ]
     },
     "execution_count": 33,
     "metadata": {},
     "output_type": "execute_result"
    }
   ],
   "source": [
    "df[\"사이즈\"].value_counts()"
   ]
  },
  {
   "cell_type": "code",
   "execution_count": 34,
   "metadata": {},
   "outputs": [
    {
     "data": {
      "text/plain": [
       "count       917\n",
       "unique        6\n",
       "top       상의 55\n",
       "freq        512\n",
       "Name: 사이즈, dtype: object"
      ]
     },
     "execution_count": 34,
     "metadata": {},
     "output_type": "execute_result"
    }
   ],
   "source": [
    "df[\"사이즈\"].describe()"
   ]
  },
  {
   "cell_type": "code",
   "execution_count": 35,
   "metadata": {},
   "outputs": [
    {
     "data": {
      "text/plain": [
       "array([nan, '상의 55', '상의 66', '상의 44', '상의 77', '상의 33 이하', '상의 88'],\n",
       "      dtype=object)"
      ]
     },
     "execution_count": 35,
     "metadata": {},
     "output_type": "execute_result"
    }
   ],
   "source": [
    "df[\"사이즈\"].unique()"
   ]
  }
 ],
 "metadata": {
  "kernelspec": {
   "display_name": "project",
   "language": "python",
   "name": "python3"
  },
  "language_info": {
   "codemirror_mode": {
    "name": "ipython",
    "version": 3
   },
   "file_extension": ".py",
   "mimetype": "text/x-python",
   "name": "python",
   "nbconvert_exporter": "python",
   "pygments_lexer": "ipython3",
   "version": "3.10.16"
  }
 },
 "nbformat": 4,
 "nbformat_minor": 2
}
