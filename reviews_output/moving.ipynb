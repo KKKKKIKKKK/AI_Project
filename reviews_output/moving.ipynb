{
 "cells": [
  {
   "cell_type": "markdown",
   "metadata": {},
   "source": [
    "#### 문제점\n",
    "- 1. 0번이 nan 값으로 뽑혀가지고. 1000개를 추출했지만 999개이다. "
   ]
  },
  {
   "cell_type": "code",
   "execution_count": 13,
   "metadata": {},
   "outputs": [],
   "source": [
    "import pandas as pd "
   ]
  },
  {
   "cell_type": "code",
   "execution_count": null,
   "metadata": {},
   "outputs": [],
   "source": []
  },
  {
   "cell_type": "code",
   "execution_count": 14,
   "metadata": {},
   "outputs": [
    {
     "data": {
      "text/html": [
       "<div>\n",
       "<style scoped>\n",
       "    .dataframe tbody tr th:only-of-type {\n",
       "        vertical-align: middle;\n",
       "    }\n",
       "\n",
       "    .dataframe tbody tr th {\n",
       "        vertical-align: top;\n",
       "    }\n",
       "\n",
       "    .dataframe thead th {\n",
       "        text-align: right;\n",
       "    }\n",
       "</style>\n",
       "<table border=\"1\" class=\"dataframe\">\n",
       "  <thead>\n",
       "    <tr style=\"text-align: right;\">\n",
       "      <th></th>\n",
       "      <th>아이디</th>\n",
       "      <th>리뷰어 등급</th>\n",
       "      <th>작성 날짜</th>\n",
       "      <th>옵션1</th>\n",
       "      <th>옵션2</th>\n",
       "      <th>상품 사이즈</th>\n",
       "      <th>퀄리티</th>\n",
       "      <th>색감</th>\n",
       "      <th>키</th>\n",
       "      <th>몸무게</th>\n",
       "      <th>사이즈</th>\n",
       "      <th>리뷰내용</th>\n",
       "    </tr>\n",
       "  </thead>\n",
       "  <tbody>\n",
       "    <tr>\n",
       "      <th>0</th>\n",
       "      <td>나애옷장</td>\n",
       "      <td>상위 1%</td>\n",
       "      <td>25.01.09</td>\n",
       "      <td>[TT037] 보들쫀쫀 끈나시_화이트(골지)</td>\n",
       "      <td>FREE</td>\n",
       "      <td>정사이즈예요</td>\n",
       "      <td>아주 만족해요</td>\n",
       "      <td>화면과 비슷해요</td>\n",
       "      <td>155cm</td>\n",
       "      <td>46kg</td>\n",
       "      <td>NaN</td>\n",
       "      <td>☁️ 믿고 사는 데일리템, 조이조이 보들쫀쫀 골지 나시\\r\\n\\r\\n☁️ 2024....</td>\n",
       "    </tr>\n",
       "    <tr>\n",
       "      <th>1</th>\n",
       "      <td>무민민무</td>\n",
       "      <td>상위 5%</td>\n",
       "      <td>24.07.09</td>\n",
       "      <td>[TT037] 보들쫀쫀 끈나시_단가라</td>\n",
       "      <td>FREE</td>\n",
       "      <td>정사이즈예요</td>\n",
       "      <td>아주 만족해요</td>\n",
       "      <td>화면과 비슷해요</td>\n",
       "      <td>165cm</td>\n",
       "      <td>53kg</td>\n",
       "      <td>상의 55</td>\n",
       "      <td>생각보다 도톰했어요~! 그리고 안에 이너 사야한다는걸 깜빡해서 고냥 끈 풀고 입었는...</td>\n",
       "    </tr>\n",
       "    <tr>\n",
       "      <th>2</th>\n",
       "      <td>5145**</td>\n",
       "      <td>NaN</td>\n",
       "      <td>24.06.24</td>\n",
       "      <td>[TT037] 보들쫀쫀 끈나시_화이트(골지)</td>\n",
       "      <td>FREE</td>\n",
       "      <td>정사이즈예요</td>\n",
       "      <td>아주 만족해요</td>\n",
       "      <td>화면과 비슷해요</td>\n",
       "      <td>160cm</td>\n",
       "      <td>54kg</td>\n",
       "      <td>상의 66</td>\n",
       "      <td>스파오에서 골지 나시를 사서 입어보고 빳빳한 골지에 반해서 더 사려고 했는데 품절이...</td>\n",
       "    </tr>\n",
       "    <tr>\n",
       "      <th>3</th>\n",
       "      <td>k7RVT5WW</td>\n",
       "      <td>NaN</td>\n",
       "      <td>24.06.09</td>\n",
       "      <td>[TT037] 보들쫀쫀 끈나시_단가라</td>\n",
       "      <td>FREE</td>\n",
       "      <td>작아요</td>\n",
       "      <td>아주 만족해요</td>\n",
       "      <td>화면과 비슷해요</td>\n",
       "      <td>158cm</td>\n",
       "      <td>75kg</td>\n",
       "      <td>상의 77</td>\n",
       "      <td>길다는 후기를보고 샀는디..가슴있으신 분들은 더 짧아집니다...생각보다 쫀쫀하고 거...</td>\n",
       "    </tr>\n",
       "    <tr>\n",
       "      <th>4</th>\n",
       "      <td>돈은없지만옷은사고파</td>\n",
       "      <td>상위 5%</td>\n",
       "      <td>24.11.27</td>\n",
       "      <td>[TT037] 보들쫀쫀 끈나시_단가라(★롱기장)</td>\n",
       "      <td>FREE</td>\n",
       "      <td>작아요</td>\n",
       "      <td>아주 만족해요</td>\n",
       "      <td>화면과 비슷해요</td>\n",
       "      <td>165cm</td>\n",
       "      <td>55kg</td>\n",
       "      <td>상의 55</td>\n",
       "      <td>상체 발달형에다가 상체가 짧아서 허리선을 가리면 너무 뚱뚱해보이고 부해보이고 너무 ...</td>\n",
       "    </tr>\n",
       "    <tr>\n",
       "      <th>...</th>\n",
       "      <td>...</td>\n",
       "      <td>...</td>\n",
       "      <td>...</td>\n",
       "      <td>...</td>\n",
       "      <td>...</td>\n",
       "      <td>...</td>\n",
       "      <td>...</td>\n",
       "      <td>...</td>\n",
       "      <td>...</td>\n",
       "      <td>...</td>\n",
       "      <td>...</td>\n",
       "      <td>...</td>\n",
       "    </tr>\n",
       "    <tr>\n",
       "      <th>995</th>\n",
       "      <td>VG1t9uG0</td>\n",
       "      <td>상위 20%</td>\n",
       "      <td>24.04.29</td>\n",
       "      <td>[TT037] 보들쫀쫀 끈나시_단가라(★롱기장)</td>\n",
       "      <td>FREE</td>\n",
       "      <td>정사이즈예요</td>\n",
       "      <td>아주 만족해요</td>\n",
       "      <td>화면과 비슷해요</td>\n",
       "      <td>168cm</td>\n",
       "      <td>54kg</td>\n",
       "      <td>상의 55</td>\n",
       "      <td>탄탄하고 쫀쫀하니 좋아요! 유교걸인데 가디건 안에 받쳐입기에 딱 좋네요! 길이는 고...</td>\n",
       "    </tr>\n",
       "    <tr>\n",
       "      <th>996</th>\n",
       "      <td>SKcBoMJO</td>\n",
       "      <td>NaN</td>\n",
       "      <td>24.04.27</td>\n",
       "      <td>[TT037] 보들쫀쫀 끈나시_그레이(골지)</td>\n",
       "      <td>FREE</td>\n",
       "      <td>정사이즈예요</td>\n",
       "      <td>보통이에요</td>\n",
       "      <td>화면과 비슷해요</td>\n",
       "      <td>171cm</td>\n",
       "      <td>53kg</td>\n",
       "      <td>상의 66</td>\n",
       "      <td>골지는 롱 사이즈가 없어서 기본 사이즈로 구매했습니다 길이가 딱 맞아서 괜찮긴 한데...</td>\n",
       "    </tr>\n",
       "    <tr>\n",
       "      <th>997</th>\n",
       "      <td>2zX0wkcw</td>\n",
       "      <td>NaN</td>\n",
       "      <td>24.04.26</td>\n",
       "      <td>[TT037] 보들쫀쫀 끈나시_단가라(★롱기장)</td>\n",
       "      <td>FREE</td>\n",
       "      <td>정사이즈예요</td>\n",
       "      <td>아주 만족해요</td>\n",
       "      <td>화면과 비슷해요</td>\n",
       "      <td>NaN</td>\n",
       "      <td>NaN</td>\n",
       "      <td>NaN</td>\n",
       "      <td>연베이지 바탕에 블랙 스트라이프가 깔끔하구요 쇄골 아래까지 올라와서 노출 신경 안 ...</td>\n",
       "    </tr>\n",
       "    <tr>\n",
       "      <th>998</th>\n",
       "      <td>2zX0wkcw</td>\n",
       "      <td>NaN</td>\n",
       "      <td>24.04.26</td>\n",
       "      <td>[TT037] 보들쫀쫀 끈나시_화이트(골지)(★롱기장)</td>\n",
       "      <td>FREE</td>\n",
       "      <td>정사이즈예요</td>\n",
       "      <td>아주 만족해요</td>\n",
       "      <td>화면과 비슷해요</td>\n",
       "      <td>NaN</td>\n",
       "      <td>NaN</td>\n",
       "      <td>NaN</td>\n",
       "      <td>화이트 색상만 두 개를 구입했을 정도로 활용도도 높고 기장도 너무나 마음에 듭니다 ...</td>\n",
       "    </tr>\n",
       "    <tr>\n",
       "      <th>999</th>\n",
       "      <td>L1Zqqt1g</td>\n",
       "      <td>상위 5%</td>\n",
       "      <td>24.04.26</td>\n",
       "      <td>[TT037] 보들쫀쫀 끈나시_단가라(★롱기장)</td>\n",
       "      <td>FREE</td>\n",
       "      <td>정사이즈예요</td>\n",
       "      <td>보통이에요</td>\n",
       "      <td>화면과 비슷해요</td>\n",
       "      <td>164cm</td>\n",
       "      <td>52kg</td>\n",
       "      <td>상의 55</td>\n",
       "      <td>롱하기 잘한것같아요.\\r\\n롱도 생각보다 많이 안길고 골반정도 길이감이라서 딱 좋고...</td>\n",
       "    </tr>\n",
       "  </tbody>\n",
       "</table>\n",
       "<p>1000 rows × 12 columns</p>\n",
       "</div>"
      ],
      "text/plain": [
       "            아이디  리뷰어 등급     작성 날짜                             옵션1   옵션2  \\\n",
       "0          나애옷장   상위 1%  25.01.09        [TT037] 보들쫀쫀 끈나시_화이트(골지)  FREE   \n",
       "1          무민민무   상위 5%  24.07.09            [TT037] 보들쫀쫀 끈나시_단가라  FREE   \n",
       "2        5145**     NaN  24.06.24        [TT037] 보들쫀쫀 끈나시_화이트(골지)  FREE   \n",
       "3      k7RVT5WW     NaN  24.06.09            [TT037] 보들쫀쫀 끈나시_단가라  FREE   \n",
       "4    돈은없지만옷은사고파   상위 5%  24.11.27      [TT037] 보들쫀쫀 끈나시_단가라(★롱기장)  FREE   \n",
       "..          ...     ...       ...                             ...   ...   \n",
       "995    VG1t9uG0  상위 20%  24.04.29      [TT037] 보들쫀쫀 끈나시_단가라(★롱기장)  FREE   \n",
       "996    SKcBoMJO     NaN  24.04.27        [TT037] 보들쫀쫀 끈나시_그레이(골지)  FREE   \n",
       "997    2zX0wkcw     NaN  24.04.26      [TT037] 보들쫀쫀 끈나시_단가라(★롱기장)  FREE   \n",
       "998    2zX0wkcw     NaN  24.04.26  [TT037] 보들쫀쫀 끈나시_화이트(골지)(★롱기장)  FREE   \n",
       "999    L1Zqqt1g   상위 5%  24.04.26      [TT037] 보들쫀쫀 끈나시_단가라(★롱기장)  FREE   \n",
       "\n",
       "     상품 사이즈      퀄리티        색감      키   몸무게    사이즈  \\\n",
       "0    정사이즈예요  아주 만족해요  화면과 비슷해요  155cm  46kg    NaN   \n",
       "1    정사이즈예요  아주 만족해요  화면과 비슷해요  165cm  53kg  상의 55   \n",
       "2    정사이즈예요  아주 만족해요  화면과 비슷해요  160cm  54kg  상의 66   \n",
       "3       작아요  아주 만족해요  화면과 비슷해요  158cm  75kg  상의 77   \n",
       "4       작아요  아주 만족해요  화면과 비슷해요  165cm  55kg  상의 55   \n",
       "..      ...      ...       ...    ...   ...    ...   \n",
       "995  정사이즈예요  아주 만족해요  화면과 비슷해요  168cm  54kg  상의 55   \n",
       "996  정사이즈예요    보통이에요  화면과 비슷해요  171cm  53kg  상의 66   \n",
       "997  정사이즈예요  아주 만족해요  화면과 비슷해요    NaN   NaN    NaN   \n",
       "998  정사이즈예요  아주 만족해요  화면과 비슷해요    NaN   NaN    NaN   \n",
       "999  정사이즈예요    보통이에요  화면과 비슷해요  164cm  52kg  상의 55   \n",
       "\n",
       "                                                  리뷰내용  \n",
       "0    ☁️ 믿고 사는 데일리템, 조이조이 보들쫀쫀 골지 나시\\r\\n\\r\\n☁️ 2024....  \n",
       "1    생각보다 도톰했어요~! 그리고 안에 이너 사야한다는걸 깜빡해서 고냥 끈 풀고 입었는...  \n",
       "2    스파오에서 골지 나시를 사서 입어보고 빳빳한 골지에 반해서 더 사려고 했는데 품절이...  \n",
       "3    길다는 후기를보고 샀는디..가슴있으신 분들은 더 짧아집니다...생각보다 쫀쫀하고 거...  \n",
       "4    상체 발달형에다가 상체가 짧아서 허리선을 가리면 너무 뚱뚱해보이고 부해보이고 너무 ...  \n",
       "..                                                 ...  \n",
       "995  탄탄하고 쫀쫀하니 좋아요! 유교걸인데 가디건 안에 받쳐입기에 딱 좋네요! 길이는 고...  \n",
       "996  골지는 롱 사이즈가 없어서 기본 사이즈로 구매했습니다 길이가 딱 맞아서 괜찮긴 한데...  \n",
       "997  연베이지 바탕에 블랙 스트라이프가 깔끔하구요 쇄골 아래까지 올라와서 노출 신경 안 ...  \n",
       "998  화이트 색상만 두 개를 구입했을 정도로 활용도도 높고 기장도 너무나 마음에 듭니다 ...  \n",
       "999  롱하기 잘한것같아요.\\r\\n롱도 생각보다 많이 안길고 골반정도 길이감이라서 딱 좋고...  \n",
       "\n",
       "[1000 rows x 12 columns]"
      ]
     },
     "execution_count": 14,
     "metadata": {},
     "output_type": "execute_result"
    }
   ],
   "source": [
    "df = pd.read_csv(r\"C:\\Users\\asia\\Desktop\\ai_project\\슬리브리스\\슬리브리스_p2_111217060.csv\")\n",
    "df "
   ]
  },
  {
   "cell_type": "code",
   "execution_count": 15,
   "metadata": {},
   "outputs": [
    {
     "data": {
      "text/plain": [
       "리뷰어 등급\n",
       "상위 5%     85\n",
       "상위 15%    78\n",
       "상위 10%    67\n",
       "상위 25%    62\n",
       "상위 20%    60\n",
       "상위 30%    44\n",
       "상위 1%     10\n",
       "탑리뷰어       6\n",
       "Name: count, dtype: int64"
      ]
     },
     "execution_count": 15,
     "metadata": {},
     "output_type": "execute_result"
    }
   ],
   "source": [
    "df[\"리뷰어 등급\"].value_counts()"
   ]
  },
  {
   "cell_type": "code",
   "execution_count": 16,
   "metadata": {},
   "outputs": [
    {
     "data": {
      "text/plain": [
       "옵션1\n",
       "[TT037] 보들쫀쫀 끈나시_단가라              248\n",
       "[TT037] 보들쫀쫀 끈나시_단가라(★롱기장)        119\n",
       "단가라                                85\n",
       "[TT037] 보들쫀쫀 끈나시_화이트(골지)           80\n",
       "[TT037] 보들쫀쫀 끈나시_그레이(골지)           78\n",
       "[TT037] 보들쫀쫀 끈나시_블랙(골지)            49\n",
       "단가라(★롱기장)                          45\n",
       "[TT037] 보들쫀쫀 끈나시_화이트(골지)(★롱기장)     44\n",
       "[TT037] 보들쫀쫀 끈나시_블랙(골지)(★롱기장)      37\n",
       "[TT036] 보들쫀쫀 끈나시_화이트(민자)           34\n",
       "화이트(골지)                            34\n",
       "블랙(골지)                             23\n",
       "그레이(골지)                            22\n",
       "[TT037] 보들쫀쫀 끈나시_화이트(민자)(★롱기장)     15\n",
       "블랙(골지)(★롱기장)                       15\n",
       "[TT036] 보들쫀쫀 끈나시_블랙(민자)            13\n",
       "화이트(골지)(★롱기장)                      13\n",
       "[TT037] 보들쫀쫀 끈나시_블랙(민자)(★롱기장)      10\n",
       "화이트(민자)                             9\n",
       "블랙(민자)                              8\n",
       "[TT036] 보들쫀쫀 끈나시_핑크(민자)             6\n",
       "화이트(민자)(★롱기장)                       3\n",
       "블랙(민자)(★롱기장)                        2\n",
       "스킨(골지)                              2\n",
       "[TT036] 보들쫀쫀 끈나시_베이지(민자)            2\n",
       "핑크(민자)                              1\n",
       "White (Golji)                       1\n",
       "[TT037] 보들쫀쫀 끈나시_스킨(골지)             1\n",
       "베이지(민자)                             1\n",
       "Name: count, dtype: int64"
      ]
     },
     "execution_count": 16,
     "metadata": {},
     "output_type": "execute_result"
    }
   ],
   "source": [
    "df[\"옵션1\"].value_counts()"
   ]
  },
  {
   "cell_type": "code",
   "execution_count": 17,
   "metadata": {},
   "outputs": [
    {
     "data": {
      "text/plain": [
       "옵션2\n",
       "FREE    1000\n",
       "Name: count, dtype: int64"
      ]
     },
     "execution_count": 17,
     "metadata": {},
     "output_type": "execute_result"
    }
   ],
   "source": [
    "df[\"옵션2\"].value_counts()"
   ]
  },
  {
   "cell_type": "code",
   "execution_count": 18,
   "metadata": {},
   "outputs": [
    {
     "data": {
      "text/plain": [
       "count     1000\n",
       "unique       1\n",
       "top       FREE\n",
       "freq      1000\n",
       "Name: 옵션2, dtype: object"
      ]
     },
     "execution_count": 18,
     "metadata": {},
     "output_type": "execute_result"
    }
   ],
   "source": [
    "df[\"옵션2\"].describe()"
   ]
  },
  {
   "cell_type": "code",
   "execution_count": 19,
   "metadata": {},
   "outputs": [
    {
     "data": {
      "text/plain": [
       "array(['FREE'], dtype=object)"
      ]
     },
     "execution_count": 19,
     "metadata": {},
     "output_type": "execute_result"
    }
   ],
   "source": [
    "df[\"옵션2\"].unique()"
   ]
  },
  {
   "cell_type": "code",
   "execution_count": 20,
   "metadata": {},
   "outputs": [
    {
     "data": {
      "text/plain": [
       "상품 사이즈\n",
       "정사이즈예요     916\n",
       "작아요         65\n",
       "생각보다 커요     19\n",
       "Name: count, dtype: int64"
      ]
     },
     "execution_count": 20,
     "metadata": {},
     "output_type": "execute_result"
    }
   ],
   "source": [
    "df[\"상품 사이즈\"].value_counts()"
   ]
  },
  {
   "cell_type": "code",
   "execution_count": 21,
   "metadata": {},
   "outputs": [
    {
     "data": {
      "text/plain": [
       "count       1000\n",
       "unique         3\n",
       "top       정사이즈예요\n",
       "freq         916\n",
       "Name: 상품 사이즈, dtype: object"
      ]
     },
     "execution_count": 21,
     "metadata": {},
     "output_type": "execute_result"
    }
   ],
   "source": [
    "df[\"상품 사이즈\"].describe()"
   ]
  },
  {
   "cell_type": "code",
   "execution_count": 22,
   "metadata": {},
   "outputs": [
    {
     "data": {
      "text/plain": [
       "퀄리티\n",
       "아주 만족해요    644\n",
       "보통이에요      350\n",
       "별로예요         6\n",
       "Name: count, dtype: int64"
      ]
     },
     "execution_count": 22,
     "metadata": {},
     "output_type": "execute_result"
    }
   ],
   "source": [
    "df[\"퀄리티\"].value_counts()\n"
   ]
  },
  {
   "cell_type": "code",
   "execution_count": 10,
   "metadata": {},
   "outputs": [
    {
     "data": {
      "text/plain": [
       "count        1000\n",
       "unique          3\n",
       "top       아주 만족해요\n",
       "freq          644\n",
       "Name: 퀄리티, dtype: object"
      ]
     },
     "execution_count": 10,
     "metadata": {},
     "output_type": "execute_result"
    }
   ],
   "source": [
    "df[\"퀄리티\"].describe()"
   ]
  },
  {
   "cell_type": "code",
   "execution_count": 22,
   "metadata": {},
   "outputs": [
    {
     "data": {
      "text/plain": [
       "array([nan, '보통이에요', '아주 만족해요', '별로예요'], dtype=object)"
      ]
     },
     "execution_count": 22,
     "metadata": {},
     "output_type": "execute_result"
    }
   ],
   "source": [
    "df[\"퀄리티\"].unique()"
   ]
  },
  {
   "cell_type": "code",
   "execution_count": 23,
   "metadata": {},
   "outputs": [
    {
     "data": {
      "text/plain": [
       "색감\n",
       "화면과 비슷해요     985\n",
       "화면보다 어두워요     12\n",
       "화면보다 밝아요       2\n",
       "Name: count, dtype: int64"
      ]
     },
     "execution_count": 23,
     "metadata": {},
     "output_type": "execute_result"
    }
   ],
   "source": [
    "\n",
    "df[\"색감\"].value_counts()"
   ]
  },
  {
   "cell_type": "code",
   "execution_count": 24,
   "metadata": {},
   "outputs": [
    {
     "data": {
      "text/plain": [
       "count          999\n",
       "unique           3\n",
       "top       화면과 비슷해요\n",
       "freq           985\n",
       "Name: 색감, dtype: object"
      ]
     },
     "execution_count": 24,
     "metadata": {},
     "output_type": "execute_result"
    }
   ],
   "source": [
    "df[\"색감\"].describe()"
   ]
  },
  {
   "cell_type": "code",
   "execution_count": 25,
   "metadata": {},
   "outputs": [
    {
     "data": {
      "text/plain": [
       "array([nan, '화면과 비슷해요', '화면보다 어두워요', '화면보다 밝아요'], dtype=object)"
      ]
     },
     "execution_count": 25,
     "metadata": {},
     "output_type": "execute_result"
    }
   ],
   "source": [
    "df[\"색감\"].unique()"
   ]
  },
  {
   "cell_type": "code",
   "execution_count": 27,
   "metadata": {},
   "outputs": [
    {
     "data": {
      "text/plain": [
       "키\n",
       "160cm       111\n",
       "158cm        88\n",
       "163cm        83\n",
       "164cm        74\n",
       "159cm        65\n",
       "162cm        53\n",
       "168cm        51\n",
       "165cm        49\n",
       "161cm        48\n",
       "166cm        46\n",
       "156cm        40\n",
       "157cm        37\n",
       "167cm        33\n",
       "155cm        31\n",
       "153cm        26\n",
       "170cm        20\n",
       "169cm        20\n",
       "154cm        18\n",
       "172cm        10\n",
       "171cm         8\n",
       "173cm         6\n",
       "152cm         6\n",
       "150cm         6\n",
       "151cm         4\n",
       "175cm         3\n",
       "148cm         1\n",
       "130cm 이하      1\n",
       "174cm         1\n",
       "Name: count, dtype: int64"
      ]
     },
     "execution_count": 27,
     "metadata": {},
     "output_type": "execute_result"
    }
   ],
   "source": [
    "df[\"키\"].value_counts()"
   ]
  },
  {
   "cell_type": "code",
   "execution_count": 28,
   "metadata": {},
   "outputs": [
    {
     "data": {
      "text/plain": [
       "count       939\n",
       "unique       28\n",
       "top       160cm\n",
       "freq        111\n",
       "Name: 키, dtype: object"
      ]
     },
     "execution_count": 28,
     "metadata": {},
     "output_type": "execute_result"
    }
   ],
   "source": [
    "df[\"키\"].describe()"
   ]
  },
  {
   "cell_type": "code",
   "execution_count": 29,
   "metadata": {},
   "outputs": [
    {
     "data": {
      "text/plain": [
       "array([nan, '164cm', '163cm', '156cm', '167cm', '155cm', '161cm', '166cm',\n",
       "       '170cm', '159cm', '162cm', '160cm', '168cm', '153cm', '173cm',\n",
       "       '169cm', '157cm', '158cm', '165cm', '154cm', '172cm', '171cm',\n",
       "       '152cm', '175cm', '151cm', '150cm', '148cm', '130cm 이하', '174cm'],\n",
       "      dtype=object)"
      ]
     },
     "execution_count": 29,
     "metadata": {},
     "output_type": "execute_result"
    }
   ],
   "source": [
    "df[\"키\"].unique()"
   ]
  },
  {
   "cell_type": "code",
   "execution_count": 30,
   "metadata": {},
   "outputs": [
    {
     "data": {
      "text/plain": [
       "몸무게\n",
       "50kg        107\n",
       "48kg         89\n",
       "52kg         81\n",
       "55kg         72\n",
       "53kg         70\n",
       "47kg         51\n",
       "46kg         40\n",
       "60kg         38\n",
       "49kg         38\n",
       "54kg         38\n",
       "45kg         38\n",
       "51kg         35\n",
       "56kg         31\n",
       "43kg         31\n",
       "58kg         26\n",
       "57kg         26\n",
       "44kg         15\n",
       "42kg         14\n",
       "63kg         12\n",
       "59kg         11\n",
       "41kg          8\n",
       "65kg          8\n",
       "67kg          7\n",
       "64kg          6\n",
       "62kg          6\n",
       "61kg          6\n",
       "40kg          5\n",
       "38kg          4\n",
       "70kg          4\n",
       "39kg          4\n",
       "66kg          2\n",
       "30kg 이하       2\n",
       "68kg          2\n",
       "35kg          1\n",
       "130kg 이상      1\n",
       "37kg          1\n",
       "69kg          1\n",
       "72kg          1\n",
       "상의 55         1\n",
       "Name: count, dtype: int64"
      ]
     },
     "execution_count": 30,
     "metadata": {},
     "output_type": "execute_result"
    }
   ],
   "source": [
    "df[\"몸무게\"].value_counts()"
   ]
  },
  {
   "cell_type": "code",
   "execution_count": 31,
   "metadata": {},
   "outputs": [
    {
     "data": {
      "text/plain": [
       "count      933\n",
       "unique      39\n",
       "top       50kg\n",
       "freq       107\n",
       "Name: 몸무게, dtype: object"
      ]
     },
     "execution_count": 31,
     "metadata": {},
     "output_type": "execute_result"
    }
   ],
   "source": [
    "df[\"몸무게\"].describe()"
   ]
  },
  {
   "cell_type": "code",
   "execution_count": 32,
   "metadata": {},
   "outputs": [
    {
     "data": {
      "text/plain": [
       "array([nan, '56kg', '58kg', '50kg', '52kg', '48kg', '47kg', '54kg',\n",
       "       '53kg', '55kg', '45kg', '43kg', '51kg', '42kg', '46kg', '130kg 이상',\n",
       "       '61kg', '49kg', '65kg', '35kg', '57kg', '60kg', '64kg', '39kg',\n",
       "       '70kg', '30kg 이하', '68kg', '44kg', '37kg', '41kg', '38kg', '40kg',\n",
       "       '67kg', '59kg', '66kg', '69kg', '63kg', '62kg', '72kg', '상의 55'],\n",
       "      dtype=object)"
      ]
     },
     "execution_count": 32,
     "metadata": {},
     "output_type": "execute_result"
    }
   ],
   "source": [
    "df[\"몸무게\"].unique()"
   ]
  },
  {
   "cell_type": "code",
   "execution_count": 33,
   "metadata": {},
   "outputs": [
    {
     "data": {
      "text/plain": [
       "사이즈\n",
       "상의 55       512\n",
       "상의 44       273\n",
       "상의 66       117\n",
       "상의 77         7\n",
       "상의 33 이하      7\n",
       "상의 88         1\n",
       "Name: count, dtype: int64"
      ]
     },
     "execution_count": 33,
     "metadata": {},
     "output_type": "execute_result"
    }
   ],
   "source": [
    "df[\"사이즈\"].value_counts()"
   ]
  },
  {
   "cell_type": "code",
   "execution_count": 34,
   "metadata": {},
   "outputs": [
    {
     "data": {
      "text/plain": [
       "count       917\n",
       "unique        6\n",
       "top       상의 55\n",
       "freq        512\n",
       "Name: 사이즈, dtype: object"
      ]
     },
     "execution_count": 34,
     "metadata": {},
     "output_type": "execute_result"
    }
   ],
   "source": [
    "df[\"사이즈\"].describe()"
   ]
  },
  {
   "cell_type": "code",
   "execution_count": 35,
   "metadata": {},
   "outputs": [
    {
     "data": {
      "text/plain": [
       "array([nan, '상의 55', '상의 66', '상의 44', '상의 77', '상의 33 이하', '상의 88'],\n",
       "      dtype=object)"
      ]
     },
     "execution_count": 35,
     "metadata": {},
     "output_type": "execute_result"
    }
   ],
   "source": [
    "df[\"사이즈\"].unique()"
   ]
  }
 ],
 "metadata": {
  "kernelspec": {
   "display_name": "project",
   "language": "python",
   "name": "python3"
  },
  "language_info": {
   "codemirror_mode": {
    "name": "ipython",
    "version": 3
   },
   "file_extension": ".py",
   "mimetype": "text/x-python",
   "name": "python",
   "nbconvert_exporter": "python",
   "pygments_lexer": "ipython3",
   "version": "3.10.16"
  }
 },
 "nbformat": 4,
 "nbformat_minor": 2
}
