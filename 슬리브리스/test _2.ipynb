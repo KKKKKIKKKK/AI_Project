{
 "cells": [
  {
   "cell_type": "markdown",
   "metadata": {},
   "source": [
    "#### 문제점\n",
    "- 1. 0번이 nan 값으로 뽑혀가지고. 1000개를 추출했지만 999개이다. "
   ]
  },
  {
   "cell_type": "code",
<<<<<<< HEAD
   "execution_count": 1,
=======
   "execution_count": 272,
>>>>>>> fd4b014bf4a65a0f549115112bb1032f653b5e74
   "metadata": {},
   "outputs": [],
   "source": [
    "import pandas as pd "
   ]
  },
  {
<<<<<<< HEAD
   "cell_type": "markdown",
   "metadata": {},
   "source": []
  },
  {
   "cell_type": "code",
   "execution_count": null,
=======
   "cell_type": "code",
   "execution_count": 273,
>>>>>>> fd4b014bf4a65a0f549115112bb1032f653b5e74
   "metadata": {},
   "outputs": [
    {
     "data": {
      "text/html": [
       "<div>\n",
       "<style scoped>\n",
       "    .dataframe tbody tr th:only-of-type {\n",
       "        vertical-align: middle;\n",
       "    }\n",
       "\n",
       "    .dataframe tbody tr th {\n",
       "        vertical-align: top;\n",
       "    }\n",
       "\n",
       "    .dataframe thead th {\n",
       "        text-align: right;\n",
       "    }\n",
       "</style>\n",
       "<table border=\"1\" class=\"dataframe\">\n",
       "  <thead>\n",
       "    <tr style=\"text-align: right;\">\n",
       "      <th></th>\n",
       "      <th>아이디</th>\n",
       "      <th>리뷰어 등급</th>\n",
       "      <th>작성 날짜</th>\n",
       "      <th>옵션1</th>\n",
       "      <th>옵션2</th>\n",
       "      <th>상품 사이즈</th>\n",
       "      <th>퀄리티</th>\n",
       "      <th>색감</th>\n",
       "      <th>키</th>\n",
       "      <th>몸무게</th>\n",
       "      <th>사이즈</th>\n",
       "      <th>리뷰내용</th>\n",
       "    </tr>\n",
       "  </thead>\n",
       "  <tbody>\n",
       "    <tr>\n",
       "      <th>0</th>\n",
       "      <td>NaN</td>\n",
       "      <td>NaN</td>\n",
       "      <td>NaN</td>\n",
       "      <td>NaN</td>\n",
       "      <td>NaN</td>\n",
       "      <td>NaN</td>\n",
       "      <td>NaN</td>\n",
       "      <td>NaN</td>\n",
       "      <td>NaN</td>\n",
       "      <td>NaN</td>\n",
       "      <td>NaN</td>\n",
       "      <td>NaN</td>\n",
       "    </tr>\n",
       "    <tr>\n",
       "      <th>1</th>\n",
       "      <td>nxxhee</td>\n",
       "      <td>탑리뷰어</td>\n",
       "      <td>24.11.27</td>\n",
       "      <td>(롱ver)아이보리</td>\n",
       "      <td>one size</td>\n",
       "      <td>정사이즈예요</td>\n",
       "      <td>보통이에요</td>\n",
       "      <td>화면과 비슷해요</td>\n",
       "      <td>164cm</td>\n",
       "      <td>56kg</td>\n",
       "      <td>상의 55</td>\n",
<<<<<<< HEAD
       "      <td>제 인생은 캡나시 알기 전과 후로 나뉩니다,,\\nZZIZZI가 작아서 그런지 모르겠...</td>\n",
=======
       "      <td>제 인생은 캡나시 알기 전과 후로 나뉩니다,,\\r\\nZZIZZI가 작아서 그런지 모...</td>\n",
>>>>>>> fd4b014bf4a65a0f549115112bb1032f653b5e74
       "    </tr>\n",
       "    <tr>\n",
       "      <th>2</th>\n",
       "      <td>u2QwGGfF</td>\n",
       "      <td>NaN</td>\n",
       "      <td>24.07.07</td>\n",
       "      <td>블랙</td>\n",
       "      <td>L</td>\n",
       "      <td>정사이즈예요</td>\n",
       "      <td>아주 만족해요</td>\n",
       "      <td>화면과 비슷해요</td>\n",
       "      <td>163cm</td>\n",
       "      <td>58kg</td>\n",
       "      <td>상의 66</td>\n",
       "      <td>L사이즈가 있길래 직잭배송으로 구매했더니 아침에 바로 입어볼 수 있었네요ㅎㅎ L사이...</td>\n",
       "    </tr>\n",
       "    <tr>\n",
       "      <th>3</th>\n",
       "      <td>WMKwL2mc</td>\n",
       "      <td>NaN</td>\n",
       "      <td>24.06.26</td>\n",
       "      <td>(롱롱ver)블랙</td>\n",
       "      <td>one size</td>\n",
       "      <td>정사이즈예요</td>\n",
       "      <td>아주 만족해요</td>\n",
       "      <td>화면과 비슷해요</td>\n",
       "      <td>156cm</td>\n",
       "      <td>50kg</td>\n",
       "      <td>상의 55</td>\n",
       "      <td>이가격에, 이 옵션 수에, 이런 총알배송??? 만족도 최상. 당장 사십시오. 저는 ...</td>\n",
       "    </tr>\n",
       "    <tr>\n",
       "      <th>4</th>\n",
       "      <td>HCi3CFRP</td>\n",
       "      <td>NaN</td>\n",
       "      <td>25.01.09</td>\n",
       "      <td>(기모롱ver)베이지</td>\n",
       "      <td>one size</td>\n",
       "      <td>정사이즈예요</td>\n",
       "      <td>아주 만족해요</td>\n",
       "      <td>화면과 비슷해요</td>\n",
       "      <td>167cm</td>\n",
       "      <td>52kg</td>\n",
       "      <td>상의 55</td>\n",
<<<<<<< HEAD
       "      <td>가격대비 품질이 너무 좋네요. \\n셔링들어간 건 처음입는데 몸라인이 정말 예뻐보여요...</td>\n",
=======
       "      <td>가격대비 품질이 너무 좋네요. \\r\\n셔링들어간 건 처음입는데 몸라인이 정말 예뻐보...</td>\n",
>>>>>>> fd4b014bf4a65a0f549115112bb1032f653b5e74
       "    </tr>\n",
       "    <tr>\n",
       "      <th>...</th>\n",
       "      <td>...</td>\n",
       "      <td>...</td>\n",
       "      <td>...</td>\n",
       "      <td>...</td>\n",
       "      <td>...</td>\n",
       "      <td>...</td>\n",
       "      <td>...</td>\n",
       "      <td>...</td>\n",
       "      <td>...</td>\n",
       "      <td>...</td>\n",
       "      <td>...</td>\n",
       "      <td>...</td>\n",
       "    </tr>\n",
       "    <tr>\n",
       "      <th>995</th>\n",
       "      <td>XaE4oG2g</td>\n",
       "      <td>상위 30%</td>\n",
       "      <td>24.10.17</td>\n",
       "      <td>아이보리</td>\n",
       "      <td>one size</td>\n",
       "      <td>정사이즈예요</td>\n",
       "      <td>보통이에요</td>\n",
       "      <td>화면과 비슷해요</td>\n",
       "      <td>156cm</td>\n",
       "      <td>48kg</td>\n",
       "      <td>상의 55</td>\n",
<<<<<<< HEAD
       "      <td>75B 가슴이 조금 쳐진 스타일입니다🙈\\n단독으로 입는 게 맞겠죠?\\n절대 가슴 지...</td>\n",
=======
       "      <td>75B 가슴이 조금 쳐진 스타일입니다🙈\\r\\n단독으로 입는 게 맞겠죠?\\r\\n절대 ...</td>\n",
>>>>>>> fd4b014bf4a65a0f549115112bb1032f653b5e74
       "    </tr>\n",
       "    <tr>\n",
       "      <th>996</th>\n",
       "      <td>jliPGve6</td>\n",
       "      <td>상위 15%</td>\n",
       "      <td>24.10.10</td>\n",
       "      <td>아이보리</td>\n",
       "      <td>one size</td>\n",
       "      <td>정사이즈예요</td>\n",
       "      <td>보통이에요</td>\n",
       "      <td>화면과 비슷해요</td>\n",
       "      <td>165cm</td>\n",
       "      <td>52kg</td>\n",
       "      <td>상의 55</td>\n",
<<<<<<< HEAD
       "      <td>받았을 때 좀 작아보였는데\\n막상 입으니까 속옷 안입고 요거만 입어도 핏도 괜찮고\\...</td>\n",
=======
       "      <td>받았을 때 좀 작아보였는데\\r\\n막상 입으니까 속옷 안입고 요거만 입어도 핏도 괜찮...</td>\n",
>>>>>>> fd4b014bf4a65a0f549115112bb1032f653b5e74
       "    </tr>\n",
       "    <tr>\n",
       "      <th>997</th>\n",
       "      <td>orDbsTqv</td>\n",
       "      <td>상위 30%</td>\n",
       "      <td>24.10.02</td>\n",
       "      <td>(롱ver)그레이</td>\n",
       "      <td>one size</td>\n",
       "      <td>정사이즈예요</td>\n",
       "      <td>아주 만족해요</td>\n",
       "      <td>화면과 비슷해요</td>\n",
       "      <td>164cm</td>\n",
       "      <td>51kg</td>\n",
       "      <td>상의 44</td>\n",
       "      <td>끈이 얇아서 몇번 입고 나면 뜯어진다는 타사 제품들도 많은데 여기꺼는 아무리 입고 ...</td>\n",
       "    </tr>\n",
       "    <tr>\n",
       "      <th>998</th>\n",
       "      <td>zjqdiPmt</td>\n",
       "      <td>NaN</td>\n",
       "      <td>24.09.14</td>\n",
       "      <td>(롱ver)크림</td>\n",
       "      <td>one size</td>\n",
       "      <td>정사이즈예요</td>\n",
       "      <td>아주 만족해요</td>\n",
       "      <td>화면과 비슷해요</td>\n",
       "      <td>159cm</td>\n",
       "      <td>55kg</td>\n",
       "      <td>상의 55</td>\n",
<<<<<<< HEAD
       "      <td>후기가 좋아서 구매하려보니 다 품절이더라고요ㅠㅠ\\n재고 있는거로 시켰는데 너무 예뻐...</td>\n",
=======
       "      <td>후기가 좋아서 구매하려보니 다 품절이더라고요ㅠㅠ\\r\\n재고 있는거로 시켰는데 너무 ...</td>\n",
>>>>>>> fd4b014bf4a65a0f549115112bb1032f653b5e74
       "    </tr>\n",
       "    <tr>\n",
       "      <th>999</th>\n",
       "      <td>0814***</td>\n",
       "      <td>NaN</td>\n",
       "      <td>24.09.09</td>\n",
       "      <td>(롱ver)블랙</td>\n",
       "      <td>one size</td>\n",
       "      <td>작아요</td>\n",
       "      <td>별로예요</td>\n",
       "      <td>화면과 비슷해요</td>\n",
       "      <td>NaN</td>\n",
       "      <td>NaN</td>\n",
       "      <td>NaN</td>\n",
<<<<<<< HEAD
       "      <td>냄새 심각합니다\\n지그재그 첫 이용해봤는데 많이 실망이네요\\n뭐 중국 사이트에서 구...</td>\n",
=======
       "      <td>냄새 심각합니다\\r\\n지그재그 첫 이용해봤는데 많이 실망이네요\\r\\n뭐 중국 사이트...</td>\n",
>>>>>>> fd4b014bf4a65a0f549115112bb1032f653b5e74
       "    </tr>\n",
       "  </tbody>\n",
       "</table>\n",
       "<p>1000 rows × 12 columns</p>\n",
       "</div>"
      ],
      "text/plain": [
       "          아이디  리뷰어 등급     작성 날짜          옵션1       옵션2  상품 사이즈      퀄리티  \\\n",
       "0         NaN     NaN       NaN          NaN       NaN     NaN      NaN   \n",
       "1      nxxhee    탑리뷰어  24.11.27   (롱ver)아이보리  one size  정사이즈예요    보통이에요   \n",
       "2    u2QwGGfF     NaN  24.07.07           블랙         L  정사이즈예요  아주 만족해요   \n",
       "3    WMKwL2mc     NaN  24.06.26    (롱롱ver)블랙  one size  정사이즈예요  아주 만족해요   \n",
       "4    HCi3CFRP     NaN  25.01.09  (기모롱ver)베이지  one size  정사이즈예요  아주 만족해요   \n",
       "..        ...     ...       ...          ...       ...     ...      ...   \n",
       "995  XaE4oG2g  상위 30%  24.10.17         아이보리  one size  정사이즈예요    보통이에요   \n",
       "996  jliPGve6  상위 15%  24.10.10         아이보리  one size  정사이즈예요    보통이에요   \n",
       "997  orDbsTqv  상위 30%  24.10.02    (롱ver)그레이  one size  정사이즈예요  아주 만족해요   \n",
       "998  zjqdiPmt     NaN  24.09.14     (롱ver)크림  one size  정사이즈예요  아주 만족해요   \n",
       "999   0814***     NaN  24.09.09     (롱ver)블랙  one size     작아요     별로예요   \n",
       "\n",
       "           색감      키   몸무게    사이즈  \\\n",
       "0         NaN    NaN   NaN    NaN   \n",
       "1    화면과 비슷해요  164cm  56kg  상의 55   \n",
       "2    화면과 비슷해요  163cm  58kg  상의 66   \n",
       "3    화면과 비슷해요  156cm  50kg  상의 55   \n",
       "4    화면과 비슷해요  167cm  52kg  상의 55   \n",
       "..        ...    ...   ...    ...   \n",
       "995  화면과 비슷해요  156cm  48kg  상의 55   \n",
       "996  화면과 비슷해요  165cm  52kg  상의 55   \n",
       "997  화면과 비슷해요  164cm  51kg  상의 44   \n",
       "998  화면과 비슷해요  159cm  55kg  상의 55   \n",
       "999  화면과 비슷해요    NaN   NaN    NaN   \n",
       "\n",
       "                                                  리뷰내용  \n",
       "0                                                  NaN  \n",
<<<<<<< HEAD
       "1    제 인생은 캡나시 알기 전과 후로 나뉩니다,,\\nZZIZZI가 작아서 그런지 모르겠...  \n",
       "2    L사이즈가 있길래 직잭배송으로 구매했더니 아침에 바로 입어볼 수 있었네요ㅎㅎ L사이...  \n",
       "3    이가격에, 이 옵션 수에, 이런 총알배송??? 만족도 최상. 당장 사십시오. 저는 ...  \n",
       "4    가격대비 품질이 너무 좋네요. \\n셔링들어간 건 처음입는데 몸라인이 정말 예뻐보여요...  \n",
       "..                                                 ...  \n",
       "995  75B 가슴이 조금 쳐진 스타일입니다🙈\\n단독으로 입는 게 맞겠죠?\\n절대 가슴 지...  \n",
       "996  받았을 때 좀 작아보였는데\\n막상 입으니까 속옷 안입고 요거만 입어도 핏도 괜찮고\\...  \n",
       "997  끈이 얇아서 몇번 입고 나면 뜯어진다는 타사 제품들도 많은데 여기꺼는 아무리 입고 ...  \n",
       "998  후기가 좋아서 구매하려보니 다 품절이더라고요ㅠㅠ\\n재고 있는거로 시켰는데 너무 예뻐...  \n",
       "999  냄새 심각합니다\\n지그재그 첫 이용해봤는데 많이 실망이네요\\n뭐 중국 사이트에서 구...  \n",
=======
       "1    제 인생은 캡나시 알기 전과 후로 나뉩니다,,\\r\\nZZIZZI가 작아서 그런지 모...  \n",
       "2    L사이즈가 있길래 직잭배송으로 구매했더니 아침에 바로 입어볼 수 있었네요ㅎㅎ L사이...  \n",
       "3    이가격에, 이 옵션 수에, 이런 총알배송??? 만족도 최상. 당장 사십시오. 저는 ...  \n",
       "4    가격대비 품질이 너무 좋네요. \\r\\n셔링들어간 건 처음입는데 몸라인이 정말 예뻐보...  \n",
       "..                                                 ...  \n",
       "995  75B 가슴이 조금 쳐진 스타일입니다🙈\\r\\n단독으로 입는 게 맞겠죠?\\r\\n절대 ...  \n",
       "996  받았을 때 좀 작아보였는데\\r\\n막상 입으니까 속옷 안입고 요거만 입어도 핏도 괜찮...  \n",
       "997  끈이 얇아서 몇번 입고 나면 뜯어진다는 타사 제품들도 많은데 여기꺼는 아무리 입고 ...  \n",
       "998  후기가 좋아서 구매하려보니 다 품절이더라고요ㅠㅠ\\r\\n재고 있는거로 시켰는데 너무 ...  \n",
       "999  냄새 심각합니다\\r\\n지그재그 첫 이용해봤는데 많이 실망이네요\\r\\n뭐 중국 사이트...  \n",
>>>>>>> fd4b014bf4a65a0f549115112bb1032f653b5e74
       "\n",
       "[1000 rows x 12 columns]"
      ]
     },
<<<<<<< HEAD
     "execution_count": 2,
=======
     "execution_count": 273,
>>>>>>> fd4b014bf4a65a0f549115112bb1032f653b5e74
     "metadata": {},
     "output_type": "execute_result"
    }
   ],
   "source": [
<<<<<<< HEAD
    "df = pd.read_csv(\"슬리브리스_p4_106642729.csv\")\n",
=======
    "df = pd.read_csv(\"슬리브리스_p1_112538672.csv\")\n",
>>>>>>> fd4b014bf4a65a0f549115112bb1032f653b5e74
    "df"
   ]
  },
  {
<<<<<<< HEAD
   "cell_type": "markdown",
   "metadata": {},
   "source": [
    "### 상의 칼럼에서 숫자만 남기고 삭제 "
   ]
  },
  {
   "cell_type": "code",
   "execution_count": 11,
=======
   "cell_type": "code",
   "execution_count": 274,
>>>>>>> fd4b014bf4a65a0f549115112bb1032f653b5e74
   "metadata": {},
   "outputs": [
    {
     "name": "stdout",
     "output_type": "stream",
     "text": [
<<<<<<< HEAD
      "0    NaN\n",
      "1     55\n",
      "2     66\n",
      "3     55\n",
      "4     55\n",
      "Name: 사이즈, dtype: object\n"
=======
      "     사이즈  옷종류 사이즈번호\n",
      "0    NaN  NaN   NaN\n",
      "1  상의 55  상의     55\n",
      "2  상의 66  상의     66\n",
      "3  상의 55  상의     55\n",
      "4  상의 55  상의     55\n"
>>>>>>> fd4b014bf4a65a0f549115112bb1032f653b5e74
     ]
    }
   ],
   "source": [
    "# '사이즈' 열에서 옷종류와 사이즈번호 분리하여 새로운 데이터프레임 df1에 저장\n",
    "df1 = df.copy()  # 원본 df를 복사하여 df1 생성\n",
<<<<<<< HEAD
    "df['사이즈'] = df['사이즈'].str.replace(r'\\D+', '', regex=True)\n",
    "\n",
    "# 결과 확인\n",
    "print(df1['사이즈'].head())"
=======
    "df1[['옷종류', '사이즈번호']] = df1['사이즈'].str.extract(r'(\\D+)(\\d+)', expand=True)\n",
    "\n",
    "# 결과 확인\n",
    "print(df1[['사이즈', '옷종류', '사이즈번호']].head())"
>>>>>>> fd4b014bf4a65a0f549115112bb1032f653b5e74
   ]
  },
  {
   "cell_type": "code",
<<<<<<< HEAD
   "execution_count": 12,
=======
   "execution_count": 275,
>>>>>>> fd4b014bf4a65a0f549115112bb1032f653b5e74
   "metadata": {},
   "outputs": [
    {
     "name": "stdout",
     "output_type": "stream",
     "text": [
      "<class 'pandas.core.frame.DataFrame'>\n",
      "RangeIndex: 1000 entries, 0 to 999\n",
<<<<<<< HEAD
      "Data columns (total 12 columns):\n",
=======
      "Data columns (total 14 columns):\n",
>>>>>>> fd4b014bf4a65a0f549115112bb1032f653b5e74
      " #   Column  Non-Null Count  Dtype \n",
      "---  ------  --------------  ----- \n",
      " 0   아이디     999 non-null    object\n",
      " 1   리뷰어 등급  482 non-null    object\n",
      " 2   작성 날짜   999 non-null    object\n",
      " 3   옵션1     999 non-null    object\n",
      " 4   옵션2     999 non-null    object\n",
      " 5   상품 사이즈  999 non-null    object\n",
      " 6   퀄리티     999 non-null    object\n",
      " 7   색감      999 non-null    object\n",
      " 8   키       939 non-null    object\n",
      " 9   몸무게     933 non-null    object\n",
      " 10  사이즈     917 non-null    object\n",
      " 11  리뷰내용    999 non-null    object\n",
<<<<<<< HEAD
      "dtypes: object(12)\n",
      "memory usage: 93.9+ KB\n"
=======
      " 12  옷종류     917 non-null    object\n",
      " 13  사이즈번호   917 non-null    object\n",
      "dtypes: object(14)\n",
      "memory usage: 109.5+ KB\n"
>>>>>>> fd4b014bf4a65a0f549115112bb1032f653b5e74
     ]
    }
   ],
   "source": [
    "df1.info()"
   ]
  },
  {
   "cell_type": "code",
<<<<<<< HEAD
   "execution_count": 13,
=======
   "execution_count": 276,
>>>>>>> fd4b014bf4a65a0f549115112bb1032f653b5e74
   "metadata": {},
   "outputs": [
    {
     "data": {
      "text/html": [
       "<div>\n",
       "<style scoped>\n",
       "    .dataframe tbody tr th:only-of-type {\n",
       "        vertical-align: middle;\n",
       "    }\n",
       "\n",
       "    .dataframe tbody tr th {\n",
       "        vertical-align: top;\n",
       "    }\n",
       "\n",
       "    .dataframe thead th {\n",
       "        text-align: right;\n",
       "    }\n",
       "</style>\n",
       "<table border=\"1\" class=\"dataframe\">\n",
       "  <thead>\n",
       "    <tr style=\"text-align: right;\">\n",
       "      <th></th>\n",
       "      <th>아이디</th>\n",
       "      <th>리뷰어 등급</th>\n",
       "      <th>작성 날짜</th>\n",
       "      <th>옵션1</th>\n",
       "      <th>옵션2</th>\n",
       "      <th>상품 사이즈</th>\n",
       "      <th>퀄리티</th>\n",
       "      <th>색감</th>\n",
       "      <th>키</th>\n",
       "      <th>몸무게</th>\n",
       "      <th>사이즈</th>\n",
       "      <th>리뷰내용</th>\n",
<<<<<<< HEAD
=======
       "      <th>옷종류</th>\n",
       "      <th>사이즈번호</th>\n",
>>>>>>> fd4b014bf4a65a0f549115112bb1032f653b5e74
       "    </tr>\n",
       "  </thead>\n",
       "  <tbody>\n",
       "    <tr>\n",
       "      <th>0</th>\n",
       "      <td>NaN</td>\n",
       "      <td>NaN</td>\n",
       "      <td>NaN</td>\n",
       "      <td>NaN</td>\n",
       "      <td>NaN</td>\n",
       "      <td>NaN</td>\n",
       "      <td>NaN</td>\n",
       "      <td>NaN</td>\n",
       "      <td>NaN</td>\n",
       "      <td>NaN</td>\n",
       "      <td>NaN</td>\n",
       "      <td>NaN</td>\n",
<<<<<<< HEAD
=======
       "      <td>NaN</td>\n",
       "      <td>NaN</td>\n",
>>>>>>> fd4b014bf4a65a0f549115112bb1032f653b5e74
       "    </tr>\n",
       "    <tr>\n",
       "      <th>1</th>\n",
       "      <td>nxxhee</td>\n",
       "      <td>탑리뷰어</td>\n",
       "      <td>24.11.27</td>\n",
       "      <td>(롱ver)아이보리</td>\n",
       "      <td>one size</td>\n",
       "      <td>정사이즈예요</td>\n",
       "      <td>보통이에요</td>\n",
       "      <td>화면과 비슷해요</td>\n",
       "      <td>164cm</td>\n",
       "      <td>56kg</td>\n",
<<<<<<< HEAD
       "      <td>55</td>\n",
       "      <td>제 인생은 캡나시 알기 전과 후로 나뉩니다,,\\nZZIZZI가 작아서 그런지 모르겠...</td>\n",
=======
       "      <td>상의 55</td>\n",
       "      <td>제 인생은 캡나시 알기 전과 후로 나뉩니다,,\\r\\nZZIZZI가 작아서 그런지 모...</td>\n",
       "      <td>상의</td>\n",
       "      <td>55</td>\n",
>>>>>>> fd4b014bf4a65a0f549115112bb1032f653b5e74
       "    </tr>\n",
       "    <tr>\n",
       "      <th>2</th>\n",
       "      <td>u2QwGGfF</td>\n",
       "      <td>NaN</td>\n",
       "      <td>24.07.07</td>\n",
       "      <td>블랙</td>\n",
       "      <td>L</td>\n",
       "      <td>정사이즈예요</td>\n",
       "      <td>아주 만족해요</td>\n",
       "      <td>화면과 비슷해요</td>\n",
       "      <td>163cm</td>\n",
       "      <td>58kg</td>\n",
<<<<<<< HEAD
       "      <td>66</td>\n",
       "      <td>L사이즈가 있길래 직잭배송으로 구매했더니 아침에 바로 입어볼 수 있었네요ㅎㅎ L사이...</td>\n",
=======
       "      <td>상의 66</td>\n",
       "      <td>L사이즈가 있길래 직잭배송으로 구매했더니 아침에 바로 입어볼 수 있었네요ㅎㅎ L사이...</td>\n",
       "      <td>상의</td>\n",
       "      <td>66</td>\n",
>>>>>>> fd4b014bf4a65a0f549115112bb1032f653b5e74
       "    </tr>\n",
       "    <tr>\n",
       "      <th>3</th>\n",
       "      <td>WMKwL2mc</td>\n",
       "      <td>NaN</td>\n",
       "      <td>24.06.26</td>\n",
       "      <td>(롱롱ver)블랙</td>\n",
       "      <td>one size</td>\n",
       "      <td>정사이즈예요</td>\n",
       "      <td>아주 만족해요</td>\n",
       "      <td>화면과 비슷해요</td>\n",
       "      <td>156cm</td>\n",
       "      <td>50kg</td>\n",
<<<<<<< HEAD
       "      <td>55</td>\n",
       "      <td>이가격에, 이 옵션 수에, 이런 총알배송??? 만족도 최상. 당장 사십시오. 저는 ...</td>\n",
=======
       "      <td>상의 55</td>\n",
       "      <td>이가격에, 이 옵션 수에, 이런 총알배송??? 만족도 최상. 당장 사십시오. 저는 ...</td>\n",
       "      <td>상의</td>\n",
       "      <td>55</td>\n",
>>>>>>> fd4b014bf4a65a0f549115112bb1032f653b5e74
       "    </tr>\n",
       "    <tr>\n",
       "      <th>4</th>\n",
       "      <td>HCi3CFRP</td>\n",
       "      <td>NaN</td>\n",
       "      <td>25.01.09</td>\n",
       "      <td>(기모롱ver)베이지</td>\n",
       "      <td>one size</td>\n",
       "      <td>정사이즈예요</td>\n",
       "      <td>아주 만족해요</td>\n",
       "      <td>화면과 비슷해요</td>\n",
       "      <td>167cm</td>\n",
       "      <td>52kg</td>\n",
<<<<<<< HEAD
       "      <td>55</td>\n",
       "      <td>가격대비 품질이 너무 좋네요. \\n셔링들어간 건 처음입는데 몸라인이 정말 예뻐보여요...</td>\n",
=======
       "      <td>상의 55</td>\n",
       "      <td>가격대비 품질이 너무 좋네요. \\r\\n셔링들어간 건 처음입는데 몸라인이 정말 예뻐보...</td>\n",
       "      <td>상의</td>\n",
       "      <td>55</td>\n",
>>>>>>> fd4b014bf4a65a0f549115112bb1032f653b5e74
       "    </tr>\n",
       "  </tbody>\n",
       "</table>\n",
       "</div>"
      ],
      "text/plain": [
       "        아이디 리뷰어 등급     작성 날짜          옵션1       옵션2  상품 사이즈      퀄리티  \\\n",
       "0       NaN    NaN       NaN          NaN       NaN     NaN      NaN   \n",
       "1    nxxhee   탑리뷰어  24.11.27   (롱ver)아이보리  one size  정사이즈예요    보통이에요   \n",
       "2  u2QwGGfF    NaN  24.07.07           블랙         L  정사이즈예요  아주 만족해요   \n",
       "3  WMKwL2mc    NaN  24.06.26    (롱롱ver)블랙  one size  정사이즈예요  아주 만족해요   \n",
       "4  HCi3CFRP    NaN  25.01.09  (기모롱ver)베이지  one size  정사이즈예요  아주 만족해요   \n",
       "\n",
<<<<<<< HEAD
       "         색감      키   몸무게  사이즈  \\\n",
       "0       NaN    NaN   NaN  NaN   \n",
       "1  화면과 비슷해요  164cm  56kg   55   \n",
       "2  화면과 비슷해요  163cm  58kg   66   \n",
       "3  화면과 비슷해요  156cm  50kg   55   \n",
       "4  화면과 비슷해요  167cm  52kg   55   \n",
       "\n",
       "                                                리뷰내용  \n",
       "0                                                NaN  \n",
       "1  제 인생은 캡나시 알기 전과 후로 나뉩니다,,\\nZZIZZI가 작아서 그런지 모르겠...  \n",
       "2  L사이즈가 있길래 직잭배송으로 구매했더니 아침에 바로 입어볼 수 있었네요ㅎㅎ L사이...  \n",
       "3  이가격에, 이 옵션 수에, 이런 총알배송??? 만족도 최상. 당장 사십시오. 저는 ...  \n",
       "4  가격대비 품질이 너무 좋네요. \\n셔링들어간 건 처음입는데 몸라인이 정말 예뻐보여요...  "
      ]
     },
     "execution_count": 13,
=======
       "         색감      키   몸무게    사이즈  \\\n",
       "0       NaN    NaN   NaN    NaN   \n",
       "1  화면과 비슷해요  164cm  56kg  상의 55   \n",
       "2  화면과 비슷해요  163cm  58kg  상의 66   \n",
       "3  화면과 비슷해요  156cm  50kg  상의 55   \n",
       "4  화면과 비슷해요  167cm  52kg  상의 55   \n",
       "\n",
       "                                                리뷰내용  옷종류 사이즈번호  \n",
       "0                                                NaN  NaN   NaN  \n",
       "1  제 인생은 캡나시 알기 전과 후로 나뉩니다,,\\r\\nZZIZZI가 작아서 그런지 모...  상의     55  \n",
       "2  L사이즈가 있길래 직잭배송으로 구매했더니 아침에 바로 입어볼 수 있었네요ㅎㅎ L사이...  상의     66  \n",
       "3  이가격에, 이 옵션 수에, 이런 총알배송??? 만족도 최상. 당장 사십시오. 저는 ...  상의     55  \n",
       "4  가격대비 품질이 너무 좋네요. \\r\\n셔링들어간 건 처음입는데 몸라인이 정말 예뻐보...  상의     55  "
      ]
     },
     "execution_count": 276,
>>>>>>> fd4b014bf4a65a0f549115112bb1032f653b5e74
     "metadata": {},
     "output_type": "execute_result"
    }
   ],
   "source": [
    "df1.head()"
   ]
  },
  {
   "cell_type": "code",
<<<<<<< HEAD
   "execution_count": 14,
=======
   "execution_count": 277,
>>>>>>> fd4b014bf4a65a0f549115112bb1032f653b5e74
   "metadata": {},
   "outputs": [
    {
     "data": {
      "text/plain": [
       "아이디         1\n",
       "리뷰어 등급    518\n",
       "작성 날짜       1\n",
       "옵션1         1\n",
       "옵션2         1\n",
       "상품 사이즈      1\n",
       "퀄리티         1\n",
       "색감          1\n",
       "키          61\n",
       "몸무게        67\n",
       "사이즈        83\n",
       "리뷰내용        1\n",
<<<<<<< HEAD
       "dtype: int64"
      ]
     },
     "execution_count": 14,
=======
       "옷종류        83\n",
       "사이즈번호      83\n",
       "dtype: int64"
      ]
     },
     "execution_count": 277,
>>>>>>> fd4b014bf4a65a0f549115112bb1032f653b5e74
     "metadata": {},
     "output_type": "execute_result"
    }
   ],
   "source": [
    "# 결측치 개수 확인\n",
    "df1.isnull().sum()"
   ]
  },
  {
   "cell_type": "markdown",
   "metadata": {},
   "source": [
    "### 결측치제거_1"
   ]
  },
  {
   "cell_type": "code",
<<<<<<< HEAD
   "execution_count": 15,
=======
   "execution_count": 278,
>>>>>>> fd4b014bf4a65a0f549115112bb1032f653b5e74
   "metadata": {},
   "outputs": [
    {
     "name": "stdout",
     "output_type": "stream",
     "text": [
      "<class 'pandas.core.frame.DataFrame'>\n",
      "RangeIndex: 999 entries, 1 to 999\n",
<<<<<<< HEAD
      "Data columns (total 12 columns):\n",
=======
      "Data columns (total 14 columns):\n",
>>>>>>> fd4b014bf4a65a0f549115112bb1032f653b5e74
      " #   Column  Non-Null Count  Dtype \n",
      "---  ------  --------------  ----- \n",
      " 0   아이디     999 non-null    object\n",
      " 1   리뷰어 등급  482 non-null    object\n",
      " 2   작성 날짜   999 non-null    object\n",
      " 3   옵션1     999 non-null    object\n",
      " 4   옵션2     999 non-null    object\n",
      " 5   상품 사이즈  999 non-null    object\n",
      " 6   퀄리티     999 non-null    object\n",
      " 7   색감      999 non-null    object\n",
      " 8   키       939 non-null    object\n",
      " 9   몸무게     933 non-null    object\n",
      " 10  사이즈     917 non-null    object\n",
      " 11  리뷰내용    999 non-null    object\n",
<<<<<<< HEAD
      "dtypes: object(12)\n",
      "memory usage: 93.8+ KB\n"
=======
      " 12  옷종류     917 non-null    object\n",
      " 13  사이즈번호   917 non-null    object\n",
      "dtypes: object(14)\n",
      "memory usage: 109.4+ KB\n"
>>>>>>> fd4b014bf4a65a0f549115112bb1032f653b5e74
     ]
    },
    {
     "data": {
      "text/plain": [
       "아이디         0\n",
       "리뷰어 등급    517\n",
       "작성 날짜       0\n",
       "옵션1         0\n",
       "옵션2         0\n",
       "상품 사이즈      0\n",
       "퀄리티         0\n",
       "색감          0\n",
       "키          60\n",
       "몸무게        66\n",
       "사이즈        82\n",
       "리뷰내용        0\n",
<<<<<<< HEAD
       "dtype: int64"
      ]
     },
     "execution_count": 15,
=======
       "옷종류        82\n",
       "사이즈번호      82\n",
       "dtype: int64"
      ]
     },
     "execution_count": 278,
>>>>>>> fd4b014bf4a65a0f549115112bb1032f653b5e74
     "metadata": {},
     "output_type": "execute_result"
    }
   ],
   "source": [
    "# 0행제거 \n",
    "df1 = df1.drop(index=0, errors='ignore')\n",
    "\n",
    "# Display the first few rows to confirm removal\n",
    "df1.head(), df1.info()\n",
    "# 결측치 개수 확인\n",
    "df1.isnull().sum()\n"
   ]
  },
  {
   "cell_type": "markdown",
   "metadata": {},
   "source": [
    "### 결측치 대체 \n",
<<<<<<< HEAD
    "01. 리뷰어등급 대체 \n",
    "02. 알수없음음"
=======
    "01. 리뷰어등급 대체 "
>>>>>>> fd4b014bf4a65a0f549115112bb1032f653b5e74
   ]
  },
  {
   "cell_type": "code",
<<<<<<< HEAD
   "execution_count": 18,
=======
   "execution_count": 279,
>>>>>>> fd4b014bf4a65a0f549115112bb1032f653b5e74
   "metadata": {},
   "outputs": [
    {
     "data": {
      "text/plain": [
       "1        탑리뷰어\n",
       "2         Nan\n",
       "3         Nan\n",
       "4         Nan\n",
       "5       상위 5%\n",
       "        ...  \n",
       "995    상위 30%\n",
       "996    상위 15%\n",
       "997    상위 30%\n",
       "998       Nan\n",
       "999       Nan\n",
       "Name: 리뷰어 등급, Length: 999, dtype: object"
      ]
     },
<<<<<<< HEAD
     "execution_count": 18,
=======
     "execution_count": 279,
>>>>>>> fd4b014bf4a65a0f549115112bb1032f653b5e74
     "metadata": {},
     "output_type": "execute_result"
    }
   ],
   "source": [
<<<<<<< HEAD
    "review_1 = df1.loc[:, '리뷰어 등급'] = df1['리뷰어 등급'].fillna('알수없음')\n",
=======
    "review_1 = df1.loc[:, '리뷰어 등급'] = df1['리뷰어 등급'].fillna('Nan')\n",
>>>>>>> fd4b014bf4a65a0f549115112bb1032f653b5e74
    "review_1"
   ]
  },
  {
<<<<<<< HEAD
   "cell_type": "code",
   "execution_count": 19,
=======
   "cell_type": "markdown",
   "metadata": {},
   "source": [
    "### 키 결측치 NAN 대체 "
   ]
  },
  {
   "cell_type": "code",
   "execution_count": 280,
   "metadata": {},
   "outputs": [],
   "source": [
    "# # '키' 열의 결측치 처리 후 결과를 df2에 저장\n",
    "# key_1 = df1.loc[:, '키'] = df1['키'].fillna('Nan')\n",
    "# key_1\n"
   ]
  },
  {
   "cell_type": "markdown",
   "metadata": {},
   "source": [
    "### 몸무게 결측치 NAN 대체 "
   ]
  },
  {
   "cell_type": "code",
   "execution_count": 281,
   "metadata": {},
   "outputs": [],
   "source": [
    "# # '몸무게' 열의 결측치 처리 후 결과를 df2에 저장\n",
    "# mom_1 = df1.loc[:, '몸무게'] = df1['몸무게'].fillna('Nan')\n",
    "# mom_1\n"
   ]
  },
  {
   "cell_type": "markdown",
   "metadata": {},
   "source": [
    "### 사이즈 결측치 대체 "
   ]
  },
  {
   "cell_type": "code",
   "execution_count": 282,
   "metadata": {},
   "outputs": [],
   "source": [
    "# # '키' 열의 결측치 처리 후 결과를 df2에 저장\n",
    "# size_1 = df1.loc[:, '사이즈'] = df1['사이즈'].fillna('Nan')\n",
    "# size_1"
   ]
  },
  {
   "cell_type": "code",
   "execution_count": 283,
>>>>>>> fd4b014bf4a65a0f549115112bb1032f653b5e74
   "metadata": {},
   "outputs": [
    {
     "name": "stdout",
     "output_type": "stream",
     "text": [
      "아이디        0\n",
      "리뷰어 등급     0\n",
      "작성 날짜      0\n",
      "옵션1        0\n",
      "옵션2        0\n",
      "상품 사이즈     0\n",
      "퀄리티        0\n",
      "색감         0\n",
      "키         60\n",
      "몸무게       66\n",
      "사이즈       82\n",
      "리뷰내용       0\n",
<<<<<<< HEAD
=======
      "옷종류       82\n",
      "사이즈번호     82\n",
>>>>>>> fd4b014bf4a65a0f549115112bb1032f653b5e74
      "dtype: int64\n"
     ]
    }
   ],
   "source": [
    "print(df1.isnull().sum())"
   ]
  },
  {
   "cell_type": "code",
<<<<<<< HEAD
   "execution_count": 20,
=======
   "execution_count": 284,
>>>>>>> fd4b014bf4a65a0f549115112bb1032f653b5e74
   "metadata": {},
   "outputs": [
    {
     "name": "stdout",
     "output_type": "stream",
     "text": [
      "<class 'pandas.core.frame.DataFrame'>\n",
      "RangeIndex: 999 entries, 1 to 999\n",
<<<<<<< HEAD
      "Data columns (total 12 columns):\n",
=======
      "Data columns (total 14 columns):\n",
>>>>>>> fd4b014bf4a65a0f549115112bb1032f653b5e74
      " #   Column  Non-Null Count  Dtype \n",
      "---  ------  --------------  ----- \n",
      " 0   아이디     999 non-null    object\n",
      " 1   리뷰어 등급  999 non-null    object\n",
      " 2   작성 날짜   999 non-null    object\n",
      " 3   옵션1     999 non-null    object\n",
      " 4   옵션2     999 non-null    object\n",
      " 5   상품 사이즈  999 non-null    object\n",
      " 6   퀄리티     999 non-null    object\n",
      " 7   색감      999 non-null    object\n",
      " 8   키       939 non-null    object\n",
      " 9   몸무게     933 non-null    object\n",
      " 10  사이즈     917 non-null    object\n",
      " 11  리뷰내용    999 non-null    object\n",
<<<<<<< HEAD
      "dtypes: object(12)\n",
      "memory usage: 93.8+ KB\n"
=======
      " 12  옷종류     917 non-null    object\n",
      " 13  사이즈번호   917 non-null    object\n",
      "dtypes: object(14)\n",
      "memory usage: 109.4+ KB\n"
>>>>>>> fd4b014bf4a65a0f549115112bb1032f653b5e74
     ]
    }
   ],
   "source": [
    "df1.info()"
   ]
  },
  {
   "cell_type": "code",
<<<<<<< HEAD
   "execution_count": 21,
=======
   "execution_count": 285,
>>>>>>> fd4b014bf4a65a0f549115112bb1032f653b5e74
   "metadata": {},
   "outputs": [
    {
     "name": "stdout",
     "output_type": "stream",
     "text": [
      "키 열에 쉼표 포함 여부: False\n",
      "몸무게 열에 쉼표 포함 여부: False\n"
     ]
    }
   ],
   "source": [
    "# 쉼표 포함 여부 확인\n",
    "print(\"키 열에 쉼표 포함 여부:\", df1['키'].str.contains(',').any())\n",
    "print(\"몸무게 열에 쉼표 포함 여부:\", df1['몸무게'].str.contains(',').any())\n",
    "# print(\"작성 날짜 열에 쉼표 포함 여부:\", df1['작성 날짜'].str.contains(',').any())\n"
   ]
  },
  {
   "cell_type": "code",
<<<<<<< HEAD
   "execution_count": 22,
=======
   "execution_count": 286,
>>>>>>> fd4b014bf4a65a0f549115112bb1032f653b5e74
   "metadata": {},
   "outputs": [
    {
     "name": "stdout",
     "output_type": "stream",
     "text": [
      "<class 'pandas.core.frame.DataFrame'>\n",
      "RangeIndex: 999 entries, 1 to 999\n",
<<<<<<< HEAD
      "Data columns (total 12 columns):\n",
=======
      "Data columns (total 14 columns):\n",
>>>>>>> fd4b014bf4a65a0f549115112bb1032f653b5e74
      " #   Column  Non-Null Count  Dtype \n",
      "---  ------  --------------  ----- \n",
      " 0   아이디     999 non-null    object\n",
      " 1   리뷰어 등급  999 non-null    object\n",
      " 2   작성 날짜   999 non-null    object\n",
      " 3   옵션1     999 non-null    object\n",
      " 4   옵션2     999 non-null    object\n",
      " 5   상품 사이즈  999 non-null    object\n",
      " 6   퀄리티     999 non-null    object\n",
      " 7   색감      999 non-null    object\n",
      " 8   키       939 non-null    object\n",
      " 9   몸무게     933 non-null    object\n",
      " 10  사이즈     917 non-null    object\n",
      " 11  리뷰내용    999 non-null    object\n",
<<<<<<< HEAD
      "dtypes: object(12)\n",
      "memory usage: 93.8+ KB\n"
=======
      " 12  옷종류     917 non-null    object\n",
      " 13  사이즈번호   917 non-null    object\n",
      "dtypes: object(14)\n",
      "memory usage: 109.4+ KB\n"
>>>>>>> fd4b014bf4a65a0f549115112bb1032f653b5e74
     ]
    }
   ],
   "source": [
    "# 데이터 타입 및 결측치 확인\n",
    "df1.info()\n"
   ]
  },
  {
   "cell_type": "markdown",
   "metadata": {},
   "source": [
    "#### 3.데이터타입 변경"
   ]
  },
  {
   "cell_type": "markdown",
   "metadata": {},
   "source": [
    "### 01_작성날짜 형식 확인 후 datetime 변경"
   ]
  },
  {
   "cell_type": "code",
<<<<<<< HEAD
   "execution_count": 23,
=======
   "execution_count": 287,
>>>>>>> fd4b014bf4a65a0f549115112bb1032f653b5e74
   "metadata": {},
   "outputs": [
    {
     "name": "stdout",
     "output_type": "stream",
     "text": [
      "1   2024-11-27\n",
      "2   2024-07-07\n",
      "3   2024-06-26\n",
      "4   2025-01-09\n",
      "5   2025-01-02\n",
      "Name: 작성 날짜, dtype: datetime64[ns]\n"
     ]
    }
   ],
   "source": [
    "# '작성 날짜'를 datetime 형식으로 변환\n",
    "df1['작성 날짜'] = pd.to_datetime(df1['작성 날짜'], format='%y.%m.%d', errors='coerce')\n",
    "\n",
    "# 변환된 결과 확인\n",
    "print(df1['작성 날짜'].head())\n"
   ]
  },
  {
   "cell_type": "code",
<<<<<<< HEAD
   "execution_count": 24,
=======
   "execution_count": 288,
>>>>>>> fd4b014bf4a65a0f549115112bb1032f653b5e74
   "metadata": {},
   "outputs": [
    {
     "name": "stdout",
     "output_type": "stream",
     "text": [
      "<class 'pandas.core.frame.DataFrame'>\n",
      "RangeIndex: 999 entries, 1 to 999\n",
<<<<<<< HEAD
      "Data columns (total 12 columns):\n",
=======
      "Data columns (total 14 columns):\n",
>>>>>>> fd4b014bf4a65a0f549115112bb1032f653b5e74
      " #   Column  Non-Null Count  Dtype         \n",
      "---  ------  --------------  -----         \n",
      " 0   아이디     999 non-null    object        \n",
      " 1   리뷰어 등급  999 non-null    object        \n",
      " 2   작성 날짜   999 non-null    datetime64[ns]\n",
      " 3   옵션1     999 non-null    object        \n",
      " 4   옵션2     999 non-null    object        \n",
      " 5   상품 사이즈  999 non-null    object        \n",
      " 6   퀄리티     999 non-null    object        \n",
      " 7   색감      999 non-null    object        \n",
      " 8   키       939 non-null    object        \n",
      " 9   몸무게     933 non-null    object        \n",
      " 10  사이즈     917 non-null    object        \n",
      " 11  리뷰내용    999 non-null    object        \n",
<<<<<<< HEAD
      "dtypes: datetime64[ns](1), object(11)\n",
      "memory usage: 93.8+ KB\n"
=======
      " 12  옷종류     917 non-null    object        \n",
      " 13  사이즈번호   917 non-null    object        \n",
      "dtypes: datetime64[ns](1), object(13)\n",
      "memory usage: 109.4+ KB\n"
>>>>>>> fd4b014bf4a65a0f549115112bb1032f653b5e74
     ]
    }
   ],
   "source": [
    "df1.info()"
   ]
  },
  {
   "cell_type": "markdown",
   "metadata": {},
   "source": [
    "### 02 키 타입을 수치형으로 변환 후, 결측치 확인 뒤 평균값 채우기 \n",
    "- 숫자형(float)으로 변환"
   ]
  },
  {
   "cell_type": "code",
<<<<<<< HEAD
   "execution_count": 25,
=======
   "execution_count": 289,
>>>>>>> fd4b014bf4a65a0f549115112bb1032f653b5e74
   "metadata": {},
   "outputs": [],
   "source": [
    "import numpy as np"
   ]
  },
  {
   "cell_type": "code",
<<<<<<< HEAD
   "execution_count": 26,
=======
   "execution_count": 290,
>>>>>>> fd4b014bf4a65a0f549115112bb1032f653b5e74
   "metadata": {},
   "outputs": [],
   "source": [
    "# 1. 문자열 변환 및 'cm' 제거, 수치형으로 변환\n",
    "df1['키'] = df1['키'].astype(str).str.replace('cm', '').str.strip()\n",
    "df1['키'] = pd.to_numeric(df1['키'], errors='coerce')"
   ]
  },
  {
   "cell_type": "code",
<<<<<<< HEAD
   "execution_count": 27,
=======
   "execution_count": 291,
>>>>>>> fd4b014bf4a65a0f549115112bb1032f653b5e74
   "metadata": {},
   "outputs": [
    {
     "name": "stdout",
     "output_type": "stream",
     "text": [
      "결측치 개수 (값 채우기 전): 61\n"
     ]
    }
   ],
   "source": [
    "# 2. 결측치 확인\n",
    "print(f\"결측치 개수 (값 채우기 전): {df1['키'].isna().sum()}\")"
   ]
  },
  {
   "cell_type": "code",
<<<<<<< HEAD
   "execution_count": 28,
=======
   "execution_count": 292,
>>>>>>> fd4b014bf4a65a0f549115112bb1032f653b5e74
   "metadata": {},
   "outputs": [
    {
     "name": "stdout",
     "output_type": "stream",
     "text": [
      "결측치가 포함된 상태에서의 '키' 통계량:\n",
      "count    938.000000\n",
      "mean     161.568230\n",
      "std        4.745175\n",
      "min      148.000000\n",
      "25%      158.000000\n",
      "50%      161.000000\n",
      "75%      165.000000\n",
      "max      175.000000\n",
      "Name: 키, dtype: float64\n"
     ]
    }
   ],
   "source": [
    "# 결측치가 포함된 상태에서 describe로 통계량 확인\n",
    "print(\"결측치가 포함된 상태에서의 '키' 통계량:\")\n",
    "print(df1['키'].describe())"
   ]
  },
  {
   "cell_type": "code",
<<<<<<< HEAD
   "execution_count": 30,
   "metadata": {},
   "outputs": [
    {
     "name": "stderr",
     "output_type": "stream",
     "text": [
      "findfont: Font family 'NanumGothic' not found.\n",
      "findfont: Font family 'NanumGothic' not found.\n",
      "findfont: Font family 'NanumGothic' not found.\n",
      "findfont: Font family 'NanumGothic' not found.\n",
      "findfont: Font family 'NanumGothic' not found.\n",
      "findfont: Font family 'NanumGothic' not found.\n",
      "findfont: Font family 'NanumGothic' not found.\n",
      "findfont: Font family 'NanumGothic' not found.\n",
      "findfont: Font family 'NanumGothic' not found.\n",
      "c:\\Users\\asia\\anaconda3\\envs\\project\\lib\\site-packages\\IPython\\core\\pylabtools.py:170: UserWarning: Glyph 48712 (\\N{HANGUL SYLLABLE BIN}) missing from font(s) DejaVu Sans.\n",
      "  fig.canvas.print_figure(bytes_io, **kw)\n",
      "c:\\Users\\asia\\anaconda3\\envs\\project\\lib\\site-packages\\IPython\\core\\pylabtools.py:170: UserWarning: Glyph 46020 (\\N{HANGUL SYLLABLE DO}) missing from font(s) DejaVu Sans.\n",
      "  fig.canvas.print_figure(bytes_io, **kw)\n",
      "c:\\Users\\asia\\anaconda3\\envs\\project\\lib\\site-packages\\IPython\\core\\pylabtools.py:170: UserWarning: Glyph 49688 (\\N{HANGUL SYLLABLE SU}) missing from font(s) DejaVu Sans.\n",
      "  fig.canvas.print_figure(bytes_io, **kw)\n",
      "findfont: Font family 'NanumGothic' not found.\n",
      "findfont: Font family 'NanumGothic' not found.\n",
      "c:\\Users\\asia\\anaconda3\\envs\\project\\lib\\site-packages\\IPython\\core\\pylabtools.py:170: UserWarning: Glyph 53412 (\\N{HANGUL SYLLABLE KI}) missing from font(s) DejaVu Sans.\n",
      "  fig.canvas.print_figure(bytes_io, **kw)\n",
      "c:\\Users\\asia\\anaconda3\\envs\\project\\lib\\site-packages\\IPython\\core\\pylabtools.py:170: UserWarning: Glyph 45936 (\\N{HANGUL SYLLABLE DE}) missing from font(s) DejaVu Sans.\n",
      "  fig.canvas.print_figure(bytes_io, **kw)\n",
      "c:\\Users\\asia\\anaconda3\\envs\\project\\lib\\site-packages\\IPython\\core\\pylabtools.py:170: UserWarning: Glyph 51060 (\\N{HANGUL SYLLABLE I}) missing from font(s) DejaVu Sans.\n",
      "  fig.canvas.print_figure(bytes_io, **kw)\n",
      "c:\\Users\\asia\\anaconda3\\envs\\project\\lib\\site-packages\\IPython\\core\\pylabtools.py:170: UserWarning: Glyph 53552 (\\N{HANGUL SYLLABLE TEO}) missing from font(s) DejaVu Sans.\n",
      "  fig.canvas.print_figure(bytes_io, **kw)\n",
      "c:\\Users\\asia\\anaconda3\\envs\\project\\lib\\site-packages\\IPython\\core\\pylabtools.py:170: UserWarning: Glyph 48516 (\\N{HANGUL SYLLABLE BUN}) missing from font(s) DejaVu Sans.\n",
      "  fig.canvas.print_figure(bytes_io, **kw)\n",
      "c:\\Users\\asia\\anaconda3\\envs\\project\\lib\\site-packages\\IPython\\core\\pylabtools.py:170: UserWarning: Glyph 54252 (\\N{HANGUL SYLLABLE PO}) missing from font(s) DejaVu Sans.\n",
      "  fig.canvas.print_figure(bytes_io, **kw)\n",
      "c:\\Users\\asia\\anaconda3\\envs\\project\\lib\\site-packages\\IPython\\core\\pylabtools.py:170: UserWarning: Glyph 44208 (\\N{HANGUL SYLLABLE GYEOL}) missing from font(s) DejaVu Sans.\n",
      "  fig.canvas.print_figure(bytes_io, **kw)\n",
      "c:\\Users\\asia\\anaconda3\\envs\\project\\lib\\site-packages\\IPython\\core\\pylabtools.py:170: UserWarning: Glyph 52769 (\\N{HANGUL SYLLABLE CEUG}) missing from font(s) DejaVu Sans.\n",
      "  fig.canvas.print_figure(bytes_io, **kw)\n",
      "c:\\Users\\asia\\anaconda3\\envs\\project\\lib\\site-packages\\IPython\\core\\pylabtools.py:170: UserWarning: Glyph 52824 (\\N{HANGUL SYLLABLE CI}) missing from font(s) DejaVu Sans.\n",
      "  fig.canvas.print_figure(bytes_io, **kw)\n",
      "c:\\Users\\asia\\anaconda3\\envs\\project\\lib\\site-packages\\IPython\\core\\pylabtools.py:170: UserWarning: Glyph 54632 (\\N{HANGUL SYLLABLE HAM}) missing from font(s) DejaVu Sans.\n",
      "  fig.canvas.print_figure(bytes_io, **kw)\n",
      "findfont: Font family 'NanumGothic' not found.\n",
      "findfont: Font family 'NanumGothic' not found.\n",
      "findfont: Font family 'NanumGothic' not found.\n",
      "findfont: Font family 'NanumGothic' not found.\n",
      "findfont: Font family 'NanumGothic' not found.\n",
      "findfont: Font family 'NanumGothic' not found.\n",
      "findfont: Font family 'NanumGothic' not found.\n",
      "findfont: Font family 'NanumGothic' not found.\n",
      "findfont: Font family 'NanumGothic' not found.\n",
      "c:\\Users\\asia\\anaconda3\\envs\\project\\lib\\site-packages\\IPython\\core\\pylabtools.py:170: UserWarning: Glyph 54217 (\\N{HANGUL SYLLABLE PYEONG}) missing from font(s) DejaVu Sans.\n",
      "  fig.canvas.print_figure(bytes_io, **kw)\n",
      "c:\\Users\\asia\\anaconda3\\envs\\project\\lib\\site-packages\\IPython\\core\\pylabtools.py:170: UserWarning: Glyph 44512 (\\N{HANGUL SYLLABLE GYUN}) missing from font(s) DejaVu Sans.\n",
      "  fig.canvas.print_figure(bytes_io, **kw)\n",
      "findfont: Font family 'NanumGothic' not found.\n",
      "findfont: Font family 'NanumGothic' not found.\n",
      "c:\\Users\\asia\\anaconda3\\envs\\project\\lib\\site-packages\\IPython\\core\\pylabtools.py:170: UserWarning: Glyph 51473 (\\N{HANGUL SYLLABLE JUNG}) missing from font(s) DejaVu Sans.\n",
      "  fig.canvas.print_figure(bytes_io, **kw)\n",
      "c:\\Users\\asia\\anaconda3\\envs\\project\\lib\\site-packages\\IPython\\core\\pylabtools.py:170: UserWarning: Glyph 50521 (\\N{HANGUL SYLLABLE ANG}) missing from font(s) DejaVu Sans.\n",
      "  fig.canvas.print_figure(bytes_io, **kw)\n",
      "c:\\Users\\asia\\anaconda3\\envs\\project\\lib\\site-packages\\IPython\\core\\pylabtools.py:170: UserWarning: Glyph 44050 (\\N{HANGUL SYLLABLE GABS}) missing from font(s) DejaVu Sans.\n",
      "  fig.canvas.print_figure(bytes_io, **kw)\n",
      "findfont: Font family 'NanumGothic' not found.\n",
      "findfont: Font family 'NanumGothic' not found.\n",
      "findfont: Font family 'NanumGothic' not found.\n",
      "findfont: Font family 'NanumGothic' not found.\n",
      "findfont: Font family 'NanumGothic' not found.\n",
      "findfont: Font family 'NanumGothic' not found.\n",
      "findfont: Font family 'NanumGothic' not found.\n",
      "findfont: Font family 'NanumGothic' not found.\n",
      "findfont: Font family 'NanumGothic' not found.\n",
      "findfont: Font family 'NanumGothic' not found.\n",
      "findfont: Font family 'NanumGothic' not found.\n",
      "findfont: Font family 'NanumGothic' not found.\n",
      "findfont: Font family 'NanumGothic' not found.\n",
      "findfont: Font family 'NanumGothic' not found.\n",
      "findfont: Font family 'NanumGothic' not found.\n",
      "findfont: Font family 'NanumGothic' not found.\n",
      "findfont: Font family 'NanumGothic' not found.\n",
      "findfont: Font family 'NanumGothic' not found.\n",
      "findfont: Font family 'NanumGothic' not found.\n",
      "findfont: Font family 'NanumGothic' not found.\n",
      "findfont: Font family 'NanumGothic' not found.\n",
      "findfont: Font family 'NanumGothic' not found.\n",
      "findfont: Font family 'NanumGothic' not found.\n",
      "findfont: Font family 'NanumGothic' not found.\n",
      "findfont: Font family 'NanumGothic' not found.\n",
      "findfont: Font family 'NanumGothic' not found.\n",
      "findfont: Font family 'NanumGothic' not found.\n",
      "findfont: Font family 'NanumGothic' not found.\n",
      "findfont: Font family 'NanumGothic' not found.\n",
      "findfont: Font family 'NanumGothic' not found.\n",
      "findfont: Font family 'NanumGothic' not found.\n",
      "findfont: Font family 'NanumGothic' not found.\n",
      "findfont: Font family 'NanumGothic' not found.\n",
      "findfont: Font family 'NanumGothic' not found.\n",
      "findfont: Font family 'NanumGothic' not found.\n",
      "findfont: Font family 'NanumGothic' not found.\n",
      "findfont: Font family 'NanumGothic' not found.\n",
      "findfont: Font family 'NanumGothic' not found.\n",
      "findfont: Font family 'NanumGothic' not found.\n",
      "findfont: Font family 'NanumGothic' not found.\n",
      "findfont: Font family 'NanumGothic' not found.\n",
      "findfont: Font family 'NanumGothic' not found.\n",
      "findfont: Font family 'NanumGothic' not found.\n",
      "findfont: Font family 'NanumGothic' not found.\n",
      "findfont: Font family 'NanumGothic' not found.\n",
      "findfont: Font family 'NanumGothic' not found.\n",
      "findfont: Font family 'NanumGothic' not found.\n",
      "findfont: Font family 'NanumGothic' not found.\n",
      "findfont: Font family 'NanumGothic' not found.\n",
      "findfont: Font family 'NanumGothic' not found.\n",
      "findfont: Font family 'NanumGothic' not found.\n",
      "findfont: Font family 'NanumGothic' not found.\n",
      "findfont: Font family 'NanumGothic' not found.\n",
      "findfont: Font family 'NanumGothic' not found.\n",
      "findfont: Font family 'NanumGothic' not found.\n",
      "findfont: Font family 'NanumGothic' not found.\n",
      "findfont: Font family 'NanumGothic' not found.\n"
     ]
    },
    {
     "data": {
      "image/png": "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",
=======
   "execution_count": 293,
   "metadata": {},
   "outputs": [
    {
     "data": {
      "image/png": "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",
>>>>>>> fd4b014bf4a65a0f549115112bb1032f653b5e74
      "text/plain": [
       "<Figure size 1000x600 with 1 Axes>"
      ]
     },
     "metadata": {},
     "output_type": "display_data"
    }
   ],
   "source": [
    "import matplotlib.pyplot as plt\n",
    "import seaborn as sns\n",
    "from matplotlib import rc\n",
    "\n",
    "# 한글 폰트 설정 (예: NanumGothic)\n",
    "plt.rcParams['font.family'] = 'NanumGothic'  # 설치된 한글 폰트를 사용합니다.\n",
    "plt.rcParams['axes.unicode_minus'] = False   # 마이너스 기호 깨짐 방지\n",
    "\n",
    "# 히스토그램으로 데이터 분포 시각화\n",
    "plt.figure(figsize=(10, 6))\n",
    "sns.histplot(df1['키'].dropna(), kde=True, bins=30, color='skyblue', edgecolor='black')\n",
    "\n",
    "# 한글로 제목 및 라벨 설정\n",
    "plt.title(\"키 데이터 분포 (결측치 포함)\", fontsize=16)\n",
    "plt.xlabel(\"키 (cm)\", fontsize=14)\n",
    "plt.ylabel(\"빈도수\", fontsize=14)\n",
    "\n",
    "# 평균과 중앙값 표시 (한글 범례)\n",
    "plt.axvline(df1['키'].mean(), color='red', linestyle='--', label=f\"평균: {df1['키'].mean():.2f} cm\")\n",
    "plt.axvline(df1['키'].median(), color='green', linestyle='-', label=f\"중앙값: {df1['키'].median():.2f} cm\")\n",
    "\n",
    "# 범례 표시\n",
    "plt.legend()\n",
    "\n",
    "# 그래프 출력\n",
    "plt.show()\n"
   ]
  },
  {
   "cell_type": "code",
<<<<<<< HEAD
   "execution_count": 51,
=======
   "execution_count": 294,
>>>>>>> fd4b014bf4a65a0f549115112bb1032f653b5e74
   "metadata": {},
   "outputs": [
    {
     "name": "stdout",
     "output_type": "stream",
     "text": [
<<<<<<< HEAD
      "결측치 채운 후의 '키' 통계량 (int32 변환):\n",
      "count    999.000000\n",
      "mean     161.533534\n",
      "std        4.599885\n",
      "min      148.000000\n",
      "25%      158.000000\n",
      "50%      161.000000\n",
      "75%      164.000000\n",
      "max      175.000000\n",
      "Name: 키, dtype: float64\n",
      "데이터 타입: int32\n"
=======
      "결측치 채운 후의 '키' 통계량:\n",
      "count    999.000000\n",
      "mean     161.568230\n",
      "std        4.597871\n",
      "min      148.000000\n",
      "25%      158.000000\n",
      "50%      161.568230\n",
      "75%      164.000000\n",
      "max      175.000000\n",
      "Name: 키, dtype: float64\n"
>>>>>>> fd4b014bf4a65a0f549115112bb1032f653b5e74
     ]
    }
   ],
   "source": [
    "# 결측치를 평균값으로 채우기\n",
    "df1['키'] = df1['키'].fillna(df1['키'].mean())\n",
    "\n",
<<<<<<< HEAD
    "# int32로 변환\n",
    "df1['키'] = df1['키'].astype('int32')\n",
    "\n",
    "# 변환 후 데이터 확인\n",
    "print(\"결측치 채운 후의 '키' 통계량 (int32 변환):\")\n",
    "print(df1['키'].describe())\n",
    "print(\"데이터 타입:\", df1['키'].dtype)\n"
=======
    "# 결측치 채운 후 통계량 확인\n",
    "print(\"결측치 채운 후의 '키' 통계량:\")\n",
    "print(df1['키'].describe())"
>>>>>>> fd4b014bf4a65a0f549115112bb1032f653b5e74
   ]
  },
  {
   "cell_type": "code",
<<<<<<< HEAD
   "execution_count": 32,
=======
   "execution_count": 295,
>>>>>>> fd4b014bf4a65a0f549115112bb1032f653b5e74
   "metadata": {},
   "outputs": [],
   "source": [
    "# # 1. 결측치 채우기 (평균값 사용)\n",
    "# # df1['키'] = df1['키'].fillna(df1['키'].mean())\n",
    "\n",
    "# # 2. 문자열로 변환하여 'cm' 제거 및 수치형으로 변환\n",
    "# df1['키'] = df1['키'].astype(str).str.replace('cm', '').str.strip()\n",
    "# df1['키'] = pd.to_numeric(df1['키'], errors='coerce')\n",
    "\n",
    "# #df1['키'].isna().sum() #62\n",
    "# # print(np.quantile(df1['키'].dropna() ,[0.25,0.5,0.75]))\n",
    "# print(df1['키'].describe(), df1['키'].dropna().describe())\n",
    "\n",
    "# # # 3. 결측치 확인\n",
    "# # print(df1['키'].head())\n",
    "# # print(df1.info())\n",
    "\n"
   ]
  },
  {
   "cell_type": "code",
<<<<<<< HEAD
   "execution_count": 33,
=======
   "execution_count": 296,
>>>>>>> fd4b014bf4a65a0f549115112bb1032f653b5e74
   "metadata": {},
   "outputs": [
    {
     "name": "stdout",
     "output_type": "stream",
     "text": [
      "1    164.0\n",
      "2    163.0\n",
      "3    156.0\n",
      "4    167.0\n",
      "5    155.0\n",
      "Name: 키, dtype: float64\n",
      "<class 'pandas.core.frame.DataFrame'>\n",
      "RangeIndex: 999 entries, 1 to 999\n",
<<<<<<< HEAD
      "Data columns (total 12 columns):\n",
=======
      "Data columns (total 14 columns):\n",
>>>>>>> fd4b014bf4a65a0f549115112bb1032f653b5e74
      " #   Column  Non-Null Count  Dtype         \n",
      "---  ------  --------------  -----         \n",
      " 0   아이디     999 non-null    object        \n",
      " 1   리뷰어 등급  999 non-null    object        \n",
      " 2   작성 날짜   999 non-null    datetime64[ns]\n",
      " 3   옵션1     999 non-null    object        \n",
      " 4   옵션2     999 non-null    object        \n",
      " 5   상품 사이즈  999 non-null    object        \n",
      " 6   퀄리티     999 non-null    object        \n",
      " 7   색감      999 non-null    object        \n",
      " 8   키       999 non-null    float64       \n",
      " 9   몸무게     933 non-null    object        \n",
      " 10  사이즈     917 non-null    object        \n",
      " 11  리뷰내용    999 non-null    object        \n",
<<<<<<< HEAD
      "dtypes: datetime64[ns](1), float64(1), object(10)\n",
      "memory usage: 93.8+ KB\n",
=======
      " 12  옷종류     917 non-null    object        \n",
      " 13  사이즈번호   917 non-null    object        \n",
      "dtypes: datetime64[ns](1), float64(1), object(12)\n",
      "memory usage: 109.4+ KB\n",
>>>>>>> fd4b014bf4a65a0f549115112bb1032f653b5e74
      "None\n"
     ]
    }
   ],
   "source": [
    "print(df1['키'].head())\n",
    "print(df1.info())\n"
   ]
  },
  {
   "cell_type": "markdown",
   "metadata": {},
   "source": [
    "### 03. 몸무게 타입을 수치형으로 변환 후, 결측치 확인 뒤 평균값 채우기 \n",
    "- 숫자형(float)으로 변환"
   ]
  },
  {
   "cell_type": "code",
<<<<<<< HEAD
   "execution_count": 34,
=======
   "execution_count": 297,
>>>>>>> fd4b014bf4a65a0f549115112bb1032f653b5e74
   "metadata": {},
   "outputs": [],
   "source": [
    "# '몸무게' 컬럼 확인\n",
    "df1['몸무게'] = df1['몸무게'].astype(str).str.replace('kg', '').str.strip()  # 'kg' 제거 및 공백 제거\n",
    "df1['몸무게'] = pd.to_numeric(df1['몸무게'], errors='coerce')  # 수치형 변환"
   ]
  },
  {
   "cell_type": "code",
<<<<<<< HEAD
   "execution_count": 35,
=======
   "execution_count": 298,
>>>>>>> fd4b014bf4a65a0f549115112bb1032f653b5e74
   "metadata": {},
   "outputs": [
    {
     "name": "stdout",
     "output_type": "stream",
     "text": [
      "결측치 개수 (값 채우기 전): 70\n"
     ]
    }
   ],
   "source": [
    "# 1. 결측치 확인\n",
    "print(f\"결측치 개수 (값 채우기 전): {df1['몸무게'].isna().sum()}\")"
   ]
  },
  {
   "cell_type": "code",
<<<<<<< HEAD
   "execution_count": 36,
=======
   "execution_count": 299,
>>>>>>> fd4b014bf4a65a0f549115112bb1032f653b5e74
   "metadata": {},
   "outputs": [
    {
     "name": "stdout",
     "output_type": "stream",
     "text": [
      "\n",
      "결측치 제외한 '몸무게' 통계량:\n",
      "count    929.000000\n",
      "mean      51.506997\n",
      "std        5.709774\n",
      "min       35.000000\n",
      "25%       48.000000\n",
      "50%       51.000000\n",
      "75%       55.000000\n",
      "max       72.000000\n",
      "Name: 몸무게, dtype: float64\n"
     ]
    }
   ],
   "source": [
    "# 2. 결측치 제외한 데이터 통계 확인\n",
    "print(\"\\n결측치 제외한 '몸무게' 통계량:\")\n",
    "print(df1['몸무게'].dropna().describe())\n"
   ]
  },
  {
   "cell_type": "code",
<<<<<<< HEAD
   "execution_count": 37,
   "metadata": {},
   "outputs": [
    {
     "name": "stderr",
     "output_type": "stream",
     "text": [
      "findfont: Font family 'NanumGothic' not found.\n",
      "findfont: Font family 'NanumGothic' not found.\n",
      "findfont: Font family 'NanumGothic' not found.\n",
      "findfont: Font family 'NanumGothic' not found.\n",
      "findfont: Font family 'NanumGothic' not found.\n",
      "findfont: Font family 'NanumGothic' not found.\n",
      "findfont: Font family 'NanumGothic' not found.\n",
      "findfont: Font family 'NanumGothic' not found.\n",
      "findfont: Font family 'NanumGothic' not found.\n",
      "findfont: Font family 'NanumGothic' not found.\n",
      "findfont: Font family 'NanumGothic' not found.\n",
      "c:\\Users\\asia\\anaconda3\\envs\\project\\lib\\site-packages\\IPython\\core\\pylabtools.py:170: UserWarning: Glyph 48712 (\\N{HANGUL SYLLABLE BIN}) missing from font(s) DejaVu Sans.\n",
      "  fig.canvas.print_figure(bytes_io, **kw)\n",
      "c:\\Users\\asia\\anaconda3\\envs\\project\\lib\\site-packages\\IPython\\core\\pylabtools.py:170: UserWarning: Glyph 46020 (\\N{HANGUL SYLLABLE DO}) missing from font(s) DejaVu Sans.\n",
      "  fig.canvas.print_figure(bytes_io, **kw)\n",
      "c:\\Users\\asia\\anaconda3\\envs\\project\\lib\\site-packages\\IPython\\core\\pylabtools.py:170: UserWarning: Glyph 49688 (\\N{HANGUL SYLLABLE SU}) missing from font(s) DejaVu Sans.\n",
      "  fig.canvas.print_figure(bytes_io, **kw)\n",
      "findfont: Font family 'NanumGothic' not found.\n",
      "findfont: Font family 'NanumGothic' not found.\n",
      "c:\\Users\\asia\\anaconda3\\envs\\project\\lib\\site-packages\\IPython\\core\\pylabtools.py:170: UserWarning: Glyph 47800 (\\N{HANGUL SYLLABLE MOM}) missing from font(s) DejaVu Sans.\n",
      "  fig.canvas.print_figure(bytes_io, **kw)\n",
      "c:\\Users\\asia\\anaconda3\\envs\\project\\lib\\site-packages\\IPython\\core\\pylabtools.py:170: UserWarning: Glyph 47924 (\\N{HANGUL SYLLABLE MU}) missing from font(s) DejaVu Sans.\n",
      "  fig.canvas.print_figure(bytes_io, **kw)\n",
      "c:\\Users\\asia\\anaconda3\\envs\\project\\lib\\site-packages\\IPython\\core\\pylabtools.py:170: UserWarning: Glyph 44172 (\\N{HANGUL SYLLABLE GE}) missing from font(s) DejaVu Sans.\n",
      "  fig.canvas.print_figure(bytes_io, **kw)\n",
      "c:\\Users\\asia\\anaconda3\\envs\\project\\lib\\site-packages\\IPython\\core\\pylabtools.py:170: UserWarning: Glyph 45936 (\\N{HANGUL SYLLABLE DE}) missing from font(s) DejaVu Sans.\n",
      "  fig.canvas.print_figure(bytes_io, **kw)\n",
      "c:\\Users\\asia\\anaconda3\\envs\\project\\lib\\site-packages\\IPython\\core\\pylabtools.py:170: UserWarning: Glyph 51060 (\\N{HANGUL SYLLABLE I}) missing from font(s) DejaVu Sans.\n",
      "  fig.canvas.print_figure(bytes_io, **kw)\n",
      "c:\\Users\\asia\\anaconda3\\envs\\project\\lib\\site-packages\\IPython\\core\\pylabtools.py:170: UserWarning: Glyph 53552 (\\N{HANGUL SYLLABLE TEO}) missing from font(s) DejaVu Sans.\n",
      "  fig.canvas.print_figure(bytes_io, **kw)\n",
      "c:\\Users\\asia\\anaconda3\\envs\\project\\lib\\site-packages\\IPython\\core\\pylabtools.py:170: UserWarning: Glyph 48516 (\\N{HANGUL SYLLABLE BUN}) missing from font(s) DejaVu Sans.\n",
      "  fig.canvas.print_figure(bytes_io, **kw)\n",
      "c:\\Users\\asia\\anaconda3\\envs\\project\\lib\\site-packages\\IPython\\core\\pylabtools.py:170: UserWarning: Glyph 54252 (\\N{HANGUL SYLLABLE PO}) missing from font(s) DejaVu Sans.\n",
      "  fig.canvas.print_figure(bytes_io, **kw)\n",
      "c:\\Users\\asia\\anaconda3\\envs\\project\\lib\\site-packages\\IPython\\core\\pylabtools.py:170: UserWarning: Glyph 44208 (\\N{HANGUL SYLLABLE GYEOL}) missing from font(s) DejaVu Sans.\n",
      "  fig.canvas.print_figure(bytes_io, **kw)\n",
      "c:\\Users\\asia\\anaconda3\\envs\\project\\lib\\site-packages\\IPython\\core\\pylabtools.py:170: UserWarning: Glyph 52769 (\\N{HANGUL SYLLABLE CEUG}) missing from font(s) DejaVu Sans.\n",
      "  fig.canvas.print_figure(bytes_io, **kw)\n",
      "c:\\Users\\asia\\anaconda3\\envs\\project\\lib\\site-packages\\IPython\\core\\pylabtools.py:170: UserWarning: Glyph 52824 (\\N{HANGUL SYLLABLE CI}) missing from font(s) DejaVu Sans.\n",
      "  fig.canvas.print_figure(bytes_io, **kw)\n",
      "c:\\Users\\asia\\anaconda3\\envs\\project\\lib\\site-packages\\IPython\\core\\pylabtools.py:170: UserWarning: Glyph 51228 (\\N{HANGUL SYLLABLE JE}) missing from font(s) DejaVu Sans.\n",
      "  fig.canvas.print_figure(bytes_io, **kw)\n",
      "c:\\Users\\asia\\anaconda3\\envs\\project\\lib\\site-packages\\IPython\\core\\pylabtools.py:170: UserWarning: Glyph 50808 (\\N{HANGUL SYLLABLE OE}) missing from font(s) DejaVu Sans.\n",
      "  fig.canvas.print_figure(bytes_io, **kw)\n",
      "findfont: Font family 'NanumGothic' not found.\n",
      "findfont: Font family 'NanumGothic' not found.\n",
      "findfont: Font family 'NanumGothic' not found.\n",
      "findfont: Font family 'NanumGothic' not found.\n",
      "findfont: Font family 'NanumGothic' not found.\n",
      "findfont: Font family 'NanumGothic' not found.\n",
      "findfont: Font family 'NanumGothic' not found.\n",
      "findfont: Font family 'NanumGothic' not found.\n",
      "findfont: Font family 'NanumGothic' not found.\n",
      "c:\\Users\\asia\\anaconda3\\envs\\project\\lib\\site-packages\\IPython\\core\\pylabtools.py:170: UserWarning: Glyph 54217 (\\N{HANGUL SYLLABLE PYEONG}) missing from font(s) DejaVu Sans.\n",
      "  fig.canvas.print_figure(bytes_io, **kw)\n",
      "c:\\Users\\asia\\anaconda3\\envs\\project\\lib\\site-packages\\IPython\\core\\pylabtools.py:170: UserWarning: Glyph 44512 (\\N{HANGUL SYLLABLE GYUN}) missing from font(s) DejaVu Sans.\n",
      "  fig.canvas.print_figure(bytes_io, **kw)\n",
      "findfont: Font family 'NanumGothic' not found.\n",
      "findfont: Font family 'NanumGothic' not found.\n",
      "c:\\Users\\asia\\anaconda3\\envs\\project\\lib\\site-packages\\IPython\\core\\pylabtools.py:170: UserWarning: Glyph 51473 (\\N{HANGUL SYLLABLE JUNG}) missing from font(s) DejaVu Sans.\n",
      "  fig.canvas.print_figure(bytes_io, **kw)\n",
      "c:\\Users\\asia\\anaconda3\\envs\\project\\lib\\site-packages\\IPython\\core\\pylabtools.py:170: UserWarning: Glyph 50521 (\\N{HANGUL SYLLABLE ANG}) missing from font(s) DejaVu Sans.\n",
      "  fig.canvas.print_figure(bytes_io, **kw)\n",
      "c:\\Users\\asia\\anaconda3\\envs\\project\\lib\\site-packages\\IPython\\core\\pylabtools.py:170: UserWarning: Glyph 44050 (\\N{HANGUL SYLLABLE GABS}) missing from font(s) DejaVu Sans.\n",
      "  fig.canvas.print_figure(bytes_io, **kw)\n",
      "findfont: Font family 'NanumGothic' not found.\n",
      "findfont: Font family 'NanumGothic' not found.\n",
      "findfont: Font family 'NanumGothic' not found.\n",
      "findfont: Font family 'NanumGothic' not found.\n",
      "findfont: Font family 'NanumGothic' not found.\n",
      "findfont: Font family 'NanumGothic' not found.\n",
      "findfont: Font family 'NanumGothic' not found.\n",
      "findfont: Font family 'NanumGothic' not found.\n",
      "findfont: Font family 'NanumGothic' not found.\n",
      "findfont: Font family 'NanumGothic' not found.\n",
      "findfont: Font family 'NanumGothic' not found.\n",
      "findfont: Font family 'NanumGothic' not found.\n",
      "findfont: Font family 'NanumGothic' not found.\n",
      "findfont: Font family 'NanumGothic' not found.\n",
      "findfont: Font family 'NanumGothic' not found.\n",
      "findfont: Font family 'NanumGothic' not found.\n",
      "findfont: Font family 'NanumGothic' not found.\n",
      "findfont: Font family 'NanumGothic' not found.\n",
      "findfont: Font family 'NanumGothic' not found.\n",
      "findfont: Font family 'NanumGothic' not found.\n",
      "findfont: Font family 'NanumGothic' not found.\n",
      "findfont: Font family 'NanumGothic' not found.\n",
      "findfont: Font family 'NanumGothic' not found.\n",
      "findfont: Font family 'NanumGothic' not found.\n",
      "findfont: Font family 'NanumGothic' not found.\n",
      "findfont: Font family 'NanumGothic' not found.\n",
      "findfont: Font family 'NanumGothic' not found.\n",
      "findfont: Font family 'NanumGothic' not found.\n",
      "findfont: Font family 'NanumGothic' not found.\n",
      "findfont: Font family 'NanumGothic' not found.\n",
      "findfont: Font family 'NanumGothic' not found.\n",
      "findfont: Font family 'NanumGothic' not found.\n",
      "findfont: Font family 'NanumGothic' not found.\n",
      "findfont: Font family 'NanumGothic' not found.\n",
      "findfont: Font family 'NanumGothic' not found.\n",
      "findfont: Font family 'NanumGothic' not found.\n",
      "findfont: Font family 'NanumGothic' not found.\n",
      "findfont: Font family 'NanumGothic' not found.\n",
      "findfont: Font family 'NanumGothic' not found.\n",
      "findfont: Font family 'NanumGothic' not found.\n",
      "findfont: Font family 'NanumGothic' not found.\n",
      "findfont: Font family 'NanumGothic' not found.\n",
      "findfont: Font family 'NanumGothic' not found.\n",
      "findfont: Font family 'NanumGothic' not found.\n",
      "findfont: Font family 'NanumGothic' not found.\n",
      "findfont: Font family 'NanumGothic' not found.\n",
      "findfont: Font family 'NanumGothic' not found.\n",
      "findfont: Font family 'NanumGothic' not found.\n",
      "findfont: Font family 'NanumGothic' not found.\n",
      "findfont: Font family 'NanumGothic' not found.\n",
      "findfont: Font family 'NanumGothic' not found.\n",
      "findfont: Font family 'NanumGothic' not found.\n",
      "findfont: Font family 'NanumGothic' not found.\n",
      "findfont: Font family 'NanumGothic' not found.\n",
      "findfont: Font family 'NanumGothic' not found.\n",
      "findfont: Font family 'NanumGothic' not found.\n",
      "findfont: Font family 'NanumGothic' not found.\n",
      "findfont: Font family 'NanumGothic' not found.\n",
      "findfont: Font family 'NanumGothic' not found.\n",
      "findfont: Font family 'NanumGothic' not found.\n",
      "findfont: Font family 'NanumGothic' not found.\n",
      "findfont: Font family 'NanumGothic' not found.\n",
      "findfont: Font family 'NanumGothic' not found.\n"
     ]
    },
    {
     "data": {
      "image/png": "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",
=======
   "execution_count": 300,
   "metadata": {},
   "outputs": [
    {
     "data": {
      "image/png": "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",
>>>>>>> fd4b014bf4a65a0f549115112bb1032f653b5e74
      "text/plain": [
       "<Figure size 1000x600 with 1 Axes>"
      ]
     },
     "metadata": {},
     "output_type": "display_data"
    }
   ],
   "source": [
    "# 3. 결측치 제외한 데이터 분포 시각화\n",
    "plt.figure(figsize=(10, 6))\n",
    "sns.histplot(df1['몸무게'].dropna(), kde=True, bins=30, color='skyblue', edgecolor='black')\n",
    "plt.title(\"몸무게 데이터 분포 (결측치 제외)\", fontsize=16)\n",
    "plt.xlabel(\"몸무게 (kg)\", fontsize=14)\n",
    "plt.ylabel(\"빈도수\", fontsize=14)\n",
    "plt.axvline(df1['몸무게'].mean(), color='red', linestyle='--', label=f\"평균: {df1['몸무게'].mean():.2f} kg\")\n",
    "plt.axvline(df1['몸무게'].median(), color='green', linestyle='-', label=f\"중앙값: {df1['몸무게'].median():.2f} kg\")\n",
    "plt.legend()\n",
    "plt.show()"
   ]
  },
  {
   "cell_type": "code",
<<<<<<< HEAD
   "execution_count": 38,
=======
   "execution_count": 301,
>>>>>>> fd4b014bf4a65a0f549115112bb1032f653b5e74
   "metadata": {},
   "outputs": [
    {
     "name": "stdout",
     "output_type": "stream",
     "text": [
      "결측치 채우기 전 NaN 값 위치:\n",
      "28    NaN\n",
      "36    NaN\n",
      "46    NaN\n",
      "54    NaN\n",
      "94    NaN\n",
      "       ..\n",
      "911   NaN\n",
      "929   NaN\n",
      "968   NaN\n",
      "975   NaN\n",
      "999   NaN\n",
      "Name: 몸무게, Length: 70, dtype: float64\n"
     ]
    }
   ],
   "source": [
    "# 결측치 채우기 전 NaN 위치 확인\n",
    "print(\"결측치 채우기 전 NaN 값 위치:\")\n",
    "print(df1['몸무게'][df1['몸무게'].isna()])\n",
    "\n",
    "# # '몸무게' 열의 결측치를 평균값으로 채우기\n",
    "# df1['몸무게_filled'] = df1['몸무게'].fillna(df1['몸무게'].mean())\n",
    "\n",
    "# # 결측치 채운 후 비교\n",
    "# print(\"\\n결측치 채운 후 변경된 값:\")\n",
    "# for index in df1['몸무게'][df1['몸무게'].isna()].index:\n",
    "#     print(f\"인덱스 {index}: NaN → {df1['몸무게_filled'][index]}\")"
   ]
  },
  {
   "cell_type": "code",
<<<<<<< HEAD
   "execution_count": 39,
=======
   "execution_count": 302,
>>>>>>> fd4b014bf4a65a0f549115112bb1032f653b5e74
   "metadata": {},
   "outputs": [
    {
     "name": "stdout",
     "output_type": "stream",
     "text": [
      "결측치 개수 (값 채운 후): 0\n"
     ]
    }
   ],
   "source": [
    "# '몸무게' 열의 결측치를 평균값으로 채우기\n",
    "df1['몸무게'] = df1['몸무게'].fillna(df1['몸무게'].mean())\n",
    "\n",
    "# 결측치가 제대로 채워졌는지 확인\n",
    "print(\"결측치 개수 (값 채운 후):\", df1['몸무게'].isna().sum())"
   ]
  },
  {
   "cell_type": "code",
<<<<<<< HEAD
   "execution_count": 40,
=======
   "execution_count": 303,
>>>>>>> fd4b014bf4a65a0f549115112bb1032f653b5e74
   "metadata": {},
   "outputs": [
    {
     "name": "stdout",
     "output_type": "stream",
     "text": [
      "<class 'pandas.core.frame.DataFrame'>\n",
      "RangeIndex: 999 entries, 1 to 999\n",
<<<<<<< HEAD
      "Data columns (total 12 columns):\n",
=======
      "Data columns (total 14 columns):\n",
>>>>>>> fd4b014bf4a65a0f549115112bb1032f653b5e74
      " #   Column  Non-Null Count  Dtype         \n",
      "---  ------  --------------  -----         \n",
      " 0   아이디     999 non-null    object        \n",
      " 1   리뷰어 등급  999 non-null    object        \n",
      " 2   작성 날짜   999 non-null    datetime64[ns]\n",
      " 3   옵션1     999 non-null    object        \n",
      " 4   옵션2     999 non-null    object        \n",
      " 5   상품 사이즈  999 non-null    object        \n",
      " 6   퀄리티     999 non-null    object        \n",
      " 7   색감      999 non-null    object        \n",
      " 8   키       999 non-null    float64       \n",
      " 9   몸무게     999 non-null    float64       \n",
      " 10  사이즈     917 non-null    object        \n",
      " 11  리뷰내용    999 non-null    object        \n",
<<<<<<< HEAD
      "dtypes: datetime64[ns](1), float64(2), object(9)\n",
      "memory usage: 93.8+ KB\n"
=======
      " 12  옷종류     917 non-null    object        \n",
      " 13  사이즈번호   917 non-null    object        \n",
      "dtypes: datetime64[ns](1), float64(2), object(11)\n",
      "memory usage: 109.4+ KB\n"
     ]
    }
   ],
   "source": [
    "df1.info()"
   ]
  },
  {
   "cell_type": "code",
   "execution_count": 304,
   "metadata": {},
   "outputs": [
    {
     "name": "stdout",
     "output_type": "stream",
     "text": [
      "결측치 개수 (처리 후): 0\n"
     ]
    }
   ],
   "source": [
    "df1['사이즈'] = df1['사이즈'].fillna('Nan')\n",
    "df1['사이즈']\n",
    "print(f\"결측치 개수 (처리 후): {df1['사이즈'].isna().sum()}\")"
   ]
  },
  {
   "cell_type": "code",
   "execution_count": 305,
   "metadata": {},
   "outputs": [
    {
     "name": "stdout",
     "output_type": "stream",
     "text": [
      "결측치 개수 (처리 후): 0\n"
     ]
    }
   ],
   "source": [
    "df1['옷종류'] = df1['옷종류'].fillna('Nan')\n",
    "df1['옷종류']\n",
    "print(f\"결측치 개수 (처리 후): {df1['옷종류'].isna().sum()}\")"
   ]
  },
  {
   "cell_type": "code",
   "execution_count": 306,
   "metadata": {},
   "outputs": [
    {
     "name": "stdout",
     "output_type": "stream",
     "text": [
      "<class 'pandas.core.frame.DataFrame'>\n",
      "RangeIndex: 999 entries, 1 to 999\n",
      "Data columns (total 14 columns):\n",
      " #   Column  Non-Null Count  Dtype         \n",
      "---  ------  --------------  -----         \n",
      " 0   아이디     999 non-null    object        \n",
      " 1   리뷰어 등급  999 non-null    object        \n",
      " 2   작성 날짜   999 non-null    datetime64[ns]\n",
      " 3   옵션1     999 non-null    object        \n",
      " 4   옵션2     999 non-null    object        \n",
      " 5   상품 사이즈  999 non-null    object        \n",
      " 6   퀄리티     999 non-null    object        \n",
      " 7   색감      999 non-null    object        \n",
      " 8   키       999 non-null    float64       \n",
      " 9   몸무게     999 non-null    float64       \n",
      " 10  사이즈     999 non-null    object        \n",
      " 11  리뷰내용    999 non-null    object        \n",
      " 12  옷종류     999 non-null    object        \n",
      " 13  사이즈번호   917 non-null    object        \n",
      "dtypes: datetime64[ns](1), float64(2), object(11)\n",
      "memory usage: 109.4+ KB\n"
>>>>>>> fd4b014bf4a65a0f549115112bb1032f653b5e74
     ]
    }
   ],
   "source": [
    "df1.info()"
   ]
  },
  {
   "cell_type": "markdown",
   "metadata": {},
   "source": [
    "### 04. 사이즈 타입을 수치형으로 변환 후, 결측치 확인 뒤 평균값 채우기 \n",
    "- 숫자형(float)으로 변환"
   ]
  },
  {
   "cell_type": "code",
<<<<<<< HEAD
   "execution_count": 42,
=======
   "execution_count": 307,
>>>>>>> fd4b014bf4a65a0f549115112bb1032f653b5e74
   "metadata": {},
   "outputs": [
    {
     "data": {
      "text/plain": [
       "1      55.0\n",
       "2      66.0\n",
       "3      55.0\n",
       "4      55.0\n",
       "5      44.0\n",
       "       ... \n",
       "995    55.0\n",
       "996    55.0\n",
       "997    44.0\n",
       "998    55.0\n",
       "999     NaN\n",
<<<<<<< HEAD
       "Name: 사이즈, Length: 999, dtype: float64"
      ]
     },
     "execution_count": 42,
=======
       "Name: 사이즈번호, Length: 999, dtype: float64"
      ]
     },
     "execution_count": 307,
>>>>>>> fd4b014bf4a65a0f549115112bb1032f653b5e74
     "metadata": {},
     "output_type": "execute_result"
    }
   ],
   "source": [
    "# '사이즈' 컬럼 확인 (숫자만 추출하여 수치형 변환)\n",
<<<<<<< HEAD
    "df1['사이즈'] = df1['사이즈'].astype(str).str.replace(r'[^0-9]', '', regex=True).str.strip()  # 숫자만 남기기\n",
    "df1['사이즈'] = pd.to_numeric(df1['사이즈'], errors='coerce')  # 수치형 변환\n",
    "df1['사이즈']"
=======
    "df1['사이즈번호'] = df1['사이즈번호'].astype(str).str.replace(r'[^0-9]', '', regex=True).str.strip()  # 숫자만 남기기\n",
    "df1['사이즈번호'] = pd.to_numeric(df1['사이즈번호'], errors='coerce')  # 수치형 변환\n",
    "df1['사이즈번호']"
>>>>>>> fd4b014bf4a65a0f549115112bb1032f653b5e74
   ]
  },
  {
   "cell_type": "code",
<<<<<<< HEAD
   "execution_count": 43,
=======
   "execution_count": 308,
>>>>>>> fd4b014bf4a65a0f549115112bb1032f653b5e74
   "metadata": {},
   "outputs": [
    {
     "name": "stdout",
     "output_type": "stream",
     "text": [
      "결측치 개수 (값 채우기 전): 82\n"
     ]
    }
   ],
   "source": [
    "# 1. 결측치 확인\n",
<<<<<<< HEAD
    "print(f\"결측치 개수 (값 채우기 전): {df1['사이즈'].isna().sum()}\")"
=======
    "print(f\"결측치 개수 (값 채우기 전): {df1['사이즈번호'].isna().sum()}\")"
>>>>>>> fd4b014bf4a65a0f549115112bb1032f653b5e74
   ]
  },
  {
   "cell_type": "code",
<<<<<<< HEAD
   "execution_count": 44,
=======
   "execution_count": 309,
>>>>>>> fd4b014bf4a65a0f549115112bb1032f653b5e74
   "metadata": {},
   "outputs": [
    {
     "name": "stdout",
     "output_type": "stream",
     "text": [
      "\n",
      "결측치 제외한 '사이즈번호' 통계량:\n",
      "count    917.000000\n",
      "mean      53.164667\n",
      "std        7.532037\n",
      "min       33.000000\n",
      "25%       44.000000\n",
      "50%       55.000000\n",
      "75%       55.000000\n",
      "max       88.000000\n",
<<<<<<< HEAD
      "Name: 사이즈, dtype: float64\n"
=======
      "Name: 사이즈번호, dtype: float64\n"
>>>>>>> fd4b014bf4a65a0f549115112bb1032f653b5e74
     ]
    }
   ],
   "source": [
    "# 2. 결측치 제외한 데이터 통계 확인\n",
    "print(\"\\n결측치 제외한 '사이즈번호' 통계량:\")\n",
<<<<<<< HEAD
    "print(df1['사이즈'].dropna().describe())"
=======
    "print(df1['사이즈번호'].dropna().describe())"
>>>>>>> fd4b014bf4a65a0f549115112bb1032f653b5e74
   ]
  },
  {
   "cell_type": "code",
<<<<<<< HEAD
   "execution_count": 46,
   "metadata": {},
   "outputs": [
    {
     "name": "stderr",
     "output_type": "stream",
     "text": [
      "findfont: Font family 'NanumGothic' not found.\n",
      "findfont: Font family 'NanumGothic' not found.\n",
      "findfont: Font family 'NanumGothic' not found.\n",
      "findfont: Font family 'NanumGothic' not found.\n",
      "findfont: Font family 'NanumGothic' not found.\n",
      "findfont: Font family 'NanumGothic' not found.\n",
      "findfont: Font family 'NanumGothic' not found.\n",
      "findfont: Font family 'NanumGothic' not found.\n",
      "findfont: Font family 'NanumGothic' not found.\n",
      "c:\\Users\\asia\\anaconda3\\envs\\project\\lib\\site-packages\\IPython\\core\\pylabtools.py:170: UserWarning: Glyph 48712 (\\N{HANGUL SYLLABLE BIN}) missing from font(s) DejaVu Sans.\n",
      "  fig.canvas.print_figure(bytes_io, **kw)\n",
      "c:\\Users\\asia\\anaconda3\\envs\\project\\lib\\site-packages\\IPython\\core\\pylabtools.py:170: UserWarning: Glyph 46020 (\\N{HANGUL SYLLABLE DO}) missing from font(s) DejaVu Sans.\n",
      "  fig.canvas.print_figure(bytes_io, **kw)\n",
      "c:\\Users\\asia\\anaconda3\\envs\\project\\lib\\site-packages\\IPython\\core\\pylabtools.py:170: UserWarning: Glyph 49688 (\\N{HANGUL SYLLABLE SU}) missing from font(s) DejaVu Sans.\n",
      "  fig.canvas.print_figure(bytes_io, **kw)\n",
      "findfont: Font family 'NanumGothic' not found.\n",
      "findfont: Font family 'NanumGothic' not found.\n",
      "c:\\Users\\asia\\anaconda3\\envs\\project\\lib\\site-packages\\IPython\\core\\pylabtools.py:170: UserWarning: Glyph 49324 (\\N{HANGUL SYLLABLE SA}) missing from font(s) DejaVu Sans.\n",
      "  fig.canvas.print_figure(bytes_io, **kw)\n",
      "c:\\Users\\asia\\anaconda3\\envs\\project\\lib\\site-packages\\IPython\\core\\pylabtools.py:170: UserWarning: Glyph 51060 (\\N{HANGUL SYLLABLE I}) missing from font(s) DejaVu Sans.\n",
      "  fig.canvas.print_figure(bytes_io, **kw)\n",
      "c:\\Users\\asia\\anaconda3\\envs\\project\\lib\\site-packages\\IPython\\core\\pylabtools.py:170: UserWarning: Glyph 51592 (\\N{HANGUL SYLLABLE JEU}) missing from font(s) DejaVu Sans.\n",
      "  fig.canvas.print_figure(bytes_io, **kw)\n",
      "c:\\Users\\asia\\anaconda3\\envs\\project\\lib\\site-packages\\IPython\\core\\pylabtools.py:170: UserWarning: Glyph 45936 (\\N{HANGUL SYLLABLE DE}) missing from font(s) DejaVu Sans.\n",
      "  fig.canvas.print_figure(bytes_io, **kw)\n",
      "c:\\Users\\asia\\anaconda3\\envs\\project\\lib\\site-packages\\IPython\\core\\pylabtools.py:170: UserWarning: Glyph 53552 (\\N{HANGUL SYLLABLE TEO}) missing from font(s) DejaVu Sans.\n",
      "  fig.canvas.print_figure(bytes_io, **kw)\n",
      "c:\\Users\\asia\\anaconda3\\envs\\project\\lib\\site-packages\\IPython\\core\\pylabtools.py:170: UserWarning: Glyph 48516 (\\N{HANGUL SYLLABLE BUN}) missing from font(s) DejaVu Sans.\n",
      "  fig.canvas.print_figure(bytes_io, **kw)\n",
      "c:\\Users\\asia\\anaconda3\\envs\\project\\lib\\site-packages\\IPython\\core\\pylabtools.py:170: UserWarning: Glyph 54252 (\\N{HANGUL SYLLABLE PO}) missing from font(s) DejaVu Sans.\n",
      "  fig.canvas.print_figure(bytes_io, **kw)\n",
      "c:\\Users\\asia\\anaconda3\\envs\\project\\lib\\site-packages\\IPython\\core\\pylabtools.py:170: UserWarning: Glyph 44208 (\\N{HANGUL SYLLABLE GYEOL}) missing from font(s) DejaVu Sans.\n",
      "  fig.canvas.print_figure(bytes_io, **kw)\n",
      "c:\\Users\\asia\\anaconda3\\envs\\project\\lib\\site-packages\\IPython\\core\\pylabtools.py:170: UserWarning: Glyph 52769 (\\N{HANGUL SYLLABLE CEUG}) missing from font(s) DejaVu Sans.\n",
      "  fig.canvas.print_figure(bytes_io, **kw)\n",
      "c:\\Users\\asia\\anaconda3\\envs\\project\\lib\\site-packages\\IPython\\core\\pylabtools.py:170: UserWarning: Glyph 52824 (\\N{HANGUL SYLLABLE CI}) missing from font(s) DejaVu Sans.\n",
      "  fig.canvas.print_figure(bytes_io, **kw)\n",
      "c:\\Users\\asia\\anaconda3\\envs\\project\\lib\\site-packages\\IPython\\core\\pylabtools.py:170: UserWarning: Glyph 51228 (\\N{HANGUL SYLLABLE JE}) missing from font(s) DejaVu Sans.\n",
      "  fig.canvas.print_figure(bytes_io, **kw)\n",
      "c:\\Users\\asia\\anaconda3\\envs\\project\\lib\\site-packages\\IPython\\core\\pylabtools.py:170: UserWarning: Glyph 50808 (\\N{HANGUL SYLLABLE OE}) missing from font(s) DejaVu Sans.\n",
      "  fig.canvas.print_figure(bytes_io, **kw)\n",
      "findfont: Font family 'NanumGothic' not found.\n",
      "findfont: Font family 'NanumGothic' not found.\n",
      "findfont: Font family 'NanumGothic' not found.\n",
      "findfont: Font family 'NanumGothic' not found.\n",
      "findfont: Font family 'NanumGothic' not found.\n",
      "findfont: Font family 'NanumGothic' not found.\n",
      "findfont: Font family 'NanumGothic' not found.\n",
      "findfont: Font family 'NanumGothic' not found.\n",
      "findfont: Font family 'NanumGothic' not found.\n",
      "c:\\Users\\asia\\anaconda3\\envs\\project\\lib\\site-packages\\IPython\\core\\pylabtools.py:170: UserWarning: Glyph 54217 (\\N{HANGUL SYLLABLE PYEONG}) missing from font(s) DejaVu Sans.\n",
      "  fig.canvas.print_figure(bytes_io, **kw)\n",
      "c:\\Users\\asia\\anaconda3\\envs\\project\\lib\\site-packages\\IPython\\core\\pylabtools.py:170: UserWarning: Glyph 44512 (\\N{HANGUL SYLLABLE GYUN}) missing from font(s) DejaVu Sans.\n",
      "  fig.canvas.print_figure(bytes_io, **kw)\n",
      "findfont: Font family 'NanumGothic' not found.\n",
      "findfont: Font family 'NanumGothic' not found.\n",
      "c:\\Users\\asia\\anaconda3\\envs\\project\\lib\\site-packages\\IPython\\core\\pylabtools.py:170: UserWarning: Glyph 51473 (\\N{HANGUL SYLLABLE JUNG}) missing from font(s) DejaVu Sans.\n",
      "  fig.canvas.print_figure(bytes_io, **kw)\n",
      "c:\\Users\\asia\\anaconda3\\envs\\project\\lib\\site-packages\\IPython\\core\\pylabtools.py:170: UserWarning: Glyph 50521 (\\N{HANGUL SYLLABLE ANG}) missing from font(s) DejaVu Sans.\n",
      "  fig.canvas.print_figure(bytes_io, **kw)\n",
      "c:\\Users\\asia\\anaconda3\\envs\\project\\lib\\site-packages\\IPython\\core\\pylabtools.py:170: UserWarning: Glyph 44050 (\\N{HANGUL SYLLABLE GABS}) missing from font(s) DejaVu Sans.\n",
      "  fig.canvas.print_figure(bytes_io, **kw)\n",
      "findfont: Font family 'NanumGothic' not found.\n",
      "findfont: Font family 'NanumGothic' not found.\n",
      "findfont: Font family 'NanumGothic' not found.\n",
      "findfont: Font family 'NanumGothic' not found.\n",
      "findfont: Font family 'NanumGothic' not found.\n",
      "findfont: Font family 'NanumGothic' not found.\n",
      "findfont: Font family 'NanumGothic' not found.\n",
      "findfont: Font family 'NanumGothic' not found.\n",
      "findfont: Font family 'NanumGothic' not found.\n",
      "findfont: Font family 'NanumGothic' not found.\n",
      "findfont: Font family 'NanumGothic' not found.\n",
      "findfont: Font family 'NanumGothic' not found.\n",
      "findfont: Font family 'NanumGothic' not found.\n",
      "findfont: Font family 'NanumGothic' not found.\n",
      "findfont: Font family 'NanumGothic' not found.\n",
      "findfont: Font family 'NanumGothic' not found.\n",
      "findfont: Font family 'NanumGothic' not found.\n",
      "findfont: Font family 'NanumGothic' not found.\n",
      "findfont: Font family 'NanumGothic' not found.\n",
      "findfont: Font family 'NanumGothic' not found.\n",
      "findfont: Font family 'NanumGothic' not found.\n",
      "findfont: Font family 'NanumGothic' not found.\n",
      "findfont: Font family 'NanumGothic' not found.\n",
      "findfont: Font family 'NanumGothic' not found.\n",
      "findfont: Font family 'NanumGothic' not found.\n",
      "findfont: Font family 'NanumGothic' not found.\n",
      "findfont: Font family 'NanumGothic' not found.\n",
      "findfont: Font family 'NanumGothic' not found.\n",
      "findfont: Font family 'NanumGothic' not found.\n",
      "findfont: Font family 'NanumGothic' not found.\n",
      "findfont: Font family 'NanumGothic' not found.\n",
      "findfont: Font family 'NanumGothic' not found.\n",
      "findfont: Font family 'NanumGothic' not found.\n",
      "findfont: Font family 'NanumGothic' not found.\n",
      "findfont: Font family 'NanumGothic' not found.\n",
      "findfont: Font family 'NanumGothic' not found.\n",
      "findfont: Font family 'NanumGothic' not found.\n",
      "findfont: Font family 'NanumGothic' not found.\n",
      "findfont: Font family 'NanumGothic' not found.\n",
      "findfont: Font family 'NanumGothic' not found.\n",
      "findfont: Font family 'NanumGothic' not found.\n",
      "findfont: Font family 'NanumGothic' not found.\n",
      "findfont: Font family 'NanumGothic' not found.\n",
      "findfont: Font family 'NanumGothic' not found.\n",
      "findfont: Font family 'NanumGothic' not found.\n",
      "findfont: Font family 'NanumGothic' not found.\n",
      "findfont: Font family 'NanumGothic' not found.\n",
      "findfont: Font family 'NanumGothic' not found.\n",
      "findfont: Font family 'NanumGothic' not found.\n",
      "findfont: Font family 'NanumGothic' not found.\n",
      "findfont: Font family 'NanumGothic' not found.\n",
      "findfont: Font family 'NanumGothic' not found.\n",
      "findfont: Font family 'NanumGothic' not found.\n",
      "findfont: Font family 'NanumGothic' not found.\n",
      "findfont: Font family 'NanumGothic' not found.\n",
      "findfont: Font family 'NanumGothic' not found.\n",
      "findfont: Font family 'NanumGothic' not found.\n"
     ]
    },
    {
     "data": {
      "image/png": "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",
=======
   "execution_count": 310,
   "metadata": {},
   "outputs": [
    {
     "data": {
      "image/png": "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",
>>>>>>> fd4b014bf4a65a0f549115112bb1032f653b5e74
      "text/plain": [
       "<Figure size 1000x600 with 1 Axes>"
      ]
     },
     "metadata": {},
     "output_type": "display_data"
    }
   ],
   "source": [
    "import matplotlib.pyplot as plt\n",
    "import seaborn as sns\n",
    "\n",
    "# '사이즈' 데이터 분포 시각화\n",
    "plt.figure(figsize=(10, 6))\n",
<<<<<<< HEAD
    "sns.histplot(df1['사이즈'].dropna(), kde=True, bins=30, color='skyblue', edgecolor='black')\n",
    "\n",
    "# 제목과 라벨 설정\n",
    "plt.title(\"사이즈데이터 분포 (결측치 제외)\", fontsize=16)\n",
    "plt.xlabel(\"사이즈\", fontsize=14)\n",
    "plt.ylabel(\"빈도수\", fontsize=14)\n",
    "\n",
    "# 평균과 중앙값 표시\n",
    "plt.axvline(df1['사이즈'].mean(), color='red', linestyle='--', label=f\"평균: {df1['사이즈'].mean():.2f}\")\n",
    "plt.axvline(df1['사이즈'].median(), color='green', linestyle='-', label=f\"중앙값: {df1['사이즈'].median():.2f}\")\n",
=======
    "sns.histplot(df1['사이즈번호'].dropna(), kde=True, bins=30, color='skyblue', edgecolor='black')\n",
    "\n",
    "# 제목과 라벨 설정\n",
    "plt.title(\"사이즈번호데이터 분포 (결측치 제외)\", fontsize=16)\n",
    "plt.xlabel(\"사이즈번호\", fontsize=14)\n",
    "plt.ylabel(\"빈도수\", fontsize=14)\n",
    "\n",
    "# 평균과 중앙값 표시\n",
    "plt.axvline(df1['사이즈번호'].mean(), color='red', linestyle='--', label=f\"평균: {df1['사이즈번호'].mean():.2f}\")\n",
    "plt.axvline(df1['사이즈번호'].median(), color='green', linestyle='-', label=f\"중앙값: {df1['사이즈번호'].median():.2f}\")\n",
>>>>>>> fd4b014bf4a65a0f549115112bb1032f653b5e74
    "\n",
    "# 범례 표시\n",
    "plt.legend()\n",
    "\n",
    "# 그래프 출력\n",
    "plt.show()\n"
   ]
  },
  {
   "cell_type": "code",
<<<<<<< HEAD
   "execution_count": 47,
=======
   "execution_count": 311,
>>>>>>> fd4b014bf4a65a0f549115112bb1032f653b5e74
   "metadata": {},
   "outputs": [
    {
     "name": "stdout",
     "output_type": "stream",
     "text": [
      "결측치 개수 (처리 후): 0\n"
     ]
    }
   ],
   "source": [
    "# 사이즈번호의 결측치를 최빈값으로 대체\n",
<<<<<<< HEAD
    "df1['사이즈'] = df1['사이즈'].fillna(df1['사이즈'].mode()[0])\n",
    "\n",
    "# 결측치 대체 후 결과 확인\n",
    "print(\"결측치 개수 (처리 후):\", df1['사이즈'].isna().sum())\n"
   ]
  },
  {
   "cell_type": "markdown",
   "metadata": {},
   "source": [
    "### 전처리 폴더 만들어야함 "
=======
    "df1['사이즈번호'] = df1['사이즈번호'].fillna(df1['사이즈번호'].mode()[0])\n",
    "\n",
    "# 결측치 대체 후 결과 확인\n",
    "print(\"결측치 개수 (처리 후):\", df1['사이즈번호'].isna().sum())\n"
>>>>>>> fd4b014bf4a65a0f549115112bb1032f653b5e74
   ]
  },
  {
   "cell_type": "code",
<<<<<<< HEAD
   "execution_count": 50,
=======
   "execution_count": 313,
>>>>>>> fd4b014bf4a65a0f549115112bb1032f653b5e74
   "metadata": {},
   "outputs": [
    {
     "name": "stdout",
     "output_type": "stream",
     "text": [
<<<<<<< HEAD
      "데이터가 저장되었습니다: C:\\Users\\asia\\Desktop\\ai_project\\전처리\\전처리_슬리브리스_p3_135006673.csv\n"
=======
      "데이터가 저장되었습니다: C:\\Users\\zts1113\\Desktop\\AI_Project\\전처리\\전처리_슬리브리스_p1_112538672.csv\n"
>>>>>>> fd4b014bf4a65a0f549115112bb1032f653b5e74
     ]
    }
   ],
   "source": [
    "import pandas as pd\n",
    "\n",
    "# 데이터 저장 경로\n",
<<<<<<< HEAD
    "save_path = r'C:\\Users\\asia\\Desktop\\ai_project\\전처리\\전처리_슬리브리스_p1_112538672.csv'\n",
=======
    "save_path = r'C:\\Users\\zts1113\\Desktop\\AI_Project\\전처리\\전처리_슬리브리스_p1_112538672.csv'\n",
>>>>>>> fd4b014bf4a65a0f549115112bb1032f653b5e74
    "# CSV 파일로 저장\n",
    "df1.to_csv(save_path, index=False, encoding='utf-8-sig')\n",
    "\n",
    "print(f\"데이터가 저장되었습니다: {save_path}\")\n"
   ]
  },
  {
   "cell_type": "code",
   "execution_count": null,
   "metadata": {},
   "outputs": [],
   "source": []
  }
 ],
 "metadata": {
  "kernelspec": {
<<<<<<< HEAD
   "display_name": "project",
=======
   "display_name": "AI_Project",
>>>>>>> fd4b014bf4a65a0f549115112bb1032f653b5e74
   "language": "python",
   "name": "python3"
  },
  "language_info": {
   "codemirror_mode": {
    "name": "ipython",
    "version": 3
   },
   "file_extension": ".py",
   "mimetype": "text/x-python",
   "name": "python",
   "nbconvert_exporter": "python",
   "pygments_lexer": "ipython3",
   "version": "3.10.16"
  }
 },
 "nbformat": 4,
 "nbformat_minor": 2
}
