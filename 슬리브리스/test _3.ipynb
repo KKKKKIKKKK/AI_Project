{
 "cells": [
  {
   "cell_type": "markdown",
   "metadata": {},
   "source": [
    "#### 문제점\n",
    "- 1. 0번이 nan 값으로 뽑혀가지고. 1000개를 추출했지만 999개이다. "
   ]
  },
  {
   "cell_type": "code",
   "execution_count": 272,
   "metadata": {},
   "outputs": [],
   "source": [
    "import pandas as pd "
   ]
  },
  {
   "cell_type": "code",
   "execution_count": 273,
   "metadata": {},
   "outputs": [
    {
     "data": {
      "text/html": [
       "<div>\n",
       "<style scoped>\n",
       "    .dataframe tbody tr th:only-of-type {\n",
       "        vertical-align: middle;\n",
       "    }\n",
       "\n",
       "    .dataframe tbody tr th {\n",
       "        vertical-align: top;\n",
       "    }\n",
       "\n",
       "    .dataframe thead th {\n",
       "        text-align: right;\n",
       "    }\n",
       "</style>\n",
       "<table border=\"1\" class=\"dataframe\">\n",
       "  <thead>\n",
       "    <tr style=\"text-align: right;\">\n",
       "      <th></th>\n",
       "      <th>아이디</th>\n",
       "      <th>리뷰어 등급</th>\n",
       "      <th>작성 날짜</th>\n",
       "      <th>옵션1</th>\n",
       "      <th>옵션2</th>\n",
       "      <th>상품 사이즈</th>\n",
       "      <th>퀄리티</th>\n",
       "      <th>색감</th>\n",
       "      <th>키</th>\n",
       "      <th>몸무게</th>\n",
       "      <th>사이즈</th>\n",
       "      <th>리뷰내용</th>\n",
       "    </tr>\n",
       "  </thead>\n",
       "  <tbody>\n",
       "    <tr>\n",
       "      <th>0</th>\n",
       "      <td>NaN</td>\n",
       "      <td>NaN</td>\n",
       "      <td>NaN</td>\n",
       "      <td>NaN</td>\n",
       "      <td>NaN</td>\n",
       "      <td>NaN</td>\n",
       "      <td>NaN</td>\n",
       "      <td>NaN</td>\n",
       "      <td>NaN</td>\n",
       "      <td>NaN</td>\n",
       "      <td>NaN</td>\n",
       "      <td>NaN</td>\n",
       "    </tr>\n",
       "    <tr>\n",
       "      <th>1</th>\n",
       "      <td>nxxhee</td>\n",
       "      <td>탑리뷰어</td>\n",
       "      <td>24.11.27</td>\n",
       "      <td>(롱ver)아이보리</td>\n",
       "      <td>one size</td>\n",
       "      <td>정사이즈예요</td>\n",
       "      <td>보통이에요</td>\n",
       "      <td>화면과 비슷해요</td>\n",
       "      <td>164cm</td>\n",
       "      <td>56kg</td>\n",
       "      <td>상의 55</td>\n",
       "      <td>제 인생은 캡나시 알기 전과 후로 나뉩니다,,\\r\\nZZIZZI가 작아서 그런지 모...</td>\n",
       "    </tr>\n",
       "    <tr>\n",
       "      <th>2</th>\n",
       "      <td>u2QwGGfF</td>\n",
       "      <td>NaN</td>\n",
       "      <td>24.07.07</td>\n",
       "      <td>블랙</td>\n",
       "      <td>L</td>\n",
       "      <td>정사이즈예요</td>\n",
       "      <td>아주 만족해요</td>\n",
       "      <td>화면과 비슷해요</td>\n",
       "      <td>163cm</td>\n",
       "      <td>58kg</td>\n",
       "      <td>상의 66</td>\n",
       "      <td>L사이즈가 있길래 직잭배송으로 구매했더니 아침에 바로 입어볼 수 있었네요ㅎㅎ L사이...</td>\n",
       "    </tr>\n",
       "    <tr>\n",
       "      <th>3</th>\n",
       "      <td>WMKwL2mc</td>\n",
       "      <td>NaN</td>\n",
       "      <td>24.06.26</td>\n",
       "      <td>(롱롱ver)블랙</td>\n",
       "      <td>one size</td>\n",
       "      <td>정사이즈예요</td>\n",
       "      <td>아주 만족해요</td>\n",
       "      <td>화면과 비슷해요</td>\n",
       "      <td>156cm</td>\n",
       "      <td>50kg</td>\n",
       "      <td>상의 55</td>\n",
       "      <td>이가격에, 이 옵션 수에, 이런 총알배송??? 만족도 최상. 당장 사십시오. 저는 ...</td>\n",
       "    </tr>\n",
       "    <tr>\n",
       "      <th>4</th>\n",
       "      <td>HCi3CFRP</td>\n",
       "      <td>NaN</td>\n",
       "      <td>25.01.09</td>\n",
       "      <td>(기모롱ver)베이지</td>\n",
       "      <td>one size</td>\n",
       "      <td>정사이즈예요</td>\n",
       "      <td>아주 만족해요</td>\n",
       "      <td>화면과 비슷해요</td>\n",
       "      <td>167cm</td>\n",
       "      <td>52kg</td>\n",
       "      <td>상의 55</td>\n",
       "      <td>가격대비 품질이 너무 좋네요. \\r\\n셔링들어간 건 처음입는데 몸라인이 정말 예뻐보...</td>\n",
       "    </tr>\n",
       "    <tr>\n",
       "      <th>...</th>\n",
       "      <td>...</td>\n",
       "      <td>...</td>\n",
       "      <td>...</td>\n",
       "      <td>...</td>\n",
       "      <td>...</td>\n",
       "      <td>...</td>\n",
       "      <td>...</td>\n",
       "      <td>...</td>\n",
       "      <td>...</td>\n",
       "      <td>...</td>\n",
       "      <td>...</td>\n",
       "      <td>...</td>\n",
       "    </tr>\n",
       "    <tr>\n",
       "      <th>995</th>\n",
       "      <td>XaE4oG2g</td>\n",
       "      <td>상위 30%</td>\n",
       "      <td>24.10.17</td>\n",
       "      <td>아이보리</td>\n",
       "      <td>one size</td>\n",
       "      <td>정사이즈예요</td>\n",
       "      <td>보통이에요</td>\n",
       "      <td>화면과 비슷해요</td>\n",
       "      <td>156cm</td>\n",
       "      <td>48kg</td>\n",
       "      <td>상의 55</td>\n",
       "      <td>75B 가슴이 조금 쳐진 스타일입니다🙈\\r\\n단독으로 입는 게 맞겠죠?\\r\\n절대 ...</td>\n",
       "    </tr>\n",
       "    <tr>\n",
       "      <th>996</th>\n",
       "      <td>jliPGve6</td>\n",
       "      <td>상위 15%</td>\n",
       "      <td>24.10.10</td>\n",
       "      <td>아이보리</td>\n",
       "      <td>one size</td>\n",
       "      <td>정사이즈예요</td>\n",
       "      <td>보통이에요</td>\n",
       "      <td>화면과 비슷해요</td>\n",
       "      <td>165cm</td>\n",
       "      <td>52kg</td>\n",
       "      <td>상의 55</td>\n",
       "      <td>받았을 때 좀 작아보였는데\\r\\n막상 입으니까 속옷 안입고 요거만 입어도 핏도 괜찮...</td>\n",
       "    </tr>\n",
       "    <tr>\n",
       "      <th>997</th>\n",
       "      <td>orDbsTqv</td>\n",
       "      <td>상위 30%</td>\n",
       "      <td>24.10.02</td>\n",
       "      <td>(롱ver)그레이</td>\n",
       "      <td>one size</td>\n",
       "      <td>정사이즈예요</td>\n",
       "      <td>아주 만족해요</td>\n",
       "      <td>화면과 비슷해요</td>\n",
       "      <td>164cm</td>\n",
       "      <td>51kg</td>\n",
       "      <td>상의 44</td>\n",
       "      <td>끈이 얇아서 몇번 입고 나면 뜯어진다는 타사 제품들도 많은데 여기꺼는 아무리 입고 ...</td>\n",
       "    </tr>\n",
       "    <tr>\n",
       "      <th>998</th>\n",
       "      <td>zjqdiPmt</td>\n",
       "      <td>NaN</td>\n",
       "      <td>24.09.14</td>\n",
       "      <td>(롱ver)크림</td>\n",
       "      <td>one size</td>\n",
       "      <td>정사이즈예요</td>\n",
       "      <td>아주 만족해요</td>\n",
       "      <td>화면과 비슷해요</td>\n",
       "      <td>159cm</td>\n",
       "      <td>55kg</td>\n",
       "      <td>상의 55</td>\n",
       "      <td>후기가 좋아서 구매하려보니 다 품절이더라고요ㅠㅠ\\r\\n재고 있는거로 시켰는데 너무 ...</td>\n",
       "    </tr>\n",
       "    <tr>\n",
       "      <th>999</th>\n",
       "      <td>0814***</td>\n",
       "      <td>NaN</td>\n",
       "      <td>24.09.09</td>\n",
       "      <td>(롱ver)블랙</td>\n",
       "      <td>one size</td>\n",
       "      <td>작아요</td>\n",
       "      <td>별로예요</td>\n",
       "      <td>화면과 비슷해요</td>\n",
       "      <td>NaN</td>\n",
       "      <td>NaN</td>\n",
       "      <td>NaN</td>\n",
       "      <td>냄새 심각합니다\\r\\n지그재그 첫 이용해봤는데 많이 실망이네요\\r\\n뭐 중국 사이트...</td>\n",
       "    </tr>\n",
       "  </tbody>\n",
       "</table>\n",
       "<p>1000 rows × 12 columns</p>\n",
       "</div>"
      ],
      "text/plain": [
       "          아이디  리뷰어 등급     작성 날짜          옵션1       옵션2  상품 사이즈      퀄리티  \\\n",
       "0         NaN     NaN       NaN          NaN       NaN     NaN      NaN   \n",
       "1      nxxhee    탑리뷰어  24.11.27   (롱ver)아이보리  one size  정사이즈예요    보통이에요   \n",
       "2    u2QwGGfF     NaN  24.07.07           블랙         L  정사이즈예요  아주 만족해요   \n",
       "3    WMKwL2mc     NaN  24.06.26    (롱롱ver)블랙  one size  정사이즈예요  아주 만족해요   \n",
       "4    HCi3CFRP     NaN  25.01.09  (기모롱ver)베이지  one size  정사이즈예요  아주 만족해요   \n",
       "..        ...     ...       ...          ...       ...     ...      ...   \n",
       "995  XaE4oG2g  상위 30%  24.10.17         아이보리  one size  정사이즈예요    보통이에요   \n",
       "996  jliPGve6  상위 15%  24.10.10         아이보리  one size  정사이즈예요    보통이에요   \n",
       "997  orDbsTqv  상위 30%  24.10.02    (롱ver)그레이  one size  정사이즈예요  아주 만족해요   \n",
       "998  zjqdiPmt     NaN  24.09.14     (롱ver)크림  one size  정사이즈예요  아주 만족해요   \n",
       "999   0814***     NaN  24.09.09     (롱ver)블랙  one size     작아요     별로예요   \n",
       "\n",
       "           색감      키   몸무게    사이즈  \\\n",
       "0         NaN    NaN   NaN    NaN   \n",
       "1    화면과 비슷해요  164cm  56kg  상의 55   \n",
       "2    화면과 비슷해요  163cm  58kg  상의 66   \n",
       "3    화면과 비슷해요  156cm  50kg  상의 55   \n",
       "4    화면과 비슷해요  167cm  52kg  상의 55   \n",
       "..        ...    ...   ...    ...   \n",
       "995  화면과 비슷해요  156cm  48kg  상의 55   \n",
       "996  화면과 비슷해요  165cm  52kg  상의 55   \n",
       "997  화면과 비슷해요  164cm  51kg  상의 44   \n",
       "998  화면과 비슷해요  159cm  55kg  상의 55   \n",
       "999  화면과 비슷해요    NaN   NaN    NaN   \n",
       "\n",
       "                                                  리뷰내용  \n",
       "0                                                  NaN  \n",
       "1    제 인생은 캡나시 알기 전과 후로 나뉩니다,,\\r\\nZZIZZI가 작아서 그런지 모...  \n",
       "2    L사이즈가 있길래 직잭배송으로 구매했더니 아침에 바로 입어볼 수 있었네요ㅎㅎ L사이...  \n",
       "3    이가격에, 이 옵션 수에, 이런 총알배송??? 만족도 최상. 당장 사십시오. 저는 ...  \n",
       "4    가격대비 품질이 너무 좋네요. \\r\\n셔링들어간 건 처음입는데 몸라인이 정말 예뻐보...  \n",
       "..                                                 ...  \n",
       "995  75B 가슴이 조금 쳐진 스타일입니다🙈\\r\\n단독으로 입는 게 맞겠죠?\\r\\n절대 ...  \n",
       "996  받았을 때 좀 작아보였는데\\r\\n막상 입으니까 속옷 안입고 요거만 입어도 핏도 괜찮...  \n",
       "997  끈이 얇아서 몇번 입고 나면 뜯어진다는 타사 제품들도 많은데 여기꺼는 아무리 입고 ...  \n",
       "998  후기가 좋아서 구매하려보니 다 품절이더라고요ㅠㅠ\\r\\n재고 있는거로 시켰는데 너무 ...  \n",
       "999  냄새 심각합니다\\r\\n지그재그 첫 이용해봤는데 많이 실망이네요\\r\\n뭐 중국 사이트...  \n",
       "\n",
       "[1000 rows x 12 columns]"
      ]
     },
     "execution_count": 273,
     "metadata": {},
     "output_type": "execute_result"
    }
   ],
   "source": [
    "df = pd.read_csv(\"슬리브리스_p1_112538672.csv\")\n",
    "df"
   ]
  },
  {
   "cell_type": "code",
   "execution_count": 274,
   "metadata": {},
   "outputs": [
    {
     "name": "stdout",
     "output_type": "stream",
     "text": [
      "     사이즈  옷종류 사이즈번호\n",
      "0    NaN  NaN   NaN\n",
      "1  상의 55  상의     55\n",
      "2  상의 66  상의     66\n",
      "3  상의 55  상의     55\n",
      "4  상의 55  상의     55\n"
     ]
    }
   ],
   "source": [
    "# '사이즈' 열에서 옷종류와 사이즈번호 분리하여 새로운 데이터프레임 df1에 저장\n",
    "df1 = df.copy()  # 원본 df를 복사하여 df1 생성\n",
    "df1[['옷종류', '사이즈번호']] = df1['사이즈'].str.extract(r'(\\D+)(\\d+)', expand=True)\n",
    "\n",
    "# 결과 확인\n",
    "print(df1[['사이즈', '옷종류', '사이즈번호']].head())"
   ]
  },
  {
   "cell_type": "code",
   "execution_count": 275,
   "metadata": {},
   "outputs": [
    {
     "name": "stdout",
     "output_type": "stream",
     "text": [
      "<class 'pandas.core.frame.DataFrame'>\n",
      "RangeIndex: 1000 entries, 0 to 999\n",
      "Data columns (total 14 columns):\n",
      " #   Column  Non-Null Count  Dtype \n",
      "---  ------  --------------  ----- \n",
      " 0   아이디     999 non-null    object\n",
      " 1   리뷰어 등급  482 non-null    object\n",
      " 2   작성 날짜   999 non-null    object\n",
      " 3   옵션1     999 non-null    object\n",
      " 4   옵션2     999 non-null    object\n",
      " 5   상품 사이즈  999 non-null    object\n",
      " 6   퀄리티     999 non-null    object\n",
      " 7   색감      999 non-null    object\n",
      " 8   키       939 non-null    object\n",
      " 9   몸무게     933 non-null    object\n",
      " 10  사이즈     917 non-null    object\n",
      " 11  리뷰내용    999 non-null    object\n",
      " 12  옷종류     917 non-null    object\n",
      " 13  사이즈번호   917 non-null    object\n",
      "dtypes: object(14)\n",
      "memory usage: 109.5+ KB\n"
     ]
    }
   ],
   "source": [
    "df1.info()"
   ]
  },
  {
   "cell_type": "code",
   "execution_count": 276,
   "metadata": {},
   "outputs": [
    {
     "data": {
      "text/html": [
       "<div>\n",
       "<style scoped>\n",
       "    .dataframe tbody tr th:only-of-type {\n",
       "        vertical-align: middle;\n",
       "    }\n",
       "\n",
       "    .dataframe tbody tr th {\n",
       "        vertical-align: top;\n",
       "    }\n",
       "\n",
       "    .dataframe thead th {\n",
       "        text-align: right;\n",
       "    }\n",
       "</style>\n",
       "<table border=\"1\" class=\"dataframe\">\n",
       "  <thead>\n",
       "    <tr style=\"text-align: right;\">\n",
       "      <th></th>\n",
       "      <th>아이디</th>\n",
       "      <th>리뷰어 등급</th>\n",
       "      <th>작성 날짜</th>\n",
       "      <th>옵션1</th>\n",
       "      <th>옵션2</th>\n",
       "      <th>상품 사이즈</th>\n",
       "      <th>퀄리티</th>\n",
       "      <th>색감</th>\n",
       "      <th>키</th>\n",
       "      <th>몸무게</th>\n",
       "      <th>사이즈</th>\n",
       "      <th>리뷰내용</th>\n",
       "      <th>옷종류</th>\n",
       "      <th>사이즈번호</th>\n",
       "    </tr>\n",
       "  </thead>\n",
       "  <tbody>\n",
       "    <tr>\n",
       "      <th>0</th>\n",
       "      <td>NaN</td>\n",
       "      <td>NaN</td>\n",
       "      <td>NaN</td>\n",
       "      <td>NaN</td>\n",
       "      <td>NaN</td>\n",
       "      <td>NaN</td>\n",
       "      <td>NaN</td>\n",
       "      <td>NaN</td>\n",
       "      <td>NaN</td>\n",
       "      <td>NaN</td>\n",
       "      <td>NaN</td>\n",
       "      <td>NaN</td>\n",
       "      <td>NaN</td>\n",
       "      <td>NaN</td>\n",
       "    </tr>\n",
       "    <tr>\n",
       "      <th>1</th>\n",
       "      <td>nxxhee</td>\n",
       "      <td>탑리뷰어</td>\n",
       "      <td>24.11.27</td>\n",
       "      <td>(롱ver)아이보리</td>\n",
       "      <td>one size</td>\n",
       "      <td>정사이즈예요</td>\n",
       "      <td>보통이에요</td>\n",
       "      <td>화면과 비슷해요</td>\n",
       "      <td>164cm</td>\n",
       "      <td>56kg</td>\n",
       "      <td>상의 55</td>\n",
       "      <td>제 인생은 캡나시 알기 전과 후로 나뉩니다,,\\r\\nZZIZZI가 작아서 그런지 모...</td>\n",
       "      <td>상의</td>\n",
       "      <td>55</td>\n",
       "    </tr>\n",
       "    <tr>\n",
       "      <th>2</th>\n",
       "      <td>u2QwGGfF</td>\n",
       "      <td>NaN</td>\n",
       "      <td>24.07.07</td>\n",
       "      <td>블랙</td>\n",
       "      <td>L</td>\n",
       "      <td>정사이즈예요</td>\n",
       "      <td>아주 만족해요</td>\n",
       "      <td>화면과 비슷해요</td>\n",
       "      <td>163cm</td>\n",
       "      <td>58kg</td>\n",
       "      <td>상의 66</td>\n",
       "      <td>L사이즈가 있길래 직잭배송으로 구매했더니 아침에 바로 입어볼 수 있었네요ㅎㅎ L사이...</td>\n",
       "      <td>상의</td>\n",
       "      <td>66</td>\n",
       "    </tr>\n",
       "    <tr>\n",
       "      <th>3</th>\n",
       "      <td>WMKwL2mc</td>\n",
       "      <td>NaN</td>\n",
       "      <td>24.06.26</td>\n",
       "      <td>(롱롱ver)블랙</td>\n",
       "      <td>one size</td>\n",
       "      <td>정사이즈예요</td>\n",
       "      <td>아주 만족해요</td>\n",
       "      <td>화면과 비슷해요</td>\n",
       "      <td>156cm</td>\n",
       "      <td>50kg</td>\n",
       "      <td>상의 55</td>\n",
       "      <td>이가격에, 이 옵션 수에, 이런 총알배송??? 만족도 최상. 당장 사십시오. 저는 ...</td>\n",
       "      <td>상의</td>\n",
       "      <td>55</td>\n",
       "    </tr>\n",
       "    <tr>\n",
       "      <th>4</th>\n",
       "      <td>HCi3CFRP</td>\n",
       "      <td>NaN</td>\n",
       "      <td>25.01.09</td>\n",
       "      <td>(기모롱ver)베이지</td>\n",
       "      <td>one size</td>\n",
       "      <td>정사이즈예요</td>\n",
       "      <td>아주 만족해요</td>\n",
       "      <td>화면과 비슷해요</td>\n",
       "      <td>167cm</td>\n",
       "      <td>52kg</td>\n",
       "      <td>상의 55</td>\n",
       "      <td>가격대비 품질이 너무 좋네요. \\r\\n셔링들어간 건 처음입는데 몸라인이 정말 예뻐보...</td>\n",
       "      <td>상의</td>\n",
       "      <td>55</td>\n",
       "    </tr>\n",
       "  </tbody>\n",
       "</table>\n",
       "</div>"
      ],
      "text/plain": [
       "        아이디 리뷰어 등급     작성 날짜          옵션1       옵션2  상품 사이즈      퀄리티  \\\n",
       "0       NaN    NaN       NaN          NaN       NaN     NaN      NaN   \n",
       "1    nxxhee   탑리뷰어  24.11.27   (롱ver)아이보리  one size  정사이즈예요    보통이에요   \n",
       "2  u2QwGGfF    NaN  24.07.07           블랙         L  정사이즈예요  아주 만족해요   \n",
       "3  WMKwL2mc    NaN  24.06.26    (롱롱ver)블랙  one size  정사이즈예요  아주 만족해요   \n",
       "4  HCi3CFRP    NaN  25.01.09  (기모롱ver)베이지  one size  정사이즈예요  아주 만족해요   \n",
       "\n",
       "         색감      키   몸무게    사이즈  \\\n",
       "0       NaN    NaN   NaN    NaN   \n",
       "1  화면과 비슷해요  164cm  56kg  상의 55   \n",
       "2  화면과 비슷해요  163cm  58kg  상의 66   \n",
       "3  화면과 비슷해요  156cm  50kg  상의 55   \n",
       "4  화면과 비슷해요  167cm  52kg  상의 55   \n",
       "\n",
       "                                                리뷰내용  옷종류 사이즈번호  \n",
       "0                                                NaN  NaN   NaN  \n",
       "1  제 인생은 캡나시 알기 전과 후로 나뉩니다,,\\r\\nZZIZZI가 작아서 그런지 모...  상의     55  \n",
       "2  L사이즈가 있길래 직잭배송으로 구매했더니 아침에 바로 입어볼 수 있었네요ㅎㅎ L사이...  상의     66  \n",
       "3  이가격에, 이 옵션 수에, 이런 총알배송??? 만족도 최상. 당장 사십시오. 저는 ...  상의     55  \n",
       "4  가격대비 품질이 너무 좋네요. \\r\\n셔링들어간 건 처음입는데 몸라인이 정말 예뻐보...  상의     55  "
      ]
     },
     "execution_count": 276,
     "metadata": {},
     "output_type": "execute_result"
    }
   ],
   "source": [
    "df1.head()"
   ]
  },
  {
   "cell_type": "code",
   "execution_count": 277,
   "metadata": {},
   "outputs": [
    {
     "data": {
      "text/plain": [
       "아이디         1\n",
       "리뷰어 등급    518\n",
       "작성 날짜       1\n",
       "옵션1         1\n",
       "옵션2         1\n",
       "상품 사이즈      1\n",
       "퀄리티         1\n",
       "색감          1\n",
       "키          61\n",
       "몸무게        67\n",
       "사이즈        83\n",
       "리뷰내용        1\n",
       "옷종류        83\n",
       "사이즈번호      83\n",
       "dtype: int64"
      ]
     },
     "execution_count": 277,
     "metadata": {},
     "output_type": "execute_result"
    }
   ],
   "source": [
    "# 결측치 개수 확인\n",
    "df1.isnull().sum()"
   ]
  },
  {
   "cell_type": "markdown",
   "metadata": {},
   "source": [
    "### 결측치제거_1"
   ]
  },
  {
   "cell_type": "code",
   "execution_count": 278,
   "metadata": {},
   "outputs": [
    {
     "name": "stdout",
     "output_type": "stream",
     "text": [
      "<class 'pandas.core.frame.DataFrame'>\n",
      "RangeIndex: 999 entries, 1 to 999\n",
      "Data columns (total 14 columns):\n",
      " #   Column  Non-Null Count  Dtype \n",
      "---  ------  --------------  ----- \n",
      " 0   아이디     999 non-null    object\n",
      " 1   리뷰어 등급  482 non-null    object\n",
      " 2   작성 날짜   999 non-null    object\n",
      " 3   옵션1     999 non-null    object\n",
      " 4   옵션2     999 non-null    object\n",
      " 5   상품 사이즈  999 non-null    object\n",
      " 6   퀄리티     999 non-null    object\n",
      " 7   색감      999 non-null    object\n",
      " 8   키       939 non-null    object\n",
      " 9   몸무게     933 non-null    object\n",
      " 10  사이즈     917 non-null    object\n",
      " 11  리뷰내용    999 non-null    object\n",
      " 12  옷종류     917 non-null    object\n",
      " 13  사이즈번호   917 non-null    object\n",
      "dtypes: object(14)\n",
      "memory usage: 109.4+ KB\n"
     ]
    },
    {
     "data": {
      "text/plain": [
       "아이디         0\n",
       "리뷰어 등급    517\n",
       "작성 날짜       0\n",
       "옵션1         0\n",
       "옵션2         0\n",
       "상품 사이즈      0\n",
       "퀄리티         0\n",
       "색감          0\n",
       "키          60\n",
       "몸무게        66\n",
       "사이즈        82\n",
       "리뷰내용        0\n",
       "옷종류        82\n",
       "사이즈번호      82\n",
       "dtype: int64"
      ]
     },
     "execution_count": 278,
     "metadata": {},
     "output_type": "execute_result"
    }
   ],
   "source": [
    "# 0행제거 \n",
    "df1 = df1.drop(index=0, errors='ignore')\n",
    "\n",
    "# Display the first few rows to confirm removal\n",
    "df1.head(), df1.info()\n",
    "# 결측치 개수 확인\n",
    "df1.isnull().sum()\n"
   ]
  },
  {
   "cell_type": "markdown",
   "metadata": {},
   "source": [
    "### 결측치 대체 \n",
    "01. 리뷰어등급 대체 "
   ]
  },
  {
   "cell_type": "code",
   "execution_count": 279,
   "metadata": {},
   "outputs": [
    {
     "data": {
      "text/plain": [
       "1        탑리뷰어\n",
       "2         Nan\n",
       "3         Nan\n",
       "4         Nan\n",
       "5       상위 5%\n",
       "        ...  \n",
       "995    상위 30%\n",
       "996    상위 15%\n",
       "997    상위 30%\n",
       "998       Nan\n",
       "999       Nan\n",
       "Name: 리뷰어 등급, Length: 999, dtype: object"
      ]
     },
     "execution_count": 279,
     "metadata": {},
     "output_type": "execute_result"
    }
   ],
   "source": [
    "review_1 = df1.loc[:, '리뷰어 등급'] = df1['리뷰어 등급'].fillna('Nan')\n",
    "review_1"
   ]
  },
  {
   "cell_type": "markdown",
   "metadata": {},
   "source": [
    "### 키 결측치 NAN 대체 "
   ]
  },
  {
   "cell_type": "code",
   "execution_count": 280,
   "metadata": {},
   "outputs": [],
   "source": [
    "# # '키' 열의 결측치 처리 후 결과를 df2에 저장\n",
    "# key_1 = df1.loc[:, '키'] = df1['키'].fillna('Nan')\n",
    "# key_1\n"
   ]
  },
  {
   "cell_type": "markdown",
   "metadata": {},
   "source": [
    "### 몸무게 결측치 NAN 대체 "
   ]
  },
  {
   "cell_type": "code",
   "execution_count": 281,
   "metadata": {},
   "outputs": [],
   "source": [
    "# # '몸무게' 열의 결측치 처리 후 결과를 df2에 저장\n",
    "# mom_1 = df1.loc[:, '몸무게'] = df1['몸무게'].fillna('Nan')\n",
    "# mom_1\n"
   ]
  },
  {
   "cell_type": "markdown",
   "metadata": {},
   "source": [
    "### 사이즈 결측치 대체 "
   ]
  },
  {
   "cell_type": "code",
   "execution_count": 282,
   "metadata": {},
   "outputs": [],
   "source": [
    "# # '키' 열의 결측치 처리 후 결과를 df2에 저장\n",
    "# size_1 = df1.loc[:, '사이즈'] = df1['사이즈'].fillna('Nan')\n",
    "# size_1"
   ]
  },
  {
   "cell_type": "code",
   "execution_count": 283,
   "metadata": {},
   "outputs": [
    {
     "name": "stdout",
     "output_type": "stream",
     "text": [
      "아이디        0\n",
      "리뷰어 등급     0\n",
      "작성 날짜      0\n",
      "옵션1        0\n",
      "옵션2        0\n",
      "상품 사이즈     0\n",
      "퀄리티        0\n",
      "색감         0\n",
      "키         60\n",
      "몸무게       66\n",
      "사이즈       82\n",
      "리뷰내용       0\n",
      "옷종류       82\n",
      "사이즈번호     82\n",
      "dtype: int64\n"
     ]
    }
   ],
   "source": [
    "print(df1.isnull().sum())"
   ]
  },
  {
   "cell_type": "code",
   "execution_count": 284,
   "metadata": {},
   "outputs": [
    {
     "name": "stdout",
     "output_type": "stream",
     "text": [
      "<class 'pandas.core.frame.DataFrame'>\n",
      "RangeIndex: 999 entries, 1 to 999\n",
      "Data columns (total 14 columns):\n",
      " #   Column  Non-Null Count  Dtype \n",
      "---  ------  --------------  ----- \n",
      " 0   아이디     999 non-null    object\n",
      " 1   리뷰어 등급  999 non-null    object\n",
      " 2   작성 날짜   999 non-null    object\n",
      " 3   옵션1     999 non-null    object\n",
      " 4   옵션2     999 non-null    object\n",
      " 5   상품 사이즈  999 non-null    object\n",
      " 6   퀄리티     999 non-null    object\n",
      " 7   색감      999 non-null    object\n",
      " 8   키       939 non-null    object\n",
      " 9   몸무게     933 non-null    object\n",
      " 10  사이즈     917 non-null    object\n",
      " 11  리뷰내용    999 non-null    object\n",
      " 12  옷종류     917 non-null    object\n",
      " 13  사이즈번호   917 non-null    object\n",
      "dtypes: object(14)\n",
      "memory usage: 109.4+ KB\n"
     ]
    }
   ],
   "source": [
    "df1.info()"
   ]
  },
  {
   "cell_type": "code",
   "execution_count": 285,
   "metadata": {},
   "outputs": [
    {
     "name": "stdout",
     "output_type": "stream",
     "text": [
      "키 열에 쉼표 포함 여부: False\n",
      "몸무게 열에 쉼표 포함 여부: False\n"
     ]
    }
   ],
   "source": [
    "# 쉼표 포함 여부 확인\n",
    "print(\"키 열에 쉼표 포함 여부:\", df1['키'].str.contains(',').any())\n",
    "print(\"몸무게 열에 쉼표 포함 여부:\", df1['몸무게'].str.contains(',').any())\n",
    "# print(\"작성 날짜 열에 쉼표 포함 여부:\", df1['작성 날짜'].str.contains(',').any())\n"
   ]
  },
  {
   "cell_type": "code",
   "execution_count": 286,
   "metadata": {},
   "outputs": [
    {
     "name": "stdout",
     "output_type": "stream",
     "text": [
      "<class 'pandas.core.frame.DataFrame'>\n",
      "RangeIndex: 999 entries, 1 to 999\n",
      "Data columns (total 14 columns):\n",
      " #   Column  Non-Null Count  Dtype \n",
      "---  ------  --------------  ----- \n",
      " 0   아이디     999 non-null    object\n",
      " 1   리뷰어 등급  999 non-null    object\n",
      " 2   작성 날짜   999 non-null    object\n",
      " 3   옵션1     999 non-null    object\n",
      " 4   옵션2     999 non-null    object\n",
      " 5   상품 사이즈  999 non-null    object\n",
      " 6   퀄리티     999 non-null    object\n",
      " 7   색감      999 non-null    object\n",
      " 8   키       939 non-null    object\n",
      " 9   몸무게     933 non-null    object\n",
      " 10  사이즈     917 non-null    object\n",
      " 11  리뷰내용    999 non-null    object\n",
      " 12  옷종류     917 non-null    object\n",
      " 13  사이즈번호   917 non-null    object\n",
      "dtypes: object(14)\n",
      "memory usage: 109.4+ KB\n"
     ]
    }
   ],
   "source": [
    "# 데이터 타입 및 결측치 확인\n",
    "df1.info()\n"
   ]
  },
  {
   "cell_type": "markdown",
   "metadata": {},
   "source": [
    "#### 3.데이터타입 변경"
   ]
  },
  {
   "cell_type": "markdown",
   "metadata": {},
   "source": [
    "### 01_작성날짜 형식 확인 후 datetime 변경"
   ]
  },
  {
   "cell_type": "code",
   "execution_count": 287,
   "metadata": {},
   "outputs": [
    {
     "name": "stdout",
     "output_type": "stream",
     "text": [
      "1   2024-11-27\n",
      "2   2024-07-07\n",
      "3   2024-06-26\n",
      "4   2025-01-09\n",
      "5   2025-01-02\n",
      "Name: 작성 날짜, dtype: datetime64[ns]\n"
     ]
    }
   ],
   "source": [
    "# '작성 날짜'를 datetime 형식으로 변환\n",
    "df1['작성 날짜'] = pd.to_datetime(df1['작성 날짜'], format='%y.%m.%d', errors='coerce')\n",
    "\n",
    "# 변환된 결과 확인\n",
    "print(df1['작성 날짜'].head())\n"
   ]
  },
  {
   "cell_type": "code",
   "execution_count": 288,
   "metadata": {},
   "outputs": [
    {
     "name": "stdout",
     "output_type": "stream",
     "text": [
      "<class 'pandas.core.frame.DataFrame'>\n",
      "RangeIndex: 999 entries, 1 to 999\n",
      "Data columns (total 14 columns):\n",
      " #   Column  Non-Null Count  Dtype         \n",
      "---  ------  --------------  -----         \n",
      " 0   아이디     999 non-null    object        \n",
      " 1   리뷰어 등급  999 non-null    object        \n",
      " 2   작성 날짜   999 non-null    datetime64[ns]\n",
      " 3   옵션1     999 non-null    object        \n",
      " 4   옵션2     999 non-null    object        \n",
      " 5   상품 사이즈  999 non-null    object        \n",
      " 6   퀄리티     999 non-null    object        \n",
      " 7   색감      999 non-null    object        \n",
      " 8   키       939 non-null    object        \n",
      " 9   몸무게     933 non-null    object        \n",
      " 10  사이즈     917 non-null    object        \n",
      " 11  리뷰내용    999 non-null    object        \n",
      " 12  옷종류     917 non-null    object        \n",
      " 13  사이즈번호   917 non-null    object        \n",
      "dtypes: datetime64[ns](1), object(13)\n",
      "memory usage: 109.4+ KB\n"
     ]
    }
   ],
   "source": [
    "df1.info()"
   ]
  },
  {
   "cell_type": "markdown",
   "metadata": {},
   "source": [
    "### 02 키 타입을 수치형으로 변환 후, 결측치 확인 뒤 평균값 채우기 \n",
    "- 숫자형(float)으로 변환"
   ]
  },
  {
   "cell_type": "code",
   "execution_count": 289,
   "metadata": {},
   "outputs": [],
   "source": [
    "import numpy as np"
   ]
  },
  {
   "cell_type": "code",
   "execution_count": 290,
   "metadata": {},
   "outputs": [],
   "source": [
    "# 1. 문자열 변환 및 'cm' 제거, 수치형으로 변환\n",
    "df1['키'] = df1['키'].astype(str).str.replace('cm', '').str.strip()\n",
    "df1['키'] = pd.to_numeric(df1['키'], errors='coerce')"
   ]
  },
  {
   "cell_type": "code",
   "execution_count": 291,
   "metadata": {},
   "outputs": [
    {
     "name": "stdout",
     "output_type": "stream",
     "text": [
      "결측치 개수 (값 채우기 전): 61\n"
     ]
    }
   ],
   "source": [
    "# 2. 결측치 확인\n",
    "print(f\"결측치 개수 (값 채우기 전): {df1['키'].isna().sum()}\")"
   ]
  },
  {
   "cell_type": "code",
   "execution_count": 292,
   "metadata": {},
   "outputs": [
    {
     "name": "stdout",
     "output_type": "stream",
     "text": [
      "결측치가 포함된 상태에서의 '키' 통계량:\n",
      "count    938.000000\n",
      "mean     161.568230\n",
      "std        4.745175\n",
      "min      148.000000\n",
      "25%      158.000000\n",
      "50%      161.000000\n",
      "75%      165.000000\n",
      "max      175.000000\n",
      "Name: 키, dtype: float64\n"
     ]
    }
   ],
   "source": [
    "# 결측치가 포함된 상태에서 describe로 통계량 확인\n",
    "print(\"결측치가 포함된 상태에서의 '키' 통계량:\")\n",
    "print(df1['키'].describe())"
   ]
  },
  {
   "cell_type": "code",
   "execution_count": 293,
   "metadata": {},
   "outputs": [
    {
     "data": {
      "image/png": "[encoded data removed]",
      "text/plain": [
       "<Figure size 1000x600 with 1 Axes>"
      ]
     },
     "metadata": {},
     "output_type": "display_data"
    }
   ],
   "source": [
    "import matplotlib.pyplot as plt\n",
    "import seaborn as sns\n",
    "from matplotlib import rc\n",
    "\n",
    "# 한글 폰트 설정 (예: NanumGothic)\n",
    "plt.rcParams['font.family'] = 'NanumGothic'  # 설치된 한글 폰트를 사용합니다.\n",
    "plt.rcParams['axes.unicode_minus'] = False   # 마이너스 기호 깨짐 방지\n",
    "\n",
    "# 히스토그램으로 데이터 분포 시각화\n",
    "plt.figure(figsize=(10, 6))\n",
    "sns.histplot(df1['키'].dropna(), kde=True, bins=30, color='skyblue', edgecolor='black')\n",
    "\n",
    "# 한글로 제목 및 라벨 설정\n",
    "plt.title(\"키 데이터 분포 (결측치 포함)\", fontsize=16)\n",
    "plt.xlabel(\"키 (cm)\", fontsize=14)\n",
    "plt.ylabel(\"빈도수\", fontsize=14)\n",
    "\n",
    "# 평균과 중앙값 표시 (한글 범례)\n",
    "plt.axvline(df1['키'].mean(), color='red', linestyle='--', label=f\"평균: {df1['키'].mean():.2f} cm\")\n",
    "plt.axvline(df1['키'].median(), color='green', linestyle='-', label=f\"중앙값: {df1['키'].median():.2f} cm\")\n",
    "\n",
    "# 범례 표시\n",
    "plt.legend()\n",
    "\n",
    "# 그래프 출력\n",
    "plt.show()\n"
   ]
  },
  {
   "cell_type": "code",
   "execution_count": 294,
   "metadata": {},
   "outputs": [
    {
     "name": "stdout",
     "output_type": "stream",
     "text": [
      "결측치 채운 후의 '키' 통계량:\n",
      "count    999.000000\n",
      "mean     161.568230\n",
      "std        4.597871\n",
      "min      148.000000\n",
      "25%      158.000000\n",
      "50%      161.568230\n",
      "75%      164.000000\n",
      "max      175.000000\n",
      "Name: 키, dtype: float64\n"
     ]
    }
   ],
   "source": [
    "# 결측치를 평균값으로 채우기\n",
    "df1['키'] = df1['키'].fillna(df1['키'].mean())\n",
    "\n",
    "# 결측치 채운 후 통계량 확인\n",
    "print(\"결측치 채운 후의 '키' 통계량:\")\n",
    "print(df1['키'].describe())"
   ]
  },
  {
   "cell_type": "code",
   "execution_count": 295,
   "metadata": {},
   "outputs": [],
   "source": [
    "# # 1. 결측치 채우기 (평균값 사용)\n",
    "# # df1['키'] = df1['키'].fillna(df1['키'].mean())\n",
    "\n",
    "# # 2. 문자열로 변환하여 'cm' 제거 및 수치형으로 변환\n",
    "# df1['키'] = df1['키'].astype(str).str.replace('cm', '').str.strip()\n",
    "# df1['키'] = pd.to_numeric(df1['키'], errors='coerce')\n",
    "\n",
    "# #df1['키'].isna().sum() #62\n",
    "# # print(np.quantile(df1['키'].dropna() ,[0.25,0.5,0.75]))\n",
    "# print(df1['키'].describe(), df1['키'].dropna().describe())\n",
    "\n",
    "# # # 3. 결측치 확인\n",
    "# # print(df1['키'].head())\n",
    "# # print(df1.info())\n",
    "\n"
   ]
  },
  {
   "cell_type": "code",
   "execution_count": 296,
   "metadata": {},
   "outputs": [
    {
     "name": "stdout",
     "output_type": "stream",
     "text": [
      "1    164.0\n",
      "2    163.0\n",
      "3    156.0\n",
      "4    167.0\n",
      "5    155.0\n",
      "Name: 키, dtype: float64\n",
      "<class 'pandas.core.frame.DataFrame'>\n",
      "RangeIndex: 999 entries, 1 to 999\n",
      "Data columns (total 14 columns):\n",
      " #   Column  Non-Null Count  Dtype         \n",
      "---  ------  --------------  -----         \n",
      " 0   아이디     999 non-null    object        \n",
      " 1   리뷰어 등급  999 non-null    object        \n",
      " 2   작성 날짜   999 non-null    datetime64[ns]\n",
      " 3   옵션1     999 non-null    object        \n",
      " 4   옵션2     999 non-null    object        \n",
      " 5   상품 사이즈  999 non-null    object        \n",
      " 6   퀄리티     999 non-null    object        \n",
      " 7   색감      999 non-null    object        \n",
      " 8   키       999 non-null    float64       \n",
      " 9   몸무게     933 non-null    object        \n",
      " 10  사이즈     917 non-null    object        \n",
      " 11  리뷰내용    999 non-null    object        \n",
      " 12  옷종류     917 non-null    object        \n",
      " 13  사이즈번호   917 non-null    object        \n",
      "dtypes: datetime64[ns](1), float64(1), object(12)\n",
      "memory usage: 109.4+ KB\n",
      "None\n"
     ]
    }
   ],
   "source": [
    "print(df1['키'].head())\n",
    "print(df1.info())\n"
   ]
  },
  {
   "cell_type": "markdown",
   "metadata": {},
   "source": [
    "### 03. 몸무게 타입을 수치형으로 변환 후, 결측치 확인 뒤 평균값 채우기 \n",
    "- 숫자형(float)으로 변환"
   ]
  },
  {
   "cell_type": "code",
   "execution_count": 297,
   "metadata": {},
   "outputs": [],
   "source": [
    "# '몸무게' 컬럼 확인\n",
    "df1['몸무게'] = df1['몸무게'].astype(str).str.replace('kg', '').str.strip()  # 'kg' 제거 및 공백 제거\n",
    "df1['몸무게'] = pd.to_numeric(df1['몸무게'], errors='coerce')  # 수치형 변환"
   ]
  },
  {
   "cell_type": "code",
   "execution_count": 298,
   "metadata": {},
   "outputs": [
    {
     "name": "stdout",
     "output_type": "stream",
     "text": [
      "결측치 개수 (값 채우기 전): 70\n"
     ]
    }
   ],
   "source": [
    "# 1. 결측치 확인\n",
    "print(f\"결측치 개수 (값 채우기 전): {df1['몸무게'].isna().sum()}\")"
   ]
  },
  {
   "cell_type": "code",
   "execution_count": 299,
   "metadata": {},
   "outputs": [
    {
     "name": "stdout",
     "output_type": "stream",
     "text": [
      "\n",
      "결측치 제외한 '몸무게' 통계량:\n",
      "count    929.000000\n",
      "mean      51.506997\n",
      "std        5.709774\n",
      "min       35.000000\n",
      "25%       48.000000\n",
      "50%       51.000000\n",
      "75%       55.000000\n",
      "max       72.000000\n",
      "Name: 몸무게, dtype: float64\n"
     ]
    }
   ],
   "source": [
    "# 2. 결측치 제외한 데이터 통계 확인\n",
    "print(\"\\n결측치 제외한 '몸무게' 통계량:\")\n",
    "print(df1['몸무게'].dropna().describe())\n"
   ]
  },
  {
   "cell_type": "code",
   "execution_count": 300,
   "metadata": {},
   "outputs": [
    {
     "data": {
      "image/png": "[encoded data removed]",
      "text/plain": [
       "<Figure size 1000x600 with 1 Axes>"
      ]
     },
     "metadata": {},
     "output_type": "display_data"
    }
   ],
   "source": [
    "# 3. 결측치 제외한 데이터 분포 시각화\n",
    "plt.figure(figsize=(10, 6))\n",
    "sns.histplot(df1['몸무게'].dropna(), kde=True, bins=30, color='skyblue', edgecolor='black')\n",
    "plt.title(\"몸무게 데이터 분포 (결측치 제외)\", fontsize=16)\n",
    "plt.xlabel(\"몸무게 (kg)\", fontsize=14)\n",
    "plt.ylabel(\"빈도수\", fontsize=14)\n",
    "plt.axvline(df1['몸무게'].mean(), color='red', linestyle='--', label=f\"평균: {df1['몸무게'].mean():.2f} kg\")\n",
    "plt.axvline(df1['몸무게'].median(), color='green', linestyle='-', label=f\"중앙값: {df1['몸무게'].median():.2f} kg\")\n",
    "plt.legend()\n",
    "plt.show()"
   ]
  },
  {
   "cell_type": "code",
   "execution_count": 301,
   "metadata": {},
   "outputs": [
    {
     "name": "stdout",
     "output_type": "stream",
     "text": [
      "결측치 채우기 전 NaN 값 위치:\n",
      "28    NaN\n",
      "36    NaN\n",
      "46    NaN\n",
      "54    NaN\n",
      "94    NaN\n",
      "       ..\n",
      "911   NaN\n",
      "929   NaN\n",
      "968   NaN\n",
      "975   NaN\n",
      "999   NaN\n",
      "Name: 몸무게, Length: 70, dtype: float64\n"
     ]
    }
   ],
   "source": [
    "# 결측치 채우기 전 NaN 위치 확인\n",
    "print(\"결측치 채우기 전 NaN 값 위치:\")\n",
    "print(df1['몸무게'][df1['몸무게'].isna()])\n",
    "\n",
    "# # '몸무게' 열의 결측치를 평균값으로 채우기\n",
    "# df1['몸무게_filled'] = df1['몸무게'].fillna(df1['몸무게'].mean())\n",
    "\n",
    "# # 결측치 채운 후 비교\n",
    "# print(\"\\n결측치 채운 후 변경된 값:\")\n",
    "# for index in df1['몸무게'][df1['몸무게'].isna()].index:\n",
    "#     print(f\"인덱스 {index}: NaN → {df1['몸무게_filled'][index]}\")"
   ]
  },
  {
   "cell_type": "code",
   "execution_count": 302,
   "metadata": {},
   "outputs": [
    {
     "name": "stdout",
     "output_type": "stream",
     "text": [
      "결측치 개수 (값 채운 후): 0\n"
     ]
    }
   ],
   "source": [
    "# '몸무게' 열의 결측치를 평균값으로 채우기\n",
    "df1['몸무게'] = df1['몸무게'].fillna(df1['몸무게'].mean())\n",
    "\n",
    "# 결측치가 제대로 채워졌는지 확인\n",
    "print(\"결측치 개수 (값 채운 후):\", df1['몸무게'].isna().sum())"
   ]
  },
  {
   "cell_type": "code",
   "execution_count": 303,
   "metadata": {},
   "outputs": [
    {
     "name": "stdout",
     "output_type": "stream",
     "text": [
      "<class 'pandas.core.frame.DataFrame'>\n",
      "RangeIndex: 999 entries, 1 to 999\n",
      "Data columns (total 14 columns):\n",
      " #   Column  Non-Null Count  Dtype         \n",
      "---  ------  --------------  -----         \n",
      " 0   아이디     999 non-null    object        \n",
      " 1   리뷰어 등급  999 non-null    object        \n",
      " 2   작성 날짜   999 non-null    datetime64[ns]\n",
      " 3   옵션1     999 non-null    object        \n",
      " 4   옵션2     999 non-null    object        \n",
      " 5   상품 사이즈  999 non-null    object        \n",
      " 6   퀄리티     999 non-null    object        \n",
      " 7   색감      999 non-null    object        \n",
      " 8   키       999 non-null    float64       \n",
      " 9   몸무게     999 non-null    float64       \n",
      " 10  사이즈     917 non-null    object        \n",
      " 11  리뷰내용    999 non-null    object        \n",
      " 12  옷종류     917 non-null    object        \n",
      " 13  사이즈번호   917 non-null    object        \n",
      "dtypes: datetime64[ns](1), float64(2), object(11)\n",
      "memory usage: 109.4+ KB\n"
     ]
    }
   ],
   "source": [
    "df1.info()"
   ]
  },
  {
   "cell_type": "code",
   "execution_count": 304,
   "metadata": {},
   "outputs": [
    {
     "name": "stdout",
     "output_type": "stream",
     "text": [
      "결측치 개수 (처리 후): 0\n"
     ]
    }
   ],
   "source": [
    "df1['사이즈'] = df1['사이즈'].fillna('Nan')\n",
    "df1['사이즈']\n",
    "print(f\"결측치 개수 (처리 후): {df1['사이즈'].isna().sum()}\")"
   ]
  },
  {
   "cell_type": "code",
   "execution_count": 305,
   "metadata": {},
   "outputs": [
    {
     "name": "stdout",
     "output_type": "stream",
     "text": [
      "결측치 개수 (처리 후): 0\n"
     ]
    }
   ],
   "source": [
    "df1['옷종류'] = df1['옷종류'].fillna('Nan')\n",
    "df1['옷종류']\n",
    "print(f\"결측치 개수 (처리 후): {df1['옷종류'].isna().sum()}\")"
   ]
  },
  {
   "cell_type": "code",
   "execution_count": 306,
   "metadata": {},
   "outputs": [
    {
     "name": "stdout",
     "output_type": "stream",
     "text": [
      "<class 'pandas.core.frame.DataFrame'>\n",
      "RangeIndex: 999 entries, 1 to 999\n",
      "Data columns (total 14 columns):\n",
      " #   Column  Non-Null Count  Dtype         \n",
      "---  ------  --------------  -----         \n",
      " 0   아이디     999 non-null    object        \n",
      " 1   리뷰어 등급  999 non-null    object        \n",
      " 2   작성 날짜   999 non-null    datetime64[ns]\n",
      " 3   옵션1     999 non-null    object        \n",
      " 4   옵션2     999 non-null    object        \n",
      " 5   상품 사이즈  999 non-null    object        \n",
      " 6   퀄리티     999 non-null    object        \n",
      " 7   색감      999 non-null    object        \n",
      " 8   키       999 non-null    float64       \n",
      " 9   몸무게     999 non-null    float64       \n",
      " 10  사이즈     999 non-null    object        \n",
      " 11  리뷰내용    999 non-null    object        \n",
      " 12  옷종류     999 non-null    object        \n",
      " 13  사이즈번호   917 non-null    object        \n",
      "dtypes: datetime64[ns](1), float64(2), object(11)\n",
      "memory usage: 109.4+ KB\n"
     ]
    }
   ],
   "source": [
    "df1.info()"
   ]
  },
  {
   "cell_type": "markdown",
   "metadata": {},
   "source": [
    "### 04. 사이즈 타입을 수치형으로 변환 후, 결측치 확인 뒤 평균값 채우기 \n",
    "- 숫자형(float)으로 변환"
   ]
  },
  {
   "cell_type": "code",
   "execution_count": 307,
   "metadata": {},
   "outputs": [
    {
     "data": {
      "text/plain": [
       "1      55.0\n",
       "2      66.0\n",
       "3      55.0\n",
       "4      55.0\n",
       "5      44.0\n",
       "       ... \n",
       "995    55.0\n",
       "996    55.0\n",
       "997    44.0\n",
       "998    55.0\n",
       "999     NaN\n",
       "Name: 사이즈번호, Length: 999, dtype: float64"
      ]
     },
     "execution_count": 307,
     "metadata": {},
     "output_type": "execute_result"
    }
   ],
   "source": [
    "# '사이즈' 컬럼 확인 (숫자만 추출하여 수치형 변환)\n",
    "df1['사이즈번호'] = df1['사이즈번호'].astype(str).str.replace(r'[^0-9]', '', regex=True).str.strip()  # 숫자만 남기기\n",
    "df1['사이즈번호'] = pd.to_numeric(df1['사이즈번호'], errors='coerce')  # 수치형 변환\n",
    "df1['사이즈번호']"
   ]
  },
  {
   "cell_type": "code",
   "execution_count": 308,
   "metadata": {},
   "outputs": [
    {
     "name": "stdout",
     "output_type": "stream",
     "text": [
      "결측치 개수 (값 채우기 전): 82\n"
     ]
    }
   ],
   "source": [
    "# 1. 결측치 확인\n",
    "print(f\"결측치 개수 (값 채우기 전): {df1['사이즈번호'].isna().sum()}\")"
   ]
  },
  {
   "cell_type": "code",
   "execution_count": 309,
   "metadata": {},
   "outputs": [
    {
     "name": "stdout",
     "output_type": "stream",
     "text": [
      "\n",
      "결측치 제외한 '사이즈번호' 통계량:\n",
      "count    917.000000\n",
      "mean      53.164667\n",
      "std        7.532037\n",
      "min       33.000000\n",
      "25%       44.000000\n",
      "50%       55.000000\n",
      "75%       55.000000\n",
      "max       88.000000\n",
      "Name: 사이즈번호, dtype: float64\n"
     ]
    }
   ],
   "source": [
    "# 2. 결측치 제외한 데이터 통계 확인\n",
    "print(\"\\n결측치 제외한 '사이즈번호' 통계량:\")\n",
    "print(df1['사이즈번호'].dropna().describe())"
   ]
  },
  {
   "cell_type": "code",
   "execution_count": 310,
   "metadata": {},
   "outputs": [
    {
     "data": {
      "image/png": "[encoded data removed]",
      "text/plain": [
       "<Figure size 1000x600 with 1 Axes>"
      ]
     },
     "metadata": {},
     "output_type": "display_data"
    }
   ],
   "source": [
    "import matplotlib.pyplot as plt\n",
    "import seaborn as sns\n",
    "\n",
    "# '사이즈' 데이터 분포 시각화\n",
    "plt.figure(figsize=(10, 6))\n",
    "sns.histplot(df1['사이즈번호'].dropna(), kde=True, bins=30, color='skyblue', edgecolor='black')\n",
    "\n",
    "# 제목과 라벨 설정\n",
    "plt.title(\"사이즈번호데이터 분포 (결측치 제외)\", fontsize=16)\n",
    "plt.xlabel(\"사이즈번호\", fontsize=14)\n",
    "plt.ylabel(\"빈도수\", fontsize=14)\n",
    "\n",
    "# 평균과 중앙값 표시\n",
    "plt.axvline(df1['사이즈번호'].mean(), color='red', linestyle='--', label=f\"평균: {df1['사이즈번호'].mean():.2f}\")\n",
    "plt.axvline(df1['사이즈번호'].median(), color='green', linestyle='-', label=f\"중앙값: {df1['사이즈번호'].median():.2f}\")\n",
    "\n",
    "# 범례 표시\n",
    "plt.legend()\n",
    "\n",
    "# 그래프 출력\n",
    "plt.show()\n"
   ]
  },
  {
   "cell_type": "code",
   "execution_count": 311,
   "metadata": {},
   "outputs": [
    {
     "name": "stdout",
     "output_type": "stream",
     "text": [
      "결측치 개수 (처리 후): 0\n"
     ]
    }
   ],
   "source": [
    "# 사이즈번호의 결측치를 최빈값으로 대체\n",
    "df1['사이즈번호'] = df1['사이즈번호'].fillna(df1['사이즈번호'].mode()[0])\n",
    "\n",
    "# 결측치 대체 후 결과 확인\n",
    "print(\"결측치 개수 (처리 후):\", df1['사이즈번호'].isna().sum())\n"
   ]
  },
  {
   "cell_type": "code",
   "execution_count": 313,
   "metadata": {},
   "outputs": [
    {
     "name": "stdout",
     "output_type": "stream",
     "text": [
      "데이터가 저장되었습니다: C:\\Users\\zts1113\\Desktop\\AI_Project\\전처리\\전처리_슬리브리스_p1_112538672.csv\n"
     ]
    }
   ],
   "source": [
    "import pandas as pd\n",
    "\n",
    "# 데이터 저장 경로\n",
    "save_path = r'C:\\Users\\zts1113\\Desktop\\AI_Project\\전처리\\전처리_슬리브리스_p1_112538672.csv'\n",
    "# CSV 파일로 저장\n",
    "df1.to_csv(save_path, index=False, encoding='utf-8-sig')\n",
    "\n",
    "print(f\"데이터가 저장되었습니다: {save_path}\")\n"
   ]
  },
  {
   "cell_type": "code",
   "execution_count": null,
   "metadata": {},
   "outputs": [],
   "source": []
  }
 ],
 "metadata": {
  "kernelspec": {
   "display_name": "AI_Project",
   "language": "python",
   "name": "python3"
  },
  "language_info": {
   "codemirror_mode": {
    "name": "ipython",
    "version": 3
   },
   "file_extension": ".py",
   "mimetype": "text/x-python",
   "name": "python",
   "nbconvert_exporter": "python",
   "pygments_lexer": "ipython3",
   "version": "3.10.16"
  }
 },
 "nbformat": 4,
 "nbformat_minor": 2
}
