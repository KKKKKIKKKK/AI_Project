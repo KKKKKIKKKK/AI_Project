{
 "cells": [
  {
   "cell_type": "markdown",
   "metadata": {},
   "source": [
    "#### 문제점\n",
    "- 1. 0번이 nan 값으로 뽑혀가지고. 1000개를 추출했지만 999개이다. "
   ]
  },
  {
   "cell_type": "code",
   "execution_count": 8,
   "metadata": {},
   "outputs": [],
   "source": [
    "import pandas as pd "
   ]
  },
  {
   "cell_type": "markdown",
   "metadata": {},
   "source": []
  },
  {
   "cell_type": "code",
   "execution_count": 9,
   "metadata": {},
   "outputs": [
    {
     "data": {
      "text/html": [
       "<div>\n",
       "<style scoped>\n",
       "    .dataframe tbody tr th:only-of-type {\n",
       "        vertical-align: middle;\n",
       "    }\n",
       "\n",
       "    .dataframe tbody tr th {\n",
       "        vertical-align: top;\n",
       "    }\n",
       "\n",
       "    .dataframe thead th {\n",
       "        text-align: right;\n",
       "    }\n",
       "</style>\n",
       "<table border=\"1\" class=\"dataframe\">\n",
       "  <thead>\n",
       "    <tr style=\"text-align: right;\">\n",
       "      <th></th>\n",
       "      <th>아이디</th>\n",
       "      <th>리뷰어 등급</th>\n",
       "      <th>작성 날짜</th>\n",
       "      <th>옵션1</th>\n",
       "      <th>옵션2</th>\n",
       "      <th>상품 사이즈</th>\n",
       "      <th>퀄리티</th>\n",
       "      <th>색감</th>\n",
       "      <th>키</th>\n",
       "      <th>몸무게</th>\n",
       "      <th>사이즈</th>\n",
       "      <th>리뷰내용</th>\n",
       "    </tr>\n",
       "  </thead>\n",
       "  <tbody>\n",
       "    <tr>\n",
       "      <th>0</th>\n",
       "      <td>지아아아안</td>\n",
       "      <td>상위 1%</td>\n",
       "      <td>24.12.20</td>\n",
       "      <td>[크롭ver] 찰랑 베이직(S사이즈_하프6장세트)</td>\n",
       "      <td>NaN</td>\n",
       "      <td>작아요</td>\n",
       "      <td>아주 만족해요</td>\n",
       "      <td>화면과 비슷해요</td>\n",
       "      <td>165cm</td>\n",
       "      <td>46kg</td>\n",
       "      <td>상의 44</td>\n",
       "      <td>평상시 크롭 나시 즐겨입음~\\n슬슬 교체해야될때가 되서 찾다 요기가 가성비 좋아보여...</td>\n",
       "    </tr>\n",
       "    <tr>\n",
       "      <th>1</th>\n",
       "      <td>yKdnKdvN</td>\n",
       "      <td>상위 10%</td>\n",
       "      <td>24.12.04</td>\n",
       "      <td>찰랑 베이직(M사이즈_화이트6장세트)</td>\n",
       "      <td>NaN</td>\n",
       "      <td>정사이즈예요</td>\n",
       "      <td>아주 만족해요</td>\n",
       "      <td>화면과 비슷해요</td>\n",
       "      <td>154cm</td>\n",
       "      <td>38kg</td>\n",
       "      <td>상의 33 이하</td>\n",
       "      <td>제가 입은 건 아니고 언니가 필요하다고 해서 대신 주문해줬어용\\n\\n소재가 면같은 ...</td>\n",
       "    </tr>\n",
       "    <tr>\n",
       "      <th>2</th>\n",
       "      <td>ZrYxpoHM</td>\n",
       "      <td>상위 5%</td>\n",
       "      <td>22.06.30</td>\n",
       "      <td>블랙3장화이트3장</td>\n",
       "      <td>free</td>\n",
       "      <td>정사이즈예요</td>\n",
       "      <td>아주 만족해요</td>\n",
       "      <td>화면과 비슷해요</td>\n",
       "      <td>159cm</td>\n",
       "      <td>55kg</td>\n",
       "      <td>상의 55</td>\n",
       "      <td>급하게 주문했는데 배송도 빠르고 퀄리티 아주 만족해요\\n70E-F로 가슴이 큰편이라...</td>\n",
       "    </tr>\n",
       "    <tr>\n",
       "      <th>3</th>\n",
       "      <td>AnEqYH42</td>\n",
       "      <td>상위 10%</td>\n",
       "      <td>24.09.09</td>\n",
       "      <td>찰랑 베이직(S사이즈_하프6장세트)</td>\n",
       "      <td>NaN</td>\n",
       "      <td>정사이즈예요</td>\n",
       "      <td>보통이에요</td>\n",
       "      <td>화면과 비슷해요</td>\n",
       "      <td>161cm</td>\n",
       "      <td>51kg</td>\n",
       "      <td>상의 55</td>\n",
       "      <td>가성비 짱장템 ..!!\\n검은색 흰색 반반 시켰는데 마감은 좀 아쉽지만 이 가격이라...</td>\n",
       "    </tr>\n",
       "    <tr>\n",
       "      <th>4</th>\n",
       "      <td>gjbwWbrU</td>\n",
       "      <td>NaN</td>\n",
       "      <td>24.08.01</td>\n",
       "      <td>찰랑 베이직(S사이즈_하프6장세트)</td>\n",
       "      <td>NaN</td>\n",
       "      <td>정사이즈예요</td>\n",
       "      <td>아주 만족해요</td>\n",
       "      <td>화면과 비슷해요</td>\n",
       "      <td>167cm</td>\n",
       "      <td>48kg</td>\n",
       "      <td>상의 44</td>\n",
       "      <td>아니 생각보다 면도 보들거리고 퀄리티도 진짜 엄청 좋은데요?? 쫀쫀한데 끼는 느낌없...</td>\n",
       "    </tr>\n",
       "    <tr>\n",
       "      <th>...</th>\n",
       "      <td>...</td>\n",
       "      <td>...</td>\n",
       "      <td>...</td>\n",
       "      <td>...</td>\n",
       "      <td>...</td>\n",
       "      <td>...</td>\n",
       "      <td>...</td>\n",
       "      <td>...</td>\n",
       "      <td>...</td>\n",
       "      <td>...</td>\n",
       "      <td>...</td>\n",
       "      <td>...</td>\n",
       "    </tr>\n",
       "    <tr>\n",
       "      <th>995</th>\n",
       "      <td>kB6vkVw7</td>\n",
       "      <td>NaN</td>\n",
       "      <td>24.03.30</td>\n",
       "      <td>찰랑 베이직(L사이즈_하프6장세트)</td>\n",
       "      <td>NaN</td>\n",
       "      <td>정사이즈예요</td>\n",
       "      <td>보통이에요</td>\n",
       "      <td>화면과 비슷해요</td>\n",
       "      <td>172cm</td>\n",
       "      <td>68kg</td>\n",
       "      <td>상의 66</td>\n",
       "      <td>구김은 잘가는데 안에 휘뚜루 마뚜루 입기 좋아요! 검은색 3개 하얀색 3개로 활용도...</td>\n",
       "    </tr>\n",
       "    <tr>\n",
       "      <th>996</th>\n",
       "      <td>BU6JD3qj</td>\n",
       "      <td>상위 20%</td>\n",
       "      <td>24.03.29</td>\n",
       "      <td>찰랑 베이직(S사이즈_화이트6장세트)</td>\n",
       "      <td>NaN</td>\n",
       "      <td>정사이즈예요</td>\n",
       "      <td>아주 만족해요</td>\n",
       "      <td>화면과 비슷해요</td>\n",
       "      <td>163cm</td>\n",
       "      <td>53kg</td>\n",
       "      <td>상의 44</td>\n",
       "      <td>깔끔한포장에 부드러운 재질이라 마음에 들어요! 블라우스 안에 입기 딱 좋은 나시에요...</td>\n",
       "    </tr>\n",
       "    <tr>\n",
       "      <th>997</th>\n",
       "      <td>G9i3bfyP</td>\n",
       "      <td>NaN</td>\n",
       "      <td>24.03.28</td>\n",
       "      <td>찰랑 베이직(S사이즈_하프6장세트)</td>\n",
       "      <td>NaN</td>\n",
       "      <td>정사이즈예요</td>\n",
       "      <td>아주 만족해요</td>\n",
       "      <td>화면과 비슷해요</td>\n",
       "      <td>158cm</td>\n",
       "      <td>44kg</td>\n",
       "      <td>상의 44</td>\n",
       "      <td>3번째 재구매템입니다ㅋㅋ\\n이거만한 이너가 없어요ㅋㅋ 추천합니다\\n가격이나 길이 품...</td>\n",
       "    </tr>\n",
       "    <tr>\n",
       "      <th>998</th>\n",
       "      <td>PWR68NRE</td>\n",
       "      <td>상위 20%</td>\n",
       "      <td>24.03.26</td>\n",
       "      <td>찰랑 베이직(S사이즈_하프6장세트)</td>\n",
       "      <td>NaN</td>\n",
       "      <td>정사이즈예요</td>\n",
       "      <td>보통이에요</td>\n",
       "      <td>화면과 비슷해요</td>\n",
       "      <td>158cm</td>\n",
       "      <td>45kg</td>\n",
       "      <td>상의 44</td>\n",
       "      <td>만원댜에 6장에 이퀄이면 만족스러워요 전에 두장에 만원정도 주고 산 나시랑 비슷하네...</td>\n",
       "    </tr>\n",
       "    <tr>\n",
       "      <th>999</th>\n",
       "      <td>mFyY2BMN</td>\n",
       "      <td>NaN</td>\n",
       "      <td>24.03.22</td>\n",
       "      <td>찰랑 베이직(S사이즈_하프6장세트)</td>\n",
       "      <td>NaN</td>\n",
       "      <td>정사이즈예요</td>\n",
       "      <td>아주 만족해요</td>\n",
       "      <td>화면과 비슷해요</td>\n",
       "      <td>166cm</td>\n",
       "      <td>48kg</td>\n",
       "      <td>상의 55</td>\n",
       "      <td>되게 부들부들한 재질이에요! 따가운 거 없이 부드럽고 재질도 적당히 얇아서 여름에도...</td>\n",
       "    </tr>\n",
       "  </tbody>\n",
       "</table>\n",
       "<p>1000 rows × 12 columns</p>\n",
       "</div>"
      ],
      "text/plain": [
       "          아이디  리뷰어 등급     작성 날짜                          옵션1   옵션2  상품 사이즈  \\\n",
       "0       지아아아안   상위 1%  24.12.20  [크롭ver] 찰랑 베이직(S사이즈_하프6장세트)   NaN     작아요   \n",
       "1    yKdnKdvN  상위 10%  24.12.04         찰랑 베이직(M사이즈_화이트6장세트)   NaN  정사이즈예요   \n",
       "2    ZrYxpoHM   상위 5%  22.06.30                    블랙3장화이트3장  free  정사이즈예요   \n",
       "3    AnEqYH42  상위 10%  24.09.09          찰랑 베이직(S사이즈_하프6장세트)   NaN  정사이즈예요   \n",
       "4    gjbwWbrU     NaN  24.08.01          찰랑 베이직(S사이즈_하프6장세트)   NaN  정사이즈예요   \n",
       "..        ...     ...       ...                          ...   ...     ...   \n",
       "995  kB6vkVw7     NaN  24.03.30          찰랑 베이직(L사이즈_하프6장세트)   NaN  정사이즈예요   \n",
       "996  BU6JD3qj  상위 20%  24.03.29         찰랑 베이직(S사이즈_화이트6장세트)   NaN  정사이즈예요   \n",
       "997  G9i3bfyP     NaN  24.03.28          찰랑 베이직(S사이즈_하프6장세트)   NaN  정사이즈예요   \n",
       "998  PWR68NRE  상위 20%  24.03.26          찰랑 베이직(S사이즈_하프6장세트)   NaN  정사이즈예요   \n",
       "999  mFyY2BMN     NaN  24.03.22          찰랑 베이직(S사이즈_하프6장세트)   NaN  정사이즈예요   \n",
       "\n",
       "         퀄리티        색감      키   몸무게       사이즈  \\\n",
       "0    아주 만족해요  화면과 비슷해요  165cm  46kg     상의 44   \n",
       "1    아주 만족해요  화면과 비슷해요  154cm  38kg  상의 33 이하   \n",
       "2    아주 만족해요  화면과 비슷해요  159cm  55kg     상의 55   \n",
       "3      보통이에요  화면과 비슷해요  161cm  51kg     상의 55   \n",
       "4    아주 만족해요  화면과 비슷해요  167cm  48kg     상의 44   \n",
       "..       ...       ...    ...   ...       ...   \n",
       "995    보통이에요  화면과 비슷해요  172cm  68kg     상의 66   \n",
       "996  아주 만족해요  화면과 비슷해요  163cm  53kg     상의 44   \n",
       "997  아주 만족해요  화면과 비슷해요  158cm  44kg     상의 44   \n",
       "998    보통이에요  화면과 비슷해요  158cm  45kg     상의 44   \n",
       "999  아주 만족해요  화면과 비슷해요  166cm  48kg     상의 55   \n",
       "\n",
       "                                                  리뷰내용  \n",
       "0    평상시 크롭 나시 즐겨입음~\\n슬슬 교체해야될때가 되서 찾다 요기가 가성비 좋아보여...  \n",
       "1    제가 입은 건 아니고 언니가 필요하다고 해서 대신 주문해줬어용\\n\\n소재가 면같은 ...  \n",
       "2    급하게 주문했는데 배송도 빠르고 퀄리티 아주 만족해요\\n70E-F로 가슴이 큰편이라...  \n",
       "3    가성비 짱장템 ..!!\\n검은색 흰색 반반 시켰는데 마감은 좀 아쉽지만 이 가격이라...  \n",
       "4    아니 생각보다 면도 보들거리고 퀄리티도 진짜 엄청 좋은데요?? 쫀쫀한데 끼는 느낌없...  \n",
       "..                                                 ...  \n",
       "995  구김은 잘가는데 안에 휘뚜루 마뚜루 입기 좋아요! 검은색 3개 하얀색 3개로 활용도...  \n",
       "996  깔끔한포장에 부드러운 재질이라 마음에 들어요! 블라우스 안에 입기 딱 좋은 나시에요...  \n",
       "997  3번째 재구매템입니다ㅋㅋ\\n이거만한 이너가 없어요ㅋㅋ 추천합니다\\n가격이나 길이 품...  \n",
       "998  만원댜에 6장에 이퀄이면 만족스러워요 전에 두장에 만원정도 주고 산 나시랑 비슷하네...  \n",
       "999  되게 부들부들한 재질이에요! 따가운 거 없이 부드럽고 재질도 적당히 얇아서 여름에도...  \n",
       "\n",
       "[1000 rows x 12 columns]"
      ]
     },
     "execution_count": 9,
     "metadata": {},
     "output_type": "execute_result"
    }
   ],
   "source": [
    "df = pd.read_csv(\"슬리브리스_p4_106642729.csv\")\n",
    "df"
   ]
  },
  {
   "cell_type": "markdown",
   "metadata": {},
   "source": [
    "### 상의 칼럼에서 숫자만 남기고 삭제 "
   ]
  },
  {
   "cell_type": "code",
   "execution_count": 10,
   "metadata": {},
   "outputs": [
    {
     "name": "stdout",
     "output_type": "stream",
     "text": [
      "0       상의 44\n",
      "1    상의 33 이하\n",
      "2       상의 55\n",
      "3       상의 55\n",
      "4       상의 44\n",
      "Name: 사이즈, dtype: object\n"
     ]
    }
   ],
   "source": [
    "# '사이즈' 열에서 옷종류와 사이즈번호 분리하여 새로운 데이터프레임 df1에 저장\n",
    "df1 = df.copy()  # 원본 df를 복사하여 df1 생성\n",
    "df['사이즈'] = df['사이즈'].str.replace(r'\\D+', '', regex=True)\n",
    "\n",
    "# 결과 확인\n",
    "print(df1['사이즈'].head())"
   ]
  },
  {
   "cell_type": "code",
   "execution_count": 11,
   "metadata": {},
   "outputs": [
    {
     "name": "stdout",
     "output_type": "stream",
     "text": [
      "<class 'pandas.core.frame.DataFrame'>\n",
      "RangeIndex: 1000 entries, 0 to 999\n",
      "Data columns (total 12 columns):\n",
      " #   Column  Non-Null Count  Dtype \n",
      "---  ------  --------------  ----- \n",
      " 0   아이디     1000 non-null   object\n",
      " 1   리뷰어 등급  254 non-null    object\n",
      " 2   작성 날짜   1000 non-null   object\n",
      " 3   옵션1     1000 non-null   object\n",
      " 4   옵션2     573 non-null    object\n",
      " 5   상품 사이즈  1000 non-null   object\n",
      " 6   퀄리티     1000 non-null   object\n",
      " 7   색감      1000 non-null   object\n",
      " 8   키       892 non-null    object\n",
      " 9   몸무게     892 non-null    object\n",
      " 10  사이즈     888 non-null    object\n",
      " 11  리뷰내용    1000 non-null   object\n",
      "dtypes: object(12)\n",
      "memory usage: 93.9+ KB\n"
     ]
    }
   ],
   "source": [
    "df1.info()"
   ]
  },
  {
   "cell_type": "code",
   "execution_count": 12,
   "metadata": {},
   "outputs": [
    {
     "data": {
      "text/html": [
       "<div>\n",
       "<style scoped>\n",
       "    .dataframe tbody tr th:only-of-type {\n",
       "        vertical-align: middle;\n",
       "    }\n",
       "\n",
       "    .dataframe tbody tr th {\n",
       "        vertical-align: top;\n",
       "    }\n",
       "\n",
       "    .dataframe thead th {\n",
       "        text-align: right;\n",
       "    }\n",
       "</style>\n",
       "<table border=\"1\" class=\"dataframe\">\n",
       "  <thead>\n",
       "    <tr style=\"text-align: right;\">\n",
       "      <th></th>\n",
       "      <th>아이디</th>\n",
       "      <th>리뷰어 등급</th>\n",
       "      <th>작성 날짜</th>\n",
       "      <th>옵션1</th>\n",
       "      <th>옵션2</th>\n",
       "      <th>상품 사이즈</th>\n",
       "      <th>퀄리티</th>\n",
       "      <th>색감</th>\n",
       "      <th>키</th>\n",
       "      <th>몸무게</th>\n",
       "      <th>사이즈</th>\n",
       "      <th>리뷰내용</th>\n",
       "    </tr>\n",
       "  </thead>\n",
       "  <tbody>\n",
       "    <tr>\n",
       "      <th>0</th>\n",
       "      <td>지아아아안</td>\n",
       "      <td>상위 1%</td>\n",
       "      <td>24.12.20</td>\n",
       "      <td>[크롭ver] 찰랑 베이직(S사이즈_하프6장세트)</td>\n",
       "      <td>NaN</td>\n",
       "      <td>작아요</td>\n",
       "      <td>아주 만족해요</td>\n",
       "      <td>화면과 비슷해요</td>\n",
       "      <td>165cm</td>\n",
       "      <td>46kg</td>\n",
       "      <td>상의 44</td>\n",
       "      <td>평상시 크롭 나시 즐겨입음~\\n슬슬 교체해야될때가 되서 찾다 요기가 가성비 좋아보여...</td>\n",
       "    </tr>\n",
       "    <tr>\n",
       "      <th>1</th>\n",
       "      <td>yKdnKdvN</td>\n",
       "      <td>상위 10%</td>\n",
       "      <td>24.12.04</td>\n",
       "      <td>찰랑 베이직(M사이즈_화이트6장세트)</td>\n",
       "      <td>NaN</td>\n",
       "      <td>정사이즈예요</td>\n",
       "      <td>아주 만족해요</td>\n",
       "      <td>화면과 비슷해요</td>\n",
       "      <td>154cm</td>\n",
       "      <td>38kg</td>\n",
       "      <td>상의 33 이하</td>\n",
       "      <td>제가 입은 건 아니고 언니가 필요하다고 해서 대신 주문해줬어용\\n\\n소재가 면같은 ...</td>\n",
       "    </tr>\n",
       "    <tr>\n",
       "      <th>2</th>\n",
       "      <td>ZrYxpoHM</td>\n",
       "      <td>상위 5%</td>\n",
       "      <td>22.06.30</td>\n",
       "      <td>블랙3장화이트3장</td>\n",
       "      <td>free</td>\n",
       "      <td>정사이즈예요</td>\n",
       "      <td>아주 만족해요</td>\n",
       "      <td>화면과 비슷해요</td>\n",
       "      <td>159cm</td>\n",
       "      <td>55kg</td>\n",
       "      <td>상의 55</td>\n",
       "      <td>급하게 주문했는데 배송도 빠르고 퀄리티 아주 만족해요\\n70E-F로 가슴이 큰편이라...</td>\n",
       "    </tr>\n",
       "    <tr>\n",
       "      <th>3</th>\n",
       "      <td>AnEqYH42</td>\n",
       "      <td>상위 10%</td>\n",
       "      <td>24.09.09</td>\n",
       "      <td>찰랑 베이직(S사이즈_하프6장세트)</td>\n",
       "      <td>NaN</td>\n",
       "      <td>정사이즈예요</td>\n",
       "      <td>보통이에요</td>\n",
       "      <td>화면과 비슷해요</td>\n",
       "      <td>161cm</td>\n",
       "      <td>51kg</td>\n",
       "      <td>상의 55</td>\n",
       "      <td>가성비 짱장템 ..!!\\n검은색 흰색 반반 시켰는데 마감은 좀 아쉽지만 이 가격이라...</td>\n",
       "    </tr>\n",
       "    <tr>\n",
       "      <th>4</th>\n",
       "      <td>gjbwWbrU</td>\n",
       "      <td>NaN</td>\n",
       "      <td>24.08.01</td>\n",
       "      <td>찰랑 베이직(S사이즈_하프6장세트)</td>\n",
       "      <td>NaN</td>\n",
       "      <td>정사이즈예요</td>\n",
       "      <td>아주 만족해요</td>\n",
       "      <td>화면과 비슷해요</td>\n",
       "      <td>167cm</td>\n",
       "      <td>48kg</td>\n",
       "      <td>상의 44</td>\n",
       "      <td>아니 생각보다 면도 보들거리고 퀄리티도 진짜 엄청 좋은데요?? 쫀쫀한데 끼는 느낌없...</td>\n",
       "    </tr>\n",
       "  </tbody>\n",
       "</table>\n",
       "</div>"
      ],
      "text/plain": [
       "        아이디  리뷰어 등급     작성 날짜                          옵션1   옵션2  상품 사이즈  \\\n",
       "0     지아아아안   상위 1%  24.12.20  [크롭ver] 찰랑 베이직(S사이즈_하프6장세트)   NaN     작아요   \n",
       "1  yKdnKdvN  상위 10%  24.12.04         찰랑 베이직(M사이즈_화이트6장세트)   NaN  정사이즈예요   \n",
       "2  ZrYxpoHM   상위 5%  22.06.30                    블랙3장화이트3장  free  정사이즈예요   \n",
       "3  AnEqYH42  상위 10%  24.09.09          찰랑 베이직(S사이즈_하프6장세트)   NaN  정사이즈예요   \n",
       "4  gjbwWbrU     NaN  24.08.01          찰랑 베이직(S사이즈_하프6장세트)   NaN  정사이즈예요   \n",
       "\n",
       "       퀄리티        색감      키   몸무게       사이즈  \\\n",
       "0  아주 만족해요  화면과 비슷해요  165cm  46kg     상의 44   \n",
       "1  아주 만족해요  화면과 비슷해요  154cm  38kg  상의 33 이하   \n",
       "2  아주 만족해요  화면과 비슷해요  159cm  55kg     상의 55   \n",
       "3    보통이에요  화면과 비슷해요  161cm  51kg     상의 55   \n",
       "4  아주 만족해요  화면과 비슷해요  167cm  48kg     상의 44   \n",
       "\n",
       "                                                리뷰내용  \n",
       "0  평상시 크롭 나시 즐겨입음~\\n슬슬 교체해야될때가 되서 찾다 요기가 가성비 좋아보여...  \n",
       "1  제가 입은 건 아니고 언니가 필요하다고 해서 대신 주문해줬어용\\n\\n소재가 면같은 ...  \n",
       "2  급하게 주문했는데 배송도 빠르고 퀄리티 아주 만족해요\\n70E-F로 가슴이 큰편이라...  \n",
       "3  가성비 짱장템 ..!!\\n검은색 흰색 반반 시켰는데 마감은 좀 아쉽지만 이 가격이라...  \n",
       "4  아니 생각보다 면도 보들거리고 퀄리티도 진짜 엄청 좋은데요?? 쫀쫀한데 끼는 느낌없...  "
      ]
     },
     "execution_count": 12,
     "metadata": {},
     "output_type": "execute_result"
    }
   ],
   "source": [
    "df1.head()"
   ]
  },
  {
   "cell_type": "code",
   "execution_count": 13,
   "metadata": {},
   "outputs": [
    {
     "data": {
      "text/plain": [
       "아이디         0\n",
       "리뷰어 등급    746\n",
       "작성 날짜       0\n",
       "옵션1         0\n",
       "옵션2       427\n",
       "상품 사이즈      0\n",
       "퀄리티         0\n",
       "색감          0\n",
       "키         108\n",
       "몸무게       108\n",
       "사이즈       112\n",
       "리뷰내용        0\n",
       "dtype: int64"
      ]
     },
     "execution_count": 13,
     "metadata": {},
     "output_type": "execute_result"
    }
   ],
   "source": [
    "# 결측치 개수 확인\n",
    "df1.isnull().sum()"
   ]
  },
  {
   "cell_type": "markdown",
   "metadata": {},
   "source": [
    "### 결측치제거_1"
   ]
  },
  {
   "cell_type": "code",
   "execution_count": 14,
   "metadata": {},
   "outputs": [
    {
     "name": "stdout",
     "output_type": "stream",
     "text": [
      "<class 'pandas.core.frame.DataFrame'>\n",
      "RangeIndex: 1000 entries, 0 to 999\n",
      "Data columns (total 12 columns):\n",
      " #   Column  Non-Null Count  Dtype \n",
      "---  ------  --------------  ----- \n",
      " 0   아이디     1000 non-null   object\n",
      " 1   리뷰어 등급  254 non-null    object\n",
      " 2   작성 날짜   1000 non-null   object\n",
      " 3   옵션1     1000 non-null   object\n",
      " 4   옵션2     573 non-null    object\n",
      " 5   상품 사이즈  1000 non-null   object\n",
      " 6   퀄리티     1000 non-null   object\n",
      " 7   색감      1000 non-null   object\n",
      " 8   키       892 non-null    object\n",
      " 9   몸무게     892 non-null    object\n",
      " 10  사이즈     888 non-null    object\n",
      " 11  리뷰내용    1000 non-null   object\n",
      "dtypes: object(12)\n",
      "memory usage: 93.9+ KB\n"
     ]
    },
    {
     "data": {
      "text/plain": [
       "아이디         0\n",
       "리뷰어 등급    746\n",
       "작성 날짜       0\n",
       "옵션1         0\n",
       "옵션2       427\n",
       "상품 사이즈      0\n",
       "퀄리티         0\n",
       "색감          0\n",
       "키         108\n",
       "몸무게       108\n",
       "사이즈       112\n",
       "리뷰내용        0\n",
       "dtype: int64"
      ]
     },
     "execution_count": 14,
     "metadata": {},
     "output_type": "execute_result"
    }
   ],
   "source": [
    "# 0행제거 \n",
    "# df1 = df1.drop(index=0, errors='ignore')\n",
    "\n",
    "# Display the first few rows to confirm removal\n",
    "df1.head(), df1.info()\n",
    "# 결측치 개수 확인\n",
    "df1.isnull().sum()\n"
   ]
  },
  {
   "cell_type": "markdown",
   "metadata": {},
   "source": [
    "### 결측치 대체 \n",
    "01. 리뷰어등급 대체 \n",
    "02. 알수없음음"
   ]
  },
  {
   "cell_type": "code",
   "execution_count": 15,
   "metadata": {},
   "outputs": [
    {
     "data": {
      "text/plain": [
       "0       상위 1%\n",
       "1      상위 10%\n",
       "2       상위 5%\n",
       "3      상위 10%\n",
       "4        알수없음\n",
       "        ...  \n",
       "995      알수없음\n",
       "996    상위 20%\n",
       "997      알수없음\n",
       "998    상위 20%\n",
       "999      알수없음\n",
       "Name: 리뷰어 등급, Length: 1000, dtype: object"
      ]
     },
     "execution_count": 15,
     "metadata": {},
     "output_type": "execute_result"
    }
   ],
   "source": [
    "review_1 = df1.loc[:, '리뷰어 등급'] = df1['리뷰어 등급'].fillna('알수없음')\n",
    "review_1"
   ]
  },
  {
   "cell_type": "code",
   "execution_count": 30,
   "metadata": {},
   "outputs": [
    {
     "data": {
      "text/plain": [
       "0      알수없음\n",
       "1      알수없음\n",
       "2      free\n",
       "3      알수없음\n",
       "4      알수없음\n",
       "       ... \n",
       "995    알수없음\n",
       "996    알수없음\n",
       "997    알수없음\n",
       "998    알수없음\n",
       "999    알수없음\n",
       "Name: 옵션2, Length: 1000, dtype: object"
      ]
     },
     "execution_count": 30,
     "metadata": {},
     "output_type": "execute_result"
    }
   ],
   "source": [
    "review_1 = df1.loc[:, '옵션2'] = df1['옵션2'].fillna('알수없음')\n",
    "review_1"
   ]
  },
  {
   "cell_type": "code",
   "execution_count": 31,
   "metadata": {},
   "outputs": [
    {
     "name": "stdout",
     "output_type": "stream",
     "text": [
      "아이디         0\n",
      "리뷰어 등급      0\n",
      "작성 날짜       0\n",
      "옵션1         0\n",
      "옵션2         0\n",
      "상품 사이즈      0\n",
      "퀄리티         0\n",
      "색감          0\n",
      "키           0\n",
      "몸무게       108\n",
      "사이즈       112\n",
      "리뷰내용        0\n",
      "dtype: int64\n"
     ]
    }
   ],
   "source": [
    "print(df1.isnull().sum())"
   ]
  },
  {
   "cell_type": "code",
   "execution_count": 32,
   "metadata": {},
   "outputs": [
    {
     "name": "stdout",
     "output_type": "stream",
     "text": [
      "<class 'pandas.core.frame.DataFrame'>\n",
      "RangeIndex: 1000 entries, 0 to 999\n",
      "Data columns (total 12 columns):\n",
      " #   Column  Non-Null Count  Dtype         \n",
      "---  ------  --------------  -----         \n",
      " 0   아이디     1000 non-null   object        \n",
      " 1   리뷰어 등급  1000 non-null   object        \n",
      " 2   작성 날짜   1000 non-null   datetime64[ns]\n",
      " 3   옵션1     1000 non-null   object        \n",
      " 4   옵션2     1000 non-null   object        \n",
      " 5   상품 사이즈  1000 non-null   object        \n",
      " 6   퀄리티     1000 non-null   object        \n",
      " 7   색감      1000 non-null   object        \n",
      " 8   키       1000 non-null   float64       \n",
      " 9   몸무게     892 non-null    object        \n",
      " 10  사이즈     888 non-null    object        \n",
      " 11  리뷰내용    1000 non-null   object        \n",
      "dtypes: datetime64[ns](1), float64(1), object(10)\n",
      "memory usage: 93.9+ KB\n"
     ]
    }
   ],
   "source": [
    "df1.info()"
   ]
  },
  {
   "cell_type": "code",
   "execution_count": 35,
   "metadata": {},
   "outputs": [],
   "source": [
    "# # 쉼표 포함 여부 확인\n",
    "# print(\"키 열에 쉼표 포함 여부:\", df1['키'].str.contains(',').any())\n",
    "# print(\"몸무게 열에 쉼표 포함 여부:\", df1['몸무게'].str.contains(',').any())\n",
    "# # print(\"작성 날짜 열에 쉼표 포함 여부:\", df1['작성 날짜'].str.contains(',').any())\n"
   ]
  },
  {
   "cell_type": "code",
   "execution_count": 34,
   "metadata": {},
   "outputs": [
    {
     "name": "stdout",
     "output_type": "stream",
     "text": [
      "<class 'pandas.core.frame.DataFrame'>\n",
      "RangeIndex: 1000 entries, 0 to 999\n",
      "Data columns (total 12 columns):\n",
      " #   Column  Non-Null Count  Dtype         \n",
      "---  ------  --------------  -----         \n",
      " 0   아이디     1000 non-null   object        \n",
      " 1   리뷰어 등급  1000 non-null   object        \n",
      " 2   작성 날짜   1000 non-null   datetime64[ns]\n",
      " 3   옵션1     1000 non-null   object        \n",
      " 4   옵션2     1000 non-null   object        \n",
      " 5   상품 사이즈  1000 non-null   object        \n",
      " 6   퀄리티     1000 non-null   object        \n",
      " 7   색감      1000 non-null   object        \n",
      " 8   키       1000 non-null   float64       \n",
      " 9   몸무게     892 non-null    object        \n",
      " 10  사이즈     888 non-null    object        \n",
      " 11  리뷰내용    1000 non-null   object        \n",
      "dtypes: datetime64[ns](1), float64(1), object(10)\n",
      "memory usage: 93.9+ KB\n"
     ]
    }
   ],
   "source": [
    "# 데이터 타입 및 결측치 확인\n",
    "df1.info()\n"
   ]
  },
  {
   "cell_type": "markdown",
   "metadata": {},
   "source": [
    "#### 3.데이터타입 변경"
   ]
  },
  {
   "cell_type": "markdown",
   "metadata": {},
   "source": [
    "### 01_작성날짜 형식 확인 후 datetime 변경"
   ]
  },
  {
   "cell_type": "code",
   "execution_count": 36,
   "metadata": {},
   "outputs": [
    {
     "name": "stdout",
     "output_type": "stream",
     "text": [
      "0   2024-12-20\n",
      "1   2024-12-04\n",
      "2   2022-06-30\n",
      "3   2024-09-09\n",
      "4   2024-08-01\n",
      "Name: 작성 날짜, dtype: datetime64[ns]\n"
     ]
    }
   ],
   "source": [
    "# '작성 날짜'를 datetime 형식으로 변환\n",
    "df1['작성 날짜'] = pd.to_datetime(df1['작성 날짜'], format='%y.%m.%d', errors='coerce')\n",
    "\n",
    "# 변환된 결과 확인\n",
    "print(df1['작성 날짜'].head())\n"
   ]
  },
  {
   "cell_type": "code",
   "execution_count": 37,
   "metadata": {},
   "outputs": [
    {
     "name": "stdout",
     "output_type": "stream",
     "text": [
      "<class 'pandas.core.frame.DataFrame'>\n",
      "RangeIndex: 1000 entries, 0 to 999\n",
      "Data columns (total 12 columns):\n",
      " #   Column  Non-Null Count  Dtype         \n",
      "---  ------  --------------  -----         \n",
      " 0   아이디     1000 non-null   object        \n",
      " 1   리뷰어 등급  1000 non-null   object        \n",
      " 2   작성 날짜   1000 non-null   datetime64[ns]\n",
      " 3   옵션1     1000 non-null   object        \n",
      " 4   옵션2     1000 non-null   object        \n",
      " 5   상품 사이즈  1000 non-null   object        \n",
      " 6   퀄리티     1000 non-null   object        \n",
      " 7   색감      1000 non-null   object        \n",
      " 8   키       1000 non-null   float64       \n",
      " 9   몸무게     892 non-null    object        \n",
      " 10  사이즈     888 non-null    object        \n",
      " 11  리뷰내용    1000 non-null   object        \n",
      "dtypes: datetime64[ns](1), float64(1), object(10)\n",
      "memory usage: 93.9+ KB\n"
     ]
    }
   ],
   "source": [
    "df1.info()"
   ]
  },
  {
   "cell_type": "markdown",
   "metadata": {},
   "source": [
    "### 02 키 타입을 수치형으로 변환 후, 결측치 확인 뒤 평균값 채우기 \n",
    "- 숫자형(float)으로 변환"
   ]
  },
  {
   "cell_type": "code",
   "execution_count": 45,
   "metadata": {},
   "outputs": [],
   "source": [
    "import numpy as np"
   ]
  },
  {
   "cell_type": "code",
   "execution_count": 46,
   "metadata": {},
   "outputs": [],
   "source": [
    "# 1. 문자열 변환 및 'cm' 제거, 수치형으로 변환\n",
    "df1['키'] = df1['키'].astype(str).str.replace('cm', '').str.strip()\n",
    "df1['키'] = pd.to_numeric(df1['키'], errors='coerce')"
   ]
  },
  {
   "cell_type": "code",
   "execution_count": 47,
   "metadata": {},
   "outputs": [
    {
     "name": "stdout",
     "output_type": "stream",
     "text": [
      "결측치 개수 (값 채우기 전): 0\n"
     ]
    }
   ],
   "source": [
    "# 2. 결측치 확인\n",
    "print(f\"결측치 개수 (값 채우기 전): {df1['키'].isna().sum()}\")"
   ]
  },
  {
   "cell_type": "code",
   "execution_count": 48,
   "metadata": {},
   "outputs": [
    {
     "name": "stdout",
     "output_type": "stream",
     "text": [
      "결측치가 포함된 상태에서의 '키' 통계량:\n",
      "count    1000.000000\n",
      "mean      161.580899\n",
      "std         5.074093\n",
      "min       146.000000\n",
      "25%       158.000000\n",
      "50%       161.580899\n",
      "75%       164.250000\n",
      "max       181.000000\n",
      "Name: 키, dtype: float64\n"
     ]
    }
   ],
   "source": [
    "# 결측치가 포함된 상태에서 describe로 통계량 확인\n",
    "print(\"결측치가 포함된 상태에서의 '키' 통계량:\")\n",
    "print(df1['키'].describe())"
   ]
  },
  {
   "cell_type": "code",
   "execution_count": 49,
   "metadata": {},
   "outputs": [
    {
     "name": "stderr",
     "output_type": "stream",
     "text": [
      "findfont: Font family 'NanumGothic' not found.\n",
      "findfont: Font family 'NanumGothic' not found.\n",
      "findfont: Font family 'NanumGothic' not found.\n",
      "findfont: Font family 'NanumGothic' not found.\n",
      "findfont: Font family 'NanumGothic' not found.\n",
      "findfont: Font family 'NanumGothic' not found.\n",
      "findfont: Font family 'NanumGothic' not found.\n",
      "findfont: Font family 'NanumGothic' not found.\n",
      "findfont: Font family 'NanumGothic' not found.\n",
      "findfont: Font family 'NanumGothic' not found.\n",
      "findfont: Font family 'NanumGothic' not found.\n",
      "findfont: Font family 'NanumGothic' not found.\n",
      "c:\\Users\\asia\\anaconda3\\envs\\project\\lib\\site-packages\\IPython\\core\\pylabtools.py:170: UserWarning: Glyph 48712 (\\N{HANGUL SYLLABLE BIN}) missing from font(s) DejaVu Sans.\n",
      "  fig.canvas.print_figure(bytes_io, **kw)\n",
      "c:\\Users\\asia\\anaconda3\\envs\\project\\lib\\site-packages\\IPython\\core\\pylabtools.py:170: UserWarning: Glyph 46020 (\\N{HANGUL SYLLABLE DO}) missing from font(s) DejaVu Sans.\n",
      "  fig.canvas.print_figure(bytes_io, **kw)\n",
      "c:\\Users\\asia\\anaconda3\\envs\\project\\lib\\site-packages\\IPython\\core\\pylabtools.py:170: UserWarning: Glyph 49688 (\\N{HANGUL SYLLABLE SU}) missing from font(s) DejaVu Sans.\n",
      "  fig.canvas.print_figure(bytes_io, **kw)\n",
      "findfont: Font family 'NanumGothic' not found.\n",
      "findfont: Font family 'NanumGothic' not found.\n",
      "c:\\Users\\asia\\anaconda3\\envs\\project\\lib\\site-packages\\IPython\\core\\pylabtools.py:170: UserWarning: Glyph 53412 (\\N{HANGUL SYLLABLE KI}) missing from font(s) DejaVu Sans.\n",
      "  fig.canvas.print_figure(bytes_io, **kw)\n",
      "c:\\Users\\asia\\anaconda3\\envs\\project\\lib\\site-packages\\IPython\\core\\pylabtools.py:170: UserWarning: Glyph 45936 (\\N{HANGUL SYLLABLE DE}) missing from font(s) DejaVu Sans.\n",
      "  fig.canvas.print_figure(bytes_io, **kw)\n",
      "c:\\Users\\asia\\anaconda3\\envs\\project\\lib\\site-packages\\IPython\\core\\pylabtools.py:170: UserWarning: Glyph 51060 (\\N{HANGUL SYLLABLE I}) missing from font(s) DejaVu Sans.\n",
      "  fig.canvas.print_figure(bytes_io, **kw)\n",
      "c:\\Users\\asia\\anaconda3\\envs\\project\\lib\\site-packages\\IPython\\core\\pylabtools.py:170: UserWarning: Glyph 53552 (\\N{HANGUL SYLLABLE TEO}) missing from font(s) DejaVu Sans.\n",
      "  fig.canvas.print_figure(bytes_io, **kw)\n",
      "c:\\Users\\asia\\anaconda3\\envs\\project\\lib\\site-packages\\IPython\\core\\pylabtools.py:170: UserWarning: Glyph 48516 (\\N{HANGUL SYLLABLE BUN}) missing from font(s) DejaVu Sans.\n",
      "  fig.canvas.print_figure(bytes_io, **kw)\n",
      "c:\\Users\\asia\\anaconda3\\envs\\project\\lib\\site-packages\\IPython\\core\\pylabtools.py:170: UserWarning: Glyph 54252 (\\N{HANGUL SYLLABLE PO}) missing from font(s) DejaVu Sans.\n",
      "  fig.canvas.print_figure(bytes_io, **kw)\n",
      "c:\\Users\\asia\\anaconda3\\envs\\project\\lib\\site-packages\\IPython\\core\\pylabtools.py:170: UserWarning: Glyph 44208 (\\N{HANGUL SYLLABLE GYEOL}) missing from font(s) DejaVu Sans.\n",
      "  fig.canvas.print_figure(bytes_io, **kw)\n",
      "c:\\Users\\asia\\anaconda3\\envs\\project\\lib\\site-packages\\IPython\\core\\pylabtools.py:170: UserWarning: Glyph 52769 (\\N{HANGUL SYLLABLE CEUG}) missing from font(s) DejaVu Sans.\n",
      "  fig.canvas.print_figure(bytes_io, **kw)\n",
      "c:\\Users\\asia\\anaconda3\\envs\\project\\lib\\site-packages\\IPython\\core\\pylabtools.py:170: UserWarning: Glyph 52824 (\\N{HANGUL SYLLABLE CI}) missing from font(s) DejaVu Sans.\n",
      "  fig.canvas.print_figure(bytes_io, **kw)\n",
      "c:\\Users\\asia\\anaconda3\\envs\\project\\lib\\site-packages\\IPython\\core\\pylabtools.py:170: UserWarning: Glyph 54632 (\\N{HANGUL SYLLABLE HAM}) missing from font(s) DejaVu Sans.\n",
      "  fig.canvas.print_figure(bytes_io, **kw)\n",
      "findfont: Font family 'NanumGothic' not found.\n",
      "findfont: Font family 'NanumGothic' not found.\n",
      "findfont: Font family 'NanumGothic' not found.\n",
      "findfont: Font family 'NanumGothic' not found.\n",
      "findfont: Font family 'NanumGothic' not found.\n",
      "findfont: Font family 'NanumGothic' not found.\n",
      "findfont: Font family 'NanumGothic' not found.\n",
      "findfont: Font family 'NanumGothic' not found.\n",
      "findfont: Font family 'NanumGothic' not found.\n",
      "findfont: Font family 'NanumGothic' not found.\n",
      "c:\\Users\\asia\\anaconda3\\envs\\project\\lib\\site-packages\\IPython\\core\\pylabtools.py:170: UserWarning: Glyph 54217 (\\N{HANGUL SYLLABLE PYEONG}) missing from font(s) DejaVu Sans.\n",
      "  fig.canvas.print_figure(bytes_io, **kw)\n",
      "c:\\Users\\asia\\anaconda3\\envs\\project\\lib\\site-packages\\IPython\\core\\pylabtools.py:170: UserWarning: Glyph 44512 (\\N{HANGUL SYLLABLE GYUN}) missing from font(s) DejaVu Sans.\n",
      "  fig.canvas.print_figure(bytes_io, **kw)\n",
      "findfont: Font family 'NanumGothic' not found.\n",
      "findfont: Font family 'NanumGothic' not found.\n",
      "c:\\Users\\asia\\anaconda3\\envs\\project\\lib\\site-packages\\IPython\\core\\pylabtools.py:170: UserWarning: Glyph 51473 (\\N{HANGUL SYLLABLE JUNG}) missing from font(s) DejaVu Sans.\n",
      "  fig.canvas.print_figure(bytes_io, **kw)\n",
      "c:\\Users\\asia\\anaconda3\\envs\\project\\lib\\site-packages\\IPython\\core\\pylabtools.py:170: UserWarning: Glyph 50521 (\\N{HANGUL SYLLABLE ANG}) missing from font(s) DejaVu Sans.\n",
      "  fig.canvas.print_figure(bytes_io, **kw)\n",
      "c:\\Users\\asia\\anaconda3\\envs\\project\\lib\\site-packages\\IPython\\core\\pylabtools.py:170: UserWarning: Glyph 44050 (\\N{HANGUL SYLLABLE GABS}) missing from font(s) DejaVu Sans.\n",
      "  fig.canvas.print_figure(bytes_io, **kw)\n",
      "findfont: Font family 'NanumGothic' not found.\n",
      "findfont: Font family 'NanumGothic' not found.\n",
      "findfont: Font family 'NanumGothic' not found.\n",
      "findfont: Font family 'NanumGothic' not found.\n",
      "findfont: Font family 'NanumGothic' not found.\n",
      "findfont: Font family 'NanumGothic' not found.\n",
      "findfont: Font family 'NanumGothic' not found.\n",
      "findfont: Font family 'NanumGothic' not found.\n",
      "findfont: Font family 'NanumGothic' not found.\n",
      "findfont: Font family 'NanumGothic' not found.\n",
      "findfont: Font family 'NanumGothic' not found.\n",
      "findfont: Font family 'NanumGothic' not found.\n",
      "findfont: Font family 'NanumGothic' not found.\n",
      "findfont: Font family 'NanumGothic' not found.\n",
      "findfont: Font family 'NanumGothic' not found.\n",
      "findfont: Font family 'NanumGothic' not found.\n",
      "findfont: Font family 'NanumGothic' not found.\n",
      "findfont: Font family 'NanumGothic' not found.\n",
      "findfont: Font family 'NanumGothic' not found.\n",
      "findfont: Font family 'NanumGothic' not found.\n",
      "findfont: Font family 'NanumGothic' not found.\n",
      "findfont: Font family 'NanumGothic' not found.\n",
      "findfont: Font family 'NanumGothic' not found.\n",
      "findfont: Font family 'NanumGothic' not found.\n",
      "findfont: Font family 'NanumGothic' not found.\n",
      "findfont: Font family 'NanumGothic' not found.\n",
      "findfont: Font family 'NanumGothic' not found.\n",
      "findfont: Font family 'NanumGothic' not found.\n",
      "findfont: Font family 'NanumGothic' not found.\n",
      "findfont: Font family 'NanumGothic' not found.\n",
      "findfont: Font family 'NanumGothic' not found.\n",
      "findfont: Font family 'NanumGothic' not found.\n",
      "findfont: Font family 'NanumGothic' not found.\n",
      "findfont: Font family 'NanumGothic' not found.\n",
      "findfont: Font family 'NanumGothic' not found.\n",
      "findfont: Font family 'NanumGothic' not found.\n",
      "findfont: Font family 'NanumGothic' not found.\n",
      "findfont: Font family 'NanumGothic' not found.\n",
      "findfont: Font family 'NanumGothic' not found.\n",
      "findfont: Font family 'NanumGothic' not found.\n",
      "findfont: Font family 'NanumGothic' not found.\n",
      "findfont: Font family 'NanumGothic' not found.\n",
      "findfont: Font family 'NanumGothic' not found.\n",
      "findfont: Font family 'NanumGothic' not found.\n",
      "findfont: Font family 'NanumGothic' not found.\n",
      "findfont: Font family 'NanumGothic' not found.\n",
      "findfont: Font family 'NanumGothic' not found.\n",
      "findfont: Font family 'NanumGothic' not found.\n",
      "findfont: Font family 'NanumGothic' not found.\n",
      "findfont: Font family 'NanumGothic' not found.\n",
      "findfont: Font family 'NanumGothic' not found.\n",
      "findfont: Font family 'NanumGothic' not found.\n",
      "findfont: Font family 'NanumGothic' not found.\n",
      "findfont: Font family 'NanumGothic' not found.\n",
      "findfont: Font family 'NanumGothic' not found.\n",
      "findfont: Font family 'NanumGothic' not found.\n",
      "findfont: Font family 'NanumGothic' not found.\n",
      "findfont: Font family 'NanumGothic' not found.\n",
      "findfont: Font family 'NanumGothic' not found.\n",
      "findfont: Font family 'NanumGothic' not found.\n",
      "findfont: Font family 'NanumGothic' not found.\n",
      "findfont: Font family 'NanumGothic' not found.\n",
      "findfont: Font family 'NanumGothic' not found.\n",
      "findfont: Font family 'NanumGothic' not found.\n",
      "findfont: Font family 'NanumGothic' not found.\n",
      "findfont: Font family 'NanumGothic' not found.\n"
     ]
    },
    {
     "data": {
      "image/png": "[encoded data removed]",
      "text/plain": [
       "<Figure size 1000x600 with 1 Axes>"
      ]
     },
     "metadata": {},
     "output_type": "display_data"
    }
   ],
   "source": [
    "import matplotlib.pyplot as plt\n",
    "import seaborn as sns\n",
    "from matplotlib import rc\n",
    "\n",
    "# 한글 폰트 설정 (예: NanumGothic)\n",
    "plt.rcParams['font.family'] = 'NanumGothic'  # 설치된 한글 폰트를 사용합니다.\n",
    "plt.rcParams['axes.unicode_minus'] = False   # 마이너스 기호 깨짐 방지\n",
    "\n",
    "# 히스토그램으로 데이터 분포 시각화\n",
    "plt.figure(figsize=(10, 6))\n",
    "sns.histplot(df1['키'].dropna(), kde=True, bins=30, color='skyblue', edgecolor='black')\n",
    "\n",
    "# 한글로 제목 및 라벨 설정\n",
    "plt.title(\"키 데이터 분포 (결측치 포함)\", fontsize=16)\n",
    "plt.xlabel(\"키 (cm)\", fontsize=14)\n",
    "plt.ylabel(\"빈도수\", fontsize=14)\n",
    "\n",
    "# 평균과 중앙값 표시 (한글 범례)\n",
    "plt.axvline(df1['키'].mean(), color='red', linestyle='--', label=f\"평균: {df1['키'].mean():.2f} cm\")\n",
    "plt.axvline(df1['키'].median(), color='green', linestyle='-', label=f\"중앙값: {df1['키'].median():.2f} cm\")\n",
    "\n",
    "# 범례 표시\n",
    "plt.legend()\n",
    "\n",
    "# 그래프 출력\n",
    "plt.show()\n"
   ]
  },
  {
   "cell_type": "code",
   "execution_count": 44,
   "metadata": {},
   "outputs": [
    {
     "name": "stdout",
     "output_type": "stream",
     "text": [
      "결측치 채운 후의 '키' 통계량:\n",
      "count    1000.000000\n",
      "mean      161.580899\n",
      "std         5.074093\n",
      "min       146.000000\n",
      "25%       158.000000\n",
      "50%       161.580899\n",
      "75%       164.250000\n",
      "max       181.000000\n",
      "Name: 키, dtype: float64\n"
     ]
    }
   ],
   "source": [
    "# 결측치를 평균값으로 채우기\n",
    "df1['키'] = df1['키'].fillna(df1['키'].mean())\n",
    "\n",
    "# 결측치 채운 후 통계량 확인\n",
    "print(\"결측치 채운 후의 '키' 통계량:\")\n",
    "print(df1['키'].describe())"
   ]
  },
  {
   "cell_type": "code",
   "execution_count": 28,
   "metadata": {},
   "outputs": [],
   "source": [
    "# # 1. 결측치 채우기 (평균값 사용)\n",
    "# # df1['키'] = df1['키'].fillna(df1['키'].mean())\n",
    "\n",
    "# # 2. 문자열로 변환하여 'cm' 제거 및 수치형으로 변환\n",
    "# df1['키'] = df1['키'].astype(str).str.replace('cm', '').str.strip()\n",
    "# df1['키'] = pd.to_numeric(df1['키'], errors='coerce')\n",
    "\n",
    "# #df1['키'].isna().sum() #62\n",
    "# # print(np.quantile(df1['키'].dropna() ,[0.25,0.5,0.75]))\n",
    "# print(df1['키'].describe(), df1['키'].dropna().describe())\n",
    "\n",
    "# # # 3. 결측치 확인\n",
    "# # print(df1['키'].head())\n",
    "# # print(df1.info())\n",
    "\n"
   ]
  },
  {
   "cell_type": "code",
   "execution_count": 43,
   "metadata": {},
   "outputs": [
    {
     "name": "stdout",
     "output_type": "stream",
     "text": [
      "0    165.0\n",
      "1    154.0\n",
      "2    159.0\n",
      "3    161.0\n",
      "4    167.0\n",
      "Name: 키, dtype: float64\n",
      "<class 'pandas.core.frame.DataFrame'>\n",
      "RangeIndex: 1000 entries, 0 to 999\n",
      "Data columns (total 12 columns):\n",
      " #   Column  Non-Null Count  Dtype         \n",
      "---  ------  --------------  -----         \n",
      " 0   아이디     1000 non-null   object        \n",
      " 1   리뷰어 등급  1000 non-null   object        \n",
      " 2   작성 날짜   1000 non-null   datetime64[ns]\n",
      " 3   옵션1     1000 non-null   object        \n",
      " 4   옵션2     1000 non-null   object        \n",
      " 5   상품 사이즈  1000 non-null   object        \n",
      " 6   퀄리티     1000 non-null   object        \n",
      " 7   색감      1000 non-null   object        \n",
      " 8   키       1000 non-null   float64       \n",
      " 9   몸무게     892 non-null    object        \n",
      " 10  사이즈     888 non-null    object        \n",
      " 11  리뷰내용    1000 non-null   object        \n",
      "dtypes: datetime64[ns](1), float64(1), object(10)\n",
      "memory usage: 93.9+ KB\n",
      "None\n"
     ]
    }
   ],
   "source": [
    "print(df1['키'].head())\n",
    "print(df1.info())\n"
   ]
  },
  {
   "cell_type": "markdown",
   "metadata": {},
   "source": [
    "### 03. 몸무게 타입을 수치형으로 변환 후, 결측치 확인 뒤 평균값 채우기 \n",
    "- 숫자형(float)으로 변환"
   ]
  },
  {
   "cell_type": "code",
   "execution_count": 34,
   "metadata": {},
   "outputs": [],
   "source": [
    "# '몸무게' 컬럼 확인\n",
    "df1['몸무게'] = df1['몸무게'].astype(str).str.replace('kg', '').str.strip()  # 'kg' 제거 및 공백 제거\n",
    "df1['몸무게'] = pd.to_numeric(df1['몸무게'], errors='coerce')  # 수치형 변환"
   ]
  },
  {
   "cell_type": "code",
   "execution_count": 35,
   "metadata": {},
   "outputs": [
    {
     "name": "stdout",
     "output_type": "stream",
     "text": [
      "결측치 개수 (값 채우기 전): 70\n"
     ]
    }
   ],
   "source": [
    "# 1. 결측치 확인\n",
    "print(f\"결측치 개수 (값 채우기 전): {df1['몸무게'].isna().sum()}\")"
   ]
  },
  {
   "cell_type": "code",
   "execution_count": 36,
   "metadata": {},
   "outputs": [
    {
     "name": "stdout",
     "output_type": "stream",
     "text": [
      "\n",
      "결측치 제외한 '몸무게' 통계량:\n",
      "count    929.000000\n",
      "mean      51.506997\n",
      "std        5.709774\n",
      "min       35.000000\n",
      "25%       48.000000\n",
      "50%       51.000000\n",
      "75%       55.000000\n",
      "max       72.000000\n",
      "Name: 몸무게, dtype: float64\n"
     ]
    }
   ],
   "source": [
    "# 2. 결측치 제외한 데이터 통계 확인\n",
    "print(\"\\n결측치 제외한 '몸무게' 통계량:\")\n",
    "print(df1['몸무게'].dropna().describe())\n"
   ]
  },
  {
   "cell_type": "code",
   "execution_count": 37,
   "metadata": {},
   "outputs": [
    {
     "name": "stderr",
     "output_type": "stream",
     "text": [
      "findfont: Font family 'NanumGothic' not found.\n",
      "findfont: Font family 'NanumGothic' not found.\n",
      "findfont: Font family 'NanumGothic' not found.\n",
      "findfont: Font family 'NanumGothic' not found.\n",
      "findfont: Font family 'NanumGothic' not found.\n",
      "findfont: Font family 'NanumGothic' not found.\n",
      "findfont: Font family 'NanumGothic' not found.\n",
      "findfont: Font family 'NanumGothic' not found.\n",
      "findfont: Font family 'NanumGothic' not found.\n",
      "findfont: Font family 'NanumGothic' not found.\n",
      "findfont: Font family 'NanumGothic' not found.\n",
      "c:\\Users\\asia\\anaconda3\\envs\\project\\lib\\site-packages\\IPython\\core\\pylabtools.py:170: UserWarning: Glyph 48712 (\\N{HANGUL SYLLABLE BIN}) missing from font(s) DejaVu Sans.\n",
      "  fig.canvas.print_figure(bytes_io, **kw)\n",
      "c:\\Users\\asia\\anaconda3\\envs\\project\\lib\\site-packages\\IPython\\core\\pylabtools.py:170: UserWarning: Glyph 46020 (\\N{HANGUL SYLLABLE DO}) missing from font(s) DejaVu Sans.\n",
      "  fig.canvas.print_figure(bytes_io, **kw)\n",
      "c:\\Users\\asia\\anaconda3\\envs\\project\\lib\\site-packages\\IPython\\core\\pylabtools.py:170: UserWarning: Glyph 49688 (\\N{HANGUL SYLLABLE SU}) missing from font(s) DejaVu Sans.\n",
      "  fig.canvas.print_figure(bytes_io, **kw)\n",
      "findfont: Font family 'NanumGothic' not found.\n",
      "findfont: Font family 'NanumGothic' not found.\n",
      "c:\\Users\\asia\\anaconda3\\envs\\project\\lib\\site-packages\\IPython\\core\\pylabtools.py:170: UserWarning: Glyph 47800 (\\N{HANGUL SYLLABLE MOM}) missing from font(s) DejaVu Sans.\n",
      "  fig.canvas.print_figure(bytes_io, **kw)\n",
      "c:\\Users\\asia\\anaconda3\\envs\\project\\lib\\site-packages\\IPython\\core\\pylabtools.py:170: UserWarning: Glyph 47924 (\\N{HANGUL SYLLABLE MU}) missing from font(s) DejaVu Sans.\n",
      "  fig.canvas.print_figure(bytes_io, **kw)\n",
      "c:\\Users\\asia\\anaconda3\\envs\\project\\lib\\site-packages\\IPython\\core\\pylabtools.py:170: UserWarning: Glyph 44172 (\\N{HANGUL SYLLABLE GE}) missing from font(s) DejaVu Sans.\n",
      "  fig.canvas.print_figure(bytes_io, **kw)\n",
      "c:\\Users\\asia\\anaconda3\\envs\\project\\lib\\site-packages\\IPython\\core\\pylabtools.py:170: UserWarning: Glyph 45936 (\\N{HANGUL SYLLABLE DE}) missing from font(s) DejaVu Sans.\n",
      "  fig.canvas.print_figure(bytes_io, **kw)\n",
      "c:\\Users\\asia\\anaconda3\\envs\\project\\lib\\site-packages\\IPython\\core\\pylabtools.py:170: UserWarning: Glyph 51060 (\\N{HANGUL SYLLABLE I}) missing from font(s) DejaVu Sans.\n",
      "  fig.canvas.print_figure(bytes_io, **kw)\n",
      "c:\\Users\\asia\\anaconda3\\envs\\project\\lib\\site-packages\\IPython\\core\\pylabtools.py:170: UserWarning: Glyph 53552 (\\N{HANGUL SYLLABLE TEO}) missing from font(s) DejaVu Sans.\n",
      "  fig.canvas.print_figure(bytes_io, **kw)\n",
      "c:\\Users\\asia\\anaconda3\\envs\\project\\lib\\site-packages\\IPython\\core\\pylabtools.py:170: UserWarning: Glyph 48516 (\\N{HANGUL SYLLABLE BUN}) missing from font(s) DejaVu Sans.\n",
      "  fig.canvas.print_figure(bytes_io, **kw)\n",
      "c:\\Users\\asia\\anaconda3\\envs\\project\\lib\\site-packages\\IPython\\core\\pylabtools.py:170: UserWarning: Glyph 54252 (\\N{HANGUL SYLLABLE PO}) missing from font(s) DejaVu Sans.\n",
      "  fig.canvas.print_figure(bytes_io, **kw)\n",
      "c:\\Users\\asia\\anaconda3\\envs\\project\\lib\\site-packages\\IPython\\core\\pylabtools.py:170: UserWarning: Glyph 44208 (\\N{HANGUL SYLLABLE GYEOL}) missing from font(s) DejaVu Sans.\n",
      "  fig.canvas.print_figure(bytes_io, **kw)\n",
      "c:\\Users\\asia\\anaconda3\\envs\\project\\lib\\site-packages\\IPython\\core\\pylabtools.py:170: UserWarning: Glyph 52769 (\\N{HANGUL SYLLABLE CEUG}) missing from font(s) DejaVu Sans.\n",
      "  fig.canvas.print_figure(bytes_io, **kw)\n",
      "c:\\Users\\asia\\anaconda3\\envs\\project\\lib\\site-packages\\IPython\\core\\pylabtools.py:170: UserWarning: Glyph 52824 (\\N{HANGUL SYLLABLE CI}) missing from font(s) DejaVu Sans.\n",
      "  fig.canvas.print_figure(bytes_io, **kw)\n",
      "c:\\Users\\asia\\anaconda3\\envs\\project\\lib\\site-packages\\IPython\\core\\pylabtools.py:170: UserWarning: Glyph 51228 (\\N{HANGUL SYLLABLE JE}) missing from font(s) DejaVu Sans.\n",
      "  fig.canvas.print_figure(bytes_io, **kw)\n",
      "c:\\Users\\asia\\anaconda3\\envs\\project\\lib\\site-packages\\IPython\\core\\pylabtools.py:170: UserWarning: Glyph 50808 (\\N{HANGUL SYLLABLE OE}) missing from font(s) DejaVu Sans.\n",
      "  fig.canvas.print_figure(bytes_io, **kw)\n",
      "findfont: Font family 'NanumGothic' not found.\n",
      "findfont: Font family 'NanumGothic' not found.\n",
      "findfont: Font family 'NanumGothic' not found.\n",
      "findfont: Font family 'NanumGothic' not found.\n",
      "findfont: Font family 'NanumGothic' not found.\n",
      "findfont: Font family 'NanumGothic' not found.\n",
      "findfont: Font family 'NanumGothic' not found.\n",
      "findfont: Font family 'NanumGothic' not found.\n",
      "findfont: Font family 'NanumGothic' not found.\n",
      "c:\\Users\\asia\\anaconda3\\envs\\project\\lib\\site-packages\\IPython\\core\\pylabtools.py:170: UserWarning: Glyph 54217 (\\N{HANGUL SYLLABLE PYEONG}) missing from font(s) DejaVu Sans.\n",
      "  fig.canvas.print_figure(bytes_io, **kw)\n",
      "c:\\Users\\asia\\anaconda3\\envs\\project\\lib\\site-packages\\IPython\\core\\pylabtools.py:170: UserWarning: Glyph 44512 (\\N{HANGUL SYLLABLE GYUN}) missing from font(s) DejaVu Sans.\n",
      "  fig.canvas.print_figure(bytes_io, **kw)\n",
      "findfont: Font family 'NanumGothic' not found.\n",
      "findfont: Font family 'NanumGothic' not found.\n",
      "c:\\Users\\asia\\anaconda3\\envs\\project\\lib\\site-packages\\IPython\\core\\pylabtools.py:170: UserWarning: Glyph 51473 (\\N{HANGUL SYLLABLE JUNG}) missing from font(s) DejaVu Sans.\n",
      "  fig.canvas.print_figure(bytes_io, **kw)\n",
      "c:\\Users\\asia\\anaconda3\\envs\\project\\lib\\site-packages\\IPython\\core\\pylabtools.py:170: UserWarning: Glyph 50521 (\\N{HANGUL SYLLABLE ANG}) missing from font(s) DejaVu Sans.\n",
      "  fig.canvas.print_figure(bytes_io, **kw)\n",
      "c:\\Users\\asia\\anaconda3\\envs\\project\\lib\\site-packages\\IPython\\core\\pylabtools.py:170: UserWarning: Glyph 44050 (\\N{HANGUL SYLLABLE GABS}) missing from font(s) DejaVu Sans.\n",
      "  fig.canvas.print_figure(bytes_io, **kw)\n",
      "findfont: Font family 'NanumGothic' not found.\n",
      "findfont: Font family 'NanumGothic' not found.\n",
      "findfont: Font family 'NanumGothic' not found.\n",
      "findfont: Font family 'NanumGothic' not found.\n",
      "findfont: Font family 'NanumGothic' not found.\n",
      "findfont: Font family 'NanumGothic' not found.\n",
      "findfont: Font family 'NanumGothic' not found.\n",
      "findfont: Font family 'NanumGothic' not found.\n",
      "findfont: Font family 'NanumGothic' not found.\n",
      "findfont: Font family 'NanumGothic' not found.\n",
      "findfont: Font family 'NanumGothic' not found.\n",
      "findfont: Font family 'NanumGothic' not found.\n",
      "findfont: Font family 'NanumGothic' not found.\n",
      "findfont: Font family 'NanumGothic' not found.\n",
      "findfont: Font family 'NanumGothic' not found.\n",
      "findfont: Font family 'NanumGothic' not found.\n",
      "findfont: Font family 'NanumGothic' not found.\n",
      "findfont: Font family 'NanumGothic' not found.\n",
      "findfont: Font family 'NanumGothic' not found.\n",
      "findfont: Font family 'NanumGothic' not found.\n",
      "findfont: Font family 'NanumGothic' not found.\n",
      "findfont: Font family 'NanumGothic' not found.\n",
      "findfont: Font family 'NanumGothic' not found.\n",
      "findfont: Font family 'NanumGothic' not found.\n",
      "findfont: Font family 'NanumGothic' not found.\n",
      "findfont: Font family 'NanumGothic' not found.\n",
      "findfont: Font family 'NanumGothic' not found.\n",
      "findfont: Font family 'NanumGothic' not found.\n",
      "findfont: Font family 'NanumGothic' not found.\n",
      "findfont: Font family 'NanumGothic' not found.\n",
      "findfont: Font family 'NanumGothic' not found.\n",
      "findfont: Font family 'NanumGothic' not found.\n",
      "findfont: Font family 'NanumGothic' not found.\n",
      "findfont: Font family 'NanumGothic' not found.\n",
      "findfont: Font family 'NanumGothic' not found.\n",
      "findfont: Font family 'NanumGothic' not found.\n",
      "findfont: Font family 'NanumGothic' not found.\n",
      "findfont: Font family 'NanumGothic' not found.\n",
      "findfont: Font family 'NanumGothic' not found.\n",
      "findfont: Font family 'NanumGothic' not found.\n",
      "findfont: Font family 'NanumGothic' not found.\n",
      "findfont: Font family 'NanumGothic' not found.\n",
      "findfont: Font family 'NanumGothic' not found.\n",
      "findfont: Font family 'NanumGothic' not found.\n",
      "findfont: Font family 'NanumGothic' not found.\n",
      "findfont: Font family 'NanumGothic' not found.\n",
      "findfont: Font family 'NanumGothic' not found.\n",
      "findfont: Font family 'NanumGothic' not found.\n",
      "findfont: Font family 'NanumGothic' not found.\n",
      "findfont: Font family 'NanumGothic' not found.\n",
      "findfont: Font family 'NanumGothic' not found.\n",
      "findfont: Font family 'NanumGothic' not found.\n",
      "findfont: Font family 'NanumGothic' not found.\n",
      "findfont: Font family 'NanumGothic' not found.\n",
      "findfont: Font family 'NanumGothic' not found.\n",
      "findfont: Font family 'NanumGothic' not found.\n",
      "findfont: Font family 'NanumGothic' not found.\n",
      "findfont: Font family 'NanumGothic' not found.\n",
      "findfont: Font family 'NanumGothic' not found.\n",
      "findfont: Font family 'NanumGothic' not found.\n",
      "findfont: Font family 'NanumGothic' not found.\n",
      "findfont: Font family 'NanumGothic' not found.\n",
      "findfont: Font family 'NanumGothic' not found.\n"
     ]
    },
    {
     "data": {
      "image/png": "[encoded data removed]",
      "text/plain": [
       "<Figure size 1000x600 with 1 Axes>"
      ]
     },
     "metadata": {},
     "output_type": "display_data"
    }
   ],
   "source": [
    "# 3. 결측치 제외한 데이터 분포 시각화\n",
    "plt.figure(figsize=(10, 6))\n",
    "sns.histplot(df1['몸무게'].dropna(), kde=True, bins=30, color='skyblue', edgecolor='black')\n",
    "plt.title(\"몸무게 데이터 분포 (결측치 제외)\", fontsize=16)\n",
    "plt.xlabel(\"몸무게 (kg)\", fontsize=14)\n",
    "plt.ylabel(\"빈도수\", fontsize=14)\n",
    "plt.axvline(df1['몸무게'].mean(), color='red', linestyle='--', label=f\"평균: {df1['몸무게'].mean():.2f} kg\")\n",
    "plt.axvline(df1['몸무게'].median(), color='green', linestyle='-', label=f\"중앙값: {df1['몸무게'].median():.2f} kg\")\n",
    "plt.legend()\n",
    "plt.show()"
   ]
  },
  {
   "cell_type": "code",
   "execution_count": 38,
   "metadata": {},
   "outputs": [
    {
     "name": "stdout",
     "output_type": "stream",
     "text": [
      "결측치 채우기 전 NaN 값 위치:\n",
      "28    NaN\n",
      "36    NaN\n",
      "46    NaN\n",
      "54    NaN\n",
      "94    NaN\n",
      "       ..\n",
      "911   NaN\n",
      "929   NaN\n",
      "968   NaN\n",
      "975   NaN\n",
      "999   NaN\n",
      "Name: 몸무게, Length: 70, dtype: float64\n"
     ]
    }
   ],
   "source": [
    "# 결측치 채우기 전 NaN 위치 확인\n",
    "print(\"결측치 채우기 전 NaN 값 위치:\")\n",
    "print(df1['몸무게'][df1['몸무게'].isna()])\n",
    "\n",
    "# # '몸무게' 열의 결측치를 평균값으로 채우기\n",
    "# df1['몸무게_filled'] = df1['몸무게'].fillna(df1['몸무게'].mean())\n",
    "\n",
    "# # 결측치 채운 후 비교\n",
    "# print(\"\\n결측치 채운 후 변경된 값:\")\n",
    "# for index in df1['몸무게'][df1['몸무게'].isna()].index:\n",
    "#     print(f\"인덱스 {index}: NaN → {df1['몸무게_filled'][index]}\")"
   ]
  },
  {
   "cell_type": "code",
   "execution_count": 39,
   "metadata": {},
   "outputs": [
    {
     "name": "stdout",
     "output_type": "stream",
     "text": [
      "결측치 개수 (값 채운 후): 0\n"
     ]
    }
   ],
   "source": [
    "# '몸무게' 열의 결측치를 평균값으로 채우기\n",
    "df1['몸무게'] = df1['몸무게'].fillna(df1['몸무게'].mean())\n",
    "\n",
    "# 결측치가 제대로 채워졌는지 확인\n",
    "print(\"결측치 개수 (값 채운 후):\", df1['몸무게'].isna().sum())"
   ]
  },
  {
   "cell_type": "code",
   "execution_count": 40,
   "metadata": {},
   "outputs": [
    {
     "name": "stdout",
     "output_type": "stream",
     "text": [
      "<class 'pandas.core.frame.DataFrame'>\n",
      "RangeIndex: 999 entries, 1 to 999\n",
      "Data columns (total 12 columns):\n",
      " #   Column  Non-Null Count  Dtype         \n",
      "---  ------  --------------  -----         \n",
      " 0   아이디     999 non-null    object        \n",
      " 1   리뷰어 등급  999 non-null    object        \n",
      " 2   작성 날짜   999 non-null    datetime64[ns]\n",
      " 3   옵션1     999 non-null    object        \n",
      " 4   옵션2     999 non-null    object        \n",
      " 5   상품 사이즈  999 non-null    object        \n",
      " 6   퀄리티     999 non-null    object        \n",
      " 7   색감      999 non-null    object        \n",
      " 8   키       999 non-null    float64       \n",
      " 9   몸무게     999 non-null    float64       \n",
      " 10  사이즈     917 non-null    object        \n",
      " 11  리뷰내용    999 non-null    object        \n",
      "dtypes: datetime64[ns](1), float64(2), object(9)\n",
      "memory usage: 93.8+ KB\n"
     ]
    }
   ],
   "source": [
    "df1.info()"
   ]
  },
  {
   "cell_type": "markdown",
   "metadata": {},
   "source": [
    "### 04. 사이즈 타입을 수치형으로 변환 후, 결측치 확인 뒤 평균값 채우기 \n",
    "- 숫자형(float)으로 변환"
   ]
  },
  {
   "cell_type": "code",
   "execution_count": 42,
   "metadata": {},
   "outputs": [
    {
     "data": {
      "text/plain": [
       "1      55.0\n",
       "2      66.0\n",
       "3      55.0\n",
       "4      55.0\n",
       "5      44.0\n",
       "       ... \n",
       "995    55.0\n",
       "996    55.0\n",
       "997    44.0\n",
       "998    55.0\n",
       "999     NaN\n",
       "Name: 사이즈, Length: 999, dtype: float64"
      ]
     },
     "execution_count": 42,
     "metadata": {},
     "output_type": "execute_result"
    }
   ],
   "source": [
    "# '사이즈' 컬럼 확인 (숫자만 추출하여 수치형 변환)\n",
    "df1['사이즈'] = df1['사이즈'].astype(str).str.replace(r'[^0-9]', '', regex=True).str.strip()  # 숫자만 남기기\n",
    "df1['사이즈'] = pd.to_numeric(df1['사이즈'], errors='coerce')  # 수치형 변환\n",
    "df1['사이즈']"
   ]
  },
  {
   "cell_type": "code",
   "execution_count": 43,
   "metadata": {},
   "outputs": [
    {
     "name": "stdout",
     "output_type": "stream",
     "text": [
      "결측치 개수 (값 채우기 전): 82\n"
     ]
    }
   ],
   "source": [
    "# 1. 결측치 확인\n",
    "print(f\"결측치 개수 (값 채우기 전): {df1['사이즈'].isna().sum()}\")"
   ]
  },
  {
   "cell_type": "code",
   "execution_count": 44,
   "metadata": {},
   "outputs": [
    {
     "name": "stdout",
     "output_type": "stream",
     "text": [
      "\n",
      "결측치 제외한 '사이즈번호' 통계량:\n",
      "count    917.000000\n",
      "mean      53.164667\n",
      "std        7.532037\n",
      "min       33.000000\n",
      "25%       44.000000\n",
      "50%       55.000000\n",
      "75%       55.000000\n",
      "max       88.000000\n",
      "Name: 사이즈, dtype: float64\n"
     ]
    }
   ],
   "source": [
    "# 2. 결측치 제외한 데이터 통계 확인\n",
    "print(\"\\n결측치 제외한 '사이즈번호' 통계량:\")\n",
    "print(df1['사이즈'].dropna().describe())"
   ]
  },
  {
   "cell_type": "code",
   "execution_count": 46,
   "metadata": {},
   "outputs": [
    {
     "name": "stderr",
     "output_type": "stream",
     "text": [
      "findfont: Font family 'NanumGothic' not found.\n",
      "findfont: Font family 'NanumGothic' not found.\n",
      "findfont: Font family 'NanumGothic' not found.\n",
      "findfont: Font family 'NanumGothic' not found.\n",
      "findfont: Font family 'NanumGothic' not found.\n",
      "findfont: Font family 'NanumGothic' not found.\n",
      "findfont: Font family 'NanumGothic' not found.\n",
      "findfont: Font family 'NanumGothic' not found.\n",
      "findfont: Font family 'NanumGothic' not found.\n",
      "c:\\Users\\asia\\anaconda3\\envs\\project\\lib\\site-packages\\IPython\\core\\pylabtools.py:170: UserWarning: Glyph 48712 (\\N{HANGUL SYLLABLE BIN}) missing from font(s) DejaVu Sans.\n",
      "  fig.canvas.print_figure(bytes_io, **kw)\n",
      "c:\\Users\\asia\\anaconda3\\envs\\project\\lib\\site-packages\\IPython\\core\\pylabtools.py:170: UserWarning: Glyph 46020 (\\N{HANGUL SYLLABLE DO}) missing from font(s) DejaVu Sans.\n",
      "  fig.canvas.print_figure(bytes_io, **kw)\n",
      "c:\\Users\\asia\\anaconda3\\envs\\project\\lib\\site-packages\\IPython\\core\\pylabtools.py:170: UserWarning: Glyph 49688 (\\N{HANGUL SYLLABLE SU}) missing from font(s) DejaVu Sans.\n",
      "  fig.canvas.print_figure(bytes_io, **kw)\n",
      "findfont: Font family 'NanumGothic' not found.\n",
      "findfont: Font family 'NanumGothic' not found.\n",
      "c:\\Users\\asia\\anaconda3\\envs\\project\\lib\\site-packages\\IPython\\core\\pylabtools.py:170: UserWarning: Glyph 49324 (\\N{HANGUL SYLLABLE SA}) missing from font(s) DejaVu Sans.\n",
      "  fig.canvas.print_figure(bytes_io, **kw)\n",
      "c:\\Users\\asia\\anaconda3\\envs\\project\\lib\\site-packages\\IPython\\core\\pylabtools.py:170: UserWarning: Glyph 51060 (\\N{HANGUL SYLLABLE I}) missing from font(s) DejaVu Sans.\n",
      "  fig.canvas.print_figure(bytes_io, **kw)\n",
      "c:\\Users\\asia\\anaconda3\\envs\\project\\lib\\site-packages\\IPython\\core\\pylabtools.py:170: UserWarning: Glyph 51592 (\\N{HANGUL SYLLABLE JEU}) missing from font(s) DejaVu Sans.\n",
      "  fig.canvas.print_figure(bytes_io, **kw)\n",
      "c:\\Users\\asia\\anaconda3\\envs\\project\\lib\\site-packages\\IPython\\core\\pylabtools.py:170: UserWarning: Glyph 45936 (\\N{HANGUL SYLLABLE DE}) missing from font(s) DejaVu Sans.\n",
      "  fig.canvas.print_figure(bytes_io, **kw)\n",
      "c:\\Users\\asia\\anaconda3\\envs\\project\\lib\\site-packages\\IPython\\core\\pylabtools.py:170: UserWarning: Glyph 53552 (\\N{HANGUL SYLLABLE TEO}) missing from font(s) DejaVu Sans.\n",
      "  fig.canvas.print_figure(bytes_io, **kw)\n",
      "c:\\Users\\asia\\anaconda3\\envs\\project\\lib\\site-packages\\IPython\\core\\pylabtools.py:170: UserWarning: Glyph 48516 (\\N{HANGUL SYLLABLE BUN}) missing from font(s) DejaVu Sans.\n",
      "  fig.canvas.print_figure(bytes_io, **kw)\n",
      "c:\\Users\\asia\\anaconda3\\envs\\project\\lib\\site-packages\\IPython\\core\\pylabtools.py:170: UserWarning: Glyph 54252 (\\N{HANGUL SYLLABLE PO}) missing from font(s) DejaVu Sans.\n",
      "  fig.canvas.print_figure(bytes_io, **kw)\n",
      "c:\\Users\\asia\\anaconda3\\envs\\project\\lib\\site-packages\\IPython\\core\\pylabtools.py:170: UserWarning: Glyph 44208 (\\N{HANGUL SYLLABLE GYEOL}) missing from font(s) DejaVu Sans.\n",
      "  fig.canvas.print_figure(bytes_io, **kw)\n",
      "c:\\Users\\asia\\anaconda3\\envs\\project\\lib\\site-packages\\IPython\\core\\pylabtools.py:170: UserWarning: Glyph 52769 (\\N{HANGUL SYLLABLE CEUG}) missing from font(s) DejaVu Sans.\n",
      "  fig.canvas.print_figure(bytes_io, **kw)\n",
      "c:\\Users\\asia\\anaconda3\\envs\\project\\lib\\site-packages\\IPython\\core\\pylabtools.py:170: UserWarning: Glyph 52824 (\\N{HANGUL SYLLABLE CI}) missing from font(s) DejaVu Sans.\n",
      "  fig.canvas.print_figure(bytes_io, **kw)\n",
      "c:\\Users\\asia\\anaconda3\\envs\\project\\lib\\site-packages\\IPython\\core\\pylabtools.py:170: UserWarning: Glyph 51228 (\\N{HANGUL SYLLABLE JE}) missing from font(s) DejaVu Sans.\n",
      "  fig.canvas.print_figure(bytes_io, **kw)\n",
      "c:\\Users\\asia\\anaconda3\\envs\\project\\lib\\site-packages\\IPython\\core\\pylabtools.py:170: UserWarning: Glyph 50808 (\\N{HANGUL SYLLABLE OE}) missing from font(s) DejaVu Sans.\n",
      "  fig.canvas.print_figure(bytes_io, **kw)\n",
      "findfont: Font family 'NanumGothic' not found.\n",
      "findfont: Font family 'NanumGothic' not found.\n",
      "findfont: Font family 'NanumGothic' not found.\n",
      "findfont: Font family 'NanumGothic' not found.\n",
      "findfont: Font family 'NanumGothic' not found.\n",
      "findfont: Font family 'NanumGothic' not found.\n",
      "findfont: Font family 'NanumGothic' not found.\n",
      "findfont: Font family 'NanumGothic' not found.\n",
      "findfont: Font family 'NanumGothic' not found.\n",
      "c:\\Users\\asia\\anaconda3\\envs\\project\\lib\\site-packages\\IPython\\core\\pylabtools.py:170: UserWarning: Glyph 54217 (\\N{HANGUL SYLLABLE PYEONG}) missing from font(s) DejaVu Sans.\n",
      "  fig.canvas.print_figure(bytes_io, **kw)\n",
      "c:\\Users\\asia\\anaconda3\\envs\\project\\lib\\site-packages\\IPython\\core\\pylabtools.py:170: UserWarning: Glyph 44512 (\\N{HANGUL SYLLABLE GYUN}) missing from font(s) DejaVu Sans.\n",
      "  fig.canvas.print_figure(bytes_io, **kw)\n",
      "findfont: Font family 'NanumGothic' not found.\n",
      "findfont: Font family 'NanumGothic' not found.\n",
      "c:\\Users\\asia\\anaconda3\\envs\\project\\lib\\site-packages\\IPython\\core\\pylabtools.py:170: UserWarning: Glyph 51473 (\\N{HANGUL SYLLABLE JUNG}) missing from font(s) DejaVu Sans.\n",
      "  fig.canvas.print_figure(bytes_io, **kw)\n",
      "c:\\Users\\asia\\anaconda3\\envs\\project\\lib\\site-packages\\IPython\\core\\pylabtools.py:170: UserWarning: Glyph 50521 (\\N{HANGUL SYLLABLE ANG}) missing from font(s) DejaVu Sans.\n",
      "  fig.canvas.print_figure(bytes_io, **kw)\n",
      "c:\\Users\\asia\\anaconda3\\envs\\project\\lib\\site-packages\\IPython\\core\\pylabtools.py:170: UserWarning: Glyph 44050 (\\N{HANGUL SYLLABLE GABS}) missing from font(s) DejaVu Sans.\n",
      "  fig.canvas.print_figure(bytes_io, **kw)\n",
      "findfont: Font family 'NanumGothic' not found.\n",
      "findfont: Font family 'NanumGothic' not found.\n",
      "findfont: Font family 'NanumGothic' not found.\n",
      "findfont: Font family 'NanumGothic' not found.\n",
      "findfont: Font family 'NanumGothic' not found.\n",
      "findfont: Font family 'NanumGothic' not found.\n",
      "findfont: Font family 'NanumGothic' not found.\n",
      "findfont: Font family 'NanumGothic' not found.\n",
      "findfont: Font family 'NanumGothic' not found.\n",
      "findfont: Font family 'NanumGothic' not found.\n",
      "findfont: Font family 'NanumGothic' not found.\n",
      "findfont: Font family 'NanumGothic' not found.\n",
      "findfont: Font family 'NanumGothic' not found.\n",
      "findfont: Font family 'NanumGothic' not found.\n",
      "findfont: Font family 'NanumGothic' not found.\n",
      "findfont: Font family 'NanumGothic' not found.\n",
      "findfont: Font family 'NanumGothic' not found.\n",
      "findfont: Font family 'NanumGothic' not found.\n",
      "findfont: Font family 'NanumGothic' not found.\n",
      "findfont: Font family 'NanumGothic' not found.\n",
      "findfont: Font family 'NanumGothic' not found.\n",
      "findfont: Font family 'NanumGothic' not found.\n",
      "findfont: Font family 'NanumGothic' not found.\n",
      "findfont: Font family 'NanumGothic' not found.\n",
      "findfont: Font family 'NanumGothic' not found.\n",
      "findfont: Font family 'NanumGothic' not found.\n",
      "findfont: Font family 'NanumGothic' not found.\n",
      "findfont: Font family 'NanumGothic' not found.\n",
      "findfont: Font family 'NanumGothic' not found.\n",
      "findfont: Font family 'NanumGothic' not found.\n",
      "findfont: Font family 'NanumGothic' not found.\n",
      "findfont: Font family 'NanumGothic' not found.\n",
      "findfont: Font family 'NanumGothic' not found.\n",
      "findfont: Font family 'NanumGothic' not found.\n",
      "findfont: Font family 'NanumGothic' not found.\n",
      "findfont: Font family 'NanumGothic' not found.\n",
      "findfont: Font family 'NanumGothic' not found.\n",
      "findfont: Font family 'NanumGothic' not found.\n",
      "findfont: Font family 'NanumGothic' not found.\n",
      "findfont: Font family 'NanumGothic' not found.\n",
      "findfont: Font family 'NanumGothic' not found.\n",
      "findfont: Font family 'NanumGothic' not found.\n",
      "findfont: Font family 'NanumGothic' not found.\n",
      "findfont: Font family 'NanumGothic' not found.\n",
      "findfont: Font family 'NanumGothic' not found.\n",
      "findfont: Font family 'NanumGothic' not found.\n",
      "findfont: Font family 'NanumGothic' not found.\n",
      "findfont: Font family 'NanumGothic' not found.\n",
      "findfont: Font family 'NanumGothic' not found.\n",
      "findfont: Font family 'NanumGothic' not found.\n",
      "findfont: Font family 'NanumGothic' not found.\n",
      "findfont: Font family 'NanumGothic' not found.\n",
      "findfont: Font family 'NanumGothic' not found.\n",
      "findfont: Font family 'NanumGothic' not found.\n",
      "findfont: Font family 'NanumGothic' not found.\n",
      "findfont: Font family 'NanumGothic' not found.\n",
      "findfont: Font family 'NanumGothic' not found.\n"
     ]
    },
    {
     "data": {
      "image/png": "[encoded data removed]",
      "text/plain": [
       "<Figure size 1000x600 with 1 Axes>"
      ]
     },
     "metadata": {},
     "output_type": "display_data"
    }
   ],
   "source": [
    "import matplotlib.pyplot as plt\n",
    "import seaborn as sns\n",
    "\n",
    "# '사이즈' 데이터 분포 시각화\n",
    "plt.figure(figsize=(10, 6))\n",
    "sns.histplot(df1['사이즈'].dropna(), kde=True, bins=30, color='skyblue', edgecolor='black')\n",
    "\n",
    "# 제목과 라벨 설정\n",
    "plt.title(\"사이즈데이터 분포 (결측치 제외)\", fontsize=16)\n",
    "plt.xlabel(\"사이즈\", fontsize=14)\n",
    "plt.ylabel(\"빈도수\", fontsize=14)\n",
    "\n",
    "# 평균과 중앙값 표시\n",
    "plt.axvline(df1['사이즈'].mean(), color='red', linestyle='--', label=f\"평균: {df1['사이즈'].mean():.2f}\")\n",
    "plt.axvline(df1['사이즈'].median(), color='green', linestyle='-', label=f\"중앙값: {df1['사이즈'].median():.2f}\")\n",
    "\n",
    "# 범례 표시\n",
    "plt.legend()\n",
    "\n",
    "# 그래프 출력\n",
    "plt.show()\n"
   ]
  },
  {
   "cell_type": "code",
   "execution_count": 47,
   "metadata": {},
   "outputs": [
    {
     "name": "stdout",
     "output_type": "stream",
     "text": [
      "결측치 개수 (처리 후): 0\n"
     ]
    }
   ],
   "source": [
    "# 사이즈번호의 결측치를 최빈값으로 대체\n",
    "df1['사이즈'] = df1['사이즈'].fillna(df1['사이즈'].mode()[0])\n",
    "\n",
    "# 결측치 대체 후 결과 확인\n",
    "print(\"결측치 개수 (처리 후):\", df1['사이즈'].isna().sum())\n"
   ]
  },
  {
   "cell_type": "markdown",
   "metadata": {},
   "source": [
    "### 전처리 폴더 만들어야함 "
   ]
  },
  {
   "cell_type": "code",
   "execution_count": 50,
   "metadata": {},
   "outputs": [
    {
     "name": "stdout",
     "output_type": "stream",
     "text": [
      "데이터가 저장되었습니다: C:\\Users\\asia\\Desktop\\ai_project\\전처리\\전처리_슬리브리스_p3_135006673.csv\n"
     ]
    }
   ],
   "source": [
    "import pandas as pd\n",
    "\n",
    "# 데이터 저장 경로\n",
    "save_path = r'C:\\Users\\asia\\Desktop\\ai_project\\전처리\\전처리_슬리브리스_p1_112538672.csv'\n",
    "# CSV 파일로 저장\n",
    "df1.to_csv(save_path, index=False, encoding='utf-8-sig')\n",
    "\n",
    "print(f\"데이터가 저장되었습니다: {save_path}\")\n"
   ]
  },
  {
   "cell_type": "code",
   "execution_count": null,
   "metadata": {},
   "outputs": [],
   "source": []
  }
 ],
 "metadata": {
  "kernelspec": {
   "display_name": "project",
   "language": "python",
   "name": "python3"
  },
  "language_info": {
   "codemirror_mode": {
    "name": "ipython",
    "version": 3
   },
   "file_extension": ".py",
   "mimetype": "text/x-python",
   "name": "python",
   "nbconvert_exporter": "python",
   "pygments_lexer": "ipython3",
   "version": "3.10.16"
  }
 },
 "nbformat": 4,
 "nbformat_minor": 2
}
