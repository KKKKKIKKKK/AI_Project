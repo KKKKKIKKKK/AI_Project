{
 "cells": [
  {
   "cell_type": "markdown",
   "metadata": {},
   "source": [
    "### 문제점\n",
    "-  1. 0번이 nan 값으로 뽑혀가지고. 1000개를 추출했지만 999개이다. "
   ]
  },
  {
   "cell_type": "code",
   "execution_count": 238,
   "metadata": {},
   "outputs": [],
   "source": [
    "import pandas as pd "
   ]
  },
  {
   "cell_type": "code",
   "execution_count": 239,
   "metadata": {},
   "outputs": [
    {
     "data": {
      "text/html": [
       "<div>\n",
       "<style scoped>\n",
       "    .dataframe tbody tr th:only-of-type {\n",
       "        vertical-align: middle;\n",
       "    }\n",
       "\n",
       "    .dataframe tbody tr th {\n",
       "        vertical-align: top;\n",
       "    }\n",
       "\n",
       "    .dataframe thead th {\n",
       "        text-align: right;\n",
       "    }\n",
       "</style>\n",
       "<table border=\"1\" class=\"dataframe\">\n",
       "  <thead>\n",
       "    <tr style=\"text-align: right;\">\n",
       "      <th></th>\n",
       "      <th>아이디</th>\n",
       "      <th>리뷰어 등급</th>\n",
       "      <th>작성 날짜</th>\n",
       "      <th>옵션1</th>\n",
       "      <th>옵션2</th>\n",
       "      <th>상품 사이즈</th>\n",
       "      <th>퀄리티</th>\n",
       "      <th>색감</th>\n",
       "      <th>키</th>\n",
       "      <th>몸무게</th>\n",
       "      <th>사이즈</th>\n",
       "      <th>리뷰내용</th>\n",
       "    </tr>\n",
       "  </thead>\n",
       "  <tbody>\n",
       "    <tr>\n",
       "      <th>0</th>\n",
       "      <td>NaN</td>\n",
       "      <td>NaN</td>\n",
       "      <td>NaN</td>\n",
       "      <td>NaN</td>\n",
       "      <td>NaN</td>\n",
       "      <td>NaN</td>\n",
       "      <td>NaN</td>\n",
       "      <td>NaN</td>\n",
       "      <td>NaN</td>\n",
       "      <td>NaN</td>\n",
       "      <td>NaN</td>\n",
       "      <td>NaN</td>\n",
       "    </tr>\n",
       "    <tr>\n",
       "      <th>1</th>\n",
       "      <td>nxxhee</td>\n",
       "      <td>탑리뷰어</td>\n",
       "      <td>24.11.27</td>\n",
       "      <td>(롱ver)아이보리</td>\n",
       "      <td>one size</td>\n",
       "      <td>정사이즈예요</td>\n",
       "      <td>보통이에요</td>\n",
       "      <td>화면과 비슷해요</td>\n",
       "      <td>164cm</td>\n",
       "      <td>56kg</td>\n",
       "      <td>상의 55</td>\n",
       "      <td>제 인생은 캡나시 알기 전과 후로 나뉩니다,,\\nZZIZZI가 작아서 그런지 모르겠...</td>\n",
       "    </tr>\n",
       "    <tr>\n",
       "      <th>2</th>\n",
       "      <td>u2QwGGfF</td>\n",
       "      <td>NaN</td>\n",
       "      <td>24.07.07</td>\n",
       "      <td>블랙</td>\n",
       "      <td>L</td>\n",
       "      <td>정사이즈예요</td>\n",
       "      <td>아주 만족해요</td>\n",
       "      <td>화면과 비슷해요</td>\n",
       "      <td>163cm</td>\n",
       "      <td>58kg</td>\n",
       "      <td>상의 66</td>\n",
       "      <td>L사이즈가 있길래 직잭배송으로 구매했더니 아침에 바로 입어볼 수 있었네요ㅎㅎ L사이...</td>\n",
       "    </tr>\n",
       "    <tr>\n",
       "      <th>3</th>\n",
       "      <td>WMKwL2mc</td>\n",
       "      <td>NaN</td>\n",
       "      <td>24.06.26</td>\n",
       "      <td>(롱롱ver)블랙</td>\n",
       "      <td>one size</td>\n",
       "      <td>정사이즈예요</td>\n",
       "      <td>아주 만족해요</td>\n",
       "      <td>화면과 비슷해요</td>\n",
       "      <td>156cm</td>\n",
       "      <td>50kg</td>\n",
       "      <td>상의 55</td>\n",
       "      <td>이가격에, 이 옵션 수에, 이런 총알배송??? 만족도 최상. 당장 사십시오. 저는 ...</td>\n",
       "    </tr>\n",
       "    <tr>\n",
       "      <th>4</th>\n",
       "      <td>HCi3CFRP</td>\n",
       "      <td>NaN</td>\n",
       "      <td>25.01.09</td>\n",
       "      <td>(기모롱ver)베이지</td>\n",
       "      <td>one size</td>\n",
       "      <td>정사이즈예요</td>\n",
       "      <td>아주 만족해요</td>\n",
       "      <td>화면과 비슷해요</td>\n",
       "      <td>167cm</td>\n",
       "      <td>52kg</td>\n",
       "      <td>상의 55</td>\n",
       "      <td>가격대비 품질이 너무 좋네요. \\n셔링들어간 건 처음입는데 몸라인이 정말 예뻐보여요...</td>\n",
       "    </tr>\n",
       "    <tr>\n",
       "      <th>...</th>\n",
       "      <td>...</td>\n",
       "      <td>...</td>\n",
       "      <td>...</td>\n",
       "      <td>...</td>\n",
       "      <td>...</td>\n",
       "      <td>...</td>\n",
       "      <td>...</td>\n",
       "      <td>...</td>\n",
       "      <td>...</td>\n",
       "      <td>...</td>\n",
       "      <td>...</td>\n",
       "      <td>...</td>\n",
       "    </tr>\n",
       "    <tr>\n",
       "      <th>995</th>\n",
       "      <td>XaE4oG2g</td>\n",
       "      <td>상위 30%</td>\n",
       "      <td>24.10.17</td>\n",
       "      <td>아이보리</td>\n",
       "      <td>one size</td>\n",
       "      <td>정사이즈예요</td>\n",
       "      <td>보통이에요</td>\n",
       "      <td>화면과 비슷해요</td>\n",
       "      <td>156cm</td>\n",
       "      <td>48kg</td>\n",
       "      <td>상의 55</td>\n",
       "      <td>75B 가슴이 조금 쳐진 스타일입니다🙈\\n단독으로 입는 게 맞겠죠?\\n절대 가슴 지...</td>\n",
       "    </tr>\n",
       "    <tr>\n",
       "      <th>996</th>\n",
       "      <td>jliPGve6</td>\n",
       "      <td>상위 15%</td>\n",
       "      <td>24.10.10</td>\n",
       "      <td>아이보리</td>\n",
       "      <td>one size</td>\n",
       "      <td>정사이즈예요</td>\n",
       "      <td>보통이에요</td>\n",
       "      <td>화면과 비슷해요</td>\n",
       "      <td>165cm</td>\n",
       "      <td>52kg</td>\n",
       "      <td>상의 55</td>\n",
       "      <td>받았을 때 좀 작아보였는데\\n막상 입으니까 속옷 안입고 요거만 입어도 핏도 괜찮고\\...</td>\n",
       "    </tr>\n",
       "    <tr>\n",
       "      <th>997</th>\n",
       "      <td>orDbsTqv</td>\n",
       "      <td>상위 30%</td>\n",
       "      <td>24.10.02</td>\n",
       "      <td>(롱ver)그레이</td>\n",
       "      <td>one size</td>\n",
       "      <td>정사이즈예요</td>\n",
       "      <td>아주 만족해요</td>\n",
       "      <td>화면과 비슷해요</td>\n",
       "      <td>164cm</td>\n",
       "      <td>51kg</td>\n",
       "      <td>상의 44</td>\n",
       "      <td>끈이 얇아서 몇번 입고 나면 뜯어진다는 타사 제품들도 많은데 여기꺼는 아무리 입고 ...</td>\n",
       "    </tr>\n",
       "    <tr>\n",
       "      <th>998</th>\n",
       "      <td>zjqdiPmt</td>\n",
       "      <td>NaN</td>\n",
       "      <td>24.09.14</td>\n",
       "      <td>(롱ver)크림</td>\n",
       "      <td>one size</td>\n",
       "      <td>정사이즈예요</td>\n",
       "      <td>아주 만족해요</td>\n",
       "      <td>화면과 비슷해요</td>\n",
       "      <td>159cm</td>\n",
       "      <td>55kg</td>\n",
       "      <td>상의 55</td>\n",
       "      <td>후기가 좋아서 구매하려보니 다 품절이더라고요ㅠㅠ\\n재고 있는거로 시켰는데 너무 예뻐...</td>\n",
       "    </tr>\n",
       "    <tr>\n",
       "      <th>999</th>\n",
       "      <td>0814***</td>\n",
       "      <td>NaN</td>\n",
       "      <td>24.09.09</td>\n",
       "      <td>(롱ver)블랙</td>\n",
       "      <td>one size</td>\n",
       "      <td>작아요</td>\n",
       "      <td>별로예요</td>\n",
       "      <td>화면과 비슷해요</td>\n",
       "      <td>NaN</td>\n",
       "      <td>NaN</td>\n",
       "      <td>NaN</td>\n",
       "      <td>냄새 심각합니다\\n지그재그 첫 이용해봤는데 많이 실망이네요\\n뭐 중국 사이트에서 구...</td>\n",
       "    </tr>\n",
       "  </tbody>\n",
       "</table>\n",
       "<p>1000 rows × 12 columns</p>\n",
       "</div>"
      ],
      "text/plain": [
       "          아이디  리뷰어 등급     작성 날짜          옵션1       옵션2  상품 사이즈      퀄리티  \\\n",
       "0         NaN     NaN       NaN          NaN       NaN     NaN      NaN   \n",
       "1      nxxhee    탑리뷰어  24.11.27   (롱ver)아이보리  one size  정사이즈예요    보통이에요   \n",
       "2    u2QwGGfF     NaN  24.07.07           블랙         L  정사이즈예요  아주 만족해요   \n",
       "3    WMKwL2mc     NaN  24.06.26    (롱롱ver)블랙  one size  정사이즈예요  아주 만족해요   \n",
       "4    HCi3CFRP     NaN  25.01.09  (기모롱ver)베이지  one size  정사이즈예요  아주 만족해요   \n",
       "..        ...     ...       ...          ...       ...     ...      ...   \n",
       "995  XaE4oG2g  상위 30%  24.10.17         아이보리  one size  정사이즈예요    보통이에요   \n",
       "996  jliPGve6  상위 15%  24.10.10         아이보리  one size  정사이즈예요    보통이에요   \n",
       "997  orDbsTqv  상위 30%  24.10.02    (롱ver)그레이  one size  정사이즈예요  아주 만족해요   \n",
       "998  zjqdiPmt     NaN  24.09.14     (롱ver)크림  one size  정사이즈예요  아주 만족해요   \n",
       "999   0814***     NaN  24.09.09     (롱ver)블랙  one size     작아요     별로예요   \n",
       "\n",
       "           색감      키   몸무게    사이즈  \\\n",
       "0         NaN    NaN   NaN    NaN   \n",
       "1    화면과 비슷해요  164cm  56kg  상의 55   \n",
       "2    화면과 비슷해요  163cm  58kg  상의 66   \n",
       "3    화면과 비슷해요  156cm  50kg  상의 55   \n",
       "4    화면과 비슷해요  167cm  52kg  상의 55   \n",
       "..        ...    ...   ...    ...   \n",
       "995  화면과 비슷해요  156cm  48kg  상의 55   \n",
       "996  화면과 비슷해요  165cm  52kg  상의 55   \n",
       "997  화면과 비슷해요  164cm  51kg  상의 44   \n",
       "998  화면과 비슷해요  159cm  55kg  상의 55   \n",
       "999  화면과 비슷해요    NaN   NaN    NaN   \n",
       "\n",
       "                                                  리뷰내용  \n",
       "0                                                  NaN  \n",
       "1    제 인생은 캡나시 알기 전과 후로 나뉩니다,,\\nZZIZZI가 작아서 그런지 모르겠...  \n",
       "2    L사이즈가 있길래 직잭배송으로 구매했더니 아침에 바로 입어볼 수 있었네요ㅎㅎ L사이...  \n",
       "3    이가격에, 이 옵션 수에, 이런 총알배송??? 만족도 최상. 당장 사십시오. 저는 ...  \n",
       "4    가격대비 품질이 너무 좋네요. \\n셔링들어간 건 처음입는데 몸라인이 정말 예뻐보여요...  \n",
       "..                                                 ...  \n",
       "995  75B 가슴이 조금 쳐진 스타일입니다🙈\\n단독으로 입는 게 맞겠죠?\\n절대 가슴 지...  \n",
       "996  받았을 때 좀 작아보였는데\\n막상 입으니까 속옷 안입고 요거만 입어도 핏도 괜찮고\\...  \n",
       "997  끈이 얇아서 몇번 입고 나면 뜯어진다는 타사 제품들도 많은데 여기꺼는 아무리 입고 ...  \n",
       "998  후기가 좋아서 구매하려보니 다 품절이더라고요ㅠㅠ\\n재고 있는거로 시켰는데 너무 예뻐...  \n",
       "999  냄새 심각합니다\\n지그재그 첫 이용해봤는데 많이 실망이네요\\n뭐 중국 사이트에서 구...  \n",
       "\n",
       "[1000 rows x 12 columns]"
      ]
     },
     "execution_count": 239,
     "metadata": {},
     "output_type": "execute_result"
    }
   ],
   "source": [
    "df1 = pd.read_csv(\"슬리브리스_p1_112538672.csv\")\n",
    "df1"
   ]
  },
  {
   "cell_type": "code",
   "execution_count": 240,
   "metadata": {},
   "outputs": [
    {
     "name": "stdout",
     "output_type": "stream",
     "text": [
      "<class 'pandas.core.frame.DataFrame'>\n",
      "RangeIndex: 1000 entries, 0 to 999\n",
      "Data columns (total 12 columns):\n",
      " #   Column  Non-Null Count  Dtype \n",
      "---  ------  --------------  ----- \n",
      " 0   아이디     999 non-null    object\n",
      " 1   리뷰어 등급  482 non-null    object\n",
      " 2   작성 날짜   999 non-null    object\n",
      " 3   옵션1     999 non-null    object\n",
      " 4   옵션2     999 non-null    object\n",
      " 5   상품 사이즈  999 non-null    object\n",
      " 6   퀄리티     999 non-null    object\n",
      " 7   색감      999 non-null    object\n",
      " 8   키       939 non-null    object\n",
      " 9   몸무게     933 non-null    object\n",
      " 10  사이즈     917 non-null    object\n",
      " 11  리뷰내용    999 non-null    object\n",
      "dtypes: object(12)\n",
      "memory usage: 93.9+ KB\n"
     ]
    }
   ],
   "source": [
    "df1.info()"
   ]
  },
  {
   "cell_type": "code",
   "execution_count": 241,
   "metadata": {},
   "outputs": [
    {
     "data": {
      "text/html": [
       "<div>\n",
       "<style scoped>\n",
       "    .dataframe tbody tr th:only-of-type {\n",
       "        vertical-align: middle;\n",
       "    }\n",
       "\n",
       "    .dataframe tbody tr th {\n",
       "        vertical-align: top;\n",
       "    }\n",
       "\n",
       "    .dataframe thead th {\n",
       "        text-align: right;\n",
       "    }\n",
       "</style>\n",
       "<table border=\"1\" class=\"dataframe\">\n",
       "  <thead>\n",
       "    <tr style=\"text-align: right;\">\n",
       "      <th></th>\n",
       "      <th>아이디</th>\n",
       "      <th>리뷰어 등급</th>\n",
       "      <th>작성 날짜</th>\n",
       "      <th>옵션1</th>\n",
       "      <th>옵션2</th>\n",
       "      <th>상품 사이즈</th>\n",
       "      <th>퀄리티</th>\n",
       "      <th>색감</th>\n",
       "      <th>키</th>\n",
       "      <th>몸무게</th>\n",
       "      <th>사이즈</th>\n",
       "      <th>리뷰내용</th>\n",
       "    </tr>\n",
       "  </thead>\n",
       "  <tbody>\n",
       "    <tr>\n",
       "      <th>0</th>\n",
       "      <td>NaN</td>\n",
       "      <td>NaN</td>\n",
       "      <td>NaN</td>\n",
       "      <td>NaN</td>\n",
       "      <td>NaN</td>\n",
       "      <td>NaN</td>\n",
       "      <td>NaN</td>\n",
       "      <td>NaN</td>\n",
       "      <td>NaN</td>\n",
       "      <td>NaN</td>\n",
       "      <td>NaN</td>\n",
       "      <td>NaN</td>\n",
       "    </tr>\n",
       "    <tr>\n",
       "      <th>1</th>\n",
       "      <td>nxxhee</td>\n",
       "      <td>탑리뷰어</td>\n",
       "      <td>24.11.27</td>\n",
       "      <td>(롱ver)아이보리</td>\n",
       "      <td>one size</td>\n",
       "      <td>정사이즈예요</td>\n",
       "      <td>보통이에요</td>\n",
       "      <td>화면과 비슷해요</td>\n",
       "      <td>164cm</td>\n",
       "      <td>56kg</td>\n",
       "      <td>상의 55</td>\n",
       "      <td>제 인생은 캡나시 알기 전과 후로 나뉩니다,,\\nZZIZZI가 작아서 그런지 모르겠...</td>\n",
       "    </tr>\n",
       "    <tr>\n",
       "      <th>2</th>\n",
       "      <td>u2QwGGfF</td>\n",
       "      <td>NaN</td>\n",
       "      <td>24.07.07</td>\n",
       "      <td>블랙</td>\n",
       "      <td>L</td>\n",
       "      <td>정사이즈예요</td>\n",
       "      <td>아주 만족해요</td>\n",
       "      <td>화면과 비슷해요</td>\n",
       "      <td>163cm</td>\n",
       "      <td>58kg</td>\n",
       "      <td>상의 66</td>\n",
       "      <td>L사이즈가 있길래 직잭배송으로 구매했더니 아침에 바로 입어볼 수 있었네요ㅎㅎ L사이...</td>\n",
       "    </tr>\n",
       "    <tr>\n",
       "      <th>3</th>\n",
       "      <td>WMKwL2mc</td>\n",
       "      <td>NaN</td>\n",
       "      <td>24.06.26</td>\n",
       "      <td>(롱롱ver)블랙</td>\n",
       "      <td>one size</td>\n",
       "      <td>정사이즈예요</td>\n",
       "      <td>아주 만족해요</td>\n",
       "      <td>화면과 비슷해요</td>\n",
       "      <td>156cm</td>\n",
       "      <td>50kg</td>\n",
       "      <td>상의 55</td>\n",
       "      <td>이가격에, 이 옵션 수에, 이런 총알배송??? 만족도 최상. 당장 사십시오. 저는 ...</td>\n",
       "    </tr>\n",
       "    <tr>\n",
       "      <th>4</th>\n",
       "      <td>HCi3CFRP</td>\n",
       "      <td>NaN</td>\n",
       "      <td>25.01.09</td>\n",
       "      <td>(기모롱ver)베이지</td>\n",
       "      <td>one size</td>\n",
       "      <td>정사이즈예요</td>\n",
       "      <td>아주 만족해요</td>\n",
       "      <td>화면과 비슷해요</td>\n",
       "      <td>167cm</td>\n",
       "      <td>52kg</td>\n",
       "      <td>상의 55</td>\n",
       "      <td>가격대비 품질이 너무 좋네요. \\n셔링들어간 건 처음입는데 몸라인이 정말 예뻐보여요...</td>\n",
       "    </tr>\n",
       "  </tbody>\n",
       "</table>\n",
       "</div>"
      ],
      "text/plain": [
       "        아이디 리뷰어 등급     작성 날짜          옵션1       옵션2  상품 사이즈      퀄리티  \\\n",
       "0       NaN    NaN       NaN          NaN       NaN     NaN      NaN   \n",
       "1    nxxhee   탑리뷰어  24.11.27   (롱ver)아이보리  one size  정사이즈예요    보통이에요   \n",
       "2  u2QwGGfF    NaN  24.07.07           블랙         L  정사이즈예요  아주 만족해요   \n",
       "3  WMKwL2mc    NaN  24.06.26    (롱롱ver)블랙  one size  정사이즈예요  아주 만족해요   \n",
       "4  HCi3CFRP    NaN  25.01.09  (기모롱ver)베이지  one size  정사이즈예요  아주 만족해요   \n",
       "\n",
       "         색감      키   몸무게    사이즈  \\\n",
       "0       NaN    NaN   NaN    NaN   \n",
       "1  화면과 비슷해요  164cm  56kg  상의 55   \n",
       "2  화면과 비슷해요  163cm  58kg  상의 66   \n",
       "3  화면과 비슷해요  156cm  50kg  상의 55   \n",
       "4  화면과 비슷해요  167cm  52kg  상의 55   \n",
       "\n",
       "                                                리뷰내용  \n",
       "0                                                NaN  \n",
       "1  제 인생은 캡나시 알기 전과 후로 나뉩니다,,\\nZZIZZI가 작아서 그런지 모르겠...  \n",
       "2  L사이즈가 있길래 직잭배송으로 구매했더니 아침에 바로 입어볼 수 있었네요ㅎㅎ L사이...  \n",
       "3  이가격에, 이 옵션 수에, 이런 총알배송??? 만족도 최상. 당장 사십시오. 저는 ...  \n",
       "4  가격대비 품질이 너무 좋네요. \\n셔링들어간 건 처음입는데 몸라인이 정말 예뻐보여요...  "
      ]
     },
     "execution_count": 241,
     "metadata": {},
     "output_type": "execute_result"
    }
   ],
   "source": [
    "df1.head()"
   ]
  },
  {
   "cell_type": "code",
   "execution_count": 242,
   "metadata": {},
   "outputs": [
    {
     "data": {
      "text/plain": [
       "아이디         1\n",
       "리뷰어 등급    518\n",
       "작성 날짜       1\n",
       "옵션1         1\n",
       "옵션2         1\n",
       "상품 사이즈      1\n",
       "퀄리티         1\n",
       "색감          1\n",
       "키          61\n",
       "몸무게        67\n",
       "사이즈        83\n",
       "리뷰내용        1\n",
       "dtype: int64"
      ]
     },
     "execution_count": 242,
     "metadata": {},
     "output_type": "execute_result"
    }
   ],
   "source": [
    "# 결측치 개수 확인\n",
    "df1.isnull().sum()"
   ]
  },
  {
   "cell_type": "markdown",
   "metadata": {},
   "source": [
    "### 결측치제거_1"
   ]
  },
  {
   "cell_type": "code",
   "execution_count": 243,
   "metadata": {},
   "outputs": [
    {
     "name": "stdout",
     "output_type": "stream",
     "text": [
      "<class 'pandas.core.frame.DataFrame'>\n",
      "RangeIndex: 999 entries, 1 to 999\n",
      "Data columns (total 12 columns):\n",
      " #   Column  Non-Null Count  Dtype \n",
      "---  ------  --------------  ----- \n",
      " 0   아이디     999 non-null    object\n",
      " 1   리뷰어 등급  482 non-null    object\n",
      " 2   작성 날짜   999 non-null    object\n",
      " 3   옵션1     999 non-null    object\n",
      " 4   옵션2     999 non-null    object\n",
      " 5   상품 사이즈  999 non-null    object\n",
      " 6   퀄리티     999 non-null    object\n",
      " 7   색감      999 non-null    object\n",
      " 8   키       939 non-null    object\n",
      " 9   몸무게     933 non-null    object\n",
      " 10  사이즈     917 non-null    object\n",
      " 11  리뷰내용    999 non-null    object\n",
      "dtypes: object(12)\n",
      "memory usage: 93.8+ KB\n"
     ]
    },
    {
     "data": {
      "text/plain": [
       "아이디         0\n",
       "리뷰어 등급    517\n",
       "작성 날짜       0\n",
       "옵션1         0\n",
       "옵션2         0\n",
       "상품 사이즈      0\n",
       "퀄리티         0\n",
       "색감          0\n",
       "키          60\n",
       "몸무게        66\n",
       "사이즈        82\n",
       "리뷰내용        0\n",
       "dtype: int64"
      ]
     },
     "execution_count": 243,
     "metadata": {},
     "output_type": "execute_result"
    }
   ],
   "source": [
    "# 0행제거 \n",
    "df1 = df1.drop(index=0, errors='ignore')\n",
    "\n",
    "# Display the first few rows to confirm removal\n",
    "df1.head(), df1.info()\n",
    "# 결측치 개수 확인\n",
    "df1.isnull().sum()\n"
   ]
  },
  {
   "cell_type": "markdown",
   "metadata": {},
   "source": [
    "### 결측치 대체 \n",
    "01. 리뷰어등급 대체 "
   ]
  },
  {
   "cell_type": "code",
   "execution_count": 196,
   "metadata": {},
   "outputs": [
    {
     "data": {
      "text/plain": [
       "1        탑리뷰어\n",
       "2         Nan\n",
       "3         Nan\n",
       "4         Nan\n",
       "5       상위 5%\n",
       "        ...  \n",
       "995    상위 30%\n",
       "996    상위 15%\n",
       "997    상위 30%\n",
       "998       Nan\n",
       "999       Nan\n",
       "Name: 리뷰어 등급, Length: 999, dtype: object"
      ]
     },
     "execution_count": 196,
     "metadata": {},
     "output_type": "execute_result"
    }
   ],
   "source": [
    "review_1 = df1.loc[:, '리뷰어 등급'] = df1['리뷰어 등급'].fillna('Nan')\n",
    "review_1"
   ]
  },
  {
   "cell_type": "markdown",
   "metadata": {},
   "source": [
    "### 키 결측치 NAN 대체 "
   ]
  },
  {
   "cell_type": "code",
   "execution_count": 197,
   "metadata": {},
   "outputs": [
    {
     "data": {
      "text/plain": [
       "1      164cm\n",
       "2      163cm\n",
       "3      156cm\n",
       "4      167cm\n",
       "5      155cm\n",
       "       ...  \n",
       "995    156cm\n",
       "996    165cm\n",
       "997    164cm\n",
       "998    159cm\n",
       "999      Nan\n",
       "Name: 키, Length: 999, dtype: object"
      ]
     },
     "execution_count": 197,
     "metadata": {},
     "output_type": "execute_result"
    }
   ],
   "source": [
    "# '키' 열의 결측치 처리 후 결과를 df2에 저장\n",
    "key_1 = df1.loc[:, '키'] = df1['키'].fillna('Nan')\n",
    "key_1\n"
   ]
  },
  {
   "cell_type": "markdown",
   "metadata": {},
   "source": [
    "### 몸무게 결측치 NAN 대체 "
   ]
  },
  {
   "cell_type": "code",
   "execution_count": 198,
   "metadata": {},
   "outputs": [
    {
     "data": {
      "text/plain": [
       "1      56kg\n",
       "2      58kg\n",
       "3      50kg\n",
       "4      52kg\n",
       "5      48kg\n",
       "       ... \n",
       "995    48kg\n",
       "996    52kg\n",
       "997    51kg\n",
       "998    55kg\n",
       "999     Nan\n",
       "Name: 몸무게, Length: 999, dtype: object"
      ]
     },
     "execution_count": 198,
     "metadata": {},
     "output_type": "execute_result"
    }
   ],
   "source": [
    "# '몸무게' 열의 결측치 처리 후 결과를 df2에 저장\n",
    "mom_1 = df1.loc[:, '몸무게'] = df1['몸무게'].fillna('Nan')\n",
    "mom_1\n"
   ]
  },
  {
   "cell_type": "markdown",
   "metadata": {},
   "source": [
    "### 사이즈 결측치 대체 "
   ]
  },
  {
   "cell_type": "code",
   "execution_count": 199,
   "metadata": {},
   "outputs": [
    {
     "data": {
      "text/plain": [
       "1      상의 55\n",
       "2      상의 66\n",
       "3      상의 55\n",
       "4      상의 55\n",
       "5      상의 44\n",
       "       ...  \n",
       "995    상의 55\n",
       "996    상의 55\n",
       "997    상의 44\n",
       "998    상의 55\n",
       "999      Nan\n",
       "Name: 사이즈, Length: 999, dtype: object"
      ]
     },
     "execution_count": 199,
     "metadata": {},
     "output_type": "execute_result"
    }
   ],
   "source": [
    "# '키' 열의 결측치 처리 후 결과를 df2에 저장\n",
    "size_1 = df1.loc[:, '사이즈'] = df1['사이즈'].fillna('Nan')\n",
    "size_1"
   ]
  },
  {
   "cell_type": "code",
   "execution_count": 200,
   "metadata": {},
   "outputs": [
    {
     "name": "stdout",
     "output_type": "stream",
     "text": [
      "아이디       0\n",
      "리뷰어 등급    0\n",
      "작성 날짜     0\n",
      "옵션1       0\n",
      "옵션2       0\n",
      "상품 사이즈    0\n",
      "퀄리티       0\n",
      "색감        0\n",
      "키         0\n",
      "몸무게       0\n",
      "사이즈       0\n",
      "리뷰내용      0\n",
      "dtype: int64\n"
     ]
    }
   ],
   "source": [
    "print(df1.isnull().sum())"
   ]
  },
  {
   "cell_type": "code",
   "execution_count": 201,
   "metadata": {},
   "outputs": [
    {
     "name": "stdout",
     "output_type": "stream",
     "text": [
      "<class 'pandas.core.frame.DataFrame'>\n",
      "RangeIndex: 999 entries, 1 to 999\n",
      "Data columns (total 12 columns):\n",
      " #   Column  Non-Null Count  Dtype \n",
      "---  ------  --------------  ----- \n",
      " 0   아이디     999 non-null    object\n",
      " 1   리뷰어 등급  999 non-null    object\n",
      " 2   작성 날짜   999 non-null    object\n",
      " 3   옵션1     999 non-null    object\n",
      " 4   옵션2     999 non-null    object\n",
      " 5   상품 사이즈  999 non-null    object\n",
      " 6   퀄리티     999 non-null    object\n",
      " 7   색감      999 non-null    object\n",
      " 8   키       999 non-null    object\n",
      " 9   몸무게     999 non-null    object\n",
      " 10  사이즈     999 non-null    object\n",
      " 11  리뷰내용    999 non-null    object\n",
      "dtypes: object(12)\n",
      "memory usage: 93.8+ KB\n"
     ]
    }
   ],
   "source": [
    "df1.info()"
   ]
  },
  {
   "cell_type": "code",
   "execution_count": 202,
   "metadata": {},
   "outputs": [
    {
     "name": "stdout",
     "output_type": "stream",
     "text": [
      "키 열에 쉼표 포함 여부: False\n",
      "몸무게 열에 쉼표 포함 여부: False\n"
     ]
    }
   ],
   "source": [
    "# 쉼표 포함 여부 확인\n",
    "print(\"키 열에 쉼표 포함 여부:\", df1['키'].str.contains(',').any())\n",
    "print(\"몸무게 열에 쉼표 포함 여부:\", df1['몸무게'].str.contains(',').any())\n",
    "# print(\"작성 날짜 열에 쉼표 포함 여부:\", df1['작성 날짜'].str.contains(',').any())\n"
   ]
  },
  {
   "cell_type": "code",
   "execution_count": 203,
   "metadata": {},
   "outputs": [
    {
     "name": "stdout",
     "output_type": "stream",
     "text": [
      "<class 'pandas.core.frame.DataFrame'>\n",
      "RangeIndex: 999 entries, 1 to 999\n",
      "Data columns (total 12 columns):\n",
      " #   Column  Non-Null Count  Dtype \n",
      "---  ------  --------------  ----- \n",
      " 0   아이디     999 non-null    object\n",
      " 1   리뷰어 등급  999 non-null    object\n",
      " 2   작성 날짜   999 non-null    object\n",
      " 3   옵션1     999 non-null    object\n",
      " 4   옵션2     999 non-null    object\n",
      " 5   상품 사이즈  999 non-null    object\n",
      " 6   퀄리티     999 non-null    object\n",
      " 7   색감      999 non-null    object\n",
      " 8   키       999 non-null    object\n",
      " 9   몸무게     999 non-null    object\n",
      " 10  사이즈     999 non-null    object\n",
      " 11  리뷰내용    999 non-null    object\n",
      "dtypes: object(12)\n",
      "memory usage: 93.8+ KB\n"
     ]
    }
   ],
   "source": [
    "# 데이터 타입 및 결측치 확인\n",
    "df1.info()\n"
   ]
  },
  {
   "cell_type": "markdown",
   "metadata": {},
   "source": [
    "#### 3.데이터타입 변경"
   ]
  },
  {
   "cell_type": "markdown",
   "metadata": {},
   "source": [
    "### 01_작성날짜 형식 확인"
   ]
  },
  {
   "cell_type": "code",
   "execution_count": 204,
   "metadata": {},
   "outputs": [
    {
     "name": "stdout",
     "output_type": "stream",
     "text": [
      "1   2024-11-27\n",
      "2   2024-07-07\n",
      "3   2024-06-26\n",
      "4   2025-01-09\n",
      "5   2025-01-02\n",
      "Name: 작성 날짜, dtype: datetime64[ns]\n"
     ]
    }
   ],
   "source": [
    "# '작성 날짜'를 datetime 형식으로 변환\n",
    "df1['작성 날짜'] = pd.to_datetime(df1['작성 날짜'], format='%y.%m.%d', errors='coerce')\n",
    "\n",
    "# 변환된 결과 확인\n",
    "print(df1['작성 날짜'].head())\n"
   ]
  },
  {
   "cell_type": "code",
   "execution_count": 205,
   "metadata": {},
   "outputs": [
    {
     "name": "stdout",
     "output_type": "stream",
     "text": [
      "<class 'pandas.core.frame.DataFrame'>\n",
      "RangeIndex: 999 entries, 1 to 999\n",
      "Data columns (total 12 columns):\n",
      " #   Column  Non-Null Count  Dtype         \n",
      "---  ------  --------------  -----         \n",
      " 0   아이디     999 non-null    object        \n",
      " 1   리뷰어 등급  999 non-null    object        \n",
      " 2   작성 날짜   999 non-null    datetime64[ns]\n",
      " 3   옵션1     999 non-null    object        \n",
      " 4   옵션2     999 non-null    object        \n",
      " 5   상품 사이즈  999 non-null    object        \n",
      " 6   퀄리티     999 non-null    object        \n",
      " 7   색감      999 non-null    object        \n",
      " 8   키       999 non-null    object        \n",
      " 9   몸무게     999 non-null    object        \n",
      " 10  사이즈     999 non-null    object        \n",
      " 11  리뷰내용    999 non-null    object        \n",
      "dtypes: datetime64[ns](1), object(11)\n",
      "memory usage: 93.8+ KB\n"
     ]
    }
   ],
   "source": [
    "df1.info()"
   ]
  },
  {
   "cell_type": "markdown",
   "metadata": {},
   "source": [
    "### 02 키 타입을 숫자형(float)으로 변환"
   ]
  },
  {
   "cell_type": "code",
   "execution_count": 208,
   "metadata": {},
   "outputs": [
    {
     "name": "stdout",
     "output_type": "stream",
     "text": [
      "Index(['아이디', '리뷰어 등급', '작성 날짜', '옵션1', '옵션2', '상품 사이즈', '퀄리티', '색감', '키',\n",
      "       '몸무게', '사이즈', '리뷰내용'],\n",
      "      dtype='object')\n"
     ]
    }
   ],
   "source": [
    "\n",
    "print(df1.columns)\n"
   ]
  },
  {
   "cell_type": "code",
   "execution_count": 216,
   "metadata": {},
   "outputs": [],
   "source": [
    "import numpy as np"
   ]
  },
  {
   "cell_type": "code",
   "execution_count": 227,
   "metadata": {},
   "outputs": [
    {
     "ename": "TypeError",
     "evalue": "'<' not supported between instances of 'str' and 'float'",
     "output_type": "error",
     "traceback": [
      "\u001b[1;31m---------------------------------------------------------------------------\u001b[0m",
      "\u001b[1;31mTypeError\u001b[0m                                 Traceback (most recent call last)",
      "Cell \u001b[1;32mIn[227], line 1\u001b[0m\n\u001b[1;32m----> 1\u001b[0m \u001b[43mnp\u001b[49m\u001b[38;5;241;43m.\u001b[39;49m\u001b[43mquantile\u001b[49m\u001b[43m(\u001b[49m\u001b[43mdf1\u001b[49m\u001b[43m[\u001b[49m\u001b[38;5;124;43m'\u001b[39;49m\u001b[38;5;124;43m키\u001b[39;49m\u001b[38;5;124;43m'\u001b[39;49m\u001b[43m]\u001b[49m\u001b[43m \u001b[49m\u001b[43m,\u001b[49m\u001b[43m[\u001b[49m\u001b[38;5;241;43m0.25\u001b[39;49m\u001b[43m,\u001b[49m\u001b[38;5;241;43m0.5\u001b[39;49m\u001b[43m,\u001b[49m\u001b[38;5;241;43m0.75\u001b[39;49m\u001b[43m]\u001b[49m\u001b[43m)\u001b[49m\n",
      "File \u001b[1;32mc:\\Users\\asia\\anaconda3\\envs\\project\\lib\\site-packages\\numpy\\lib\\_function_base_impl.py:4537\u001b[0m, in \u001b[0;36mquantile\u001b[1;34m(a, q, axis, out, overwrite_input, method, keepdims, weights, interpolation)\u001b[0m\n\u001b[0;32m   4534\u001b[0m     \u001b[38;5;28;01mif\u001b[39;00m np\u001b[38;5;241m.\u001b[39many(weights \u001b[38;5;241m<\u001b[39m \u001b[38;5;241m0\u001b[39m):\n\u001b[0;32m   4535\u001b[0m         \u001b[38;5;28;01mraise\u001b[39;00m \u001b[38;5;167;01mValueError\u001b[39;00m(\u001b[38;5;124m\"\u001b[39m\u001b[38;5;124mWeights must be non-negative.\u001b[39m\u001b[38;5;124m\"\u001b[39m)\n\u001b[1;32m-> 4537\u001b[0m \u001b[38;5;28;01mreturn\u001b[39;00m \u001b[43m_quantile_unchecked\u001b[49m\u001b[43m(\u001b[49m\n\u001b[0;32m   4538\u001b[0m \u001b[43m    \u001b[49m\u001b[43ma\u001b[49m\u001b[43m,\u001b[49m\u001b[43m \u001b[49m\u001b[43mq\u001b[49m\u001b[43m,\u001b[49m\u001b[43m \u001b[49m\u001b[43maxis\u001b[49m\u001b[43m,\u001b[49m\u001b[43m \u001b[49m\u001b[43mout\u001b[49m\u001b[43m,\u001b[49m\u001b[43m \u001b[49m\u001b[43moverwrite_input\u001b[49m\u001b[43m,\u001b[49m\u001b[43m \u001b[49m\u001b[43mmethod\u001b[49m\u001b[43m,\u001b[49m\u001b[43m \u001b[49m\u001b[43mkeepdims\u001b[49m\u001b[43m,\u001b[49m\u001b[43m \u001b[49m\u001b[43mweights\u001b[49m\u001b[43m)\u001b[49m\n",
      "File \u001b[1;32mc:\\Users\\asia\\anaconda3\\envs\\project\\lib\\site-packages\\numpy\\lib\\_function_base_impl.py:4550\u001b[0m, in \u001b[0;36m_quantile_unchecked\u001b[1;34m(a, q, axis, out, overwrite_input, method, keepdims, weights)\u001b[0m\n\u001b[0;32m   4541\u001b[0m \u001b[38;5;28;01mdef\u001b[39;00m \u001b[38;5;21m_quantile_unchecked\u001b[39m(a,\n\u001b[0;32m   4542\u001b[0m                         q,\n\u001b[0;32m   4543\u001b[0m                         axis\u001b[38;5;241m=\u001b[39m\u001b[38;5;28;01mNone\u001b[39;00m,\n\u001b[1;32m   (...)\u001b[0m\n\u001b[0;32m   4547\u001b[0m                         keepdims\u001b[38;5;241m=\u001b[39m\u001b[38;5;28;01mFalse\u001b[39;00m,\n\u001b[0;32m   4548\u001b[0m                         weights\u001b[38;5;241m=\u001b[39m\u001b[38;5;28;01mNone\u001b[39;00m):\n\u001b[0;32m   4549\u001b[0m \u001b[38;5;250m    \u001b[39m\u001b[38;5;124;03m\"\"\"Assumes that q is in [0, 1], and is an ndarray\"\"\"\u001b[39;00m\n\u001b[1;32m-> 4550\u001b[0m     \u001b[38;5;28;01mreturn\u001b[39;00m \u001b[43m_ureduce\u001b[49m\u001b[43m(\u001b[49m\u001b[43ma\u001b[49m\u001b[43m,\u001b[49m\n\u001b[0;32m   4551\u001b[0m \u001b[43m                    \u001b[49m\u001b[43mfunc\u001b[49m\u001b[38;5;241;43m=\u001b[39;49m\u001b[43m_quantile_ureduce_func\u001b[49m\u001b[43m,\u001b[49m\n\u001b[0;32m   4552\u001b[0m \u001b[43m                    \u001b[49m\u001b[43mq\u001b[49m\u001b[38;5;241;43m=\u001b[39;49m\u001b[43mq\u001b[49m\u001b[43m,\u001b[49m\n\u001b[0;32m   4553\u001b[0m \u001b[43m                    \u001b[49m\u001b[43mweights\u001b[49m\u001b[38;5;241;43m=\u001b[39;49m\u001b[43mweights\u001b[49m\u001b[43m,\u001b[49m\n\u001b[0;32m   4554\u001b[0m \u001b[43m                    \u001b[49m\u001b[43mkeepdims\u001b[49m\u001b[38;5;241;43m=\u001b[39;49m\u001b[43mkeepdims\u001b[49m\u001b[43m,\u001b[49m\n\u001b[0;32m   4555\u001b[0m \u001b[43m                    \u001b[49m\u001b[43maxis\u001b[49m\u001b[38;5;241;43m=\u001b[39;49m\u001b[43maxis\u001b[49m\u001b[43m,\u001b[49m\n\u001b[0;32m   4556\u001b[0m \u001b[43m                    \u001b[49m\u001b[43mout\u001b[49m\u001b[38;5;241;43m=\u001b[39;49m\u001b[43mout\u001b[49m\u001b[43m,\u001b[49m\n\u001b[0;32m   4557\u001b[0m \u001b[43m                    \u001b[49m\u001b[43moverwrite_input\u001b[49m\u001b[38;5;241;43m=\u001b[39;49m\u001b[43moverwrite_input\u001b[49m\u001b[43m,\u001b[49m\n\u001b[0;32m   4558\u001b[0m \u001b[43m                    \u001b[49m\u001b[43mmethod\u001b[49m\u001b[38;5;241;43m=\u001b[39;49m\u001b[43mmethod\u001b[49m\u001b[43m)\u001b[49m\n",
      "File \u001b[1;32mc:\\Users\\asia\\anaconda3\\envs\\project\\lib\\site-packages\\numpy\\lib\\_function_base_impl.py:3894\u001b[0m, in \u001b[0;36m_ureduce\u001b[1;34m(a, func, keepdims, **kwargs)\u001b[0m\n\u001b[0;32m   3891\u001b[0m             index_out \u001b[38;5;241m=\u001b[39m (\u001b[38;5;241m0\u001b[39m, ) \u001b[38;5;241m*\u001b[39m nd\n\u001b[0;32m   3892\u001b[0m             kwargs[\u001b[38;5;124m'\u001b[39m\u001b[38;5;124mout\u001b[39m\u001b[38;5;124m'\u001b[39m] \u001b[38;5;241m=\u001b[39m out[(\u001b[38;5;28mEllipsis\u001b[39m, ) \u001b[38;5;241m+\u001b[39m index_out]\n\u001b[1;32m-> 3894\u001b[0m r \u001b[38;5;241m=\u001b[39m func(a, \u001b[38;5;241m*\u001b[39m\u001b[38;5;241m*\u001b[39mkwargs)\n\u001b[0;32m   3896\u001b[0m \u001b[38;5;28;01mif\u001b[39;00m out \u001b[38;5;129;01mis\u001b[39;00m \u001b[38;5;129;01mnot\u001b[39;00m \u001b[38;5;28;01mNone\u001b[39;00m:\n\u001b[0;32m   3897\u001b[0m     \u001b[38;5;28;01mreturn\u001b[39;00m out\n",
      "File \u001b[1;32mc:\\Users\\asia\\anaconda3\\envs\\project\\lib\\site-packages\\numpy\\lib\\_function_base_impl.py:4727\u001b[0m, in \u001b[0;36m_quantile_ureduce_func\u001b[1;34m(a, q, weights, axis, out, overwrite_input, method)\u001b[0m\n\u001b[0;32m   4725\u001b[0m         arr \u001b[38;5;241m=\u001b[39m a\u001b[38;5;241m.\u001b[39mcopy()\n\u001b[0;32m   4726\u001b[0m         wgt \u001b[38;5;241m=\u001b[39m weights\n\u001b[1;32m-> 4727\u001b[0m result \u001b[38;5;241m=\u001b[39m \u001b[43m_quantile\u001b[49m\u001b[43m(\u001b[49m\u001b[43marr\u001b[49m\u001b[43m,\u001b[49m\n\u001b[0;32m   4728\u001b[0m \u001b[43m                   \u001b[49m\u001b[43mquantiles\u001b[49m\u001b[38;5;241;43m=\u001b[39;49m\u001b[43mq\u001b[49m\u001b[43m,\u001b[49m\n\u001b[0;32m   4729\u001b[0m \u001b[43m                   \u001b[49m\u001b[43maxis\u001b[49m\u001b[38;5;241;43m=\u001b[39;49m\u001b[43maxis\u001b[49m\u001b[43m,\u001b[49m\n\u001b[0;32m   4730\u001b[0m \u001b[43m                   \u001b[49m\u001b[43mmethod\u001b[49m\u001b[38;5;241;43m=\u001b[39;49m\u001b[43mmethod\u001b[49m\u001b[43m,\u001b[49m\n\u001b[0;32m   4731\u001b[0m \u001b[43m                   \u001b[49m\u001b[43mout\u001b[49m\u001b[38;5;241;43m=\u001b[39;49m\u001b[43mout\u001b[49m\u001b[43m,\u001b[49m\n\u001b[0;32m   4732\u001b[0m \u001b[43m                   \u001b[49m\u001b[43mweights\u001b[49m\u001b[38;5;241;43m=\u001b[39;49m\u001b[43mwgt\u001b[49m\u001b[43m)\u001b[49m\n\u001b[0;32m   4733\u001b[0m \u001b[38;5;28;01mreturn\u001b[39;00m result\n",
      "File \u001b[1;32mc:\\Users\\asia\\anaconda3\\envs\\project\\lib\\site-packages\\numpy\\lib\\_function_base_impl.py:4842\u001b[0m, in \u001b[0;36m_quantile\u001b[1;34m(arr, quantiles, axis, method, out, weights)\u001b[0m\n\u001b[0;32m   4838\u001b[0m previous_indexes, next_indexes \u001b[38;5;241m=\u001b[39m _get_indexes(arr,\n\u001b[0;32m   4839\u001b[0m                                               virtual_indexes,\n\u001b[0;32m   4840\u001b[0m                                               values_count)\n\u001b[0;32m   4841\u001b[0m \u001b[38;5;66;03m# --- Sorting\u001b[39;00m\n\u001b[1;32m-> 4842\u001b[0m \u001b[43marr\u001b[49m\u001b[38;5;241;43m.\u001b[39;49m\u001b[43mpartition\u001b[49m\u001b[43m(\u001b[49m\n\u001b[0;32m   4843\u001b[0m \u001b[43m    \u001b[49m\u001b[43mnp\u001b[49m\u001b[38;5;241;43m.\u001b[39;49m\u001b[43munique\u001b[49m\u001b[43m(\u001b[49m\u001b[43mnp\u001b[49m\u001b[38;5;241;43m.\u001b[39;49m\u001b[43mconcatenate\u001b[49m\u001b[43m(\u001b[49m\u001b[43m(\u001b[49m\u001b[43m[\u001b[49m\u001b[38;5;241;43m0\u001b[39;49m\u001b[43m,\u001b[49m\u001b[43m \u001b[49m\u001b[38;5;241;43m-\u001b[39;49m\u001b[38;5;241;43m1\u001b[39;49m\u001b[43m]\u001b[49m\u001b[43m,\u001b[49m\n\u001b[0;32m   4844\u001b[0m \u001b[43m                              \u001b[49m\u001b[43mprevious_indexes\u001b[49m\u001b[38;5;241;43m.\u001b[39;49m\u001b[43mravel\u001b[49m\u001b[43m(\u001b[49m\u001b[43m)\u001b[49m\u001b[43m,\u001b[49m\n\u001b[0;32m   4845\u001b[0m \u001b[43m                              \u001b[49m\u001b[43mnext_indexes\u001b[49m\u001b[38;5;241;43m.\u001b[39;49m\u001b[43mravel\u001b[49m\u001b[43m(\u001b[49m\u001b[43m)\u001b[49m\u001b[43m,\u001b[49m\n\u001b[0;32m   4846\u001b[0m \u001b[43m                              \u001b[49m\u001b[43m)\u001b[49m\u001b[43m)\u001b[49m\u001b[43m)\u001b[49m\u001b[43m,\u001b[49m\n\u001b[0;32m   4847\u001b[0m \u001b[43m    \u001b[49m\u001b[43maxis\u001b[49m\u001b[38;5;241;43m=\u001b[39;49m\u001b[38;5;241;43m0\u001b[39;49m\u001b[43m)\u001b[49m\n\u001b[0;32m   4848\u001b[0m \u001b[38;5;28;01mif\u001b[39;00m supports_nans:\n\u001b[0;32m   4849\u001b[0m     slices_having_nans \u001b[38;5;241m=\u001b[39m np\u001b[38;5;241m.\u001b[39misnan(arr[\u001b[38;5;241m-\u001b[39m\u001b[38;5;241m1\u001b[39m, \u001b[38;5;241m.\u001b[39m\u001b[38;5;241m.\u001b[39m\u001b[38;5;241m.\u001b[39m])\n",
      "\u001b[1;31mTypeError\u001b[0m: '<' not supported between instances of 'str' and 'float'"
     ]
    }
   ],
   "source": [
    "np.quantile(df1['키'] ,[0.25,0.5,0.75])"
   ]
  },
  {
   "cell_type": "code",
   "execution_count": 237,
   "metadata": {},
   "outputs": [
    {
     "name": "stdout",
     "output_type": "stream",
     "text": [
      "count    938.000000\n",
      "mean     161.568230\n",
      "std        4.745175\n",
      "min      148.000000\n",
      "25%      158.000000\n",
      "50%      161.000000\n",
      "75%      165.000000\n",
      "max      175.000000\n",
      "Name: 키, dtype: float64 count    938.000000\n",
      "mean     161.568230\n",
      "std        4.745175\n",
      "min      148.000000\n",
      "25%      158.000000\n",
      "50%      161.000000\n",
      "75%      165.000000\n",
      "max      175.000000\n",
      "Name: 키, dtype: float64\n"
     ]
    }
   ],
   "source": [
    "# 1. 결측치 채우기 (평균값 사용)\n",
    "# df1['키'] = df1['키'].fillna(df1['키'].mean())\n",
    "\n",
    "# 2. 문자열로 변환하여 'cm' 제거 및 수치형으로 변환\n",
    "df1['키'] = df1['키'].astype(str).str.replace('cm', '').str.strip()\n",
    "df1['키'] = pd.to_numeric(df1['키'], errors='coerce')\n",
    "\n",
    "#df1['키'].isna().sum() #62\n",
    "# print(np.quantile(df1['키'].dropna() ,[0.25,0.5,0.75]))\n",
    "print(df1['키'].describe(), df1['키'].dropna().describe())\n",
    "\n",
    "# # 3. 결측치 확인\n",
    "# print(df1['키'].head())\n",
    "# print(df1.info())\n",
    "\n"
   ]
  },
  {
   "cell_type": "code",
   "execution_count": 212,
   "metadata": {},
   "outputs": [
    {
     "name": "stdout",
     "output_type": "stream",
     "text": [
      "1    164.0\n",
      "2    163.0\n",
      "3    156.0\n",
      "4    167.0\n",
      "5    155.0\n",
      "Name: 키, dtype: float64\n",
      "<class 'pandas.core.frame.DataFrame'>\n",
      "RangeIndex: 999 entries, 1 to 999\n",
      "Data columns (total 12 columns):\n",
      " #   Column  Non-Null Count  Dtype         \n",
      "---  ------  --------------  -----         \n",
      " 0   아이디     999 non-null    object        \n",
      " 1   리뷰어 등급  999 non-null    object        \n",
      " 2   작성 날짜   999 non-null    datetime64[ns]\n",
      " 3   옵션1     999 non-null    object        \n",
      " 4   옵션2     999 non-null    object        \n",
      " 5   상품 사이즈  999 non-null    object        \n",
      " 6   퀄리티     999 non-null    object        \n",
      " 7   색감      999 non-null    object        \n",
      " 8   키       999 non-null    float64       \n",
      " 9   몸무게     999 non-null    object        \n",
      " 10  사이즈     999 non-null    object        \n",
      " 11  리뷰내용    999 non-null    object        \n",
      "dtypes: datetime64[ns](1), float64(1), object(10)\n",
      "memory usage: 93.8+ KB\n",
      "None\n"
     ]
    }
   ],
   "source": [
    "print(df1['키'].head())\n",
    "print(df1.info())\n"
   ]
  },
  {
   "cell_type": "code",
   "execution_count": 214,
   "metadata": {},
   "outputs": [
    {
     "name": "stdout",
     "output_type": "stream",
     "text": [
      "1    56.0\n",
      "2    58.0\n",
      "3    50.0\n",
      "4    52.0\n",
      "5    48.0\n",
      "Name: 몸무게, dtype: float64\n",
      "<class 'pandas.core.frame.DataFrame'>\n",
      "RangeIndex: 999 entries, 1 to 999\n",
      "Data columns (total 12 columns):\n",
      " #   Column  Non-Null Count  Dtype         \n",
      "---  ------  --------------  -----         \n",
      " 0   아이디     999 non-null    object        \n",
      " 1   리뷰어 등급  999 non-null    object        \n",
      " 2   작성 날짜   999 non-null    datetime64[ns]\n",
      " 3   옵션1     999 non-null    object        \n",
      " 4   옵션2     999 non-null    object        \n",
      " 5   상품 사이즈  999 non-null    object        \n",
      " 6   퀄리티     999 non-null    object        \n",
      " 7   색감      999 non-null    object        \n",
      " 8   키       999 non-null    float64       \n",
      " 9   몸무게     999 non-null    float64       \n",
      " 10  사이즈     999 non-null    object        \n",
      " 11  리뷰내용    999 non-null    object        \n",
      "dtypes: datetime64[ns](1), float64(2), object(9)\n",
      "memory usage: 93.8+ KB\n",
      "None\n"
     ]
    }
   ],
   "source": [
    "# 1. '몸무게' 열의 결측치 채우기 (평균값으로 채움)\n",
    "# 1. '몸무게' 열에서 범위 값 수정 ('130 이상' → 130, '30 이하' → 30)\n",
    "df1['몸무게'] = df1['몸무게'].astype(str).str.replace('kg', '').str.strip()\n",
    "df1['몸무게'] = df1['몸무게'].replace({'130 이상': '130', '30 이하': '30'})\n",
    "\n",
    "# 2. 숫자형(float)으로 변환\n",
    "df1['몸무게'] = pd.to_numeric(df1['몸무게'], errors='coerce')\n",
    "\n",
    "# 3. 결측치를 평균값으로 채우기\n",
    "df1['몸무게'] = df1['몸무게'].fillna(df1['몸무게'].mean())\n",
    "\n",
    "# 결과 확인\n",
    "print(df1['몸무게'].head())\n",
    "print(df1.info())\n",
    "\n"
   ]
  },
  {
   "cell_type": "code",
   "execution_count": 215,
   "metadata": {},
   "outputs": [
    {
     "name": "stdout",
     "output_type": "stream",
     "text": [
      "<class 'pandas.core.series.Series'>\n",
      "RangeIndex: 999 entries, 1 to 999\n",
      "Series name: 몸무게\n",
      "Non-Null Count  Dtype  \n",
      "--------------  -----  \n",
      "999 non-null    float64\n",
      "dtypes: float64(1)\n",
      "memory usage: 7.9 KB\n"
     ]
    }
   ],
   "source": [
    "df1['몸무게'].info()"
   ]
  },
  {
   "cell_type": "code",
   "execution_count": 60,
   "metadata": {},
   "outputs": [
    {
     "name": "stdout",
     "output_type": "stream",
     "text": [
      "<class 'pandas.core.frame.DataFrame'>\n",
      "Index: 999 entries, 1 to 999\n",
      "Data columns (total 12 columns):\n",
      " #   Column  Non-Null Count  Dtype         \n",
      "---  ------  --------------  -----         \n",
      " 0   아이디     999 non-null    object        \n",
      " 1   리뷰어 등급  999 non-null    object        \n",
      " 2   작성 날짜   999 non-null    datetime64[ns]\n",
      " 3   옵션1     999 non-null    object        \n",
      " 4   옵션2     999 non-null    object        \n",
      " 5   상품 사이즈  999 non-null    object        \n",
      " 6   퀄리티     999 non-null    object        \n",
      " 7   색감      999 non-null    object        \n",
      " 8   키       938 non-null    float64       \n",
      " 9   몸무게     929 non-null    float64       \n",
      " 10  사이즈     999 non-null    object        \n",
      " 11  리뷰내용    999 non-null    object        \n",
      "dtypes: datetime64[ns](1), float64(2), object(9)\n",
      "memory usage: 101.5+ KB\n"
     ]
    }
   ],
   "source": [
    "df1.info()"
   ]
  },
  {
   "cell_type": "code",
   "execution_count": null,
   "metadata": {},
   "outputs": [],
   "source": []
  }
 ],
 "metadata": {
  "kernelspec": {
   "display_name": "project",
   "language": "python",
   "name": "python3"
  },
  "language_info": {
   "codemirror_mode": {
    "name": "ipython",
    "version": 3
   },
   "file_extension": ".py",
   "mimetype": "text/x-python",
   "name": "python",
   "nbconvert_exporter": "python",
   "pygments_lexer": "ipython3",
   "version": "3.10.16"
  }
 },
 "nbformat": 4,
 "nbformat_minor": 2
}
